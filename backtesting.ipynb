{
 "cells": [
  {
   "cell_type": "markdown",
   "metadata": {},
   "source": [
    "## Back Testing\n",
    "\n",
    "Below, we will use our algorithm to create a stock portfolio for 2022 and then see how it performed over the next year."
   ]
  },
  {
   "cell_type": "code",
   "execution_count": 1,
   "metadata": {},
   "outputs": [],
   "source": [
    "import numpy as np\n",
    "import pandas as pd\n",
    "import requests\n",
    "# import xlsxwriter\n",
    "import math\n",
    "from scipy.stats import percentileofscore as score\n",
    "from statistics import mean"
   ]
  },
  {
   "cell_type": "code",
   "execution_count": 2,
   "metadata": {},
   "outputs": [],
   "source": [
    "sp500_stocks = pd.read_csv('constituents_backtesting.csv')\n",
    "\n",
    "from mysecrets2 import POLYGON_API_KEY"
   ]
  },
  {
   "cell_type": "code",
   "execution_count": 3,
   "metadata": {},
   "outputs": [],
   "source": [
    "backtest_columns = [\n",
    "    'Ticker',\n",
    "    'Price Today',\n",
    "    'One-Year Price',\n",
    "    'One-Year Return',\n",
    "    'One-Year Percentile',\n",
    "    'Six-Month Price',\n",
    "    'Six-Month Return',\n",
    "    'Six-Month Percentile',\n",
    "    'Three-Month Price',\n",
    "    'Three-Month Return',\n",
    "    'Three-Month Percentile',\n",
    "    'One-Month Price',\n",
    "    'One-Month Return',\n",
    "    'One-Month Percentile',\n",
    "    'HQM Score',\n",
    "    'Number of Shares to Buy'\n",
    "]\n",
    "\n",
    "backtest_df = pd.DataFrame(columns = backtest_columns)"
   ]
  },
  {
   "cell_type": "code",
   "execution_count": 4,
   "metadata": {},
   "outputs": [
    {
     "name": "stderr",
     "output_type": "stream",
     "text": [
      "/tmp/ipykernel_540/2512854818.py:44: FutureWarning: The frame.append method is deprecated and will be removed from pandas in a future version. Use pandas.concat instead.\n",
      "  backtest_df = backtest_df.append(pd.Series([stk,\n",
      "/tmp/ipykernel_540/2512854818.py:44: FutureWarning: The frame.append method is deprecated and will be removed from pandas in a future version. Use pandas.concat instead.\n",
      "  backtest_df = backtest_df.append(pd.Series([stk,\n",
      "/tmp/ipykernel_540/2512854818.py:44: FutureWarning: The frame.append method is deprecated and will be removed from pandas in a future version. Use pandas.concat instead.\n",
      "  backtest_df = backtest_df.append(pd.Series([stk,\n",
      "/tmp/ipykernel_540/2512854818.py:44: FutureWarning: The frame.append method is deprecated and will be removed from pandas in a future version. Use pandas.concat instead.\n",
      "  backtest_df = backtest_df.append(pd.Series([stk,\n",
      "/tmp/ipykernel_540/2512854818.py:44: FutureWarning: The frame.append method is deprecated and will be removed from pandas in a future version. Use pandas.concat instead.\n",
      "  backtest_df = backtest_df.append(pd.Series([stk,\n",
      "/tmp/ipykernel_540/2512854818.py:44: FutureWarning: The frame.append method is deprecated and will be removed from pandas in a future version. Use pandas.concat instead.\n",
      "  backtest_df = backtest_df.append(pd.Series([stk,\n",
      "/tmp/ipykernel_540/2512854818.py:44: FutureWarning: The frame.append method is deprecated and will be removed from pandas in a future version. Use pandas.concat instead.\n",
      "  backtest_df = backtest_df.append(pd.Series([stk,\n",
      "/tmp/ipykernel_540/2512854818.py:44: FutureWarning: The frame.append method is deprecated and will be removed from pandas in a future version. Use pandas.concat instead.\n",
      "  backtest_df = backtest_df.append(pd.Series([stk,\n",
      "/tmp/ipykernel_540/2512854818.py:44: FutureWarning: The frame.append method is deprecated and will be removed from pandas in a future version. Use pandas.concat instead.\n",
      "  backtest_df = backtest_df.append(pd.Series([stk,\n",
      "/tmp/ipykernel_540/2512854818.py:44: FutureWarning: The frame.append method is deprecated and will be removed from pandas in a future version. Use pandas.concat instead.\n",
      "  backtest_df = backtest_df.append(pd.Series([stk,\n",
      "/tmp/ipykernel_540/2512854818.py:44: FutureWarning: The frame.append method is deprecated and will be removed from pandas in a future version. Use pandas.concat instead.\n",
      "  backtest_df = backtest_df.append(pd.Series([stk,\n",
      "/tmp/ipykernel_540/2512854818.py:44: FutureWarning: The frame.append method is deprecated and will be removed from pandas in a future version. Use pandas.concat instead.\n",
      "  backtest_df = backtest_df.append(pd.Series([stk,\n",
      "/tmp/ipykernel_540/2512854818.py:44: FutureWarning: The frame.append method is deprecated and will be removed from pandas in a future version. Use pandas.concat instead.\n",
      "  backtest_df = backtest_df.append(pd.Series([stk,\n",
      "/tmp/ipykernel_540/2512854818.py:44: FutureWarning: The frame.append method is deprecated and will be removed from pandas in a future version. Use pandas.concat instead.\n",
      "  backtest_df = backtest_df.append(pd.Series([stk,\n",
      "/tmp/ipykernel_540/2512854818.py:44: FutureWarning: The frame.append method is deprecated and will be removed from pandas in a future version. Use pandas.concat instead.\n",
      "  backtest_df = backtest_df.append(pd.Series([stk,\n",
      "/tmp/ipykernel_540/2512854818.py:44: FutureWarning: The frame.append method is deprecated and will be removed from pandas in a future version. Use pandas.concat instead.\n",
      "  backtest_df = backtest_df.append(pd.Series([stk,\n",
      "/tmp/ipykernel_540/2512854818.py:44: FutureWarning: The frame.append method is deprecated and will be removed from pandas in a future version. Use pandas.concat instead.\n",
      "  backtest_df = backtest_df.append(pd.Series([stk,\n",
      "/tmp/ipykernel_540/2512854818.py:44: FutureWarning: The frame.append method is deprecated and will be removed from pandas in a future version. Use pandas.concat instead.\n",
      "  backtest_df = backtest_df.append(pd.Series([stk,\n",
      "/tmp/ipykernel_540/2512854818.py:44: FutureWarning: The frame.append method is deprecated and will be removed from pandas in a future version. Use pandas.concat instead.\n",
      "  backtest_df = backtest_df.append(pd.Series([stk,\n",
      "/tmp/ipykernel_540/2512854818.py:44: FutureWarning: The frame.append method is deprecated and will be removed from pandas in a future version. Use pandas.concat instead.\n",
      "  backtest_df = backtest_df.append(pd.Series([stk,\n",
      "/tmp/ipykernel_540/2512854818.py:44: FutureWarning: The frame.append method is deprecated and will be removed from pandas in a future version. Use pandas.concat instead.\n",
      "  backtest_df = backtest_df.append(pd.Series([stk,\n",
      "/tmp/ipykernel_540/2512854818.py:44: FutureWarning: The frame.append method is deprecated and will be removed from pandas in a future version. Use pandas.concat instead.\n",
      "  backtest_df = backtest_df.append(pd.Series([stk,\n",
      "/tmp/ipykernel_540/2512854818.py:44: FutureWarning: The frame.append method is deprecated and will be removed from pandas in a future version. Use pandas.concat instead.\n",
      "  backtest_df = backtest_df.append(pd.Series([stk,\n",
      "/tmp/ipykernel_540/2512854818.py:44: FutureWarning: The frame.append method is deprecated and will be removed from pandas in a future version. Use pandas.concat instead.\n",
      "  backtest_df = backtest_df.append(pd.Series([stk,\n",
      "/tmp/ipykernel_540/2512854818.py:44: FutureWarning: The frame.append method is deprecated and will be removed from pandas in a future version. Use pandas.concat instead.\n",
      "  backtest_df = backtest_df.append(pd.Series([stk,\n",
      "/tmp/ipykernel_540/2512854818.py:44: FutureWarning: The frame.append method is deprecated and will be removed from pandas in a future version. Use pandas.concat instead.\n",
      "  backtest_df = backtest_df.append(pd.Series([stk,\n",
      "/tmp/ipykernel_540/2512854818.py:44: FutureWarning: The frame.append method is deprecated and will be removed from pandas in a future version. Use pandas.concat instead.\n",
      "  backtest_df = backtest_df.append(pd.Series([stk,\n",
      "/tmp/ipykernel_540/2512854818.py:44: FutureWarning: The frame.append method is deprecated and will be removed from pandas in a future version. Use pandas.concat instead.\n",
      "  backtest_df = backtest_df.append(pd.Series([stk,\n",
      "/tmp/ipykernel_540/2512854818.py:44: FutureWarning: The frame.append method is deprecated and will be removed from pandas in a future version. Use pandas.concat instead.\n",
      "  backtest_df = backtest_df.append(pd.Series([stk,\n",
      "/tmp/ipykernel_540/2512854818.py:44: FutureWarning: The frame.append method is deprecated and will be removed from pandas in a future version. Use pandas.concat instead.\n",
      "  backtest_df = backtest_df.append(pd.Series([stk,\n",
      "/tmp/ipykernel_540/2512854818.py:44: FutureWarning: The frame.append method is deprecated and will be removed from pandas in a future version. Use pandas.concat instead.\n",
      "  backtest_df = backtest_df.append(pd.Series([stk,\n",
      "/tmp/ipykernel_540/2512854818.py:44: FutureWarning: The frame.append method is deprecated and will be removed from pandas in a future version. Use pandas.concat instead.\n",
      "  backtest_df = backtest_df.append(pd.Series([stk,\n",
      "/tmp/ipykernel_540/2512854818.py:44: FutureWarning: The frame.append method is deprecated and will be removed from pandas in a future version. Use pandas.concat instead.\n",
      "  backtest_df = backtest_df.append(pd.Series([stk,\n",
      "/tmp/ipykernel_540/2512854818.py:44: FutureWarning: The frame.append method is deprecated and will be removed from pandas in a future version. Use pandas.concat instead.\n",
      "  backtest_df = backtest_df.append(pd.Series([stk,\n",
      "/tmp/ipykernel_540/2512854818.py:44: FutureWarning: The frame.append method is deprecated and will be removed from pandas in a future version. Use pandas.concat instead.\n",
      "  backtest_df = backtest_df.append(pd.Series([stk,\n",
      "/tmp/ipykernel_540/2512854818.py:44: FutureWarning: The frame.append method is deprecated and will be removed from pandas in a future version. Use pandas.concat instead.\n",
      "  backtest_df = backtest_df.append(pd.Series([stk,\n",
      "/tmp/ipykernel_540/2512854818.py:44: FutureWarning: The frame.append method is deprecated and will be removed from pandas in a future version. Use pandas.concat instead.\n",
      "  backtest_df = backtest_df.append(pd.Series([stk,\n",
      "/tmp/ipykernel_540/2512854818.py:44: FutureWarning: The frame.append method is deprecated and will be removed from pandas in a future version. Use pandas.concat instead.\n",
      "  backtest_df = backtest_df.append(pd.Series([stk,\n",
      "/tmp/ipykernel_540/2512854818.py:44: FutureWarning: The frame.append method is deprecated and will be removed from pandas in a future version. Use pandas.concat instead.\n",
      "  backtest_df = backtest_df.append(pd.Series([stk,\n",
      "/tmp/ipykernel_540/2512854818.py:44: FutureWarning: The frame.append method is deprecated and will be removed from pandas in a future version. Use pandas.concat instead.\n",
      "  backtest_df = backtest_df.append(pd.Series([stk,\n",
      "/tmp/ipykernel_540/2512854818.py:44: FutureWarning: The frame.append method is deprecated and will be removed from pandas in a future version. Use pandas.concat instead.\n",
      "  backtest_df = backtest_df.append(pd.Series([stk,\n",
      "/tmp/ipykernel_540/2512854818.py:44: FutureWarning: The frame.append method is deprecated and will be removed from pandas in a future version. Use pandas.concat instead.\n",
      "  backtest_df = backtest_df.append(pd.Series([stk,\n",
      "/tmp/ipykernel_540/2512854818.py:44: FutureWarning: The frame.append method is deprecated and will be removed from pandas in a future version. Use pandas.concat instead.\n",
      "  backtest_df = backtest_df.append(pd.Series([stk,\n",
      "/tmp/ipykernel_540/2512854818.py:44: FutureWarning: The frame.append method is deprecated and will be removed from pandas in a future version. Use pandas.concat instead.\n",
      "  backtest_df = backtest_df.append(pd.Series([stk,\n",
      "/tmp/ipykernel_540/2512854818.py:44: FutureWarning: The frame.append method is deprecated and will be removed from pandas in a future version. Use pandas.concat instead.\n",
      "  backtest_df = backtest_df.append(pd.Series([stk,\n",
      "/tmp/ipykernel_540/2512854818.py:44: FutureWarning: The frame.append method is deprecated and will be removed from pandas in a future version. Use pandas.concat instead.\n",
      "  backtest_df = backtest_df.append(pd.Series([stk,\n",
      "/tmp/ipykernel_540/2512854818.py:44: FutureWarning: The frame.append method is deprecated and will be removed from pandas in a future version. Use pandas.concat instead.\n",
      "  backtest_df = backtest_df.append(pd.Series([stk,\n",
      "/tmp/ipykernel_540/2512854818.py:44: FutureWarning: The frame.append method is deprecated and will be removed from pandas in a future version. Use pandas.concat instead.\n",
      "  backtest_df = backtest_df.append(pd.Series([stk,\n",
      "/tmp/ipykernel_540/2512854818.py:44: FutureWarning: The frame.append method is deprecated and will be removed from pandas in a future version. Use pandas.concat instead.\n",
      "  backtest_df = backtest_df.append(pd.Series([stk,\n",
      "/tmp/ipykernel_540/2512854818.py:44: FutureWarning: The frame.append method is deprecated and will be removed from pandas in a future version. Use pandas.concat instead.\n",
      "  backtest_df = backtest_df.append(pd.Series([stk,\n",
      "/tmp/ipykernel_540/2512854818.py:44: FutureWarning: The frame.append method is deprecated and will be removed from pandas in a future version. Use pandas.concat instead.\n",
      "  backtest_df = backtest_df.append(pd.Series([stk,\n",
      "/tmp/ipykernel_540/2512854818.py:44: FutureWarning: The frame.append method is deprecated and will be removed from pandas in a future version. Use pandas.concat instead.\n",
      "  backtest_df = backtest_df.append(pd.Series([stk,\n",
      "/tmp/ipykernel_540/2512854818.py:44: FutureWarning: The frame.append method is deprecated and will be removed from pandas in a future version. Use pandas.concat instead.\n",
      "  backtest_df = backtest_df.append(pd.Series([stk,\n",
      "/tmp/ipykernel_540/2512854818.py:44: FutureWarning: The frame.append method is deprecated and will be removed from pandas in a future version. Use pandas.concat instead.\n",
      "  backtest_df = backtest_df.append(pd.Series([stk,\n",
      "/tmp/ipykernel_540/2512854818.py:44: FutureWarning: The frame.append method is deprecated and will be removed from pandas in a future version. Use pandas.concat instead.\n",
      "  backtest_df = backtest_df.append(pd.Series([stk,\n",
      "/tmp/ipykernel_540/2512854818.py:44: FutureWarning: The frame.append method is deprecated and will be removed from pandas in a future version. Use pandas.concat instead.\n",
      "  backtest_df = backtest_df.append(pd.Series([stk,\n",
      "/tmp/ipykernel_540/2512854818.py:44: FutureWarning: The frame.append method is deprecated and will be removed from pandas in a future version. Use pandas.concat instead.\n",
      "  backtest_df = backtest_df.append(pd.Series([stk,\n",
      "/tmp/ipykernel_540/2512854818.py:44: FutureWarning: The frame.append method is deprecated and will be removed from pandas in a future version. Use pandas.concat instead.\n",
      "  backtest_df = backtest_df.append(pd.Series([stk,\n",
      "/tmp/ipykernel_540/2512854818.py:44: FutureWarning: The frame.append method is deprecated and will be removed from pandas in a future version. Use pandas.concat instead.\n",
      "  backtest_df = backtest_df.append(pd.Series([stk,\n",
      "/tmp/ipykernel_540/2512854818.py:44: FutureWarning: The frame.append method is deprecated and will be removed from pandas in a future version. Use pandas.concat instead.\n",
      "  backtest_df = backtest_df.append(pd.Series([stk,\n",
      "/tmp/ipykernel_540/2512854818.py:44: FutureWarning: The frame.append method is deprecated and will be removed from pandas in a future version. Use pandas.concat instead.\n",
      "  backtest_df = backtest_df.append(pd.Series([stk,\n",
      "/tmp/ipykernel_540/2512854818.py:44: FutureWarning: The frame.append method is deprecated and will be removed from pandas in a future version. Use pandas.concat instead.\n",
      "  backtest_df = backtest_df.append(pd.Series([stk,\n",
      "/tmp/ipykernel_540/2512854818.py:44: FutureWarning: The frame.append method is deprecated and will be removed from pandas in a future version. Use pandas.concat instead.\n",
      "  backtest_df = backtest_df.append(pd.Series([stk,\n",
      "/tmp/ipykernel_540/2512854818.py:44: FutureWarning: The frame.append method is deprecated and will be removed from pandas in a future version. Use pandas.concat instead.\n",
      "  backtest_df = backtest_df.append(pd.Series([stk,\n",
      "/tmp/ipykernel_540/2512854818.py:44: FutureWarning: The frame.append method is deprecated and will be removed from pandas in a future version. Use pandas.concat instead.\n",
      "  backtest_df = backtest_df.append(pd.Series([stk,\n",
      "/tmp/ipykernel_540/2512854818.py:44: FutureWarning: The frame.append method is deprecated and will be removed from pandas in a future version. Use pandas.concat instead.\n",
      "  backtest_df = backtest_df.append(pd.Series([stk,\n",
      "/tmp/ipykernel_540/2512854818.py:44: FutureWarning: The frame.append method is deprecated and will be removed from pandas in a future version. Use pandas.concat instead.\n",
      "  backtest_df = backtest_df.append(pd.Series([stk,\n",
      "/tmp/ipykernel_540/2512854818.py:44: FutureWarning: The frame.append method is deprecated and will be removed from pandas in a future version. Use pandas.concat instead.\n",
      "  backtest_df = backtest_df.append(pd.Series([stk,\n",
      "/tmp/ipykernel_540/2512854818.py:44: FutureWarning: The frame.append method is deprecated and will be removed from pandas in a future version. Use pandas.concat instead.\n",
      "  backtest_df = backtest_df.append(pd.Series([stk,\n",
      "/tmp/ipykernel_540/2512854818.py:44: FutureWarning: The frame.append method is deprecated and will be removed from pandas in a future version. Use pandas.concat instead.\n",
      "  backtest_df = backtest_df.append(pd.Series([stk,\n",
      "/tmp/ipykernel_540/2512854818.py:44: FutureWarning: The frame.append method is deprecated and will be removed from pandas in a future version. Use pandas.concat instead.\n",
      "  backtest_df = backtest_df.append(pd.Series([stk,\n",
      "/tmp/ipykernel_540/2512854818.py:44: FutureWarning: The frame.append method is deprecated and will be removed from pandas in a future version. Use pandas.concat instead.\n",
      "  backtest_df = backtest_df.append(pd.Series([stk,\n",
      "/tmp/ipykernel_540/2512854818.py:44: FutureWarning: The frame.append method is deprecated and will be removed from pandas in a future version. Use pandas.concat instead.\n",
      "  backtest_df = backtest_df.append(pd.Series([stk,\n",
      "/tmp/ipykernel_540/2512854818.py:44: FutureWarning: The frame.append method is deprecated and will be removed from pandas in a future version. Use pandas.concat instead.\n",
      "  backtest_df = backtest_df.append(pd.Series([stk,\n",
      "/tmp/ipykernel_540/2512854818.py:44: FutureWarning: The frame.append method is deprecated and will be removed from pandas in a future version. Use pandas.concat instead.\n",
      "  backtest_df = backtest_df.append(pd.Series([stk,\n",
      "/tmp/ipykernel_540/2512854818.py:44: FutureWarning: The frame.append method is deprecated and will be removed from pandas in a future version. Use pandas.concat instead.\n",
      "  backtest_df = backtest_df.append(pd.Series([stk,\n",
      "/tmp/ipykernel_540/2512854818.py:44: FutureWarning: The frame.append method is deprecated and will be removed from pandas in a future version. Use pandas.concat instead.\n",
      "  backtest_df = backtest_df.append(pd.Series([stk,\n",
      "/tmp/ipykernel_540/2512854818.py:44: FutureWarning: The frame.append method is deprecated and will be removed from pandas in a future version. Use pandas.concat instead.\n",
      "  backtest_df = backtest_df.append(pd.Series([stk,\n",
      "/tmp/ipykernel_540/2512854818.py:44: FutureWarning: The frame.append method is deprecated and will be removed from pandas in a future version. Use pandas.concat instead.\n",
      "  backtest_df = backtest_df.append(pd.Series([stk,\n",
      "/tmp/ipykernel_540/2512854818.py:44: FutureWarning: The frame.append method is deprecated and will be removed from pandas in a future version. Use pandas.concat instead.\n",
      "  backtest_df = backtest_df.append(pd.Series([stk,\n",
      "/tmp/ipykernel_540/2512854818.py:44: FutureWarning: The frame.append method is deprecated and will be removed from pandas in a future version. Use pandas.concat instead.\n",
      "  backtest_df = backtest_df.append(pd.Series([stk,\n",
      "/tmp/ipykernel_540/2512854818.py:44: FutureWarning: The frame.append method is deprecated and will be removed from pandas in a future version. Use pandas.concat instead.\n",
      "  backtest_df = backtest_df.append(pd.Series([stk,\n",
      "/tmp/ipykernel_540/2512854818.py:44: FutureWarning: The frame.append method is deprecated and will be removed from pandas in a future version. Use pandas.concat instead.\n",
      "  backtest_df = backtest_df.append(pd.Series([stk,\n",
      "/tmp/ipykernel_540/2512854818.py:44: FutureWarning: The frame.append method is deprecated and will be removed from pandas in a future version. Use pandas.concat instead.\n",
      "  backtest_df = backtest_df.append(pd.Series([stk,\n",
      "/tmp/ipykernel_540/2512854818.py:44: FutureWarning: The frame.append method is deprecated and will be removed from pandas in a future version. Use pandas.concat instead.\n",
      "  backtest_df = backtest_df.append(pd.Series([stk,\n",
      "/tmp/ipykernel_540/2512854818.py:44: FutureWarning: The frame.append method is deprecated and will be removed from pandas in a future version. Use pandas.concat instead.\n",
      "  backtest_df = backtest_df.append(pd.Series([stk,\n",
      "/tmp/ipykernel_540/2512854818.py:44: FutureWarning: The frame.append method is deprecated and will be removed from pandas in a future version. Use pandas.concat instead.\n",
      "  backtest_df = backtest_df.append(pd.Series([stk,\n",
      "/tmp/ipykernel_540/2512854818.py:44: FutureWarning: The frame.append method is deprecated and will be removed from pandas in a future version. Use pandas.concat instead.\n",
      "  backtest_df = backtest_df.append(pd.Series([stk,\n",
      "/tmp/ipykernel_540/2512854818.py:44: FutureWarning: The frame.append method is deprecated and will be removed from pandas in a future version. Use pandas.concat instead.\n",
      "  backtest_df = backtest_df.append(pd.Series([stk,\n",
      "/tmp/ipykernel_540/2512854818.py:44: FutureWarning: The frame.append method is deprecated and will be removed from pandas in a future version. Use pandas.concat instead.\n",
      "  backtest_df = backtest_df.append(pd.Series([stk,\n",
      "/tmp/ipykernel_540/2512854818.py:44: FutureWarning: The frame.append method is deprecated and will be removed from pandas in a future version. Use pandas.concat instead.\n",
      "  backtest_df = backtest_df.append(pd.Series([stk,\n",
      "/tmp/ipykernel_540/2512854818.py:44: FutureWarning: The frame.append method is deprecated and will be removed from pandas in a future version. Use pandas.concat instead.\n",
      "  backtest_df = backtest_df.append(pd.Series([stk,\n",
      "/tmp/ipykernel_540/2512854818.py:44: FutureWarning: The frame.append method is deprecated and will be removed from pandas in a future version. Use pandas.concat instead.\n",
      "  backtest_df = backtest_df.append(pd.Series([stk,\n",
      "/tmp/ipykernel_540/2512854818.py:44: FutureWarning: The frame.append method is deprecated and will be removed from pandas in a future version. Use pandas.concat instead.\n",
      "  backtest_df = backtest_df.append(pd.Series([stk,\n",
      "/tmp/ipykernel_540/2512854818.py:44: FutureWarning: The frame.append method is deprecated and will be removed from pandas in a future version. Use pandas.concat instead.\n",
      "  backtest_df = backtest_df.append(pd.Series([stk,\n",
      "/tmp/ipykernel_540/2512854818.py:44: FutureWarning: The frame.append method is deprecated and will be removed from pandas in a future version. Use pandas.concat instead.\n",
      "  backtest_df = backtest_df.append(pd.Series([stk,\n",
      "/tmp/ipykernel_540/2512854818.py:44: FutureWarning: The frame.append method is deprecated and will be removed from pandas in a future version. Use pandas.concat instead.\n",
      "  backtest_df = backtest_df.append(pd.Series([stk,\n",
      "/tmp/ipykernel_540/2512854818.py:44: FutureWarning: The frame.append method is deprecated and will be removed from pandas in a future version. Use pandas.concat instead.\n",
      "  backtest_df = backtest_df.append(pd.Series([stk,\n",
      "/tmp/ipykernel_540/2512854818.py:44: FutureWarning: The frame.append method is deprecated and will be removed from pandas in a future version. Use pandas.concat instead.\n",
      "  backtest_df = backtest_df.append(pd.Series([stk,\n",
      "/tmp/ipykernel_540/2512854818.py:44: FutureWarning: The frame.append method is deprecated and will be removed from pandas in a future version. Use pandas.concat instead.\n",
      "  backtest_df = backtest_df.append(pd.Series([stk,\n",
      "/tmp/ipykernel_540/2512854818.py:44: FutureWarning: The frame.append method is deprecated and will be removed from pandas in a future version. Use pandas.concat instead.\n",
      "  backtest_df = backtest_df.append(pd.Series([stk,\n",
      "/tmp/ipykernel_540/2512854818.py:44: FutureWarning: The frame.append method is deprecated and will be removed from pandas in a future version. Use pandas.concat instead.\n",
      "  backtest_df = backtest_df.append(pd.Series([stk,\n",
      "/tmp/ipykernel_540/2512854818.py:44: FutureWarning: The frame.append method is deprecated and will be removed from pandas in a future version. Use pandas.concat instead.\n",
      "  backtest_df = backtest_df.append(pd.Series([stk,\n",
      "/tmp/ipykernel_540/2512854818.py:44: FutureWarning: The frame.append method is deprecated and will be removed from pandas in a future version. Use pandas.concat instead.\n",
      "  backtest_df = backtest_df.append(pd.Series([stk,\n",
      "/tmp/ipykernel_540/2512854818.py:44: FutureWarning: The frame.append method is deprecated and will be removed from pandas in a future version. Use pandas.concat instead.\n",
      "  backtest_df = backtest_df.append(pd.Series([stk,\n",
      "/tmp/ipykernel_540/2512854818.py:44: FutureWarning: The frame.append method is deprecated and will be removed from pandas in a future version. Use pandas.concat instead.\n",
      "  backtest_df = backtest_df.append(pd.Series([stk,\n",
      "/tmp/ipykernel_540/2512854818.py:44: FutureWarning: The frame.append method is deprecated and will be removed from pandas in a future version. Use pandas.concat instead.\n",
      "  backtest_df = backtest_df.append(pd.Series([stk,\n",
      "/tmp/ipykernel_540/2512854818.py:44: FutureWarning: The frame.append method is deprecated and will be removed from pandas in a future version. Use pandas.concat instead.\n",
      "  backtest_df = backtest_df.append(pd.Series([stk,\n",
      "/tmp/ipykernel_540/2512854818.py:44: FutureWarning: The frame.append method is deprecated and will be removed from pandas in a future version. Use pandas.concat instead.\n",
      "  backtest_df = backtest_df.append(pd.Series([stk,\n",
      "/tmp/ipykernel_540/2512854818.py:44: FutureWarning: The frame.append method is deprecated and will be removed from pandas in a future version. Use pandas.concat instead.\n",
      "  backtest_df = backtest_df.append(pd.Series([stk,\n",
      "/tmp/ipykernel_540/2512854818.py:44: FutureWarning: The frame.append method is deprecated and will be removed from pandas in a future version. Use pandas.concat instead.\n",
      "  backtest_df = backtest_df.append(pd.Series([stk,\n",
      "/tmp/ipykernel_540/2512854818.py:44: FutureWarning: The frame.append method is deprecated and will be removed from pandas in a future version. Use pandas.concat instead.\n",
      "  backtest_df = backtest_df.append(pd.Series([stk,\n",
      "/tmp/ipykernel_540/2512854818.py:44: FutureWarning: The frame.append method is deprecated and will be removed from pandas in a future version. Use pandas.concat instead.\n",
      "  backtest_df = backtest_df.append(pd.Series([stk,\n",
      "/tmp/ipykernel_540/2512854818.py:44: FutureWarning: The frame.append method is deprecated and will be removed from pandas in a future version. Use pandas.concat instead.\n",
      "  backtest_df = backtest_df.append(pd.Series([stk,\n",
      "/tmp/ipykernel_540/2512854818.py:44: FutureWarning: The frame.append method is deprecated and will be removed from pandas in a future version. Use pandas.concat instead.\n",
      "  backtest_df = backtest_df.append(pd.Series([stk,\n",
      "/tmp/ipykernel_540/2512854818.py:44: FutureWarning: The frame.append method is deprecated and will be removed from pandas in a future version. Use pandas.concat instead.\n",
      "  backtest_df = backtest_df.append(pd.Series([stk,\n",
      "/tmp/ipykernel_540/2512854818.py:44: FutureWarning: The frame.append method is deprecated and will be removed from pandas in a future version. Use pandas.concat instead.\n",
      "  backtest_df = backtest_df.append(pd.Series([stk,\n",
      "/tmp/ipykernel_540/2512854818.py:44: FutureWarning: The frame.append method is deprecated and will be removed from pandas in a future version. Use pandas.concat instead.\n",
      "  backtest_df = backtest_df.append(pd.Series([stk,\n",
      "/tmp/ipykernel_540/2512854818.py:44: FutureWarning: The frame.append method is deprecated and will be removed from pandas in a future version. Use pandas.concat instead.\n",
      "  backtest_df = backtest_df.append(pd.Series([stk,\n",
      "/tmp/ipykernel_540/2512854818.py:44: FutureWarning: The frame.append method is deprecated and will be removed from pandas in a future version. Use pandas.concat instead.\n",
      "  backtest_df = backtest_df.append(pd.Series([stk,\n",
      "/tmp/ipykernel_540/2512854818.py:44: FutureWarning: The frame.append method is deprecated and will be removed from pandas in a future version. Use pandas.concat instead.\n",
      "  backtest_df = backtest_df.append(pd.Series([stk,\n",
      "/tmp/ipykernel_540/2512854818.py:44: FutureWarning: The frame.append method is deprecated and will be removed from pandas in a future version. Use pandas.concat instead.\n",
      "  backtest_df = backtest_df.append(pd.Series([stk,\n",
      "/tmp/ipykernel_540/2512854818.py:44: FutureWarning: The frame.append method is deprecated and will be removed from pandas in a future version. Use pandas.concat instead.\n",
      "  backtest_df = backtest_df.append(pd.Series([stk,\n",
      "/tmp/ipykernel_540/2512854818.py:44: FutureWarning: The frame.append method is deprecated and will be removed from pandas in a future version. Use pandas.concat instead.\n",
      "  backtest_df = backtest_df.append(pd.Series([stk,\n",
      "/tmp/ipykernel_540/2512854818.py:44: FutureWarning: The frame.append method is deprecated and will be removed from pandas in a future version. Use pandas.concat instead.\n",
      "  backtest_df = backtest_df.append(pd.Series([stk,\n",
      "/tmp/ipykernel_540/2512854818.py:44: FutureWarning: The frame.append method is deprecated and will be removed from pandas in a future version. Use pandas.concat instead.\n",
      "  backtest_df = backtest_df.append(pd.Series([stk,\n",
      "/tmp/ipykernel_540/2512854818.py:44: FutureWarning: The frame.append method is deprecated and will be removed from pandas in a future version. Use pandas.concat instead.\n",
      "  backtest_df = backtest_df.append(pd.Series([stk,\n",
      "/tmp/ipykernel_540/2512854818.py:44: FutureWarning: The frame.append method is deprecated and will be removed from pandas in a future version. Use pandas.concat instead.\n",
      "  backtest_df = backtest_df.append(pd.Series([stk,\n",
      "/tmp/ipykernel_540/2512854818.py:44: FutureWarning: The frame.append method is deprecated and will be removed from pandas in a future version. Use pandas.concat instead.\n",
      "  backtest_df = backtest_df.append(pd.Series([stk,\n",
      "/tmp/ipykernel_540/2512854818.py:44: FutureWarning: The frame.append method is deprecated and will be removed from pandas in a future version. Use pandas.concat instead.\n",
      "  backtest_df = backtest_df.append(pd.Series([stk,\n",
      "/tmp/ipykernel_540/2512854818.py:44: FutureWarning: The frame.append method is deprecated and will be removed from pandas in a future version. Use pandas.concat instead.\n",
      "  backtest_df = backtest_df.append(pd.Series([stk,\n",
      "/tmp/ipykernel_540/2512854818.py:44: FutureWarning: The frame.append method is deprecated and will be removed from pandas in a future version. Use pandas.concat instead.\n",
      "  backtest_df = backtest_df.append(pd.Series([stk,\n",
      "/tmp/ipykernel_540/2512854818.py:44: FutureWarning: The frame.append method is deprecated and will be removed from pandas in a future version. Use pandas.concat instead.\n",
      "  backtest_df = backtest_df.append(pd.Series([stk,\n",
      "/tmp/ipykernel_540/2512854818.py:44: FutureWarning: The frame.append method is deprecated and will be removed from pandas in a future version. Use pandas.concat instead.\n",
      "  backtest_df = backtest_df.append(pd.Series([stk,\n",
      "/tmp/ipykernel_540/2512854818.py:44: FutureWarning: The frame.append method is deprecated and will be removed from pandas in a future version. Use pandas.concat instead.\n",
      "  backtest_df = backtest_df.append(pd.Series([stk,\n",
      "/tmp/ipykernel_540/2512854818.py:44: FutureWarning: The frame.append method is deprecated and will be removed from pandas in a future version. Use pandas.concat instead.\n",
      "  backtest_df = backtest_df.append(pd.Series([stk,\n",
      "/tmp/ipykernel_540/2512854818.py:44: FutureWarning: The frame.append method is deprecated and will be removed from pandas in a future version. Use pandas.concat instead.\n",
      "  backtest_df = backtest_df.append(pd.Series([stk,\n",
      "/tmp/ipykernel_540/2512854818.py:44: FutureWarning: The frame.append method is deprecated and will be removed from pandas in a future version. Use pandas.concat instead.\n",
      "  backtest_df = backtest_df.append(pd.Series([stk,\n",
      "/tmp/ipykernel_540/2512854818.py:44: FutureWarning: The frame.append method is deprecated and will be removed from pandas in a future version. Use pandas.concat instead.\n",
      "  backtest_df = backtest_df.append(pd.Series([stk,\n",
      "/tmp/ipykernel_540/2512854818.py:44: FutureWarning: The frame.append method is deprecated and will be removed from pandas in a future version. Use pandas.concat instead.\n",
      "  backtest_df = backtest_df.append(pd.Series([stk,\n",
      "/tmp/ipykernel_540/2512854818.py:44: FutureWarning: The frame.append method is deprecated and will be removed from pandas in a future version. Use pandas.concat instead.\n",
      "  backtest_df = backtest_df.append(pd.Series([stk,\n",
      "/tmp/ipykernel_540/2512854818.py:44: FutureWarning: The frame.append method is deprecated and will be removed from pandas in a future version. Use pandas.concat instead.\n",
      "  backtest_df = backtest_df.append(pd.Series([stk,\n",
      "/tmp/ipykernel_540/2512854818.py:44: FutureWarning: The frame.append method is deprecated and will be removed from pandas in a future version. Use pandas.concat instead.\n",
      "  backtest_df = backtest_df.append(pd.Series([stk,\n",
      "/tmp/ipykernel_540/2512854818.py:44: FutureWarning: The frame.append method is deprecated and will be removed from pandas in a future version. Use pandas.concat instead.\n",
      "  backtest_df = backtest_df.append(pd.Series([stk,\n",
      "/tmp/ipykernel_540/2512854818.py:44: FutureWarning: The frame.append method is deprecated and will be removed from pandas in a future version. Use pandas.concat instead.\n",
      "  backtest_df = backtest_df.append(pd.Series([stk,\n",
      "/tmp/ipykernel_540/2512854818.py:44: FutureWarning: The frame.append method is deprecated and will be removed from pandas in a future version. Use pandas.concat instead.\n",
      "  backtest_df = backtest_df.append(pd.Series([stk,\n",
      "/tmp/ipykernel_540/2512854818.py:44: FutureWarning: The frame.append method is deprecated and will be removed from pandas in a future version. Use pandas.concat instead.\n",
      "  backtest_df = backtest_df.append(pd.Series([stk,\n",
      "/tmp/ipykernel_540/2512854818.py:44: FutureWarning: The frame.append method is deprecated and will be removed from pandas in a future version. Use pandas.concat instead.\n",
      "  backtest_df = backtest_df.append(pd.Series([stk,\n",
      "/tmp/ipykernel_540/2512854818.py:44: FutureWarning: The frame.append method is deprecated and will be removed from pandas in a future version. Use pandas.concat instead.\n",
      "  backtest_df = backtest_df.append(pd.Series([stk,\n",
      "/tmp/ipykernel_540/2512854818.py:44: FutureWarning: The frame.append method is deprecated and will be removed from pandas in a future version. Use pandas.concat instead.\n",
      "  backtest_df = backtest_df.append(pd.Series([stk,\n",
      "/tmp/ipykernel_540/2512854818.py:44: FutureWarning: The frame.append method is deprecated and will be removed from pandas in a future version. Use pandas.concat instead.\n",
      "  backtest_df = backtest_df.append(pd.Series([stk,\n",
      "/tmp/ipykernel_540/2512854818.py:44: FutureWarning: The frame.append method is deprecated and will be removed from pandas in a future version. Use pandas.concat instead.\n",
      "  backtest_df = backtest_df.append(pd.Series([stk,\n",
      "/tmp/ipykernel_540/2512854818.py:44: FutureWarning: The frame.append method is deprecated and will be removed from pandas in a future version. Use pandas.concat instead.\n",
      "  backtest_df = backtest_df.append(pd.Series([stk,\n",
      "/tmp/ipykernel_540/2512854818.py:44: FutureWarning: The frame.append method is deprecated and will be removed from pandas in a future version. Use pandas.concat instead.\n",
      "  backtest_df = backtest_df.append(pd.Series([stk,\n",
      "/tmp/ipykernel_540/2512854818.py:44: FutureWarning: The frame.append method is deprecated and will be removed from pandas in a future version. Use pandas.concat instead.\n",
      "  backtest_df = backtest_df.append(pd.Series([stk,\n",
      "/tmp/ipykernel_540/2512854818.py:44: FutureWarning: The frame.append method is deprecated and will be removed from pandas in a future version. Use pandas.concat instead.\n",
      "  backtest_df = backtest_df.append(pd.Series([stk,\n",
      "/tmp/ipykernel_540/2512854818.py:44: FutureWarning: The frame.append method is deprecated and will be removed from pandas in a future version. Use pandas.concat instead.\n",
      "  backtest_df = backtest_df.append(pd.Series([stk,\n",
      "/tmp/ipykernel_540/2512854818.py:44: FutureWarning: The frame.append method is deprecated and will be removed from pandas in a future version. Use pandas.concat instead.\n",
      "  backtest_df = backtest_df.append(pd.Series([stk,\n",
      "/tmp/ipykernel_540/2512854818.py:44: FutureWarning: The frame.append method is deprecated and will be removed from pandas in a future version. Use pandas.concat instead.\n",
      "  backtest_df = backtest_df.append(pd.Series([stk,\n",
      "/tmp/ipykernel_540/2512854818.py:44: FutureWarning: The frame.append method is deprecated and will be removed from pandas in a future version. Use pandas.concat instead.\n",
      "  backtest_df = backtest_df.append(pd.Series([stk,\n",
      "/tmp/ipykernel_540/2512854818.py:44: FutureWarning: The frame.append method is deprecated and will be removed from pandas in a future version. Use pandas.concat instead.\n",
      "  backtest_df = backtest_df.append(pd.Series([stk,\n",
      "/tmp/ipykernel_540/2512854818.py:44: FutureWarning: The frame.append method is deprecated and will be removed from pandas in a future version. Use pandas.concat instead.\n",
      "  backtest_df = backtest_df.append(pd.Series([stk,\n",
      "/tmp/ipykernel_540/2512854818.py:44: FutureWarning: The frame.append method is deprecated and will be removed from pandas in a future version. Use pandas.concat instead.\n",
      "  backtest_df = backtest_df.append(pd.Series([stk,\n",
      "/tmp/ipykernel_540/2512854818.py:44: FutureWarning: The frame.append method is deprecated and will be removed from pandas in a future version. Use pandas.concat instead.\n",
      "  backtest_df = backtest_df.append(pd.Series([stk,\n",
      "/tmp/ipykernel_540/2512854818.py:44: FutureWarning: The frame.append method is deprecated and will be removed from pandas in a future version. Use pandas.concat instead.\n",
      "  backtest_df = backtest_df.append(pd.Series([stk,\n",
      "/tmp/ipykernel_540/2512854818.py:44: FutureWarning: The frame.append method is deprecated and will be removed from pandas in a future version. Use pandas.concat instead.\n",
      "  backtest_df = backtest_df.append(pd.Series([stk,\n",
      "/tmp/ipykernel_540/2512854818.py:44: FutureWarning: The frame.append method is deprecated and will be removed from pandas in a future version. Use pandas.concat instead.\n",
      "  backtest_df = backtest_df.append(pd.Series([stk,\n",
      "/tmp/ipykernel_540/2512854818.py:44: FutureWarning: The frame.append method is deprecated and will be removed from pandas in a future version. Use pandas.concat instead.\n",
      "  backtest_df = backtest_df.append(pd.Series([stk,\n",
      "/tmp/ipykernel_540/2512854818.py:44: FutureWarning: The frame.append method is deprecated and will be removed from pandas in a future version. Use pandas.concat instead.\n",
      "  backtest_df = backtest_df.append(pd.Series([stk,\n",
      "/tmp/ipykernel_540/2512854818.py:44: FutureWarning: The frame.append method is deprecated and will be removed from pandas in a future version. Use pandas.concat instead.\n",
      "  backtest_df = backtest_df.append(pd.Series([stk,\n",
      "/tmp/ipykernel_540/2512854818.py:44: FutureWarning: The frame.append method is deprecated and will be removed from pandas in a future version. Use pandas.concat instead.\n",
      "  backtest_df = backtest_df.append(pd.Series([stk,\n",
      "/tmp/ipykernel_540/2512854818.py:44: FutureWarning: The frame.append method is deprecated and will be removed from pandas in a future version. Use pandas.concat instead.\n",
      "  backtest_df = backtest_df.append(pd.Series([stk,\n",
      "/tmp/ipykernel_540/2512854818.py:44: FutureWarning: The frame.append method is deprecated and will be removed from pandas in a future version. Use pandas.concat instead.\n",
      "  backtest_df = backtest_df.append(pd.Series([stk,\n",
      "/tmp/ipykernel_540/2512854818.py:44: FutureWarning: The frame.append method is deprecated and will be removed from pandas in a future version. Use pandas.concat instead.\n",
      "  backtest_df = backtest_df.append(pd.Series([stk,\n",
      "/tmp/ipykernel_540/2512854818.py:44: FutureWarning: The frame.append method is deprecated and will be removed from pandas in a future version. Use pandas.concat instead.\n",
      "  backtest_df = backtest_df.append(pd.Series([stk,\n",
      "/tmp/ipykernel_540/2512854818.py:44: FutureWarning: The frame.append method is deprecated and will be removed from pandas in a future version. Use pandas.concat instead.\n",
      "  backtest_df = backtest_df.append(pd.Series([stk,\n",
      "/tmp/ipykernel_540/2512854818.py:44: FutureWarning: The frame.append method is deprecated and will be removed from pandas in a future version. Use pandas.concat instead.\n",
      "  backtest_df = backtest_df.append(pd.Series([stk,\n",
      "/tmp/ipykernel_540/2512854818.py:44: FutureWarning: The frame.append method is deprecated and will be removed from pandas in a future version. Use pandas.concat instead.\n",
      "  backtest_df = backtest_df.append(pd.Series([stk,\n",
      "/tmp/ipykernel_540/2512854818.py:44: FutureWarning: The frame.append method is deprecated and will be removed from pandas in a future version. Use pandas.concat instead.\n",
      "  backtest_df = backtest_df.append(pd.Series([stk,\n",
      "/tmp/ipykernel_540/2512854818.py:44: FutureWarning: The frame.append method is deprecated and will be removed from pandas in a future version. Use pandas.concat instead.\n",
      "  backtest_df = backtest_df.append(pd.Series([stk,\n",
      "/tmp/ipykernel_540/2512854818.py:44: FutureWarning: The frame.append method is deprecated and will be removed from pandas in a future version. Use pandas.concat instead.\n",
      "  backtest_df = backtest_df.append(pd.Series([stk,\n",
      "/tmp/ipykernel_540/2512854818.py:44: FutureWarning: The frame.append method is deprecated and will be removed from pandas in a future version. Use pandas.concat instead.\n",
      "  backtest_df = backtest_df.append(pd.Series([stk,\n",
      "/tmp/ipykernel_540/2512854818.py:44: FutureWarning: The frame.append method is deprecated and will be removed from pandas in a future version. Use pandas.concat instead.\n",
      "  backtest_df = backtest_df.append(pd.Series([stk,\n",
      "/tmp/ipykernel_540/2512854818.py:44: FutureWarning: The frame.append method is deprecated and will be removed from pandas in a future version. Use pandas.concat instead.\n",
      "  backtest_df = backtest_df.append(pd.Series([stk,\n",
      "/tmp/ipykernel_540/2512854818.py:44: FutureWarning: The frame.append method is deprecated and will be removed from pandas in a future version. Use pandas.concat instead.\n",
      "  backtest_df = backtest_df.append(pd.Series([stk,\n",
      "/tmp/ipykernel_540/2512854818.py:44: FutureWarning: The frame.append method is deprecated and will be removed from pandas in a future version. Use pandas.concat instead.\n",
      "  backtest_df = backtest_df.append(pd.Series([stk,\n",
      "/tmp/ipykernel_540/2512854818.py:44: FutureWarning: The frame.append method is deprecated and will be removed from pandas in a future version. Use pandas.concat instead.\n",
      "  backtest_df = backtest_df.append(pd.Series([stk,\n",
      "/tmp/ipykernel_540/2512854818.py:44: FutureWarning: The frame.append method is deprecated and will be removed from pandas in a future version. Use pandas.concat instead.\n",
      "  backtest_df = backtest_df.append(pd.Series([stk,\n",
      "/tmp/ipykernel_540/2512854818.py:44: FutureWarning: The frame.append method is deprecated and will be removed from pandas in a future version. Use pandas.concat instead.\n",
      "  backtest_df = backtest_df.append(pd.Series([stk,\n",
      "/tmp/ipykernel_540/2512854818.py:44: FutureWarning: The frame.append method is deprecated and will be removed from pandas in a future version. Use pandas.concat instead.\n",
      "  backtest_df = backtest_df.append(pd.Series([stk,\n",
      "/tmp/ipykernel_540/2512854818.py:44: FutureWarning: The frame.append method is deprecated and will be removed from pandas in a future version. Use pandas.concat instead.\n",
      "  backtest_df = backtest_df.append(pd.Series([stk,\n",
      "/tmp/ipykernel_540/2512854818.py:44: FutureWarning: The frame.append method is deprecated and will be removed from pandas in a future version. Use pandas.concat instead.\n",
      "  backtest_df = backtest_df.append(pd.Series([stk,\n",
      "/tmp/ipykernel_540/2512854818.py:44: FutureWarning: The frame.append method is deprecated and will be removed from pandas in a future version. Use pandas.concat instead.\n",
      "  backtest_df = backtest_df.append(pd.Series([stk,\n",
      "/tmp/ipykernel_540/2512854818.py:44: FutureWarning: The frame.append method is deprecated and will be removed from pandas in a future version. Use pandas.concat instead.\n",
      "  backtest_df = backtest_df.append(pd.Series([stk,\n",
      "/tmp/ipykernel_540/2512854818.py:44: FutureWarning: The frame.append method is deprecated and will be removed from pandas in a future version. Use pandas.concat instead.\n",
      "  backtest_df = backtest_df.append(pd.Series([stk,\n",
      "/tmp/ipykernel_540/2512854818.py:44: FutureWarning: The frame.append method is deprecated and will be removed from pandas in a future version. Use pandas.concat instead.\n",
      "  backtest_df = backtest_df.append(pd.Series([stk,\n",
      "/tmp/ipykernel_540/2512854818.py:44: FutureWarning: The frame.append method is deprecated and will be removed from pandas in a future version. Use pandas.concat instead.\n",
      "  backtest_df = backtest_df.append(pd.Series([stk,\n",
      "/tmp/ipykernel_540/2512854818.py:44: FutureWarning: The frame.append method is deprecated and will be removed from pandas in a future version. Use pandas.concat instead.\n",
      "  backtest_df = backtest_df.append(pd.Series([stk,\n",
      "/tmp/ipykernel_540/2512854818.py:44: FutureWarning: The frame.append method is deprecated and will be removed from pandas in a future version. Use pandas.concat instead.\n",
      "  backtest_df = backtest_df.append(pd.Series([stk,\n",
      "/tmp/ipykernel_540/2512854818.py:44: FutureWarning: The frame.append method is deprecated and will be removed from pandas in a future version. Use pandas.concat instead.\n",
      "  backtest_df = backtest_df.append(pd.Series([stk,\n",
      "/tmp/ipykernel_540/2512854818.py:44: FutureWarning: The frame.append method is deprecated and will be removed from pandas in a future version. Use pandas.concat instead.\n",
      "  backtest_df = backtest_df.append(pd.Series([stk,\n",
      "/tmp/ipykernel_540/2512854818.py:44: FutureWarning: The frame.append method is deprecated and will be removed from pandas in a future version. Use pandas.concat instead.\n",
      "  backtest_df = backtest_df.append(pd.Series([stk,\n",
      "/tmp/ipykernel_540/2512854818.py:44: FutureWarning: The frame.append method is deprecated and will be removed from pandas in a future version. Use pandas.concat instead.\n",
      "  backtest_df = backtest_df.append(pd.Series([stk,\n",
      "/tmp/ipykernel_540/2512854818.py:44: FutureWarning: The frame.append method is deprecated and will be removed from pandas in a future version. Use pandas.concat instead.\n",
      "  backtest_df = backtest_df.append(pd.Series([stk,\n",
      "/tmp/ipykernel_540/2512854818.py:44: FutureWarning: The frame.append method is deprecated and will be removed from pandas in a future version. Use pandas.concat instead.\n",
      "  backtest_df = backtest_df.append(pd.Series([stk,\n",
      "/tmp/ipykernel_540/2512854818.py:44: FutureWarning: The frame.append method is deprecated and will be removed from pandas in a future version. Use pandas.concat instead.\n",
      "  backtest_df = backtest_df.append(pd.Series([stk,\n",
      "/tmp/ipykernel_540/2512854818.py:44: FutureWarning: The frame.append method is deprecated and will be removed from pandas in a future version. Use pandas.concat instead.\n",
      "  backtest_df = backtest_df.append(pd.Series([stk,\n",
      "/tmp/ipykernel_540/2512854818.py:44: FutureWarning: The frame.append method is deprecated and will be removed from pandas in a future version. Use pandas.concat instead.\n",
      "  backtest_df = backtest_df.append(pd.Series([stk,\n",
      "/tmp/ipykernel_540/2512854818.py:44: FutureWarning: The frame.append method is deprecated and will be removed from pandas in a future version. Use pandas.concat instead.\n",
      "  backtest_df = backtest_df.append(pd.Series([stk,\n",
      "/tmp/ipykernel_540/2512854818.py:44: FutureWarning: The frame.append method is deprecated and will be removed from pandas in a future version. Use pandas.concat instead.\n",
      "  backtest_df = backtest_df.append(pd.Series([stk,\n",
      "/tmp/ipykernel_540/2512854818.py:44: FutureWarning: The frame.append method is deprecated and will be removed from pandas in a future version. Use pandas.concat instead.\n",
      "  backtest_df = backtest_df.append(pd.Series([stk,\n",
      "/tmp/ipykernel_540/2512854818.py:44: FutureWarning: The frame.append method is deprecated and will be removed from pandas in a future version. Use pandas.concat instead.\n",
      "  backtest_df = backtest_df.append(pd.Series([stk,\n",
      "/tmp/ipykernel_540/2512854818.py:44: FutureWarning: The frame.append method is deprecated and will be removed from pandas in a future version. Use pandas.concat instead.\n",
      "  backtest_df = backtest_df.append(pd.Series([stk,\n",
      "/tmp/ipykernel_540/2512854818.py:44: FutureWarning: The frame.append method is deprecated and will be removed from pandas in a future version. Use pandas.concat instead.\n",
      "  backtest_df = backtest_df.append(pd.Series([stk,\n",
      "/tmp/ipykernel_540/2512854818.py:44: FutureWarning: The frame.append method is deprecated and will be removed from pandas in a future version. Use pandas.concat instead.\n",
      "  backtest_df = backtest_df.append(pd.Series([stk,\n",
      "/tmp/ipykernel_540/2512854818.py:44: FutureWarning: The frame.append method is deprecated and will be removed from pandas in a future version. Use pandas.concat instead.\n",
      "  backtest_df = backtest_df.append(pd.Series([stk,\n",
      "/tmp/ipykernel_540/2512854818.py:44: FutureWarning: The frame.append method is deprecated and will be removed from pandas in a future version. Use pandas.concat instead.\n",
      "  backtest_df = backtest_df.append(pd.Series([stk,\n",
      "/tmp/ipykernel_540/2512854818.py:44: FutureWarning: The frame.append method is deprecated and will be removed from pandas in a future version. Use pandas.concat instead.\n",
      "  backtest_df = backtest_df.append(pd.Series([stk,\n",
      "/tmp/ipykernel_540/2512854818.py:44: FutureWarning: The frame.append method is deprecated and will be removed from pandas in a future version. Use pandas.concat instead.\n",
      "  backtest_df = backtest_df.append(pd.Series([stk,\n",
      "/tmp/ipykernel_540/2512854818.py:44: FutureWarning: The frame.append method is deprecated and will be removed from pandas in a future version. Use pandas.concat instead.\n",
      "  backtest_df = backtest_df.append(pd.Series([stk,\n",
      "/tmp/ipykernel_540/2512854818.py:44: FutureWarning: The frame.append method is deprecated and will be removed from pandas in a future version. Use pandas.concat instead.\n",
      "  backtest_df = backtest_df.append(pd.Series([stk,\n",
      "/tmp/ipykernel_540/2512854818.py:44: FutureWarning: The frame.append method is deprecated and will be removed from pandas in a future version. Use pandas.concat instead.\n",
      "  backtest_df = backtest_df.append(pd.Series([stk,\n",
      "/tmp/ipykernel_540/2512854818.py:44: FutureWarning: The frame.append method is deprecated and will be removed from pandas in a future version. Use pandas.concat instead.\n",
      "  backtest_df = backtest_df.append(pd.Series([stk,\n",
      "/tmp/ipykernel_540/2512854818.py:44: FutureWarning: The frame.append method is deprecated and will be removed from pandas in a future version. Use pandas.concat instead.\n",
      "  backtest_df = backtest_df.append(pd.Series([stk,\n",
      "/tmp/ipykernel_540/2512854818.py:44: FutureWarning: The frame.append method is deprecated and will be removed from pandas in a future version. Use pandas.concat instead.\n",
      "  backtest_df = backtest_df.append(pd.Series([stk,\n",
      "/tmp/ipykernel_540/2512854818.py:44: FutureWarning: The frame.append method is deprecated and will be removed from pandas in a future version. Use pandas.concat instead.\n",
      "  backtest_df = backtest_df.append(pd.Series([stk,\n",
      "/tmp/ipykernel_540/2512854818.py:44: FutureWarning: The frame.append method is deprecated and will be removed from pandas in a future version. Use pandas.concat instead.\n",
      "  backtest_df = backtest_df.append(pd.Series([stk,\n",
      "/tmp/ipykernel_540/2512854818.py:44: FutureWarning: The frame.append method is deprecated and will be removed from pandas in a future version. Use pandas.concat instead.\n",
      "  backtest_df = backtest_df.append(pd.Series([stk,\n",
      "/tmp/ipykernel_540/2512854818.py:44: FutureWarning: The frame.append method is deprecated and will be removed from pandas in a future version. Use pandas.concat instead.\n",
      "  backtest_df = backtest_df.append(pd.Series([stk,\n",
      "/tmp/ipykernel_540/2512854818.py:44: FutureWarning: The frame.append method is deprecated and will be removed from pandas in a future version. Use pandas.concat instead.\n",
      "  backtest_df = backtest_df.append(pd.Series([stk,\n",
      "/tmp/ipykernel_540/2512854818.py:44: FutureWarning: The frame.append method is deprecated and will be removed from pandas in a future version. Use pandas.concat instead.\n",
      "  backtest_df = backtest_df.append(pd.Series([stk,\n",
      "/tmp/ipykernel_540/2512854818.py:44: FutureWarning: The frame.append method is deprecated and will be removed from pandas in a future version. Use pandas.concat instead.\n",
      "  backtest_df = backtest_df.append(pd.Series([stk,\n",
      "/tmp/ipykernel_540/2512854818.py:44: FutureWarning: The frame.append method is deprecated and will be removed from pandas in a future version. Use pandas.concat instead.\n",
      "  backtest_df = backtest_df.append(pd.Series([stk,\n",
      "/tmp/ipykernel_540/2512854818.py:44: FutureWarning: The frame.append method is deprecated and will be removed from pandas in a future version. Use pandas.concat instead.\n",
      "  backtest_df = backtest_df.append(pd.Series([stk,\n",
      "/tmp/ipykernel_540/2512854818.py:44: FutureWarning: The frame.append method is deprecated and will be removed from pandas in a future version. Use pandas.concat instead.\n",
      "  backtest_df = backtest_df.append(pd.Series([stk,\n",
      "/tmp/ipykernel_540/2512854818.py:44: FutureWarning: The frame.append method is deprecated and will be removed from pandas in a future version. Use pandas.concat instead.\n",
      "  backtest_df = backtest_df.append(pd.Series([stk,\n",
      "/tmp/ipykernel_540/2512854818.py:44: FutureWarning: The frame.append method is deprecated and will be removed from pandas in a future version. Use pandas.concat instead.\n",
      "  backtest_df = backtest_df.append(pd.Series([stk,\n",
      "/tmp/ipykernel_540/2512854818.py:44: FutureWarning: The frame.append method is deprecated and will be removed from pandas in a future version. Use pandas.concat instead.\n",
      "  backtest_df = backtest_df.append(pd.Series([stk,\n",
      "/tmp/ipykernel_540/2512854818.py:44: FutureWarning: The frame.append method is deprecated and will be removed from pandas in a future version. Use pandas.concat instead.\n",
      "  backtest_df = backtest_df.append(pd.Series([stk,\n",
      "/tmp/ipykernel_540/2512854818.py:44: FutureWarning: The frame.append method is deprecated and will be removed from pandas in a future version. Use pandas.concat instead.\n",
      "  backtest_df = backtest_df.append(pd.Series([stk,\n",
      "/tmp/ipykernel_540/2512854818.py:44: FutureWarning: The frame.append method is deprecated and will be removed from pandas in a future version. Use pandas.concat instead.\n",
      "  backtest_df = backtest_df.append(pd.Series([stk,\n",
      "/tmp/ipykernel_540/2512854818.py:44: FutureWarning: The frame.append method is deprecated and will be removed from pandas in a future version. Use pandas.concat instead.\n",
      "  backtest_df = backtest_df.append(pd.Series([stk,\n",
      "/tmp/ipykernel_540/2512854818.py:44: FutureWarning: The frame.append method is deprecated and will be removed from pandas in a future version. Use pandas.concat instead.\n",
      "  backtest_df = backtest_df.append(pd.Series([stk,\n",
      "/tmp/ipykernel_540/2512854818.py:44: FutureWarning: The frame.append method is deprecated and will be removed from pandas in a future version. Use pandas.concat instead.\n",
      "  backtest_df = backtest_df.append(pd.Series([stk,\n",
      "/tmp/ipykernel_540/2512854818.py:44: FutureWarning: The frame.append method is deprecated and will be removed from pandas in a future version. Use pandas.concat instead.\n",
      "  backtest_df = backtest_df.append(pd.Series([stk,\n",
      "/tmp/ipykernel_540/2512854818.py:44: FutureWarning: The frame.append method is deprecated and will be removed from pandas in a future version. Use pandas.concat instead.\n",
      "  backtest_df = backtest_df.append(pd.Series([stk,\n",
      "/tmp/ipykernel_540/2512854818.py:44: FutureWarning: The frame.append method is deprecated and will be removed from pandas in a future version. Use pandas.concat instead.\n",
      "  backtest_df = backtest_df.append(pd.Series([stk,\n",
      "/tmp/ipykernel_540/2512854818.py:44: FutureWarning: The frame.append method is deprecated and will be removed from pandas in a future version. Use pandas.concat instead.\n",
      "  backtest_df = backtest_df.append(pd.Series([stk,\n",
      "/tmp/ipykernel_540/2512854818.py:44: FutureWarning: The frame.append method is deprecated and will be removed from pandas in a future version. Use pandas.concat instead.\n",
      "  backtest_df = backtest_df.append(pd.Series([stk,\n",
      "/tmp/ipykernel_540/2512854818.py:44: FutureWarning: The frame.append method is deprecated and will be removed from pandas in a future version. Use pandas.concat instead.\n",
      "  backtest_df = backtest_df.append(pd.Series([stk,\n",
      "/tmp/ipykernel_540/2512854818.py:44: FutureWarning: The frame.append method is deprecated and will be removed from pandas in a future version. Use pandas.concat instead.\n",
      "  backtest_df = backtest_df.append(pd.Series([stk,\n",
      "/tmp/ipykernel_540/2512854818.py:44: FutureWarning: The frame.append method is deprecated and will be removed from pandas in a future version. Use pandas.concat instead.\n",
      "  backtest_df = backtest_df.append(pd.Series([stk,\n",
      "/tmp/ipykernel_540/2512854818.py:44: FutureWarning: The frame.append method is deprecated and will be removed from pandas in a future version. Use pandas.concat instead.\n",
      "  backtest_df = backtest_df.append(pd.Series([stk,\n",
      "/tmp/ipykernel_540/2512854818.py:44: FutureWarning: The frame.append method is deprecated and will be removed from pandas in a future version. Use pandas.concat instead.\n",
      "  backtest_df = backtest_df.append(pd.Series([stk,\n",
      "/tmp/ipykernel_540/2512854818.py:44: FutureWarning: The frame.append method is deprecated and will be removed from pandas in a future version. Use pandas.concat instead.\n",
      "  backtest_df = backtest_df.append(pd.Series([stk,\n",
      "/tmp/ipykernel_540/2512854818.py:44: FutureWarning: The frame.append method is deprecated and will be removed from pandas in a future version. Use pandas.concat instead.\n",
      "  backtest_df = backtest_df.append(pd.Series([stk,\n",
      "/tmp/ipykernel_540/2512854818.py:44: FutureWarning: The frame.append method is deprecated and will be removed from pandas in a future version. Use pandas.concat instead.\n",
      "  backtest_df = backtest_df.append(pd.Series([stk,\n",
      "/tmp/ipykernel_540/2512854818.py:44: FutureWarning: The frame.append method is deprecated and will be removed from pandas in a future version. Use pandas.concat instead.\n",
      "  backtest_df = backtest_df.append(pd.Series([stk,\n",
      "/tmp/ipykernel_540/2512854818.py:44: FutureWarning: The frame.append method is deprecated and will be removed from pandas in a future version. Use pandas.concat instead.\n",
      "  backtest_df = backtest_df.append(pd.Series([stk,\n",
      "/tmp/ipykernel_540/2512854818.py:44: FutureWarning: The frame.append method is deprecated and will be removed from pandas in a future version. Use pandas.concat instead.\n",
      "  backtest_df = backtest_df.append(pd.Series([stk,\n",
      "/tmp/ipykernel_540/2512854818.py:44: FutureWarning: The frame.append method is deprecated and will be removed from pandas in a future version. Use pandas.concat instead.\n",
      "  backtest_df = backtest_df.append(pd.Series([stk,\n",
      "/tmp/ipykernel_540/2512854818.py:44: FutureWarning: The frame.append method is deprecated and will be removed from pandas in a future version. Use pandas.concat instead.\n",
      "  backtest_df = backtest_df.append(pd.Series([stk,\n",
      "/tmp/ipykernel_540/2512854818.py:44: FutureWarning: The frame.append method is deprecated and will be removed from pandas in a future version. Use pandas.concat instead.\n",
      "  backtest_df = backtest_df.append(pd.Series([stk,\n",
      "/tmp/ipykernel_540/2512854818.py:44: FutureWarning: The frame.append method is deprecated and will be removed from pandas in a future version. Use pandas.concat instead.\n",
      "  backtest_df = backtest_df.append(pd.Series([stk,\n",
      "/tmp/ipykernel_540/2512854818.py:44: FutureWarning: The frame.append method is deprecated and will be removed from pandas in a future version. Use pandas.concat instead.\n",
      "  backtest_df = backtest_df.append(pd.Series([stk,\n",
      "/tmp/ipykernel_540/2512854818.py:44: FutureWarning: The frame.append method is deprecated and will be removed from pandas in a future version. Use pandas.concat instead.\n",
      "  backtest_df = backtest_df.append(pd.Series([stk,\n",
      "/tmp/ipykernel_540/2512854818.py:44: FutureWarning: The frame.append method is deprecated and will be removed from pandas in a future version. Use pandas.concat instead.\n",
      "  backtest_df = backtest_df.append(pd.Series([stk,\n",
      "/tmp/ipykernel_540/2512854818.py:44: FutureWarning: The frame.append method is deprecated and will be removed from pandas in a future version. Use pandas.concat instead.\n",
      "  backtest_df = backtest_df.append(pd.Series([stk,\n",
      "/tmp/ipykernel_540/2512854818.py:44: FutureWarning: The frame.append method is deprecated and will be removed from pandas in a future version. Use pandas.concat instead.\n",
      "  backtest_df = backtest_df.append(pd.Series([stk,\n",
      "/tmp/ipykernel_540/2512854818.py:44: FutureWarning: The frame.append method is deprecated and will be removed from pandas in a future version. Use pandas.concat instead.\n",
      "  backtest_df = backtest_df.append(pd.Series([stk,\n",
      "/tmp/ipykernel_540/2512854818.py:44: FutureWarning: The frame.append method is deprecated and will be removed from pandas in a future version. Use pandas.concat instead.\n",
      "  backtest_df = backtest_df.append(pd.Series([stk,\n",
      "/tmp/ipykernel_540/2512854818.py:44: FutureWarning: The frame.append method is deprecated and will be removed from pandas in a future version. Use pandas.concat instead.\n",
      "  backtest_df = backtest_df.append(pd.Series([stk,\n",
      "/tmp/ipykernel_540/2512854818.py:44: FutureWarning: The frame.append method is deprecated and will be removed from pandas in a future version. Use pandas.concat instead.\n",
      "  backtest_df = backtest_df.append(pd.Series([stk,\n",
      "/tmp/ipykernel_540/2512854818.py:44: FutureWarning: The frame.append method is deprecated and will be removed from pandas in a future version. Use pandas.concat instead.\n",
      "  backtest_df = backtest_df.append(pd.Series([stk,\n",
      "/tmp/ipykernel_540/2512854818.py:44: FutureWarning: The frame.append method is deprecated and will be removed from pandas in a future version. Use pandas.concat instead.\n",
      "  backtest_df = backtest_df.append(pd.Series([stk,\n",
      "/tmp/ipykernel_540/2512854818.py:44: FutureWarning: The frame.append method is deprecated and will be removed from pandas in a future version. Use pandas.concat instead.\n",
      "  backtest_df = backtest_df.append(pd.Series([stk,\n",
      "/tmp/ipykernel_540/2512854818.py:44: FutureWarning: The frame.append method is deprecated and will be removed from pandas in a future version. Use pandas.concat instead.\n",
      "  backtest_df = backtest_df.append(pd.Series([stk,\n",
      "/tmp/ipykernel_540/2512854818.py:44: FutureWarning: The frame.append method is deprecated and will be removed from pandas in a future version. Use pandas.concat instead.\n",
      "  backtest_df = backtest_df.append(pd.Series([stk,\n",
      "/tmp/ipykernel_540/2512854818.py:44: FutureWarning: The frame.append method is deprecated and will be removed from pandas in a future version. Use pandas.concat instead.\n",
      "  backtest_df = backtest_df.append(pd.Series([stk,\n",
      "/tmp/ipykernel_540/2512854818.py:44: FutureWarning: The frame.append method is deprecated and will be removed from pandas in a future version. Use pandas.concat instead.\n",
      "  backtest_df = backtest_df.append(pd.Series([stk,\n",
      "/tmp/ipykernel_540/2512854818.py:44: FutureWarning: The frame.append method is deprecated and will be removed from pandas in a future version. Use pandas.concat instead.\n",
      "  backtest_df = backtest_df.append(pd.Series([stk,\n",
      "/tmp/ipykernel_540/2512854818.py:44: FutureWarning: The frame.append method is deprecated and will be removed from pandas in a future version. Use pandas.concat instead.\n",
      "  backtest_df = backtest_df.append(pd.Series([stk,\n",
      "/tmp/ipykernel_540/2512854818.py:44: FutureWarning: The frame.append method is deprecated and will be removed from pandas in a future version. Use pandas.concat instead.\n",
      "  backtest_df = backtest_df.append(pd.Series([stk,\n",
      "/tmp/ipykernel_540/2512854818.py:44: FutureWarning: The frame.append method is deprecated and will be removed from pandas in a future version. Use pandas.concat instead.\n",
      "  backtest_df = backtest_df.append(pd.Series([stk,\n",
      "/tmp/ipykernel_540/2512854818.py:44: FutureWarning: The frame.append method is deprecated and will be removed from pandas in a future version. Use pandas.concat instead.\n",
      "  backtest_df = backtest_df.append(pd.Series([stk,\n",
      "/tmp/ipykernel_540/2512854818.py:44: FutureWarning: The frame.append method is deprecated and will be removed from pandas in a future version. Use pandas.concat instead.\n",
      "  backtest_df = backtest_df.append(pd.Series([stk,\n",
      "/tmp/ipykernel_540/2512854818.py:44: FutureWarning: The frame.append method is deprecated and will be removed from pandas in a future version. Use pandas.concat instead.\n",
      "  backtest_df = backtest_df.append(pd.Series([stk,\n",
      "/tmp/ipykernel_540/2512854818.py:44: FutureWarning: The frame.append method is deprecated and will be removed from pandas in a future version. Use pandas.concat instead.\n",
      "  backtest_df = backtest_df.append(pd.Series([stk,\n",
      "/tmp/ipykernel_540/2512854818.py:44: FutureWarning: The frame.append method is deprecated and will be removed from pandas in a future version. Use pandas.concat instead.\n",
      "  backtest_df = backtest_df.append(pd.Series([stk,\n",
      "/tmp/ipykernel_540/2512854818.py:44: FutureWarning: The frame.append method is deprecated and will be removed from pandas in a future version. Use pandas.concat instead.\n",
      "  backtest_df = backtest_df.append(pd.Series([stk,\n",
      "/tmp/ipykernel_540/2512854818.py:44: FutureWarning: The frame.append method is deprecated and will be removed from pandas in a future version. Use pandas.concat instead.\n",
      "  backtest_df = backtest_df.append(pd.Series([stk,\n",
      "/tmp/ipykernel_540/2512854818.py:44: FutureWarning: The frame.append method is deprecated and will be removed from pandas in a future version. Use pandas.concat instead.\n",
      "  backtest_df = backtest_df.append(pd.Series([stk,\n",
      "/tmp/ipykernel_540/2512854818.py:44: FutureWarning: The frame.append method is deprecated and will be removed from pandas in a future version. Use pandas.concat instead.\n",
      "  backtest_df = backtest_df.append(pd.Series([stk,\n",
      "/tmp/ipykernel_540/2512854818.py:44: FutureWarning: The frame.append method is deprecated and will be removed from pandas in a future version. Use pandas.concat instead.\n",
      "  backtest_df = backtest_df.append(pd.Series([stk,\n",
      "/tmp/ipykernel_540/2512854818.py:44: FutureWarning: The frame.append method is deprecated and will be removed from pandas in a future version. Use pandas.concat instead.\n",
      "  backtest_df = backtest_df.append(pd.Series([stk,\n",
      "/tmp/ipykernel_540/2512854818.py:44: FutureWarning: The frame.append method is deprecated and will be removed from pandas in a future version. Use pandas.concat instead.\n",
      "  backtest_df = backtest_df.append(pd.Series([stk,\n",
      "/tmp/ipykernel_540/2512854818.py:44: FutureWarning: The frame.append method is deprecated and will be removed from pandas in a future version. Use pandas.concat instead.\n",
      "  backtest_df = backtest_df.append(pd.Series([stk,\n",
      "/tmp/ipykernel_540/2512854818.py:44: FutureWarning: The frame.append method is deprecated and will be removed from pandas in a future version. Use pandas.concat instead.\n",
      "  backtest_df = backtest_df.append(pd.Series([stk,\n",
      "/tmp/ipykernel_540/2512854818.py:44: FutureWarning: The frame.append method is deprecated and will be removed from pandas in a future version. Use pandas.concat instead.\n",
      "  backtest_df = backtest_df.append(pd.Series([stk,\n",
      "/tmp/ipykernel_540/2512854818.py:44: FutureWarning: The frame.append method is deprecated and will be removed from pandas in a future version. Use pandas.concat instead.\n",
      "  backtest_df = backtest_df.append(pd.Series([stk,\n",
      "/tmp/ipykernel_540/2512854818.py:44: FutureWarning: The frame.append method is deprecated and will be removed from pandas in a future version. Use pandas.concat instead.\n",
      "  backtest_df = backtest_df.append(pd.Series([stk,\n",
      "/tmp/ipykernel_540/2512854818.py:44: FutureWarning: The frame.append method is deprecated and will be removed from pandas in a future version. Use pandas.concat instead.\n",
      "  backtest_df = backtest_df.append(pd.Series([stk,\n",
      "/tmp/ipykernel_540/2512854818.py:44: FutureWarning: The frame.append method is deprecated and will be removed from pandas in a future version. Use pandas.concat instead.\n",
      "  backtest_df = backtest_df.append(pd.Series([stk,\n",
      "/tmp/ipykernel_540/2512854818.py:44: FutureWarning: The frame.append method is deprecated and will be removed from pandas in a future version. Use pandas.concat instead.\n",
      "  backtest_df = backtest_df.append(pd.Series([stk,\n",
      "/tmp/ipykernel_540/2512854818.py:44: FutureWarning: The frame.append method is deprecated and will be removed from pandas in a future version. Use pandas.concat instead.\n",
      "  backtest_df = backtest_df.append(pd.Series([stk,\n",
      "/tmp/ipykernel_540/2512854818.py:44: FutureWarning: The frame.append method is deprecated and will be removed from pandas in a future version. Use pandas.concat instead.\n",
      "  backtest_df = backtest_df.append(pd.Series([stk,\n",
      "/tmp/ipykernel_540/2512854818.py:44: FutureWarning: The frame.append method is deprecated and will be removed from pandas in a future version. Use pandas.concat instead.\n",
      "  backtest_df = backtest_df.append(pd.Series([stk,\n",
      "/tmp/ipykernel_540/2512854818.py:44: FutureWarning: The frame.append method is deprecated and will be removed from pandas in a future version. Use pandas.concat instead.\n",
      "  backtest_df = backtest_df.append(pd.Series([stk,\n",
      "/tmp/ipykernel_540/2512854818.py:44: FutureWarning: The frame.append method is deprecated and will be removed from pandas in a future version. Use pandas.concat instead.\n",
      "  backtest_df = backtest_df.append(pd.Series([stk,\n",
      "/tmp/ipykernel_540/2512854818.py:44: FutureWarning: The frame.append method is deprecated and will be removed from pandas in a future version. Use pandas.concat instead.\n",
      "  backtest_df = backtest_df.append(pd.Series([stk,\n",
      "/tmp/ipykernel_540/2512854818.py:44: FutureWarning: The frame.append method is deprecated and will be removed from pandas in a future version. Use pandas.concat instead.\n",
      "  backtest_df = backtest_df.append(pd.Series([stk,\n",
      "/tmp/ipykernel_540/2512854818.py:44: FutureWarning: The frame.append method is deprecated and will be removed from pandas in a future version. Use pandas.concat instead.\n",
      "  backtest_df = backtest_df.append(pd.Series([stk,\n",
      "/tmp/ipykernel_540/2512854818.py:44: FutureWarning: The frame.append method is deprecated and will be removed from pandas in a future version. Use pandas.concat instead.\n",
      "  backtest_df = backtest_df.append(pd.Series([stk,\n",
      "/tmp/ipykernel_540/2512854818.py:44: FutureWarning: The frame.append method is deprecated and will be removed from pandas in a future version. Use pandas.concat instead.\n",
      "  backtest_df = backtest_df.append(pd.Series([stk,\n",
      "/tmp/ipykernel_540/2512854818.py:44: FutureWarning: The frame.append method is deprecated and will be removed from pandas in a future version. Use pandas.concat instead.\n",
      "  backtest_df = backtest_df.append(pd.Series([stk,\n",
      "/tmp/ipykernel_540/2512854818.py:44: FutureWarning: The frame.append method is deprecated and will be removed from pandas in a future version. Use pandas.concat instead.\n",
      "  backtest_df = backtest_df.append(pd.Series([stk,\n",
      "/tmp/ipykernel_540/2512854818.py:44: FutureWarning: The frame.append method is deprecated and will be removed from pandas in a future version. Use pandas.concat instead.\n",
      "  backtest_df = backtest_df.append(pd.Series([stk,\n",
      "/tmp/ipykernel_540/2512854818.py:44: FutureWarning: The frame.append method is deprecated and will be removed from pandas in a future version. Use pandas.concat instead.\n",
      "  backtest_df = backtest_df.append(pd.Series([stk,\n",
      "/tmp/ipykernel_540/2512854818.py:44: FutureWarning: The frame.append method is deprecated and will be removed from pandas in a future version. Use pandas.concat instead.\n",
      "  backtest_df = backtest_df.append(pd.Series([stk,\n",
      "/tmp/ipykernel_540/2512854818.py:44: FutureWarning: The frame.append method is deprecated and will be removed from pandas in a future version. Use pandas.concat instead.\n",
      "  backtest_df = backtest_df.append(pd.Series([stk,\n",
      "/tmp/ipykernel_540/2512854818.py:44: FutureWarning: The frame.append method is deprecated and will be removed from pandas in a future version. Use pandas.concat instead.\n",
      "  backtest_df = backtest_df.append(pd.Series([stk,\n",
      "/tmp/ipykernel_540/2512854818.py:44: FutureWarning: The frame.append method is deprecated and will be removed from pandas in a future version. Use pandas.concat instead.\n",
      "  backtest_df = backtest_df.append(pd.Series([stk,\n",
      "/tmp/ipykernel_540/2512854818.py:44: FutureWarning: The frame.append method is deprecated and will be removed from pandas in a future version. Use pandas.concat instead.\n",
      "  backtest_df = backtest_df.append(pd.Series([stk,\n",
      "/tmp/ipykernel_540/2512854818.py:44: FutureWarning: The frame.append method is deprecated and will be removed from pandas in a future version. Use pandas.concat instead.\n",
      "  backtest_df = backtest_df.append(pd.Series([stk,\n",
      "/tmp/ipykernel_540/2512854818.py:44: FutureWarning: The frame.append method is deprecated and will be removed from pandas in a future version. Use pandas.concat instead.\n",
      "  backtest_df = backtest_df.append(pd.Series([stk,\n",
      "/tmp/ipykernel_540/2512854818.py:44: FutureWarning: The frame.append method is deprecated and will be removed from pandas in a future version. Use pandas.concat instead.\n",
      "  backtest_df = backtest_df.append(pd.Series([stk,\n",
      "/tmp/ipykernel_540/2512854818.py:44: FutureWarning: The frame.append method is deprecated and will be removed from pandas in a future version. Use pandas.concat instead.\n",
      "  backtest_df = backtest_df.append(pd.Series([stk,\n",
      "/tmp/ipykernel_540/2512854818.py:44: FutureWarning: The frame.append method is deprecated and will be removed from pandas in a future version. Use pandas.concat instead.\n",
      "  backtest_df = backtest_df.append(pd.Series([stk,\n",
      "/tmp/ipykernel_540/2512854818.py:44: FutureWarning: The frame.append method is deprecated and will be removed from pandas in a future version. Use pandas.concat instead.\n",
      "  backtest_df = backtest_df.append(pd.Series([stk,\n",
      "/tmp/ipykernel_540/2512854818.py:44: FutureWarning: The frame.append method is deprecated and will be removed from pandas in a future version. Use pandas.concat instead.\n",
      "  backtest_df = backtest_df.append(pd.Series([stk,\n",
      "/tmp/ipykernel_540/2512854818.py:44: FutureWarning: The frame.append method is deprecated and will be removed from pandas in a future version. Use pandas.concat instead.\n",
      "  backtest_df = backtest_df.append(pd.Series([stk,\n",
      "/tmp/ipykernel_540/2512854818.py:44: FutureWarning: The frame.append method is deprecated and will be removed from pandas in a future version. Use pandas.concat instead.\n",
      "  backtest_df = backtest_df.append(pd.Series([stk,\n",
      "/tmp/ipykernel_540/2512854818.py:44: FutureWarning: The frame.append method is deprecated and will be removed from pandas in a future version. Use pandas.concat instead.\n",
      "  backtest_df = backtest_df.append(pd.Series([stk,\n",
      "/tmp/ipykernel_540/2512854818.py:44: FutureWarning: The frame.append method is deprecated and will be removed from pandas in a future version. Use pandas.concat instead.\n",
      "  backtest_df = backtest_df.append(pd.Series([stk,\n",
      "/tmp/ipykernel_540/2512854818.py:44: FutureWarning: The frame.append method is deprecated and will be removed from pandas in a future version. Use pandas.concat instead.\n",
      "  backtest_df = backtest_df.append(pd.Series([stk,\n",
      "/tmp/ipykernel_540/2512854818.py:44: FutureWarning: The frame.append method is deprecated and will be removed from pandas in a future version. Use pandas.concat instead.\n",
      "  backtest_df = backtest_df.append(pd.Series([stk,\n",
      "/tmp/ipykernel_540/2512854818.py:44: FutureWarning: The frame.append method is deprecated and will be removed from pandas in a future version. Use pandas.concat instead.\n",
      "  backtest_df = backtest_df.append(pd.Series([stk,\n",
      "/tmp/ipykernel_540/2512854818.py:44: FutureWarning: The frame.append method is deprecated and will be removed from pandas in a future version. Use pandas.concat instead.\n",
      "  backtest_df = backtest_df.append(pd.Series([stk,\n",
      "/tmp/ipykernel_540/2512854818.py:44: FutureWarning: The frame.append method is deprecated and will be removed from pandas in a future version. Use pandas.concat instead.\n",
      "  backtest_df = backtest_df.append(pd.Series([stk,\n",
      "/tmp/ipykernel_540/2512854818.py:44: FutureWarning: The frame.append method is deprecated and will be removed from pandas in a future version. Use pandas.concat instead.\n",
      "  backtest_df = backtest_df.append(pd.Series([stk,\n",
      "/tmp/ipykernel_540/2512854818.py:44: FutureWarning: The frame.append method is deprecated and will be removed from pandas in a future version. Use pandas.concat instead.\n",
      "  backtest_df = backtest_df.append(pd.Series([stk,\n",
      "/tmp/ipykernel_540/2512854818.py:44: FutureWarning: The frame.append method is deprecated and will be removed from pandas in a future version. Use pandas.concat instead.\n",
      "  backtest_df = backtest_df.append(pd.Series([stk,\n",
      "/tmp/ipykernel_540/2512854818.py:44: FutureWarning: The frame.append method is deprecated and will be removed from pandas in a future version. Use pandas.concat instead.\n",
      "  backtest_df = backtest_df.append(pd.Series([stk,\n",
      "/tmp/ipykernel_540/2512854818.py:44: FutureWarning: The frame.append method is deprecated and will be removed from pandas in a future version. Use pandas.concat instead.\n",
      "  backtest_df = backtest_df.append(pd.Series([stk,\n",
      "/tmp/ipykernel_540/2512854818.py:44: FutureWarning: The frame.append method is deprecated and will be removed from pandas in a future version. Use pandas.concat instead.\n",
      "  backtest_df = backtest_df.append(pd.Series([stk,\n",
      "/tmp/ipykernel_540/2512854818.py:44: FutureWarning: The frame.append method is deprecated and will be removed from pandas in a future version. Use pandas.concat instead.\n",
      "  backtest_df = backtest_df.append(pd.Series([stk,\n",
      "/tmp/ipykernel_540/2512854818.py:44: FutureWarning: The frame.append method is deprecated and will be removed from pandas in a future version. Use pandas.concat instead.\n",
      "  backtest_df = backtest_df.append(pd.Series([stk,\n",
      "/tmp/ipykernel_540/2512854818.py:44: FutureWarning: The frame.append method is deprecated and will be removed from pandas in a future version. Use pandas.concat instead.\n",
      "  backtest_df = backtest_df.append(pd.Series([stk,\n",
      "/tmp/ipykernel_540/2512854818.py:44: FutureWarning: The frame.append method is deprecated and will be removed from pandas in a future version. Use pandas.concat instead.\n",
      "  backtest_df = backtest_df.append(pd.Series([stk,\n",
      "/tmp/ipykernel_540/2512854818.py:44: FutureWarning: The frame.append method is deprecated and will be removed from pandas in a future version. Use pandas.concat instead.\n",
      "  backtest_df = backtest_df.append(pd.Series([stk,\n",
      "/tmp/ipykernel_540/2512854818.py:44: FutureWarning: The frame.append method is deprecated and will be removed from pandas in a future version. Use pandas.concat instead.\n",
      "  backtest_df = backtest_df.append(pd.Series([stk,\n",
      "/tmp/ipykernel_540/2512854818.py:44: FutureWarning: The frame.append method is deprecated and will be removed from pandas in a future version. Use pandas.concat instead.\n",
      "  backtest_df = backtest_df.append(pd.Series([stk,\n",
      "/tmp/ipykernel_540/2512854818.py:44: FutureWarning: The frame.append method is deprecated and will be removed from pandas in a future version. Use pandas.concat instead.\n",
      "  backtest_df = backtest_df.append(pd.Series([stk,\n",
      "/tmp/ipykernel_540/2512854818.py:44: FutureWarning: The frame.append method is deprecated and will be removed from pandas in a future version. Use pandas.concat instead.\n",
      "  backtest_df = backtest_df.append(pd.Series([stk,\n",
      "/tmp/ipykernel_540/2512854818.py:44: FutureWarning: The frame.append method is deprecated and will be removed from pandas in a future version. Use pandas.concat instead.\n",
      "  backtest_df = backtest_df.append(pd.Series([stk,\n",
      "/tmp/ipykernel_540/2512854818.py:44: FutureWarning: The frame.append method is deprecated and will be removed from pandas in a future version. Use pandas.concat instead.\n",
      "  backtest_df = backtest_df.append(pd.Series([stk,\n",
      "/tmp/ipykernel_540/2512854818.py:44: FutureWarning: The frame.append method is deprecated and will be removed from pandas in a future version. Use pandas.concat instead.\n",
      "  backtest_df = backtest_df.append(pd.Series([stk,\n",
      "/tmp/ipykernel_540/2512854818.py:44: FutureWarning: The frame.append method is deprecated and will be removed from pandas in a future version. Use pandas.concat instead.\n",
      "  backtest_df = backtest_df.append(pd.Series([stk,\n",
      "/tmp/ipykernel_540/2512854818.py:44: FutureWarning: The frame.append method is deprecated and will be removed from pandas in a future version. Use pandas.concat instead.\n",
      "  backtest_df = backtest_df.append(pd.Series([stk,\n",
      "/tmp/ipykernel_540/2512854818.py:44: FutureWarning: The frame.append method is deprecated and will be removed from pandas in a future version. Use pandas.concat instead.\n",
      "  backtest_df = backtest_df.append(pd.Series([stk,\n",
      "/tmp/ipykernel_540/2512854818.py:44: FutureWarning: The frame.append method is deprecated and will be removed from pandas in a future version. Use pandas.concat instead.\n",
      "  backtest_df = backtest_df.append(pd.Series([stk,\n",
      "/tmp/ipykernel_540/2512854818.py:44: FutureWarning: The frame.append method is deprecated and will be removed from pandas in a future version. Use pandas.concat instead.\n",
      "  backtest_df = backtest_df.append(pd.Series([stk,\n",
      "/tmp/ipykernel_540/2512854818.py:44: FutureWarning: The frame.append method is deprecated and will be removed from pandas in a future version. Use pandas.concat instead.\n",
      "  backtest_df = backtest_df.append(pd.Series([stk,\n",
      "/tmp/ipykernel_540/2512854818.py:44: FutureWarning: The frame.append method is deprecated and will be removed from pandas in a future version. Use pandas.concat instead.\n",
      "  backtest_df = backtest_df.append(pd.Series([stk,\n",
      "/tmp/ipykernel_540/2512854818.py:44: FutureWarning: The frame.append method is deprecated and will be removed from pandas in a future version. Use pandas.concat instead.\n",
      "  backtest_df = backtest_df.append(pd.Series([stk,\n",
      "/tmp/ipykernel_540/2512854818.py:44: FutureWarning: The frame.append method is deprecated and will be removed from pandas in a future version. Use pandas.concat instead.\n",
      "  backtest_df = backtest_df.append(pd.Series([stk,\n",
      "/tmp/ipykernel_540/2512854818.py:44: FutureWarning: The frame.append method is deprecated and will be removed from pandas in a future version. Use pandas.concat instead.\n",
      "  backtest_df = backtest_df.append(pd.Series([stk,\n",
      "/tmp/ipykernel_540/2512854818.py:44: FutureWarning: The frame.append method is deprecated and will be removed from pandas in a future version. Use pandas.concat instead.\n",
      "  backtest_df = backtest_df.append(pd.Series([stk,\n",
      "/tmp/ipykernel_540/2512854818.py:44: FutureWarning: The frame.append method is deprecated and will be removed from pandas in a future version. Use pandas.concat instead.\n",
      "  backtest_df = backtest_df.append(pd.Series([stk,\n",
      "/tmp/ipykernel_540/2512854818.py:44: FutureWarning: The frame.append method is deprecated and will be removed from pandas in a future version. Use pandas.concat instead.\n",
      "  backtest_df = backtest_df.append(pd.Series([stk,\n",
      "/tmp/ipykernel_540/2512854818.py:44: FutureWarning: The frame.append method is deprecated and will be removed from pandas in a future version. Use pandas.concat instead.\n",
      "  backtest_df = backtest_df.append(pd.Series([stk,\n",
      "/tmp/ipykernel_540/2512854818.py:44: FutureWarning: The frame.append method is deprecated and will be removed from pandas in a future version. Use pandas.concat instead.\n",
      "  backtest_df = backtest_df.append(pd.Series([stk,\n",
      "/tmp/ipykernel_540/2512854818.py:44: FutureWarning: The frame.append method is deprecated and will be removed from pandas in a future version. Use pandas.concat instead.\n",
      "  backtest_df = backtest_df.append(pd.Series([stk,\n",
      "/tmp/ipykernel_540/2512854818.py:44: FutureWarning: The frame.append method is deprecated and will be removed from pandas in a future version. Use pandas.concat instead.\n",
      "  backtest_df = backtest_df.append(pd.Series([stk,\n",
      "/tmp/ipykernel_540/2512854818.py:44: FutureWarning: The frame.append method is deprecated and will be removed from pandas in a future version. Use pandas.concat instead.\n",
      "  backtest_df = backtest_df.append(pd.Series([stk,\n",
      "/tmp/ipykernel_540/2512854818.py:44: FutureWarning: The frame.append method is deprecated and will be removed from pandas in a future version. Use pandas.concat instead.\n",
      "  backtest_df = backtest_df.append(pd.Series([stk,\n",
      "/tmp/ipykernel_540/2512854818.py:44: FutureWarning: The frame.append method is deprecated and will be removed from pandas in a future version. Use pandas.concat instead.\n",
      "  backtest_df = backtest_df.append(pd.Series([stk,\n",
      "/tmp/ipykernel_540/2512854818.py:44: FutureWarning: The frame.append method is deprecated and will be removed from pandas in a future version. Use pandas.concat instead.\n",
      "  backtest_df = backtest_df.append(pd.Series([stk,\n",
      "/tmp/ipykernel_540/2512854818.py:44: FutureWarning: The frame.append method is deprecated and will be removed from pandas in a future version. Use pandas.concat instead.\n",
      "  backtest_df = backtest_df.append(pd.Series([stk,\n",
      "/tmp/ipykernel_540/2512854818.py:44: FutureWarning: The frame.append method is deprecated and will be removed from pandas in a future version. Use pandas.concat instead.\n",
      "  backtest_df = backtest_df.append(pd.Series([stk,\n",
      "/tmp/ipykernel_540/2512854818.py:44: FutureWarning: The frame.append method is deprecated and will be removed from pandas in a future version. Use pandas.concat instead.\n",
      "  backtest_df = backtest_df.append(pd.Series([stk,\n",
      "/tmp/ipykernel_540/2512854818.py:44: FutureWarning: The frame.append method is deprecated and will be removed from pandas in a future version. Use pandas.concat instead.\n",
      "  backtest_df = backtest_df.append(pd.Series([stk,\n",
      "/tmp/ipykernel_540/2512854818.py:44: FutureWarning: The frame.append method is deprecated and will be removed from pandas in a future version. Use pandas.concat instead.\n",
      "  backtest_df = backtest_df.append(pd.Series([stk,\n",
      "/tmp/ipykernel_540/2512854818.py:44: FutureWarning: The frame.append method is deprecated and will be removed from pandas in a future version. Use pandas.concat instead.\n",
      "  backtest_df = backtest_df.append(pd.Series([stk,\n",
      "/tmp/ipykernel_540/2512854818.py:44: FutureWarning: The frame.append method is deprecated and will be removed from pandas in a future version. Use pandas.concat instead.\n",
      "  backtest_df = backtest_df.append(pd.Series([stk,\n",
      "/tmp/ipykernel_540/2512854818.py:44: FutureWarning: The frame.append method is deprecated and will be removed from pandas in a future version. Use pandas.concat instead.\n",
      "  backtest_df = backtest_df.append(pd.Series([stk,\n",
      "/tmp/ipykernel_540/2512854818.py:44: FutureWarning: The frame.append method is deprecated and will be removed from pandas in a future version. Use pandas.concat instead.\n",
      "  backtest_df = backtest_df.append(pd.Series([stk,\n",
      "/tmp/ipykernel_540/2512854818.py:44: FutureWarning: The frame.append method is deprecated and will be removed from pandas in a future version. Use pandas.concat instead.\n",
      "  backtest_df = backtest_df.append(pd.Series([stk,\n",
      "/tmp/ipykernel_540/2512854818.py:44: FutureWarning: The frame.append method is deprecated and will be removed from pandas in a future version. Use pandas.concat instead.\n",
      "  backtest_df = backtest_df.append(pd.Series([stk,\n",
      "/tmp/ipykernel_540/2512854818.py:44: FutureWarning: The frame.append method is deprecated and will be removed from pandas in a future version. Use pandas.concat instead.\n",
      "  backtest_df = backtest_df.append(pd.Series([stk,\n",
      "/tmp/ipykernel_540/2512854818.py:44: FutureWarning: The frame.append method is deprecated and will be removed from pandas in a future version. Use pandas.concat instead.\n",
      "  backtest_df = backtest_df.append(pd.Series([stk,\n",
      "/tmp/ipykernel_540/2512854818.py:44: FutureWarning: The frame.append method is deprecated and will be removed from pandas in a future version. Use pandas.concat instead.\n",
      "  backtest_df = backtest_df.append(pd.Series([stk,\n",
      "/tmp/ipykernel_540/2512854818.py:44: FutureWarning: The frame.append method is deprecated and will be removed from pandas in a future version. Use pandas.concat instead.\n",
      "  backtest_df = backtest_df.append(pd.Series([stk,\n",
      "/tmp/ipykernel_540/2512854818.py:44: FutureWarning: The frame.append method is deprecated and will be removed from pandas in a future version. Use pandas.concat instead.\n",
      "  backtest_df = backtest_df.append(pd.Series([stk,\n",
      "/tmp/ipykernel_540/2512854818.py:44: FutureWarning: The frame.append method is deprecated and will be removed from pandas in a future version. Use pandas.concat instead.\n",
      "  backtest_df = backtest_df.append(pd.Series([stk,\n",
      "/tmp/ipykernel_540/2512854818.py:44: FutureWarning: The frame.append method is deprecated and will be removed from pandas in a future version. Use pandas.concat instead.\n",
      "  backtest_df = backtest_df.append(pd.Series([stk,\n",
      "/tmp/ipykernel_540/2512854818.py:44: FutureWarning: The frame.append method is deprecated and will be removed from pandas in a future version. Use pandas.concat instead.\n",
      "  backtest_df = backtest_df.append(pd.Series([stk,\n",
      "/tmp/ipykernel_540/2512854818.py:44: FutureWarning: The frame.append method is deprecated and will be removed from pandas in a future version. Use pandas.concat instead.\n",
      "  backtest_df = backtest_df.append(pd.Series([stk,\n",
      "/tmp/ipykernel_540/2512854818.py:44: FutureWarning: The frame.append method is deprecated and will be removed from pandas in a future version. Use pandas.concat instead.\n",
      "  backtest_df = backtest_df.append(pd.Series([stk,\n",
      "/tmp/ipykernel_540/2512854818.py:44: FutureWarning: The frame.append method is deprecated and will be removed from pandas in a future version. Use pandas.concat instead.\n",
      "  backtest_df = backtest_df.append(pd.Series([stk,\n",
      "/tmp/ipykernel_540/2512854818.py:44: FutureWarning: The frame.append method is deprecated and will be removed from pandas in a future version. Use pandas.concat instead.\n",
      "  backtest_df = backtest_df.append(pd.Series([stk,\n",
      "/tmp/ipykernel_540/2512854818.py:44: FutureWarning: The frame.append method is deprecated and will be removed from pandas in a future version. Use pandas.concat instead.\n",
      "  backtest_df = backtest_df.append(pd.Series([stk,\n",
      "/tmp/ipykernel_540/2512854818.py:44: FutureWarning: The frame.append method is deprecated and will be removed from pandas in a future version. Use pandas.concat instead.\n",
      "  backtest_df = backtest_df.append(pd.Series([stk,\n",
      "/tmp/ipykernel_540/2512854818.py:44: FutureWarning: The frame.append method is deprecated and will be removed from pandas in a future version. Use pandas.concat instead.\n",
      "  backtest_df = backtest_df.append(pd.Series([stk,\n",
      "/tmp/ipykernel_540/2512854818.py:44: FutureWarning: The frame.append method is deprecated and will be removed from pandas in a future version. Use pandas.concat instead.\n",
      "  backtest_df = backtest_df.append(pd.Series([stk,\n",
      "/tmp/ipykernel_540/2512854818.py:44: FutureWarning: The frame.append method is deprecated and will be removed from pandas in a future version. Use pandas.concat instead.\n",
      "  backtest_df = backtest_df.append(pd.Series([stk,\n",
      "/tmp/ipykernel_540/2512854818.py:44: FutureWarning: The frame.append method is deprecated and will be removed from pandas in a future version. Use pandas.concat instead.\n",
      "  backtest_df = backtest_df.append(pd.Series([stk,\n",
      "/tmp/ipykernel_540/2512854818.py:44: FutureWarning: The frame.append method is deprecated and will be removed from pandas in a future version. Use pandas.concat instead.\n",
      "  backtest_df = backtest_df.append(pd.Series([stk,\n",
      "/tmp/ipykernel_540/2512854818.py:44: FutureWarning: The frame.append method is deprecated and will be removed from pandas in a future version. Use pandas.concat instead.\n",
      "  backtest_df = backtest_df.append(pd.Series([stk,\n",
      "/tmp/ipykernel_540/2512854818.py:44: FutureWarning: The frame.append method is deprecated and will be removed from pandas in a future version. Use pandas.concat instead.\n",
      "  backtest_df = backtest_df.append(pd.Series([stk,\n",
      "/tmp/ipykernel_540/2512854818.py:44: FutureWarning: The frame.append method is deprecated and will be removed from pandas in a future version. Use pandas.concat instead.\n",
      "  backtest_df = backtest_df.append(pd.Series([stk,\n",
      "/tmp/ipykernel_540/2512854818.py:44: FutureWarning: The frame.append method is deprecated and will be removed from pandas in a future version. Use pandas.concat instead.\n",
      "  backtest_df = backtest_df.append(pd.Series([stk,\n",
      "/tmp/ipykernel_540/2512854818.py:44: FutureWarning: The frame.append method is deprecated and will be removed from pandas in a future version. Use pandas.concat instead.\n",
      "  backtest_df = backtest_df.append(pd.Series([stk,\n",
      "/tmp/ipykernel_540/2512854818.py:44: FutureWarning: The frame.append method is deprecated and will be removed from pandas in a future version. Use pandas.concat instead.\n",
      "  backtest_df = backtest_df.append(pd.Series([stk,\n",
      "/tmp/ipykernel_540/2512854818.py:44: FutureWarning: The frame.append method is deprecated and will be removed from pandas in a future version. Use pandas.concat instead.\n",
      "  backtest_df = backtest_df.append(pd.Series([stk,\n",
      "/tmp/ipykernel_540/2512854818.py:44: FutureWarning: The frame.append method is deprecated and will be removed from pandas in a future version. Use pandas.concat instead.\n",
      "  backtest_df = backtest_df.append(pd.Series([stk,\n",
      "/tmp/ipykernel_540/2512854818.py:44: FutureWarning: The frame.append method is deprecated and will be removed from pandas in a future version. Use pandas.concat instead.\n",
      "  backtest_df = backtest_df.append(pd.Series([stk,\n",
      "/tmp/ipykernel_540/2512854818.py:44: FutureWarning: The frame.append method is deprecated and will be removed from pandas in a future version. Use pandas.concat instead.\n",
      "  backtest_df = backtest_df.append(pd.Series([stk,\n",
      "/tmp/ipykernel_540/2512854818.py:44: FutureWarning: The frame.append method is deprecated and will be removed from pandas in a future version. Use pandas.concat instead.\n",
      "  backtest_df = backtest_df.append(pd.Series([stk,\n",
      "/tmp/ipykernel_540/2512854818.py:44: FutureWarning: The frame.append method is deprecated and will be removed from pandas in a future version. Use pandas.concat instead.\n",
      "  backtest_df = backtest_df.append(pd.Series([stk,\n",
      "/tmp/ipykernel_540/2512854818.py:44: FutureWarning: The frame.append method is deprecated and will be removed from pandas in a future version. Use pandas.concat instead.\n",
      "  backtest_df = backtest_df.append(pd.Series([stk,\n",
      "/tmp/ipykernel_540/2512854818.py:44: FutureWarning: The frame.append method is deprecated and will be removed from pandas in a future version. Use pandas.concat instead.\n",
      "  backtest_df = backtest_df.append(pd.Series([stk,\n",
      "/tmp/ipykernel_540/2512854818.py:44: FutureWarning: The frame.append method is deprecated and will be removed from pandas in a future version. Use pandas.concat instead.\n",
      "  backtest_df = backtest_df.append(pd.Series([stk,\n",
      "/tmp/ipykernel_540/2512854818.py:44: FutureWarning: The frame.append method is deprecated and will be removed from pandas in a future version. Use pandas.concat instead.\n",
      "  backtest_df = backtest_df.append(pd.Series([stk,\n",
      "/tmp/ipykernel_540/2512854818.py:44: FutureWarning: The frame.append method is deprecated and will be removed from pandas in a future version. Use pandas.concat instead.\n",
      "  backtest_df = backtest_df.append(pd.Series([stk,\n",
      "/tmp/ipykernel_540/2512854818.py:44: FutureWarning: The frame.append method is deprecated and will be removed from pandas in a future version. Use pandas.concat instead.\n",
      "  backtest_df = backtest_df.append(pd.Series([stk,\n",
      "/tmp/ipykernel_540/2512854818.py:44: FutureWarning: The frame.append method is deprecated and will be removed from pandas in a future version. Use pandas.concat instead.\n",
      "  backtest_df = backtest_df.append(pd.Series([stk,\n",
      "/tmp/ipykernel_540/2512854818.py:44: FutureWarning: The frame.append method is deprecated and will be removed from pandas in a future version. Use pandas.concat instead.\n",
      "  backtest_df = backtest_df.append(pd.Series([stk,\n",
      "/tmp/ipykernel_540/2512854818.py:44: FutureWarning: The frame.append method is deprecated and will be removed from pandas in a future version. Use pandas.concat instead.\n",
      "  backtest_df = backtest_df.append(pd.Series([stk,\n",
      "/tmp/ipykernel_540/2512854818.py:44: FutureWarning: The frame.append method is deprecated and will be removed from pandas in a future version. Use pandas.concat instead.\n",
      "  backtest_df = backtest_df.append(pd.Series([stk,\n",
      "/tmp/ipykernel_540/2512854818.py:44: FutureWarning: The frame.append method is deprecated and will be removed from pandas in a future version. Use pandas.concat instead.\n",
      "  backtest_df = backtest_df.append(pd.Series([stk,\n",
      "/tmp/ipykernel_540/2512854818.py:44: FutureWarning: The frame.append method is deprecated and will be removed from pandas in a future version. Use pandas.concat instead.\n",
      "  backtest_df = backtest_df.append(pd.Series([stk,\n",
      "/tmp/ipykernel_540/2512854818.py:44: FutureWarning: The frame.append method is deprecated and will be removed from pandas in a future version. Use pandas.concat instead.\n",
      "  backtest_df = backtest_df.append(pd.Series([stk,\n",
      "/tmp/ipykernel_540/2512854818.py:44: FutureWarning: The frame.append method is deprecated and will be removed from pandas in a future version. Use pandas.concat instead.\n",
      "  backtest_df = backtest_df.append(pd.Series([stk,\n",
      "/tmp/ipykernel_540/2512854818.py:44: FutureWarning: The frame.append method is deprecated and will be removed from pandas in a future version. Use pandas.concat instead.\n",
      "  backtest_df = backtest_df.append(pd.Series([stk,\n",
      "/tmp/ipykernel_540/2512854818.py:44: FutureWarning: The frame.append method is deprecated and will be removed from pandas in a future version. Use pandas.concat instead.\n",
      "  backtest_df = backtest_df.append(pd.Series([stk,\n",
      "/tmp/ipykernel_540/2512854818.py:44: FutureWarning: The frame.append method is deprecated and will be removed from pandas in a future version. Use pandas.concat instead.\n",
      "  backtest_df = backtest_df.append(pd.Series([stk,\n",
      "/tmp/ipykernel_540/2512854818.py:44: FutureWarning: The frame.append method is deprecated and will be removed from pandas in a future version. Use pandas.concat instead.\n",
      "  backtest_df = backtest_df.append(pd.Series([stk,\n",
      "/tmp/ipykernel_540/2512854818.py:44: FutureWarning: The frame.append method is deprecated and will be removed from pandas in a future version. Use pandas.concat instead.\n",
      "  backtest_df = backtest_df.append(pd.Series([stk,\n",
      "/tmp/ipykernel_540/2512854818.py:44: FutureWarning: The frame.append method is deprecated and will be removed from pandas in a future version. Use pandas.concat instead.\n",
      "  backtest_df = backtest_df.append(pd.Series([stk,\n",
      "/tmp/ipykernel_540/2512854818.py:44: FutureWarning: The frame.append method is deprecated and will be removed from pandas in a future version. Use pandas.concat instead.\n",
      "  backtest_df = backtest_df.append(pd.Series([stk,\n",
      "/tmp/ipykernel_540/2512854818.py:44: FutureWarning: The frame.append method is deprecated and will be removed from pandas in a future version. Use pandas.concat instead.\n",
      "  backtest_df = backtest_df.append(pd.Series([stk,\n",
      "/tmp/ipykernel_540/2512854818.py:44: FutureWarning: The frame.append method is deprecated and will be removed from pandas in a future version. Use pandas.concat instead.\n",
      "  backtest_df = backtest_df.append(pd.Series([stk,\n",
      "/tmp/ipykernel_540/2512854818.py:44: FutureWarning: The frame.append method is deprecated and will be removed from pandas in a future version. Use pandas.concat instead.\n",
      "  backtest_df = backtest_df.append(pd.Series([stk,\n",
      "/tmp/ipykernel_540/2512854818.py:44: FutureWarning: The frame.append method is deprecated and will be removed from pandas in a future version. Use pandas.concat instead.\n",
      "  backtest_df = backtest_df.append(pd.Series([stk,\n",
      "/tmp/ipykernel_540/2512854818.py:44: FutureWarning: The frame.append method is deprecated and will be removed from pandas in a future version. Use pandas.concat instead.\n",
      "  backtest_df = backtest_df.append(pd.Series([stk,\n",
      "/tmp/ipykernel_540/2512854818.py:44: FutureWarning: The frame.append method is deprecated and will be removed from pandas in a future version. Use pandas.concat instead.\n",
      "  backtest_df = backtest_df.append(pd.Series([stk,\n",
      "/tmp/ipykernel_540/2512854818.py:44: FutureWarning: The frame.append method is deprecated and will be removed from pandas in a future version. Use pandas.concat instead.\n",
      "  backtest_df = backtest_df.append(pd.Series([stk,\n",
      "/tmp/ipykernel_540/2512854818.py:44: FutureWarning: The frame.append method is deprecated and will be removed from pandas in a future version. Use pandas.concat instead.\n",
      "  backtest_df = backtest_df.append(pd.Series([stk,\n",
      "/tmp/ipykernel_540/2512854818.py:44: FutureWarning: The frame.append method is deprecated and will be removed from pandas in a future version. Use pandas.concat instead.\n",
      "  backtest_df = backtest_df.append(pd.Series([stk,\n",
      "/tmp/ipykernel_540/2512854818.py:44: FutureWarning: The frame.append method is deprecated and will be removed from pandas in a future version. Use pandas.concat instead.\n",
      "  backtest_df = backtest_df.append(pd.Series([stk,\n",
      "/tmp/ipykernel_540/2512854818.py:44: FutureWarning: The frame.append method is deprecated and will be removed from pandas in a future version. Use pandas.concat instead.\n",
      "  backtest_df = backtest_df.append(pd.Series([stk,\n",
      "/tmp/ipykernel_540/2512854818.py:44: FutureWarning: The frame.append method is deprecated and will be removed from pandas in a future version. Use pandas.concat instead.\n",
      "  backtest_df = backtest_df.append(pd.Series([stk,\n",
      "/tmp/ipykernel_540/2512854818.py:44: FutureWarning: The frame.append method is deprecated and will be removed from pandas in a future version. Use pandas.concat instead.\n",
      "  backtest_df = backtest_df.append(pd.Series([stk,\n",
      "/tmp/ipykernel_540/2512854818.py:44: FutureWarning: The frame.append method is deprecated and will be removed from pandas in a future version. Use pandas.concat instead.\n",
      "  backtest_df = backtest_df.append(pd.Series([stk,\n",
      "/tmp/ipykernel_540/2512854818.py:44: FutureWarning: The frame.append method is deprecated and will be removed from pandas in a future version. Use pandas.concat instead.\n",
      "  backtest_df = backtest_df.append(pd.Series([stk,\n",
      "/tmp/ipykernel_540/2512854818.py:44: FutureWarning: The frame.append method is deprecated and will be removed from pandas in a future version. Use pandas.concat instead.\n",
      "  backtest_df = backtest_df.append(pd.Series([stk,\n",
      "/tmp/ipykernel_540/2512854818.py:44: FutureWarning: The frame.append method is deprecated and will be removed from pandas in a future version. Use pandas.concat instead.\n",
      "  backtest_df = backtest_df.append(pd.Series([stk,\n",
      "/tmp/ipykernel_540/2512854818.py:44: FutureWarning: The frame.append method is deprecated and will be removed from pandas in a future version. Use pandas.concat instead.\n",
      "  backtest_df = backtest_df.append(pd.Series([stk,\n",
      "/tmp/ipykernel_540/2512854818.py:44: FutureWarning: The frame.append method is deprecated and will be removed from pandas in a future version. Use pandas.concat instead.\n",
      "  backtest_df = backtest_df.append(pd.Series([stk,\n",
      "/tmp/ipykernel_540/2512854818.py:44: FutureWarning: The frame.append method is deprecated and will be removed from pandas in a future version. Use pandas.concat instead.\n",
      "  backtest_df = backtest_df.append(pd.Series([stk,\n",
      "/tmp/ipykernel_540/2512854818.py:44: FutureWarning: The frame.append method is deprecated and will be removed from pandas in a future version. Use pandas.concat instead.\n",
      "  backtest_df = backtest_df.append(pd.Series([stk,\n",
      "/tmp/ipykernel_540/2512854818.py:44: FutureWarning: The frame.append method is deprecated and will be removed from pandas in a future version. Use pandas.concat instead.\n",
      "  backtest_df = backtest_df.append(pd.Series([stk,\n",
      "/tmp/ipykernel_540/2512854818.py:44: FutureWarning: The frame.append method is deprecated and will be removed from pandas in a future version. Use pandas.concat instead.\n",
      "  backtest_df = backtest_df.append(pd.Series([stk,\n",
      "/tmp/ipykernel_540/2512854818.py:44: FutureWarning: The frame.append method is deprecated and will be removed from pandas in a future version. Use pandas.concat instead.\n",
      "  backtest_df = backtest_df.append(pd.Series([stk,\n",
      "/tmp/ipykernel_540/2512854818.py:44: FutureWarning: The frame.append method is deprecated and will be removed from pandas in a future version. Use pandas.concat instead.\n",
      "  backtest_df = backtest_df.append(pd.Series([stk,\n",
      "/tmp/ipykernel_540/2512854818.py:44: FutureWarning: The frame.append method is deprecated and will be removed from pandas in a future version. Use pandas.concat instead.\n",
      "  backtest_df = backtest_df.append(pd.Series([stk,\n",
      "/tmp/ipykernel_540/2512854818.py:44: FutureWarning: The frame.append method is deprecated and will be removed from pandas in a future version. Use pandas.concat instead.\n",
      "  backtest_df = backtest_df.append(pd.Series([stk,\n",
      "/tmp/ipykernel_540/2512854818.py:44: FutureWarning: The frame.append method is deprecated and will be removed from pandas in a future version. Use pandas.concat instead.\n",
      "  backtest_df = backtest_df.append(pd.Series([stk,\n",
      "/tmp/ipykernel_540/2512854818.py:44: FutureWarning: The frame.append method is deprecated and will be removed from pandas in a future version. Use pandas.concat instead.\n",
      "  backtest_df = backtest_df.append(pd.Series([stk,\n",
      "/tmp/ipykernel_540/2512854818.py:44: FutureWarning: The frame.append method is deprecated and will be removed from pandas in a future version. Use pandas.concat instead.\n",
      "  backtest_df = backtest_df.append(pd.Series([stk,\n",
      "/tmp/ipykernel_540/2512854818.py:44: FutureWarning: The frame.append method is deprecated and will be removed from pandas in a future version. Use pandas.concat instead.\n",
      "  backtest_df = backtest_df.append(pd.Series([stk,\n",
      "/tmp/ipykernel_540/2512854818.py:44: FutureWarning: The frame.append method is deprecated and will be removed from pandas in a future version. Use pandas.concat instead.\n",
      "  backtest_df = backtest_df.append(pd.Series([stk,\n",
      "/tmp/ipykernel_540/2512854818.py:44: FutureWarning: The frame.append method is deprecated and will be removed from pandas in a future version. Use pandas.concat instead.\n",
      "  backtest_df = backtest_df.append(pd.Series([stk,\n",
      "/tmp/ipykernel_540/2512854818.py:44: FutureWarning: The frame.append method is deprecated and will be removed from pandas in a future version. Use pandas.concat instead.\n",
      "  backtest_df = backtest_df.append(pd.Series([stk,\n",
      "/tmp/ipykernel_540/2512854818.py:44: FutureWarning: The frame.append method is deprecated and will be removed from pandas in a future version. Use pandas.concat instead.\n",
      "  backtest_df = backtest_df.append(pd.Series([stk,\n",
      "/tmp/ipykernel_540/2512854818.py:44: FutureWarning: The frame.append method is deprecated and will be removed from pandas in a future version. Use pandas.concat instead.\n",
      "  backtest_df = backtest_df.append(pd.Series([stk,\n",
      "/tmp/ipykernel_540/2512854818.py:44: FutureWarning: The frame.append method is deprecated and will be removed from pandas in a future version. Use pandas.concat instead.\n",
      "  backtest_df = backtest_df.append(pd.Series([stk,\n",
      "/tmp/ipykernel_540/2512854818.py:44: FutureWarning: The frame.append method is deprecated and will be removed from pandas in a future version. Use pandas.concat instead.\n",
      "  backtest_df = backtest_df.append(pd.Series([stk,\n",
      "/tmp/ipykernel_540/2512854818.py:44: FutureWarning: The frame.append method is deprecated and will be removed from pandas in a future version. Use pandas.concat instead.\n",
      "  backtest_df = backtest_df.append(pd.Series([stk,\n",
      "/tmp/ipykernel_540/2512854818.py:44: FutureWarning: The frame.append method is deprecated and will be removed from pandas in a future version. Use pandas.concat instead.\n",
      "  backtest_df = backtest_df.append(pd.Series([stk,\n",
      "/tmp/ipykernel_540/2512854818.py:44: FutureWarning: The frame.append method is deprecated and will be removed from pandas in a future version. Use pandas.concat instead.\n",
      "  backtest_df = backtest_df.append(pd.Series([stk,\n",
      "/tmp/ipykernel_540/2512854818.py:44: FutureWarning: The frame.append method is deprecated and will be removed from pandas in a future version. Use pandas.concat instead.\n",
      "  backtest_df = backtest_df.append(pd.Series([stk,\n",
      "/tmp/ipykernel_540/2512854818.py:44: FutureWarning: The frame.append method is deprecated and will be removed from pandas in a future version. Use pandas.concat instead.\n",
      "  backtest_df = backtest_df.append(pd.Series([stk,\n",
      "/tmp/ipykernel_540/2512854818.py:44: FutureWarning: The frame.append method is deprecated and will be removed from pandas in a future version. Use pandas.concat instead.\n",
      "  backtest_df = backtest_df.append(pd.Series([stk,\n",
      "/tmp/ipykernel_540/2512854818.py:44: FutureWarning: The frame.append method is deprecated and will be removed from pandas in a future version. Use pandas.concat instead.\n",
      "  backtest_df = backtest_df.append(pd.Series([stk,\n"
     ]
    }
   ],
   "source": [
    "cur_date = '2022-11-03'\n",
    "oneyr_date = '2021-11-03'\n",
    "sixmn_date = '2022-05-03'\n",
    "threemn_date = '2022-08-03'\n",
    "onemn_date = '2022-10-03'\n",
    "\n",
    "for stk in sp500_stocks['Ticker'][:]:\n",
    "\n",
    "    cur_api = f'https://api.polygon.io/v2/aggs/ticker/{stk}/range/1/day/{cur_date}/{cur_date}?apiKey={POLYGON_API_KEY}'\n",
    "    cur_data = requests.get(cur_api).json()\n",
    "    cur_results0 = cur_data['results']\n",
    "    cur_results1 = cur_results0[0]\n",
    "    cur_price = cur_results1['c']\n",
    "\n",
    "    oneyr_api = f'https://api.polygon.io/v2/aggs/ticker/{stk}/range/1/day/{oneyr_date}/{oneyr_date}?apiKey={POLYGON_API_KEY}'\n",
    "    oneyr_data = requests.get(oneyr_api).json()\n",
    "    oneyr_results0 = oneyr_data['results']\n",
    "    oneyr_results1 = oneyr_results0[0]\n",
    "    oneyr_price = oneyr_results1['c']\n",
    "\n",
    "    sixmn_api = f'https://api.polygon.io/v2/aggs/ticker/{stk}/range/1/day/{sixmn_date}/{sixmn_date}?apiKey={POLYGON_API_KEY}'\n",
    "    sixmn_data = requests.get(sixmn_api).json()\n",
    "    sixmn_results0 = sixmn_data['results']\n",
    "    sixmn_results1 = sixmn_results0[0]\n",
    "    sixmn_price = sixmn_results1['c']\n",
    "\n",
    "    threemn_api = f'https://api.polygon.io/v2/aggs/ticker/{stk}/range/1/day/{threemn_date}/{threemn_date}?apiKey={POLYGON_API_KEY}'\n",
    "    threemn_data = requests.get(threemn_api).json()\n",
    "    threemn_results0 = threemn_data['results']\n",
    "    threemn_results1 = threemn_results0[0]\n",
    "    threemn_price = threemn_results1['c']\n",
    "\n",
    "    onemn_api = f'https://api.polygon.io/v2/aggs/ticker/{stk}/range/1/day/{onemn_date}/{onemn_date}?apiKey={POLYGON_API_KEY}'\n",
    "    onemn_data = requests.get(onemn_api).json()\n",
    "    onemn_results0 = onemn_data['results']\n",
    "    onemn_results1 = onemn_results0[0]\n",
    "    onemn_price = onemn_results1['c']\n",
    "\n",
    "    oneyr_return = (cur_price - oneyr_price) / oneyr_price\n",
    "    sixmn_return = (cur_price - sixmn_price) / sixmn_price\n",
    "    threemn_return = (cur_price - threemn_price) / threemn_price\n",
    "    onemn_return = (cur_price - onemn_price) / onemn_price\n",
    "\n",
    "    backtest_df = backtest_df.append(pd.Series([stk, \n",
    "                                      cur_price, \n",
    "                                      oneyr_price, \n",
    "                                      oneyr_return, \n",
    "                                      'N/A', \n",
    "                                      sixmn_price, \n",
    "                                      sixmn_return, \n",
    "                                      'N/A', \n",
    "                                      threemn_price, \n",
    "                                      threemn_return, \n",
    "                                      'N/A', \n",
    "                                      onemn_price, \n",
    "                                      onemn_return, \n",
    "                                      'N/A',\n",
    "                                      'N/A',\n",
    "                                      'N/A'], \n",
    "                                      index = backtest_columns), \n",
    "                                      ignore_index = True)"
   ]
  },
  {
   "cell_type": "code",
   "execution_count": 5,
   "metadata": {},
   "outputs": [
    {
     "data": {
      "text/html": [
       "<div>\n",
       "<style scoped>\n",
       "    .dataframe tbody tr th:only-of-type {\n",
       "        vertical-align: middle;\n",
       "    }\n",
       "\n",
       "    .dataframe tbody tr th {\n",
       "        vertical-align: top;\n",
       "    }\n",
       "\n",
       "    .dataframe thead th {\n",
       "        text-align: right;\n",
       "    }\n",
       "</style>\n",
       "<table border=\"1\" class=\"dataframe\">\n",
       "  <thead>\n",
       "    <tr style=\"text-align: right;\">\n",
       "      <th></th>\n",
       "      <th>Ticker</th>\n",
       "      <th>Price Today</th>\n",
       "      <th>One-Year Price</th>\n",
       "      <th>One-Year Return</th>\n",
       "      <th>One-Year Percentile</th>\n",
       "      <th>Six-Month Price</th>\n",
       "      <th>Six-Month Return</th>\n",
       "      <th>Six-Month Percentile</th>\n",
       "      <th>Three-Month Price</th>\n",
       "      <th>Three-Month Return</th>\n",
       "      <th>Three-Month Percentile</th>\n",
       "      <th>One-Month Price</th>\n",
       "      <th>One-Month Return</th>\n",
       "      <th>One-Month Percentile</th>\n",
       "      <th>HQM Score</th>\n",
       "      <th>Number of Shares to Buy</th>\n",
       "    </tr>\n",
       "  </thead>\n",
       "  <tbody>\n",
       "    <tr>\n",
       "      <th>0</th>\n",
       "      <td>MMM</td>\n",
       "      <td>122.85</td>\n",
       "      <td>182.23</td>\n",
       "      <td>-0.325852</td>\n",
       "      <td>N/A</td>\n",
       "      <td>148.08</td>\n",
       "      <td>-0.170381</td>\n",
       "      <td>N/A</td>\n",
       "      <td>143.49</td>\n",
       "      <td>-0.143843</td>\n",
       "      <td>N/A</td>\n",
       "      <td>113.22</td>\n",
       "      <td>0.085056</td>\n",
       "      <td>N/A</td>\n",
       "      <td>N/A</td>\n",
       "      <td>N/A</td>\n",
       "    </tr>\n",
       "    <tr>\n",
       "      <th>1</th>\n",
       "      <td>AOS</td>\n",
       "      <td>54.37</td>\n",
       "      <td>78.39</td>\n",
       "      <td>-0.306417</td>\n",
       "      <td>N/A</td>\n",
       "      <td>59.10</td>\n",
       "      <td>-0.080034</td>\n",
       "      <td>N/A</td>\n",
       "      <td>61.48</td>\n",
       "      <td>-0.115647</td>\n",
       "      <td>N/A</td>\n",
       "      <td>50.63</td>\n",
       "      <td>0.073869</td>\n",
       "      <td>N/A</td>\n",
       "      <td>N/A</td>\n",
       "      <td>N/A</td>\n",
       "    </tr>\n",
       "    <tr>\n",
       "      <th>2</th>\n",
       "      <td>ABT</td>\n",
       "      <td>96.45</td>\n",
       "      <td>128.70</td>\n",
       "      <td>-0.250583</td>\n",
       "      <td>N/A</td>\n",
       "      <td>112.43</td>\n",
       "      <td>-0.142133</td>\n",
       "      <td>N/A</td>\n",
       "      <td>109.61</td>\n",
       "      <td>-0.120062</td>\n",
       "      <td>N/A</td>\n",
       "      <td>99.52</td>\n",
       "      <td>-0.030848</td>\n",
       "      <td>N/A</td>\n",
       "      <td>N/A</td>\n",
       "      <td>N/A</td>\n",
       "    </tr>\n",
       "    <tr>\n",
       "      <th>3</th>\n",
       "      <td>ABBV</td>\n",
       "      <td>144.42</td>\n",
       "      <td>117.57</td>\n",
       "      <td>0.228375</td>\n",
       "      <td>N/A</td>\n",
       "      <td>149.60</td>\n",
       "      <td>-0.034626</td>\n",
       "      <td>N/A</td>\n",
       "      <td>141.20</td>\n",
       "      <td>0.022805</td>\n",
       "      <td>N/A</td>\n",
       "      <td>138.32</td>\n",
       "      <td>0.044101</td>\n",
       "      <td>N/A</td>\n",
       "      <td>N/A</td>\n",
       "      <td>N/A</td>\n",
       "    </tr>\n",
       "    <tr>\n",
       "      <th>4</th>\n",
       "      <td>ACN</td>\n",
       "      <td>256.88</td>\n",
       "      <td>362.10</td>\n",
       "      <td>-0.290583</td>\n",
       "      <td>N/A</td>\n",
       "      <td>304.82</td>\n",
       "      <td>-0.157273</td>\n",
       "      <td>N/A</td>\n",
       "      <td>308.17</td>\n",
       "      <td>-0.166434</td>\n",
       "      <td>N/A</td>\n",
       "      <td>264.89</td>\n",
       "      <td>-0.030239</td>\n",
       "      <td>N/A</td>\n",
       "      <td>N/A</td>\n",
       "      <td>N/A</td>\n",
       "    </tr>\n",
       "    <tr>\n",
       "      <th>...</th>\n",
       "      <td>...</td>\n",
       "      <td>...</td>\n",
       "      <td>...</td>\n",
       "      <td>...</td>\n",
       "      <td>...</td>\n",
       "      <td>...</td>\n",
       "      <td>...</td>\n",
       "      <td>...</td>\n",
       "      <td>...</td>\n",
       "      <td>...</td>\n",
       "      <td>...</td>\n",
       "      <td>...</td>\n",
       "      <td>...</td>\n",
       "      <td>...</td>\n",
       "      <td>...</td>\n",
       "      <td>...</td>\n",
       "    </tr>\n",
       "    <tr>\n",
       "      <th>481</th>\n",
       "      <td>YUM</td>\n",
       "      <td>119.50</td>\n",
       "      <td>124.05</td>\n",
       "      <td>-0.036679</td>\n",
       "      <td>N/A</td>\n",
       "      <td>115.07</td>\n",
       "      <td>0.038498</td>\n",
       "      <td>N/A</td>\n",
       "      <td>119.81</td>\n",
       "      <td>-0.002587</td>\n",
       "      <td>N/A</td>\n",
       "      <td>109.11</td>\n",
       "      <td>0.095225</td>\n",
       "      <td>N/A</td>\n",
       "      <td>N/A</td>\n",
       "      <td>N/A</td>\n",
       "    </tr>\n",
       "    <tr>\n",
       "      <th>482</th>\n",
       "      <td>ZBRA</td>\n",
       "      <td>227.32</td>\n",
       "      <td>578.49</td>\n",
       "      <td>-0.607046</td>\n",
       "      <td>N/A</td>\n",
       "      <td>368.14</td>\n",
       "      <td>-0.382518</td>\n",
       "      <td>N/A</td>\n",
       "      <td>326.41</td>\n",
       "      <td>-0.303575</td>\n",
       "      <td>N/A</td>\n",
       "      <td>272.09</td>\n",
       "      <td>-0.164541</td>\n",
       "      <td>N/A</td>\n",
       "      <td>N/A</td>\n",
       "      <td>N/A</td>\n",
       "    </tr>\n",
       "    <tr>\n",
       "      <th>483</th>\n",
       "      <td>ZBH</td>\n",
       "      <td>105.42</td>\n",
       "      <td>148.74</td>\n",
       "      <td>-0.291246</td>\n",
       "      <td>N/A</td>\n",
       "      <td>120.68</td>\n",
       "      <td>-0.126450</td>\n",
       "      <td>N/A</td>\n",
       "      <td>115.61</td>\n",
       "      <td>-0.088141</td>\n",
       "      <td>N/A</td>\n",
       "      <td>107.32</td>\n",
       "      <td>-0.017704</td>\n",
       "      <td>N/A</td>\n",
       "      <td>N/A</td>\n",
       "      <td>N/A</td>\n",
       "    </tr>\n",
       "    <tr>\n",
       "      <th>484</th>\n",
       "      <td>ZION</td>\n",
       "      <td>48.12</td>\n",
       "      <td>65.78</td>\n",
       "      <td>-0.268471</td>\n",
       "      <td>N/A</td>\n",
       "      <td>57.47</td>\n",
       "      <td>-0.162694</td>\n",
       "      <td>N/A</td>\n",
       "      <td>53.96</td>\n",
       "      <td>-0.108228</td>\n",
       "      <td>N/A</td>\n",
       "      <td>52.21</td>\n",
       "      <td>-0.078337</td>\n",
       "      <td>N/A</td>\n",
       "      <td>N/A</td>\n",
       "      <td>N/A</td>\n",
       "    </tr>\n",
       "    <tr>\n",
       "      <th>485</th>\n",
       "      <td>ZTS</td>\n",
       "      <td>131.14</td>\n",
       "      <td>211.13</td>\n",
       "      <td>-0.378866</td>\n",
       "      <td>N/A</td>\n",
       "      <td>175.14</td>\n",
       "      <td>-0.251228</td>\n",
       "      <td>N/A</td>\n",
       "      <td>180.16</td>\n",
       "      <td>-0.272091</td>\n",
       "      <td>N/A</td>\n",
       "      <td>151.35</td>\n",
       "      <td>-0.133532</td>\n",
       "      <td>N/A</td>\n",
       "      <td>N/A</td>\n",
       "      <td>N/A</td>\n",
       "    </tr>\n",
       "  </tbody>\n",
       "</table>\n",
       "<p>486 rows × 16 columns</p>\n",
       "</div>"
      ],
      "text/plain": [
       "    Ticker  Price Today  One-Year Price  One-Year Return One-Year Percentile  \\\n",
       "0      MMM       122.85          182.23        -0.325852                 N/A   \n",
       "1      AOS        54.37           78.39        -0.306417                 N/A   \n",
       "2      ABT        96.45          128.70        -0.250583                 N/A   \n",
       "3     ABBV       144.42          117.57         0.228375                 N/A   \n",
       "4      ACN       256.88          362.10        -0.290583                 N/A   \n",
       "..     ...          ...             ...              ...                 ...   \n",
       "481    YUM       119.50          124.05        -0.036679                 N/A   \n",
       "482   ZBRA       227.32          578.49        -0.607046                 N/A   \n",
       "483    ZBH       105.42          148.74        -0.291246                 N/A   \n",
       "484   ZION        48.12           65.78        -0.268471                 N/A   \n",
       "485    ZTS       131.14          211.13        -0.378866                 N/A   \n",
       "\n",
       "     Six-Month Price  Six-Month Return Six-Month Percentile  \\\n",
       "0             148.08         -0.170381                  N/A   \n",
       "1              59.10         -0.080034                  N/A   \n",
       "2             112.43         -0.142133                  N/A   \n",
       "3             149.60         -0.034626                  N/A   \n",
       "4             304.82         -0.157273                  N/A   \n",
       "..               ...               ...                  ...   \n",
       "481           115.07          0.038498                  N/A   \n",
       "482           368.14         -0.382518                  N/A   \n",
       "483           120.68         -0.126450                  N/A   \n",
       "484            57.47         -0.162694                  N/A   \n",
       "485           175.14         -0.251228                  N/A   \n",
       "\n",
       "     Three-Month Price  Three-Month Return Three-Month Percentile  \\\n",
       "0               143.49           -0.143843                    N/A   \n",
       "1                61.48           -0.115647                    N/A   \n",
       "2               109.61           -0.120062                    N/A   \n",
       "3               141.20            0.022805                    N/A   \n",
       "4               308.17           -0.166434                    N/A   \n",
       "..                 ...                 ...                    ...   \n",
       "481             119.81           -0.002587                    N/A   \n",
       "482             326.41           -0.303575                    N/A   \n",
       "483             115.61           -0.088141                    N/A   \n",
       "484              53.96           -0.108228                    N/A   \n",
       "485             180.16           -0.272091                    N/A   \n",
       "\n",
       "     One-Month Price  One-Month Return One-Month Percentile HQM Score  \\\n",
       "0             113.22          0.085056                  N/A       N/A   \n",
       "1              50.63          0.073869                  N/A       N/A   \n",
       "2              99.52         -0.030848                  N/A       N/A   \n",
       "3             138.32          0.044101                  N/A       N/A   \n",
       "4             264.89         -0.030239                  N/A       N/A   \n",
       "..               ...               ...                  ...       ...   \n",
       "481           109.11          0.095225                  N/A       N/A   \n",
       "482           272.09         -0.164541                  N/A       N/A   \n",
       "483           107.32         -0.017704                  N/A       N/A   \n",
       "484            52.21         -0.078337                  N/A       N/A   \n",
       "485           151.35         -0.133532                  N/A       N/A   \n",
       "\n",
       "    Number of Shares to Buy  \n",
       "0                       N/A  \n",
       "1                       N/A  \n",
       "2                       N/A  \n",
       "3                       N/A  \n",
       "4                       N/A  \n",
       "..                      ...  \n",
       "481                     N/A  \n",
       "482                     N/A  \n",
       "483                     N/A  \n",
       "484                     N/A  \n",
       "485                     N/A  \n",
       "\n",
       "[486 rows x 16 columns]"
      ]
     },
     "execution_count": 5,
     "metadata": {},
     "output_type": "execute_result"
    }
   ],
   "source": [
    "backtest_df"
   ]
  },
  {
   "cell_type": "code",
   "execution_count": 6,
   "metadata": {},
   "outputs": [],
   "source": [
    "time_periods = ['One-Year', 'Six-Month', 'Three-Month', 'One-Month']\n",
    "\n",
    "for row in backtest_df.index:\n",
    "    for period in time_periods:\n",
    "        backtest_df.loc[row, f'{period} Percentile'] = score(backtest_df[f'{period} Return'], backtest_df.loc[row, f'{period} Return'])"
   ]
  },
  {
   "cell_type": "code",
   "execution_count": 7,
   "metadata": {},
   "outputs": [],
   "source": [
    "for row in backtest_df.index:\n",
    "    momentum_perc = []\n",
    "    \n",
    "    for period in time_periods:\n",
    "        momentum_perc.append(backtest_df.loc[row, f'{period} Percentile'])\n",
    "    \n",
    "    backtest_df.loc[row, 'HQM Score'] = mean(momentum_perc)"
   ]
  },
  {
   "cell_type": "code",
   "execution_count": 8,
   "metadata": {},
   "outputs": [],
   "source": [
    "backtest_df.sort_values('HQM Score', ascending = False, inplace = True)\n",
    "backtest_df = backtest_df[:50]\n",
    "backtest_df.reset_index(inplace = True, drop = True)"
   ]
  },
  {
   "cell_type": "code",
   "execution_count": 9,
   "metadata": {},
   "outputs": [],
   "source": [
    "portfolio_size = 1000000\n",
    "position_size = float(portfolio_size) / len(backtest_df.index)"
   ]
  },
  {
   "cell_type": "code",
   "execution_count": 10,
   "metadata": {},
   "outputs": [
    {
     "data": {
      "text/html": [
       "<div>\n",
       "<style scoped>\n",
       "    .dataframe tbody tr th:only-of-type {\n",
       "        vertical-align: middle;\n",
       "    }\n",
       "\n",
       "    .dataframe tbody tr th {\n",
       "        vertical-align: top;\n",
       "    }\n",
       "\n",
       "    .dataframe thead th {\n",
       "        text-align: right;\n",
       "    }\n",
       "</style>\n",
       "<table border=\"1\" class=\"dataframe\">\n",
       "  <thead>\n",
       "    <tr style=\"text-align: right;\">\n",
       "      <th></th>\n",
       "      <th>Ticker</th>\n",
       "      <th>Price Today</th>\n",
       "      <th>One-Year Price</th>\n",
       "      <th>One-Year Return</th>\n",
       "      <th>One-Year Percentile</th>\n",
       "      <th>Six-Month Price</th>\n",
       "      <th>Six-Month Return</th>\n",
       "      <th>Six-Month Percentile</th>\n",
       "      <th>Three-Month Price</th>\n",
       "      <th>Three-Month Return</th>\n",
       "      <th>Three-Month Percentile</th>\n",
       "      <th>One-Month Price</th>\n",
       "      <th>One-Month Return</th>\n",
       "      <th>One-Month Percentile</th>\n",
       "      <th>HQM Score</th>\n",
       "      <th>Number of Shares to Buy</th>\n",
       "    </tr>\n",
       "  </thead>\n",
       "  <tbody>\n",
       "    <tr>\n",
       "      <th>0</th>\n",
       "      <td>COP</td>\n",
       "      <td>133.82</td>\n",
       "      <td>72.74</td>\n",
       "      <td>0.839703</td>\n",
       "      <td>99.176955</td>\n",
       "      <td>98.93</td>\n",
       "      <td>0.352674</td>\n",
       "      <td>98.971193</td>\n",
       "      <td>91.32</td>\n",
       "      <td>0.465396</td>\n",
       "      <td>99.794239</td>\n",
       "      <td>109.97</td>\n",
       "      <td>0.216877</td>\n",
       "      <td>95.679012</td>\n",
       "      <td>98.40535</td>\n",
       "      <td>149</td>\n",
       "    </tr>\n",
       "    <tr>\n",
       "      <th>1</th>\n",
       "      <td>SLB</td>\n",
       "      <td>51.80</td>\n",
       "      <td>32.98</td>\n",
       "      <td>0.570649</td>\n",
       "      <td>97.119342</td>\n",
       "      <td>40.15</td>\n",
       "      <td>0.290162</td>\n",
       "      <td>96.91358</td>\n",
       "      <td>35.54</td>\n",
       "      <td>0.457513</td>\n",
       "      <td>99.588477</td>\n",
       "      <td>38.30</td>\n",
       "      <td>0.352480</td>\n",
       "      <td>99.382716</td>\n",
       "      <td>98.251029</td>\n",
       "      <td>386</td>\n",
       "    </tr>\n",
       "    <tr>\n",
       "      <th>2</th>\n",
       "      <td>HES</td>\n",
       "      <td>142.10</td>\n",
       "      <td>81.62</td>\n",
       "      <td>0.740995</td>\n",
       "      <td>98.559671</td>\n",
       "      <td>106.86</td>\n",
       "      <td>0.329777</td>\n",
       "      <td>98.353909</td>\n",
       "      <td>105.66</td>\n",
       "      <td>0.344880</td>\n",
       "      <td>98.559671</td>\n",
       "      <td>116.80</td>\n",
       "      <td>0.216610</td>\n",
       "      <td>95.473251</td>\n",
       "      <td>97.736626</td>\n",
       "      <td>140</td>\n",
       "    </tr>\n",
       "    <tr>\n",
       "      <th>3</th>\n",
       "      <td>MRO</td>\n",
       "      <td>31.42</td>\n",
       "      <td>16.49</td>\n",
       "      <td>0.905397</td>\n",
       "      <td>99.588477</td>\n",
       "      <td>26.25</td>\n",
       "      <td>0.196952</td>\n",
       "      <td>93.621399</td>\n",
       "      <td>22.89</td>\n",
       "      <td>0.372652</td>\n",
       "      <td>98.971193</td>\n",
       "      <td>24.97</td>\n",
       "      <td>0.258310</td>\n",
       "      <td>97.530864</td>\n",
       "      <td>97.427984</td>\n",
       "      <td>636</td>\n",
       "    </tr>\n",
       "    <tr>\n",
       "      <th>4</th>\n",
       "      <td>XOM</td>\n",
       "      <td>111.10</td>\n",
       "      <td>63.93</td>\n",
       "      <td>0.737838</td>\n",
       "      <td>98.353909</td>\n",
       "      <td>88.19</td>\n",
       "      <td>0.259780</td>\n",
       "      <td>95.473251</td>\n",
       "      <td>91.02</td>\n",
       "      <td>0.220611</td>\n",
       "      <td>95.679012</td>\n",
       "      <td>91.92</td>\n",
       "      <td>0.208660</td>\n",
       "      <td>94.650206</td>\n",
       "      <td>96.039095</td>\n",
       "      <td>180</td>\n",
       "    </tr>\n",
       "    <tr>\n",
       "      <th>5</th>\n",
       "      <td>FSLR</td>\n",
       "      <td>157.73</td>\n",
       "      <td>116.83</td>\n",
       "      <td>0.350081</td>\n",
       "      <td>93.621399</td>\n",
       "      <td>75.11</td>\n",
       "      <td>1.099987</td>\n",
       "      <td>100.0</td>\n",
       "      <td>97.89</td>\n",
       "      <td>0.611298</td>\n",
       "      <td>100.0</td>\n",
       "      <td>136.62</td>\n",
       "      <td>0.154516</td>\n",
       "      <td>89.300412</td>\n",
       "      <td>95.730453</td>\n",
       "      <td>126</td>\n",
       "    </tr>\n",
       "    <tr>\n",
       "      <th>6</th>\n",
       "      <td>GILD</td>\n",
       "      <td>79.46</td>\n",
       "      <td>67.41</td>\n",
       "      <td>0.178757</td>\n",
       "      <td>87.654321</td>\n",
       "      <td>60.33</td>\n",
       "      <td>0.317089</td>\n",
       "      <td>98.148148</td>\n",
       "      <td>62.27</td>\n",
       "      <td>0.276056</td>\n",
       "      <td>97.119342</td>\n",
       "      <td>62.32</td>\n",
       "      <td>0.275032</td>\n",
       "      <td>98.559671</td>\n",
       "      <td>95.37037</td>\n",
       "      <td>251</td>\n",
       "    </tr>\n",
       "    <tr>\n",
       "      <th>7</th>\n",
       "      <td>APA</td>\n",
       "      <td>47.29</td>\n",
       "      <td>27.63</td>\n",
       "      <td>0.711545</td>\n",
       "      <td>98.148148</td>\n",
       "      <td>42.52</td>\n",
       "      <td>0.112183</td>\n",
       "      <td>85.596708</td>\n",
       "      <td>34.43</td>\n",
       "      <td>0.373511</td>\n",
       "      <td>99.176955</td>\n",
       "      <td>37.30</td>\n",
       "      <td>0.267828</td>\n",
       "      <td>97.942387</td>\n",
       "      <td>95.216049</td>\n",
       "      <td>422</td>\n",
       "    </tr>\n",
       "    <tr>\n",
       "      <th>8</th>\n",
       "      <td>FANG</td>\n",
       "      <td>158.53</td>\n",
       "      <td>111.81</td>\n",
       "      <td>0.417852</td>\n",
       "      <td>94.855967</td>\n",
       "      <td>136.11</td>\n",
       "      <td>0.164720</td>\n",
       "      <td>91.563786</td>\n",
       "      <td>121.38</td>\n",
       "      <td>0.306064</td>\n",
       "      <td>97.736626</td>\n",
       "      <td>129.52</td>\n",
       "      <td>0.223981</td>\n",
       "      <td>96.502058</td>\n",
       "      <td>95.164609</td>\n",
       "      <td>126</td>\n",
       "    </tr>\n",
       "    <tr>\n",
       "      <th>9</th>\n",
       "      <td>MPC</td>\n",
       "      <td>118.20</td>\n",
       "      <td>63.68</td>\n",
       "      <td>0.856156</td>\n",
       "      <td>99.382716</td>\n",
       "      <td>92.65</td>\n",
       "      <td>0.275769</td>\n",
       "      <td>96.090535</td>\n",
       "      <td>92.68</td>\n",
       "      <td>0.275356</td>\n",
       "      <td>96.91358</td>\n",
       "      <td>102.79</td>\n",
       "      <td>0.149917</td>\n",
       "      <td>88.065844</td>\n",
       "      <td>95.113169</td>\n",
       "      <td>169</td>\n",
       "    </tr>\n",
       "    <tr>\n",
       "      <th>10</th>\n",
       "      <td>ACGL</td>\n",
       "      <td>56.53</td>\n",
       "      <td>43.25</td>\n",
       "      <td>0.307052</td>\n",
       "      <td>92.18107</td>\n",
       "      <td>46.43</td>\n",
       "      <td>0.217532</td>\n",
       "      <td>94.238683</td>\n",
       "      <td>43.50</td>\n",
       "      <td>0.299540</td>\n",
       "      <td>97.530864</td>\n",
       "      <td>46.33</td>\n",
       "      <td>0.220160</td>\n",
       "      <td>96.296296</td>\n",
       "      <td>95.061728</td>\n",
       "      <td>353</td>\n",
       "    </tr>\n",
       "    <tr>\n",
       "      <th>11</th>\n",
       "      <td>MCK</td>\n",
       "      <td>397.58</td>\n",
       "      <td>224.23</td>\n",
       "      <td>0.773090</td>\n",
       "      <td>98.765432</td>\n",
       "      <td>307.81</td>\n",
       "      <td>0.291641</td>\n",
       "      <td>97.119342</td>\n",
       "      <td>327.10</td>\n",
       "      <td>0.215469</td>\n",
       "      <td>95.473251</td>\n",
       "      <td>346.74</td>\n",
       "      <td>0.146623</td>\n",
       "      <td>87.860082</td>\n",
       "      <td>94.804527</td>\n",
       "      <td>50</td>\n",
       "    </tr>\n",
       "    <tr>\n",
       "      <th>12</th>\n",
       "      <td>GPC</td>\n",
       "      <td>177.05</td>\n",
       "      <td>134.21</td>\n",
       "      <td>0.319201</td>\n",
       "      <td>92.798354</td>\n",
       "      <td>131.77</td>\n",
       "      <td>0.343629</td>\n",
       "      <td>98.559671</td>\n",
       "      <td>151.03</td>\n",
       "      <td>0.172284</td>\n",
       "      <td>93.004115</td>\n",
       "      <td>152.91</td>\n",
       "      <td>0.157871</td>\n",
       "      <td>90.329218</td>\n",
       "      <td>93.67284</td>\n",
       "      <td>112</td>\n",
       "    </tr>\n",
       "    <tr>\n",
       "      <th>13</th>\n",
       "      <td>PCG</td>\n",
       "      <td>15.20</td>\n",
       "      <td>11.67</td>\n",
       "      <td>0.302485</td>\n",
       "      <td>91.769547</td>\n",
       "      <td>12.72</td>\n",
       "      <td>0.194969</td>\n",
       "      <td>93.415638</td>\n",
       "      <td>11.12</td>\n",
       "      <td>0.366906</td>\n",
       "      <td>98.765432</td>\n",
       "      <td>13.11</td>\n",
       "      <td>0.159420</td>\n",
       "      <td>90.534979</td>\n",
       "      <td>93.621399</td>\n",
       "      <td>1315</td>\n",
       "    </tr>\n",
       "    <tr>\n",
       "      <th>14</th>\n",
       "      <td>EOG</td>\n",
       "      <td>138.38</td>\n",
       "      <td>90.95</td>\n",
       "      <td>0.521495</td>\n",
       "      <td>96.91358</td>\n",
       "      <td>120.76</td>\n",
       "      <td>0.145909</td>\n",
       "      <td>90.123457</td>\n",
       "      <td>103.61</td>\n",
       "      <td>0.335585</td>\n",
       "      <td>98.353909</td>\n",
       "      <td>119.93</td>\n",
       "      <td>0.153840</td>\n",
       "      <td>88.888889</td>\n",
       "      <td>93.569959</td>\n",
       "      <td>144</td>\n",
       "    </tr>\n",
       "    <tr>\n",
       "      <th>15</th>\n",
       "      <td>CI</td>\n",
       "      <td>324.24</td>\n",
       "      <td>218.25</td>\n",
       "      <td>0.485636</td>\n",
       "      <td>96.090535</td>\n",
       "      <td>247.29</td>\n",
       "      <td>0.311173</td>\n",
       "      <td>97.942387</td>\n",
       "      <td>271.74</td>\n",
       "      <td>0.193199</td>\n",
       "      <td>93.82716</td>\n",
       "      <td>287.22</td>\n",
       "      <td>0.128891</td>\n",
       "      <td>83.950617</td>\n",
       "      <td>92.952675</td>\n",
       "      <td>61</td>\n",
       "    </tr>\n",
       "    <tr>\n",
       "      <th>16</th>\n",
       "      <td>PSX</td>\n",
       "      <td>103.12</td>\n",
       "      <td>78.94</td>\n",
       "      <td>0.306309</td>\n",
       "      <td>91.975309</td>\n",
       "      <td>90.79</td>\n",
       "      <td>0.135808</td>\n",
       "      <td>88.065844</td>\n",
       "      <td>85.51</td>\n",
       "      <td>0.205941</td>\n",
       "      <td>95.061728</td>\n",
       "      <td>84.58</td>\n",
       "      <td>0.219201</td>\n",
       "      <td>96.090535</td>\n",
       "      <td>92.798354</td>\n",
       "      <td>193</td>\n",
       "    </tr>\n",
       "    <tr>\n",
       "      <th>17</th>\n",
       "      <td>OXY</td>\n",
       "      <td>72.16</td>\n",
       "      <td>33.85</td>\n",
       "      <td>1.131758</td>\n",
       "      <td>100.0</td>\n",
       "      <td>59.24</td>\n",
       "      <td>0.218096</td>\n",
       "      <td>94.444444</td>\n",
       "      <td>60.99</td>\n",
       "      <td>0.183145</td>\n",
       "      <td>93.415638</td>\n",
       "      <td>64.06</td>\n",
       "      <td>0.126444</td>\n",
       "      <td>82.510288</td>\n",
       "      <td>92.592593</td>\n",
       "      <td>277</td>\n",
       "    </tr>\n",
       "    <tr>\n",
       "      <th>18</th>\n",
       "      <td>ORLY</td>\n",
       "      <td>819.37</td>\n",
       "      <td>621.57</td>\n",
       "      <td>0.318226</td>\n",
       "      <td>92.592593</td>\n",
       "      <td>603.49</td>\n",
       "      <td>0.357719</td>\n",
       "      <td>99.176955</td>\n",
       "      <td>705.37</td>\n",
       "      <td>0.161617</td>\n",
       "      <td>91.769547</td>\n",
       "      <td>718.19</td>\n",
       "      <td>0.140882</td>\n",
       "      <td>86.419753</td>\n",
       "      <td>92.489712</td>\n",
       "      <td>24</td>\n",
       "    </tr>\n",
       "    <tr>\n",
       "      <th>19</th>\n",
       "      <td>PFG</td>\n",
       "      <td>86.51</td>\n",
       "      <td>69.16</td>\n",
       "      <td>0.250868</td>\n",
       "      <td>90.946502</td>\n",
       "      <td>69.86</td>\n",
       "      <td>0.238334</td>\n",
       "      <td>94.855967</td>\n",
       "      <td>68.05</td>\n",
       "      <td>0.271271</td>\n",
       "      <td>96.707819</td>\n",
       "      <td>75.55</td>\n",
       "      <td>0.145069</td>\n",
       "      <td>87.242798</td>\n",
       "      <td>92.438272</td>\n",
       "      <td>231</td>\n",
       "    </tr>\n",
       "    <tr>\n",
       "      <th>20</th>\n",
       "      <td>CVX</td>\n",
       "      <td>181.13</td>\n",
       "      <td>113.01</td>\n",
       "      <td>0.602779</td>\n",
       "      <td>97.325103</td>\n",
       "      <td>162.49</td>\n",
       "      <td>0.114715</td>\n",
       "      <td>85.802469</td>\n",
       "      <td>155.36</td>\n",
       "      <td>0.165873</td>\n",
       "      <td>91.975309</td>\n",
       "      <td>151.73</td>\n",
       "      <td>0.193765</td>\n",
       "      <td>94.032922</td>\n",
       "      <td>92.283951</td>\n",
       "      <td>110</td>\n",
       "    </tr>\n",
       "    <tr>\n",
       "      <th>21</th>\n",
       "      <td>CAH</td>\n",
       "      <td>75.67</td>\n",
       "      <td>50.40</td>\n",
       "      <td>0.501389</td>\n",
       "      <td>96.707819</td>\n",
       "      <td>58.79</td>\n",
       "      <td>0.287124</td>\n",
       "      <td>96.707819</td>\n",
       "      <td>60.17</td>\n",
       "      <td>0.257603</td>\n",
       "      <td>96.296296</td>\n",
       "      <td>67.97</td>\n",
       "      <td>0.113285</td>\n",
       "      <td>78.395062</td>\n",
       "      <td>92.026749</td>\n",
       "      <td>264</td>\n",
       "    </tr>\n",
       "    <tr>\n",
       "      <th>22</th>\n",
       "      <td>CTVA</td>\n",
       "      <td>66.98</td>\n",
       "      <td>44.81</td>\n",
       "      <td>0.494756</td>\n",
       "      <td>96.502058</td>\n",
       "      <td>57.26</td>\n",
       "      <td>0.169752</td>\n",
       "      <td>91.975309</td>\n",
       "      <td>55.70</td>\n",
       "      <td>0.202513</td>\n",
       "      <td>94.650206</td>\n",
       "      <td>59.18</td>\n",
       "      <td>0.131801</td>\n",
       "      <td>84.567901</td>\n",
       "      <td>91.923868</td>\n",
       "      <td>298</td>\n",
       "    </tr>\n",
       "    <tr>\n",
       "      <th>23</th>\n",
       "      <td>ROL</td>\n",
       "      <td>42.29</td>\n",
       "      <td>35.12</td>\n",
       "      <td>0.204157</td>\n",
       "      <td>88.477366</td>\n",
       "      <td>32.71</td>\n",
       "      <td>0.292877</td>\n",
       "      <td>97.325103</td>\n",
       "      <td>38.26</td>\n",
       "      <td>0.105332</td>\n",
       "      <td>85.802469</td>\n",
       "      <td>35.38</td>\n",
       "      <td>0.195308</td>\n",
       "      <td>94.238683</td>\n",
       "      <td>91.460905</td>\n",
       "      <td>472</td>\n",
       "    </tr>\n",
       "    <tr>\n",
       "      <th>24</th>\n",
       "      <td>LMT</td>\n",
       "      <td>484.82</td>\n",
       "      <td>331.35</td>\n",
       "      <td>0.463166</td>\n",
       "      <td>95.26749</td>\n",
       "      <td>434.77</td>\n",
       "      <td>0.115118</td>\n",
       "      <td>86.00823</td>\n",
       "      <td>429.30</td>\n",
       "      <td>0.129327</td>\n",
       "      <td>89.09465</td>\n",
       "      <td>399.74</td>\n",
       "      <td>0.212838</td>\n",
       "      <td>95.061728</td>\n",
       "      <td>91.358025</td>\n",
       "      <td>41</td>\n",
       "    </tr>\n",
       "    <tr>\n",
       "      <th>25</th>\n",
       "      <td>STLD</td>\n",
       "      <td>91.55</td>\n",
       "      <td>63.60</td>\n",
       "      <td>0.439465</td>\n",
       "      <td>95.061728</td>\n",
       "      <td>86.36</td>\n",
       "      <td>0.060097</td>\n",
       "      <td>80.041152</td>\n",
       "      <td>76.36</td>\n",
       "      <td>0.198926</td>\n",
       "      <td>94.032922</td>\n",
       "      <td>75.39</td>\n",
       "      <td>0.214352</td>\n",
       "      <td>95.26749</td>\n",
       "      <td>91.100823</td>\n",
       "      <td>218</td>\n",
       "    </tr>\n",
       "    <tr>\n",
       "      <th>26</th>\n",
       "      <td>AZO</td>\n",
       "      <td>2478.46</td>\n",
       "      <td>1791.68</td>\n",
       "      <td>0.383316</td>\n",
       "      <td>94.444444</td>\n",
       "      <td>1976.29</td>\n",
       "      <td>0.254097</td>\n",
       "      <td>95.061728</td>\n",
       "      <td>2148.03</td>\n",
       "      <td>0.153829</td>\n",
       "      <td>91.152263</td>\n",
       "      <td>2197.71</td>\n",
       "      <td>0.127747</td>\n",
       "      <td>83.127572</td>\n",
       "      <td>90.946502</td>\n",
       "      <td>8</td>\n",
       "    </tr>\n",
       "    <tr>\n",
       "      <th>27</th>\n",
       "      <td>VLO</td>\n",
       "      <td>129.71</td>\n",
       "      <td>75.88</td>\n",
       "      <td>0.709410</td>\n",
       "      <td>97.942387</td>\n",
       "      <td>121.40</td>\n",
       "      <td>0.068451</td>\n",
       "      <td>81.069959</td>\n",
       "      <td>107.81</td>\n",
       "      <td>0.203135</td>\n",
       "      <td>94.855967</td>\n",
       "      <td>112.31</td>\n",
       "      <td>0.154928</td>\n",
       "      <td>89.506173</td>\n",
       "      <td>90.843621</td>\n",
       "      <td>154</td>\n",
       "    </tr>\n",
       "    <tr>\n",
       "      <th>28</th>\n",
       "      <td>GWW</td>\n",
       "      <td>594.40</td>\n",
       "      <td>474.44</td>\n",
       "      <td>0.252845</td>\n",
       "      <td>91.358025</td>\n",
       "      <td>483.99</td>\n",
       "      <td>0.228125</td>\n",
       "      <td>94.650206</td>\n",
       "      <td>543.02</td>\n",
       "      <td>0.094619</td>\n",
       "      <td>84.567901</td>\n",
       "      <td>506.82</td>\n",
       "      <td>0.172803</td>\n",
       "      <td>92.386831</td>\n",
       "      <td>90.740741</td>\n",
       "      <td>33</td>\n",
       "    </tr>\n",
       "    <tr>\n",
       "      <th>29</th>\n",
       "      <td>RJF</td>\n",
       "      <td>118.02</td>\n",
       "      <td>102.07</td>\n",
       "      <td>0.156265</td>\n",
       "      <td>85.802469</td>\n",
       "      <td>100.35</td>\n",
       "      <td>0.176084</td>\n",
       "      <td>92.798354</td>\n",
       "      <td>100.11</td>\n",
       "      <td>0.178903</td>\n",
       "      <td>93.209877</td>\n",
       "      <td>101.42</td>\n",
       "      <td>0.163676</td>\n",
       "      <td>91.152263</td>\n",
       "      <td>90.740741</td>\n",
       "      <td>169</td>\n",
       "    </tr>\n",
       "    <tr>\n",
       "      <th>30</th>\n",
       "      <td>HAL</td>\n",
       "      <td>36.86</td>\n",
       "      <td>24.72</td>\n",
       "      <td>0.491100</td>\n",
       "      <td>96.296296</td>\n",
       "      <td>36.67</td>\n",
       "      <td>0.005181</td>\n",
       "      <td>69.547325</td>\n",
       "      <td>28.43</td>\n",
       "      <td>0.296518</td>\n",
       "      <td>97.325103</td>\n",
       "      <td>26.38</td>\n",
       "      <td>0.397271</td>\n",
       "      <td>99.588477</td>\n",
       "      <td>90.6893</td>\n",
       "      <td>542</td>\n",
       "    </tr>\n",
       "    <tr>\n",
       "      <th>31</th>\n",
       "      <td>HUM</td>\n",
       "      <td>563.00</td>\n",
       "      <td>459.45</td>\n",
       "      <td>0.225378</td>\n",
       "      <td>89.506173</td>\n",
       "      <td>433.78</td>\n",
       "      <td>0.297893</td>\n",
       "      <td>97.530864</td>\n",
       "      <td>481.80</td>\n",
       "      <td>0.168535</td>\n",
       "      <td>92.386831</td>\n",
       "      <td>499.52</td>\n",
       "      <td>0.127082</td>\n",
       "      <td>82.921811</td>\n",
       "      <td>90.58642</td>\n",
       "      <td>35</td>\n",
       "    </tr>\n",
       "    <tr>\n",
       "      <th>32</th>\n",
       "      <td>LLY</td>\n",
       "      <td>361.68</td>\n",
       "      <td>266.26</td>\n",
       "      <td>0.358372</td>\n",
       "      <td>93.82716</td>\n",
       "      <td>288.07</td>\n",
       "      <td>0.255528</td>\n",
       "      <td>95.26749</td>\n",
       "      <td>313.83</td>\n",
       "      <td>0.152471</td>\n",
       "      <td>90.946502</td>\n",
       "      <td>321.55</td>\n",
       "      <td>0.124802</td>\n",
       "      <td>81.481481</td>\n",
       "      <td>90.380658</td>\n",
       "      <td>55</td>\n",
       "    </tr>\n",
       "    <tr>\n",
       "      <th>33</th>\n",
       "      <td>ADM</td>\n",
       "      <td>96.28</td>\n",
       "      <td>64.90</td>\n",
       "      <td>0.483513</td>\n",
       "      <td>95.679012</td>\n",
       "      <td>89.76</td>\n",
       "      <td>0.072638</td>\n",
       "      <td>82.098765</td>\n",
       "      <td>82.25</td>\n",
       "      <td>0.170578</td>\n",
       "      <td>92.798354</td>\n",
       "      <td>83.03</td>\n",
       "      <td>0.159581</td>\n",
       "      <td>90.740741</td>\n",
       "      <td>90.329218</td>\n",
       "      <td>207</td>\n",
       "    </tr>\n",
       "    <tr>\n",
       "      <th>34</th>\n",
       "      <td>WRB</td>\n",
       "      <td>74.60</td>\n",
       "      <td>54.40</td>\n",
       "      <td>0.371324</td>\n",
       "      <td>94.032922</td>\n",
       "      <td>67.26</td>\n",
       "      <td>0.109129</td>\n",
       "      <td>84.773663</td>\n",
       "      <td>62.14</td>\n",
       "      <td>0.200515</td>\n",
       "      <td>94.444444</td>\n",
       "      <td>66.39</td>\n",
       "      <td>0.123663</td>\n",
       "      <td>81.27572</td>\n",
       "      <td>88.631687</td>\n",
       "      <td>268</td>\n",
       "    </tr>\n",
       "    <tr>\n",
       "      <th>35</th>\n",
       "      <td>AMGN</td>\n",
       "      <td>265.88</td>\n",
       "      <td>218.13</td>\n",
       "      <td>0.218906</td>\n",
       "      <td>89.09465</td>\n",
       "      <td>232.19</td>\n",
       "      <td>0.145097</td>\n",
       "      <td>89.917695</td>\n",
       "      <td>247.14</td>\n",
       "      <td>0.075827</td>\n",
       "      <td>82.510288</td>\n",
       "      <td>230.44</td>\n",
       "      <td>0.153793</td>\n",
       "      <td>88.683128</td>\n",
       "      <td>87.55144</td>\n",
       "      <td>75</td>\n",
       "    </tr>\n",
       "    <tr>\n",
       "      <th>36</th>\n",
       "      <td>AFL</td>\n",
       "      <td>65.97</td>\n",
       "      <td>56.06</td>\n",
       "      <td>0.176775</td>\n",
       "      <td>87.44856</td>\n",
       "      <td>57.92</td>\n",
       "      <td>0.138985</td>\n",
       "      <td>89.09465</td>\n",
       "      <td>59.01</td>\n",
       "      <td>0.117946</td>\n",
       "      <td>87.860082</td>\n",
       "      <td>57.86</td>\n",
       "      <td>0.140166</td>\n",
       "      <td>85.802469</td>\n",
       "      <td>87.55144</td>\n",
       "      <td>303</td>\n",
       "    </tr>\n",
       "    <tr>\n",
       "      <th>37</th>\n",
       "      <td>CAT</td>\n",
       "      <td>219.26</td>\n",
       "      <td>203.55</td>\n",
       "      <td>0.077180</td>\n",
       "      <td>80.864198</td>\n",
       "      <td>213.62</td>\n",
       "      <td>0.026402</td>\n",
       "      <td>73.45679</td>\n",
       "      <td>182.87</td>\n",
       "      <td>0.198994</td>\n",
       "      <td>94.238683</td>\n",
       "      <td>171.23</td>\n",
       "      <td>0.280500</td>\n",
       "      <td>98.765432</td>\n",
       "      <td>86.831276</td>\n",
       "      <td>91</td>\n",
       "    </tr>\n",
       "    <tr>\n",
       "      <th>38</th>\n",
       "      <td>DVN</td>\n",
       "      <td>70.73</td>\n",
       "      <td>41.97</td>\n",
       "      <td>0.685251</td>\n",
       "      <td>97.736626</td>\n",
       "      <td>64.28</td>\n",
       "      <td>0.100342</td>\n",
       "      <td>83.539095</td>\n",
       "      <td>56.70</td>\n",
       "      <td>0.247443</td>\n",
       "      <td>96.090535</td>\n",
       "      <td>65.33</td>\n",
       "      <td>0.082657</td>\n",
       "      <td>67.901235</td>\n",
       "      <td>86.316872</td>\n",
       "      <td>282</td>\n",
       "    </tr>\n",
       "    <tr>\n",
       "      <th>39</th>\n",
       "      <td>TRV</td>\n",
       "      <td>181.82</td>\n",
       "      <td>160.25</td>\n",
       "      <td>0.134602</td>\n",
       "      <td>84.567901</td>\n",
       "      <td>171.76</td>\n",
       "      <td>0.058570</td>\n",
       "      <td>79.423868</td>\n",
       "      <td>158.12</td>\n",
       "      <td>0.149886</td>\n",
       "      <td>90.740741</td>\n",
       "      <td>157.07</td>\n",
       "      <td>0.157573</td>\n",
       "      <td>89.917695</td>\n",
       "      <td>86.162551</td>\n",
       "      <td>109</td>\n",
       "    </tr>\n",
       "    <tr>\n",
       "      <th>40</th>\n",
       "      <td>LW</td>\n",
       "      <td>84.86</td>\n",
       "      <td>57.80</td>\n",
       "      <td>0.468166</td>\n",
       "      <td>95.473251</td>\n",
       "      <td>66.05</td>\n",
       "      <td>0.284784</td>\n",
       "      <td>96.502058</td>\n",
       "      <td>81.75</td>\n",
       "      <td>0.038043</td>\n",
       "      <td>76.748971</td>\n",
       "      <td>76.63</td>\n",
       "      <td>0.107399</td>\n",
       "      <td>75.514403</td>\n",
       "      <td>86.059671</td>\n",
       "      <td>235</td>\n",
       "    </tr>\n",
       "    <tr>\n",
       "      <th>41</th>\n",
       "      <td>NRG</td>\n",
       "      <td>43.63</td>\n",
       "      <td>40.00</td>\n",
       "      <td>0.090750</td>\n",
       "      <td>82.304527</td>\n",
       "      <td>37.10</td>\n",
       "      <td>0.176011</td>\n",
       "      <td>92.592593</td>\n",
       "      <td>37.37</td>\n",
       "      <td>0.167514</td>\n",
       "      <td>92.18107</td>\n",
       "      <td>39.34</td>\n",
       "      <td>0.109049</td>\n",
       "      <td>76.748971</td>\n",
       "      <td>85.95679</td>\n",
       "      <td>458</td>\n",
       "    </tr>\n",
       "    <tr>\n",
       "      <th>42</th>\n",
       "      <td>MRK</td>\n",
       "      <td>98.75</td>\n",
       "      <td>88.68</td>\n",
       "      <td>0.113554</td>\n",
       "      <td>83.127572</td>\n",
       "      <td>87.10</td>\n",
       "      <td>0.133754</td>\n",
       "      <td>87.242798</td>\n",
       "      <td>87.62</td>\n",
       "      <td>0.127026</td>\n",
       "      <td>88.683128</td>\n",
       "      <td>87.55</td>\n",
       "      <td>0.127927</td>\n",
       "      <td>83.333333</td>\n",
       "      <td>85.596708</td>\n",
       "      <td>202</td>\n",
       "    </tr>\n",
       "    <tr>\n",
       "      <th>43</th>\n",
       "      <td>AMP</td>\n",
       "      <td>307.92</td>\n",
       "      <td>310.24</td>\n",
       "      <td>-0.007478</td>\n",
       "      <td>72.633745</td>\n",
       "      <td>272.09</td>\n",
       "      <td>0.131684</td>\n",
       "      <td>86.625514</td>\n",
       "      <td>270.06</td>\n",
       "      <td>0.140191</td>\n",
       "      <td>89.917695</td>\n",
       "      <td>262.41</td>\n",
       "      <td>0.173431</td>\n",
       "      <td>92.592593</td>\n",
       "      <td>85.442387</td>\n",
       "      <td>64</td>\n",
       "    </tr>\n",
       "    <tr>\n",
       "      <th>44</th>\n",
       "      <td>AES</td>\n",
       "      <td>26.19</td>\n",
       "      <td>25.30</td>\n",
       "      <td>0.035178</td>\n",
       "      <td>76.131687</td>\n",
       "      <td>20.72</td>\n",
       "      <td>0.263996</td>\n",
       "      <td>95.884774</td>\n",
       "      <td>22.55</td>\n",
       "      <td>0.161419</td>\n",
       "      <td>91.563786</td>\n",
       "      <td>23.56</td>\n",
       "      <td>0.111630</td>\n",
       "      <td>77.572016</td>\n",
       "      <td>85.288066</td>\n",
       "      <td>763</td>\n",
       "    </tr>\n",
       "    <tr>\n",
       "      <th>45</th>\n",
       "      <td>TJX</td>\n",
       "      <td>71.20</td>\n",
       "      <td>68.43</td>\n",
       "      <td>0.040479</td>\n",
       "      <td>76.748971</td>\n",
       "      <td>62.02</td>\n",
       "      <td>0.148017</td>\n",
       "      <td>90.329218</td>\n",
       "      <td>63.22</td>\n",
       "      <td>0.126226</td>\n",
       "      <td>88.477366</td>\n",
       "      <td>62.90</td>\n",
       "      <td>0.131955</td>\n",
       "      <td>84.979424</td>\n",
       "      <td>85.133745</td>\n",
       "      <td>280</td>\n",
       "    </tr>\n",
       "    <tr>\n",
       "      <th>46</th>\n",
       "      <td>NOC</td>\n",
       "      <td>525.51</td>\n",
       "      <td>354.11</td>\n",
       "      <td>0.484030</td>\n",
       "      <td>95.884774</td>\n",
       "      <td>451.25</td>\n",
       "      <td>0.164565</td>\n",
       "      <td>91.358025</td>\n",
       "      <td>481.75</td>\n",
       "      <td>0.090835</td>\n",
       "      <td>83.950617</td>\n",
       "      <td>485.71</td>\n",
       "      <td>0.081942</td>\n",
       "      <td>67.695473</td>\n",
       "      <td>84.722222</td>\n",
       "      <td>38</td>\n",
       "    </tr>\n",
       "    <tr>\n",
       "      <th>47</th>\n",
       "      <td>GD</td>\n",
       "      <td>248.94</td>\n",
       "      <td>201.21</td>\n",
       "      <td>0.237215</td>\n",
       "      <td>90.534979</td>\n",
       "      <td>233.38</td>\n",
       "      <td>0.066672</td>\n",
       "      <td>80.658436</td>\n",
       "      <td>230.67</td>\n",
       "      <td>0.079204</td>\n",
       "      <td>83.539095</td>\n",
       "      <td>220.53</td>\n",
       "      <td>0.128826</td>\n",
       "      <td>83.744856</td>\n",
       "      <td>84.619342</td>\n",
       "      <td>80</td>\n",
       "    </tr>\n",
       "    <tr>\n",
       "      <th>48</th>\n",
       "      <td>GL</td>\n",
       "      <td>112.32</td>\n",
       "      <td>92.49</td>\n",
       "      <td>0.214402</td>\n",
       "      <td>88.683128</td>\n",
       "      <td>99.04</td>\n",
       "      <td>0.134087</td>\n",
       "      <td>87.44856</td>\n",
       "      <td>98.98</td>\n",
       "      <td>0.134775</td>\n",
       "      <td>89.711934</td>\n",
       "      <td>102.09</td>\n",
       "      <td>0.100206</td>\n",
       "      <td>72.222222</td>\n",
       "      <td>84.516461</td>\n",
       "      <td>178</td>\n",
       "    </tr>\n",
       "    <tr>\n",
       "      <th>49</th>\n",
       "      <td>PXD</td>\n",
       "      <td>255.64</td>\n",
       "      <td>189.83</td>\n",
       "      <td>0.346679</td>\n",
       "      <td>93.415638</td>\n",
       "      <td>243.70</td>\n",
       "      <td>0.048995</td>\n",
       "      <td>78.1893</td>\n",
       "      <td>220.68</td>\n",
       "      <td>0.158419</td>\n",
       "      <td>91.358025</td>\n",
       "      <td>231.44</td>\n",
       "      <td>0.104563</td>\n",
       "      <td>73.868313</td>\n",
       "      <td>84.207819</td>\n",
       "      <td>78</td>\n",
       "    </tr>\n",
       "  </tbody>\n",
       "</table>\n",
       "</div>"
      ],
      "text/plain": [
       "   Ticker  Price Today  One-Year Price  One-Year Return One-Year Percentile  \\\n",
       "0     COP       133.82           72.74         0.839703           99.176955   \n",
       "1     SLB        51.80           32.98         0.570649           97.119342   \n",
       "2     HES       142.10           81.62         0.740995           98.559671   \n",
       "3     MRO        31.42           16.49         0.905397           99.588477   \n",
       "4     XOM       111.10           63.93         0.737838           98.353909   \n",
       "5    FSLR       157.73          116.83         0.350081           93.621399   \n",
       "6    GILD        79.46           67.41         0.178757           87.654321   \n",
       "7     APA        47.29           27.63         0.711545           98.148148   \n",
       "8    FANG       158.53          111.81         0.417852           94.855967   \n",
       "9     MPC       118.20           63.68         0.856156           99.382716   \n",
       "10   ACGL        56.53           43.25         0.307052            92.18107   \n",
       "11    MCK       397.58          224.23         0.773090           98.765432   \n",
       "12    GPC       177.05          134.21         0.319201           92.798354   \n",
       "13    PCG        15.20           11.67         0.302485           91.769547   \n",
       "14    EOG       138.38           90.95         0.521495            96.91358   \n",
       "15     CI       324.24          218.25         0.485636           96.090535   \n",
       "16    PSX       103.12           78.94         0.306309           91.975309   \n",
       "17    OXY        72.16           33.85         1.131758               100.0   \n",
       "18   ORLY       819.37          621.57         0.318226           92.592593   \n",
       "19    PFG        86.51           69.16         0.250868           90.946502   \n",
       "20    CVX       181.13          113.01         0.602779           97.325103   \n",
       "21    CAH        75.67           50.40         0.501389           96.707819   \n",
       "22   CTVA        66.98           44.81         0.494756           96.502058   \n",
       "23    ROL        42.29           35.12         0.204157           88.477366   \n",
       "24    LMT       484.82          331.35         0.463166            95.26749   \n",
       "25   STLD        91.55           63.60         0.439465           95.061728   \n",
       "26    AZO      2478.46         1791.68         0.383316           94.444444   \n",
       "27    VLO       129.71           75.88         0.709410           97.942387   \n",
       "28    GWW       594.40          474.44         0.252845           91.358025   \n",
       "29    RJF       118.02          102.07         0.156265           85.802469   \n",
       "30    HAL        36.86           24.72         0.491100           96.296296   \n",
       "31    HUM       563.00          459.45         0.225378           89.506173   \n",
       "32    LLY       361.68          266.26         0.358372            93.82716   \n",
       "33    ADM        96.28           64.90         0.483513           95.679012   \n",
       "34    WRB        74.60           54.40         0.371324           94.032922   \n",
       "35   AMGN       265.88          218.13         0.218906            89.09465   \n",
       "36    AFL        65.97           56.06         0.176775            87.44856   \n",
       "37    CAT       219.26          203.55         0.077180           80.864198   \n",
       "38    DVN        70.73           41.97         0.685251           97.736626   \n",
       "39    TRV       181.82          160.25         0.134602           84.567901   \n",
       "40     LW        84.86           57.80         0.468166           95.473251   \n",
       "41    NRG        43.63           40.00         0.090750           82.304527   \n",
       "42    MRK        98.75           88.68         0.113554           83.127572   \n",
       "43    AMP       307.92          310.24        -0.007478           72.633745   \n",
       "44    AES        26.19           25.30         0.035178           76.131687   \n",
       "45    TJX        71.20           68.43         0.040479           76.748971   \n",
       "46    NOC       525.51          354.11         0.484030           95.884774   \n",
       "47     GD       248.94          201.21         0.237215           90.534979   \n",
       "48     GL       112.32           92.49         0.214402           88.683128   \n",
       "49    PXD       255.64          189.83         0.346679           93.415638   \n",
       "\n",
       "    Six-Month Price  Six-Month Return Six-Month Percentile  Three-Month Price  \\\n",
       "0             98.93          0.352674            98.971193              91.32   \n",
       "1             40.15          0.290162             96.91358              35.54   \n",
       "2            106.86          0.329777            98.353909             105.66   \n",
       "3             26.25          0.196952            93.621399              22.89   \n",
       "4             88.19          0.259780            95.473251              91.02   \n",
       "5             75.11          1.099987                100.0              97.89   \n",
       "6             60.33          0.317089            98.148148              62.27   \n",
       "7             42.52          0.112183            85.596708              34.43   \n",
       "8            136.11          0.164720            91.563786             121.38   \n",
       "9             92.65          0.275769            96.090535              92.68   \n",
       "10            46.43          0.217532            94.238683              43.50   \n",
       "11           307.81          0.291641            97.119342             327.10   \n",
       "12           131.77          0.343629            98.559671             151.03   \n",
       "13            12.72          0.194969            93.415638              11.12   \n",
       "14           120.76          0.145909            90.123457             103.61   \n",
       "15           247.29          0.311173            97.942387             271.74   \n",
       "16            90.79          0.135808            88.065844              85.51   \n",
       "17            59.24          0.218096            94.444444              60.99   \n",
       "18           603.49          0.357719            99.176955             705.37   \n",
       "19            69.86          0.238334            94.855967              68.05   \n",
       "20           162.49          0.114715            85.802469             155.36   \n",
       "21            58.79          0.287124            96.707819              60.17   \n",
       "22            57.26          0.169752            91.975309              55.70   \n",
       "23            32.71          0.292877            97.325103              38.26   \n",
       "24           434.77          0.115118             86.00823             429.30   \n",
       "25            86.36          0.060097            80.041152              76.36   \n",
       "26          1976.29          0.254097            95.061728            2148.03   \n",
       "27           121.40          0.068451            81.069959             107.81   \n",
       "28           483.99          0.228125            94.650206             543.02   \n",
       "29           100.35          0.176084            92.798354             100.11   \n",
       "30            36.67          0.005181            69.547325              28.43   \n",
       "31           433.78          0.297893            97.530864             481.80   \n",
       "32           288.07          0.255528             95.26749             313.83   \n",
       "33            89.76          0.072638            82.098765              82.25   \n",
       "34            67.26          0.109129            84.773663              62.14   \n",
       "35           232.19          0.145097            89.917695             247.14   \n",
       "36            57.92          0.138985             89.09465              59.01   \n",
       "37           213.62          0.026402             73.45679             182.87   \n",
       "38            64.28          0.100342            83.539095              56.70   \n",
       "39           171.76          0.058570            79.423868             158.12   \n",
       "40            66.05          0.284784            96.502058              81.75   \n",
       "41            37.10          0.176011            92.592593              37.37   \n",
       "42            87.10          0.133754            87.242798              87.62   \n",
       "43           272.09          0.131684            86.625514             270.06   \n",
       "44            20.72          0.263996            95.884774              22.55   \n",
       "45            62.02          0.148017            90.329218              63.22   \n",
       "46           451.25          0.164565            91.358025             481.75   \n",
       "47           233.38          0.066672            80.658436             230.67   \n",
       "48            99.04          0.134087             87.44856              98.98   \n",
       "49           243.70          0.048995              78.1893             220.68   \n",
       "\n",
       "    Three-Month Return Three-Month Percentile  One-Month Price  \\\n",
       "0             0.465396              99.794239           109.97   \n",
       "1             0.457513              99.588477            38.30   \n",
       "2             0.344880              98.559671           116.80   \n",
       "3             0.372652              98.971193            24.97   \n",
       "4             0.220611              95.679012            91.92   \n",
       "5             0.611298                  100.0           136.62   \n",
       "6             0.276056              97.119342            62.32   \n",
       "7             0.373511              99.176955            37.30   \n",
       "8             0.306064              97.736626           129.52   \n",
       "9             0.275356               96.91358           102.79   \n",
       "10            0.299540              97.530864            46.33   \n",
       "11            0.215469              95.473251           346.74   \n",
       "12            0.172284              93.004115           152.91   \n",
       "13            0.366906              98.765432            13.11   \n",
       "14            0.335585              98.353909           119.93   \n",
       "15            0.193199               93.82716           287.22   \n",
       "16            0.205941              95.061728            84.58   \n",
       "17            0.183145              93.415638            64.06   \n",
       "18            0.161617              91.769547           718.19   \n",
       "19            0.271271              96.707819            75.55   \n",
       "20            0.165873              91.975309           151.73   \n",
       "21            0.257603              96.296296            67.97   \n",
       "22            0.202513              94.650206            59.18   \n",
       "23            0.105332              85.802469            35.38   \n",
       "24            0.129327               89.09465           399.74   \n",
       "25            0.198926              94.032922            75.39   \n",
       "26            0.153829              91.152263          2197.71   \n",
       "27            0.203135              94.855967           112.31   \n",
       "28            0.094619              84.567901           506.82   \n",
       "29            0.178903              93.209877           101.42   \n",
       "30            0.296518              97.325103            26.38   \n",
       "31            0.168535              92.386831           499.52   \n",
       "32            0.152471              90.946502           321.55   \n",
       "33            0.170578              92.798354            83.03   \n",
       "34            0.200515              94.444444            66.39   \n",
       "35            0.075827              82.510288           230.44   \n",
       "36            0.117946              87.860082            57.86   \n",
       "37            0.198994              94.238683           171.23   \n",
       "38            0.247443              96.090535            65.33   \n",
       "39            0.149886              90.740741           157.07   \n",
       "40            0.038043              76.748971            76.63   \n",
       "41            0.167514               92.18107            39.34   \n",
       "42            0.127026              88.683128            87.55   \n",
       "43            0.140191              89.917695           262.41   \n",
       "44            0.161419              91.563786            23.56   \n",
       "45            0.126226              88.477366            62.90   \n",
       "46            0.090835              83.950617           485.71   \n",
       "47            0.079204              83.539095           220.53   \n",
       "48            0.134775              89.711934           102.09   \n",
       "49            0.158419              91.358025           231.44   \n",
       "\n",
       "    One-Month Return One-Month Percentile  HQM Score Number of Shares to Buy  \n",
       "0           0.216877            95.679012   98.40535                     149  \n",
       "1           0.352480            99.382716  98.251029                     386  \n",
       "2           0.216610            95.473251  97.736626                     140  \n",
       "3           0.258310            97.530864  97.427984                     636  \n",
       "4           0.208660            94.650206  96.039095                     180  \n",
       "5           0.154516            89.300412  95.730453                     126  \n",
       "6           0.275032            98.559671   95.37037                     251  \n",
       "7           0.267828            97.942387  95.216049                     422  \n",
       "8           0.223981            96.502058  95.164609                     126  \n",
       "9           0.149917            88.065844  95.113169                     169  \n",
       "10          0.220160            96.296296  95.061728                     353  \n",
       "11          0.146623            87.860082  94.804527                      50  \n",
       "12          0.157871            90.329218   93.67284                     112  \n",
       "13          0.159420            90.534979  93.621399                    1315  \n",
       "14          0.153840            88.888889  93.569959                     144  \n",
       "15          0.128891            83.950617  92.952675                      61  \n",
       "16          0.219201            96.090535  92.798354                     193  \n",
       "17          0.126444            82.510288  92.592593                     277  \n",
       "18          0.140882            86.419753  92.489712                      24  \n",
       "19          0.145069            87.242798  92.438272                     231  \n",
       "20          0.193765            94.032922  92.283951                     110  \n",
       "21          0.113285            78.395062  92.026749                     264  \n",
       "22          0.131801            84.567901  91.923868                     298  \n",
       "23          0.195308            94.238683  91.460905                     472  \n",
       "24          0.212838            95.061728  91.358025                      41  \n",
       "25          0.214352             95.26749  91.100823                     218  \n",
       "26          0.127747            83.127572  90.946502                       8  \n",
       "27          0.154928            89.506173  90.843621                     154  \n",
       "28          0.172803            92.386831  90.740741                      33  \n",
       "29          0.163676            91.152263  90.740741                     169  \n",
       "30          0.397271            99.588477    90.6893                     542  \n",
       "31          0.127082            82.921811   90.58642                      35  \n",
       "32          0.124802            81.481481  90.380658                      55  \n",
       "33          0.159581            90.740741  90.329218                     207  \n",
       "34          0.123663             81.27572  88.631687                     268  \n",
       "35          0.153793            88.683128   87.55144                      75  \n",
       "36          0.140166            85.802469   87.55144                     303  \n",
       "37          0.280500            98.765432  86.831276                      91  \n",
       "38          0.082657            67.901235  86.316872                     282  \n",
       "39          0.157573            89.917695  86.162551                     109  \n",
       "40          0.107399            75.514403  86.059671                     235  \n",
       "41          0.109049            76.748971   85.95679                     458  \n",
       "42          0.127927            83.333333  85.596708                     202  \n",
       "43          0.173431            92.592593  85.442387                      64  \n",
       "44          0.111630            77.572016  85.288066                     763  \n",
       "45          0.131955            84.979424  85.133745                     280  \n",
       "46          0.081942            67.695473  84.722222                      38  \n",
       "47          0.128826            83.744856  84.619342                      80  \n",
       "48          0.100206            72.222222  84.516461                     178  \n",
       "49          0.104563            73.868313  84.207819                      78  "
      ]
     },
     "execution_count": 10,
     "metadata": {},
     "output_type": "execute_result"
    }
   ],
   "source": [
    "for i in range(0, len(backtest_df)):\n",
    "\n",
    "    backtest_df.loc[i, 'Number of Shares to Buy'] = math.floor(position_size / backtest_df.loc[i, 'Price Today'])\n",
    "\n",
    "backtest_df"
   ]
  },
  {
   "cell_type": "code",
   "execution_count": 11,
   "metadata": {},
   "outputs": [],
   "source": [
    "act_columns = ['Ticker', 'Price 11-03-2022', 'Price 11-03-2023', 'One-Year Return']\n",
    "\n",
    "actual_df = pd.DataFrame(columns = act_columns)"
   ]
  },
  {
   "cell_type": "code",
   "execution_count": 12,
   "metadata": {},
   "outputs": [
    {
     "name": "stdout",
     "output_type": "stream",
     "text": [
      "COP\n"
     ]
    },
    {
     "name": "stderr",
     "output_type": "stream",
     "text": [
      "/tmp/ipykernel_540/700453086.py:22: FutureWarning: The frame.append method is deprecated and will be removed from pandas in a future version. Use pandas.concat instead.\n",
      "  actual_df = actual_df.append(pd.Series([stk, start_price, new_price, act_return], index = act_columns), ignore_index = True)\n"
     ]
    },
    {
     "name": "stdout",
     "output_type": "stream",
     "text": [
      "SLB\n"
     ]
    },
    {
     "name": "stderr",
     "output_type": "stream",
     "text": [
      "/tmp/ipykernel_540/700453086.py:22: FutureWarning: The frame.append method is deprecated and will be removed from pandas in a future version. Use pandas.concat instead.\n",
      "  actual_df = actual_df.append(pd.Series([stk, start_price, new_price, act_return], index = act_columns), ignore_index = True)\n"
     ]
    },
    {
     "name": "stdout",
     "output_type": "stream",
     "text": [
      "HES\n"
     ]
    },
    {
     "name": "stderr",
     "output_type": "stream",
     "text": [
      "/tmp/ipykernel_540/700453086.py:22: FutureWarning: The frame.append method is deprecated and will be removed from pandas in a future version. Use pandas.concat instead.\n",
      "  actual_df = actual_df.append(pd.Series([stk, start_price, new_price, act_return], index = act_columns), ignore_index = True)\n"
     ]
    },
    {
     "name": "stdout",
     "output_type": "stream",
     "text": [
      "MRO\n"
     ]
    },
    {
     "name": "stderr",
     "output_type": "stream",
     "text": [
      "/tmp/ipykernel_540/700453086.py:22: FutureWarning: The frame.append method is deprecated and will be removed from pandas in a future version. Use pandas.concat instead.\n",
      "  actual_df = actual_df.append(pd.Series([stk, start_price, new_price, act_return], index = act_columns), ignore_index = True)\n"
     ]
    },
    {
     "name": "stdout",
     "output_type": "stream",
     "text": [
      "XOM\n"
     ]
    },
    {
     "name": "stderr",
     "output_type": "stream",
     "text": [
      "/tmp/ipykernel_540/700453086.py:22: FutureWarning: The frame.append method is deprecated and will be removed from pandas in a future version. Use pandas.concat instead.\n",
      "  actual_df = actual_df.append(pd.Series([stk, start_price, new_price, act_return], index = act_columns), ignore_index = True)\n"
     ]
    },
    {
     "name": "stdout",
     "output_type": "stream",
     "text": [
      "FSLR\n"
     ]
    },
    {
     "name": "stderr",
     "output_type": "stream",
     "text": [
      "/tmp/ipykernel_540/700453086.py:22: FutureWarning: The frame.append method is deprecated and will be removed from pandas in a future version. Use pandas.concat instead.\n",
      "  actual_df = actual_df.append(pd.Series([stk, start_price, new_price, act_return], index = act_columns), ignore_index = True)\n"
     ]
    },
    {
     "name": "stdout",
     "output_type": "stream",
     "text": [
      "GILD\n"
     ]
    },
    {
     "name": "stderr",
     "output_type": "stream",
     "text": [
      "/tmp/ipykernel_540/700453086.py:22: FutureWarning: The frame.append method is deprecated and will be removed from pandas in a future version. Use pandas.concat instead.\n",
      "  actual_df = actual_df.append(pd.Series([stk, start_price, new_price, act_return], index = act_columns), ignore_index = True)\n"
     ]
    },
    {
     "name": "stdout",
     "output_type": "stream",
     "text": [
      "APA\n"
     ]
    },
    {
     "name": "stderr",
     "output_type": "stream",
     "text": [
      "/tmp/ipykernel_540/700453086.py:22: FutureWarning: The frame.append method is deprecated and will be removed from pandas in a future version. Use pandas.concat instead.\n",
      "  actual_df = actual_df.append(pd.Series([stk, start_price, new_price, act_return], index = act_columns), ignore_index = True)\n"
     ]
    },
    {
     "name": "stdout",
     "output_type": "stream",
     "text": [
      "FANG\n"
     ]
    },
    {
     "name": "stderr",
     "output_type": "stream",
     "text": [
      "/tmp/ipykernel_540/700453086.py:22: FutureWarning: The frame.append method is deprecated and will be removed from pandas in a future version. Use pandas.concat instead.\n",
      "  actual_df = actual_df.append(pd.Series([stk, start_price, new_price, act_return], index = act_columns), ignore_index = True)\n"
     ]
    },
    {
     "name": "stdout",
     "output_type": "stream",
     "text": [
      "MPC\n"
     ]
    },
    {
     "name": "stderr",
     "output_type": "stream",
     "text": [
      "/tmp/ipykernel_540/700453086.py:22: FutureWarning: The frame.append method is deprecated and will be removed from pandas in a future version. Use pandas.concat instead.\n",
      "  actual_df = actual_df.append(pd.Series([stk, start_price, new_price, act_return], index = act_columns), ignore_index = True)\n"
     ]
    },
    {
     "name": "stdout",
     "output_type": "stream",
     "text": [
      "ACGL\n"
     ]
    },
    {
     "name": "stderr",
     "output_type": "stream",
     "text": [
      "/tmp/ipykernel_540/700453086.py:22: FutureWarning: The frame.append method is deprecated and will be removed from pandas in a future version. Use pandas.concat instead.\n",
      "  actual_df = actual_df.append(pd.Series([stk, start_price, new_price, act_return], index = act_columns), ignore_index = True)\n"
     ]
    },
    {
     "name": "stdout",
     "output_type": "stream",
     "text": [
      "MCK\n"
     ]
    },
    {
     "name": "stderr",
     "output_type": "stream",
     "text": [
      "/tmp/ipykernel_540/700453086.py:22: FutureWarning: The frame.append method is deprecated and will be removed from pandas in a future version. Use pandas.concat instead.\n",
      "  actual_df = actual_df.append(pd.Series([stk, start_price, new_price, act_return], index = act_columns), ignore_index = True)\n"
     ]
    },
    {
     "name": "stdout",
     "output_type": "stream",
     "text": [
      "GPC\n"
     ]
    },
    {
     "name": "stderr",
     "output_type": "stream",
     "text": [
      "/tmp/ipykernel_540/700453086.py:22: FutureWarning: The frame.append method is deprecated and will be removed from pandas in a future version. Use pandas.concat instead.\n",
      "  actual_df = actual_df.append(pd.Series([stk, start_price, new_price, act_return], index = act_columns), ignore_index = True)\n"
     ]
    },
    {
     "name": "stdout",
     "output_type": "stream",
     "text": [
      "PCG\n"
     ]
    },
    {
     "name": "stderr",
     "output_type": "stream",
     "text": [
      "/tmp/ipykernel_540/700453086.py:22: FutureWarning: The frame.append method is deprecated and will be removed from pandas in a future version. Use pandas.concat instead.\n",
      "  actual_df = actual_df.append(pd.Series([stk, start_price, new_price, act_return], index = act_columns), ignore_index = True)\n"
     ]
    },
    {
     "name": "stdout",
     "output_type": "stream",
     "text": [
      "EOG\n"
     ]
    },
    {
     "name": "stderr",
     "output_type": "stream",
     "text": [
      "/tmp/ipykernel_540/700453086.py:22: FutureWarning: The frame.append method is deprecated and will be removed from pandas in a future version. Use pandas.concat instead.\n",
      "  actual_df = actual_df.append(pd.Series([stk, start_price, new_price, act_return], index = act_columns), ignore_index = True)\n"
     ]
    },
    {
     "name": "stdout",
     "output_type": "stream",
     "text": [
      "CI\n"
     ]
    },
    {
     "name": "stderr",
     "output_type": "stream",
     "text": [
      "/tmp/ipykernel_540/700453086.py:22: FutureWarning: The frame.append method is deprecated and will be removed from pandas in a future version. Use pandas.concat instead.\n",
      "  actual_df = actual_df.append(pd.Series([stk, start_price, new_price, act_return], index = act_columns), ignore_index = True)\n"
     ]
    },
    {
     "name": "stdout",
     "output_type": "stream",
     "text": [
      "PSX\n"
     ]
    },
    {
     "name": "stderr",
     "output_type": "stream",
     "text": [
      "/tmp/ipykernel_540/700453086.py:22: FutureWarning: The frame.append method is deprecated and will be removed from pandas in a future version. Use pandas.concat instead.\n",
      "  actual_df = actual_df.append(pd.Series([stk, start_price, new_price, act_return], index = act_columns), ignore_index = True)\n"
     ]
    },
    {
     "name": "stdout",
     "output_type": "stream",
     "text": [
      "OXY\n"
     ]
    },
    {
     "name": "stderr",
     "output_type": "stream",
     "text": [
      "/tmp/ipykernel_540/700453086.py:22: FutureWarning: The frame.append method is deprecated and will be removed from pandas in a future version. Use pandas.concat instead.\n",
      "  actual_df = actual_df.append(pd.Series([stk, start_price, new_price, act_return], index = act_columns), ignore_index = True)\n"
     ]
    },
    {
     "name": "stdout",
     "output_type": "stream",
     "text": [
      "ORLY\n"
     ]
    },
    {
     "name": "stderr",
     "output_type": "stream",
     "text": [
      "/tmp/ipykernel_540/700453086.py:22: FutureWarning: The frame.append method is deprecated and will be removed from pandas in a future version. Use pandas.concat instead.\n",
      "  actual_df = actual_df.append(pd.Series([stk, start_price, new_price, act_return], index = act_columns), ignore_index = True)\n"
     ]
    },
    {
     "name": "stdout",
     "output_type": "stream",
     "text": [
      "PFG\n"
     ]
    },
    {
     "name": "stderr",
     "output_type": "stream",
     "text": [
      "/tmp/ipykernel_540/700453086.py:22: FutureWarning: The frame.append method is deprecated and will be removed from pandas in a future version. Use pandas.concat instead.\n",
      "  actual_df = actual_df.append(pd.Series([stk, start_price, new_price, act_return], index = act_columns), ignore_index = True)\n"
     ]
    },
    {
     "name": "stdout",
     "output_type": "stream",
     "text": [
      "CVX\n"
     ]
    },
    {
     "name": "stderr",
     "output_type": "stream",
     "text": [
      "/tmp/ipykernel_540/700453086.py:22: FutureWarning: The frame.append method is deprecated and will be removed from pandas in a future version. Use pandas.concat instead.\n",
      "  actual_df = actual_df.append(pd.Series([stk, start_price, new_price, act_return], index = act_columns), ignore_index = True)\n"
     ]
    },
    {
     "name": "stdout",
     "output_type": "stream",
     "text": [
      "CAH\n"
     ]
    },
    {
     "name": "stderr",
     "output_type": "stream",
     "text": [
      "/tmp/ipykernel_540/700453086.py:22: FutureWarning: The frame.append method is deprecated and will be removed from pandas in a future version. Use pandas.concat instead.\n",
      "  actual_df = actual_df.append(pd.Series([stk, start_price, new_price, act_return], index = act_columns), ignore_index = True)\n"
     ]
    },
    {
     "name": "stdout",
     "output_type": "stream",
     "text": [
      "CTVA\n"
     ]
    },
    {
     "name": "stderr",
     "output_type": "stream",
     "text": [
      "/tmp/ipykernel_540/700453086.py:22: FutureWarning: The frame.append method is deprecated and will be removed from pandas in a future version. Use pandas.concat instead.\n",
      "  actual_df = actual_df.append(pd.Series([stk, start_price, new_price, act_return], index = act_columns), ignore_index = True)\n"
     ]
    },
    {
     "name": "stdout",
     "output_type": "stream",
     "text": [
      "ROL\n"
     ]
    },
    {
     "name": "stderr",
     "output_type": "stream",
     "text": [
      "/tmp/ipykernel_540/700453086.py:22: FutureWarning: The frame.append method is deprecated and will be removed from pandas in a future version. Use pandas.concat instead.\n",
      "  actual_df = actual_df.append(pd.Series([stk, start_price, new_price, act_return], index = act_columns), ignore_index = True)\n"
     ]
    },
    {
     "name": "stdout",
     "output_type": "stream",
     "text": [
      "LMT\n"
     ]
    },
    {
     "name": "stderr",
     "output_type": "stream",
     "text": [
      "/tmp/ipykernel_540/700453086.py:22: FutureWarning: The frame.append method is deprecated and will be removed from pandas in a future version. Use pandas.concat instead.\n",
      "  actual_df = actual_df.append(pd.Series([stk, start_price, new_price, act_return], index = act_columns), ignore_index = True)\n"
     ]
    },
    {
     "name": "stdout",
     "output_type": "stream",
     "text": [
      "STLD\n"
     ]
    },
    {
     "name": "stderr",
     "output_type": "stream",
     "text": [
      "/tmp/ipykernel_540/700453086.py:22: FutureWarning: The frame.append method is deprecated and will be removed from pandas in a future version. Use pandas.concat instead.\n",
      "  actual_df = actual_df.append(pd.Series([stk, start_price, new_price, act_return], index = act_columns), ignore_index = True)\n"
     ]
    },
    {
     "name": "stdout",
     "output_type": "stream",
     "text": [
      "AZO\n"
     ]
    },
    {
     "name": "stderr",
     "output_type": "stream",
     "text": [
      "/tmp/ipykernel_540/700453086.py:22: FutureWarning: The frame.append method is deprecated and will be removed from pandas in a future version. Use pandas.concat instead.\n",
      "  actual_df = actual_df.append(pd.Series([stk, start_price, new_price, act_return], index = act_columns), ignore_index = True)\n"
     ]
    },
    {
     "name": "stdout",
     "output_type": "stream",
     "text": [
      "VLO\n"
     ]
    },
    {
     "name": "stderr",
     "output_type": "stream",
     "text": [
      "/tmp/ipykernel_540/700453086.py:22: FutureWarning: The frame.append method is deprecated and will be removed from pandas in a future version. Use pandas.concat instead.\n",
      "  actual_df = actual_df.append(pd.Series([stk, start_price, new_price, act_return], index = act_columns), ignore_index = True)\n"
     ]
    },
    {
     "name": "stdout",
     "output_type": "stream",
     "text": [
      "GWW\n"
     ]
    },
    {
     "name": "stderr",
     "output_type": "stream",
     "text": [
      "/tmp/ipykernel_540/700453086.py:22: FutureWarning: The frame.append method is deprecated and will be removed from pandas in a future version. Use pandas.concat instead.\n",
      "  actual_df = actual_df.append(pd.Series([stk, start_price, new_price, act_return], index = act_columns), ignore_index = True)\n"
     ]
    },
    {
     "name": "stdout",
     "output_type": "stream",
     "text": [
      "RJF\n"
     ]
    },
    {
     "name": "stderr",
     "output_type": "stream",
     "text": [
      "/tmp/ipykernel_540/700453086.py:22: FutureWarning: The frame.append method is deprecated and will be removed from pandas in a future version. Use pandas.concat instead.\n",
      "  actual_df = actual_df.append(pd.Series([stk, start_price, new_price, act_return], index = act_columns), ignore_index = True)\n"
     ]
    },
    {
     "name": "stdout",
     "output_type": "stream",
     "text": [
      "HAL\n"
     ]
    },
    {
     "name": "stderr",
     "output_type": "stream",
     "text": [
      "/tmp/ipykernel_540/700453086.py:22: FutureWarning: The frame.append method is deprecated and will be removed from pandas in a future version. Use pandas.concat instead.\n",
      "  actual_df = actual_df.append(pd.Series([stk, start_price, new_price, act_return], index = act_columns), ignore_index = True)\n"
     ]
    },
    {
     "name": "stdout",
     "output_type": "stream",
     "text": [
      "HUM\n"
     ]
    },
    {
     "name": "stderr",
     "output_type": "stream",
     "text": [
      "/tmp/ipykernel_540/700453086.py:22: FutureWarning: The frame.append method is deprecated and will be removed from pandas in a future version. Use pandas.concat instead.\n",
      "  actual_df = actual_df.append(pd.Series([stk, start_price, new_price, act_return], index = act_columns), ignore_index = True)\n"
     ]
    },
    {
     "name": "stdout",
     "output_type": "stream",
     "text": [
      "LLY\n"
     ]
    },
    {
     "name": "stderr",
     "output_type": "stream",
     "text": [
      "/tmp/ipykernel_540/700453086.py:22: FutureWarning: The frame.append method is deprecated and will be removed from pandas in a future version. Use pandas.concat instead.\n",
      "  actual_df = actual_df.append(pd.Series([stk, start_price, new_price, act_return], index = act_columns), ignore_index = True)\n"
     ]
    },
    {
     "name": "stdout",
     "output_type": "stream",
     "text": [
      "ADM\n"
     ]
    },
    {
     "name": "stderr",
     "output_type": "stream",
     "text": [
      "/tmp/ipykernel_540/700453086.py:22: FutureWarning: The frame.append method is deprecated and will be removed from pandas in a future version. Use pandas.concat instead.\n",
      "  actual_df = actual_df.append(pd.Series([stk, start_price, new_price, act_return], index = act_columns), ignore_index = True)\n"
     ]
    },
    {
     "name": "stdout",
     "output_type": "stream",
     "text": [
      "WRB\n"
     ]
    },
    {
     "name": "stderr",
     "output_type": "stream",
     "text": [
      "/tmp/ipykernel_540/700453086.py:22: FutureWarning: The frame.append method is deprecated and will be removed from pandas in a future version. Use pandas.concat instead.\n",
      "  actual_df = actual_df.append(pd.Series([stk, start_price, new_price, act_return], index = act_columns), ignore_index = True)\n"
     ]
    },
    {
     "name": "stdout",
     "output_type": "stream",
     "text": [
      "AMGN\n"
     ]
    },
    {
     "name": "stderr",
     "output_type": "stream",
     "text": [
      "/tmp/ipykernel_540/700453086.py:22: FutureWarning: The frame.append method is deprecated and will be removed from pandas in a future version. Use pandas.concat instead.\n",
      "  actual_df = actual_df.append(pd.Series([stk, start_price, new_price, act_return], index = act_columns), ignore_index = True)\n"
     ]
    },
    {
     "name": "stdout",
     "output_type": "stream",
     "text": [
      "AFL\n"
     ]
    },
    {
     "name": "stderr",
     "output_type": "stream",
     "text": [
      "/tmp/ipykernel_540/700453086.py:22: FutureWarning: The frame.append method is deprecated and will be removed from pandas in a future version. Use pandas.concat instead.\n",
      "  actual_df = actual_df.append(pd.Series([stk, start_price, new_price, act_return], index = act_columns), ignore_index = True)\n"
     ]
    },
    {
     "name": "stdout",
     "output_type": "stream",
     "text": [
      "CAT\n"
     ]
    },
    {
     "name": "stderr",
     "output_type": "stream",
     "text": [
      "/tmp/ipykernel_540/700453086.py:22: FutureWarning: The frame.append method is deprecated and will be removed from pandas in a future version. Use pandas.concat instead.\n",
      "  actual_df = actual_df.append(pd.Series([stk, start_price, new_price, act_return], index = act_columns), ignore_index = True)\n"
     ]
    },
    {
     "name": "stdout",
     "output_type": "stream",
     "text": [
      "DVN\n"
     ]
    },
    {
     "name": "stderr",
     "output_type": "stream",
     "text": [
      "/tmp/ipykernel_540/700453086.py:22: FutureWarning: The frame.append method is deprecated and will be removed from pandas in a future version. Use pandas.concat instead.\n",
      "  actual_df = actual_df.append(pd.Series([stk, start_price, new_price, act_return], index = act_columns), ignore_index = True)\n"
     ]
    },
    {
     "name": "stdout",
     "output_type": "stream",
     "text": [
      "TRV\n"
     ]
    },
    {
     "name": "stderr",
     "output_type": "stream",
     "text": [
      "/tmp/ipykernel_540/700453086.py:22: FutureWarning: The frame.append method is deprecated and will be removed from pandas in a future version. Use pandas.concat instead.\n",
      "  actual_df = actual_df.append(pd.Series([stk, start_price, new_price, act_return], index = act_columns), ignore_index = True)\n"
     ]
    },
    {
     "name": "stdout",
     "output_type": "stream",
     "text": [
      "LW\n"
     ]
    },
    {
     "name": "stderr",
     "output_type": "stream",
     "text": [
      "/tmp/ipykernel_540/700453086.py:22: FutureWarning: The frame.append method is deprecated and will be removed from pandas in a future version. Use pandas.concat instead.\n",
      "  actual_df = actual_df.append(pd.Series([stk, start_price, new_price, act_return], index = act_columns), ignore_index = True)\n"
     ]
    },
    {
     "name": "stdout",
     "output_type": "stream",
     "text": [
      "NRG\n"
     ]
    },
    {
     "name": "stderr",
     "output_type": "stream",
     "text": [
      "/tmp/ipykernel_540/700453086.py:22: FutureWarning: The frame.append method is deprecated and will be removed from pandas in a future version. Use pandas.concat instead.\n",
      "  actual_df = actual_df.append(pd.Series([stk, start_price, new_price, act_return], index = act_columns), ignore_index = True)\n"
     ]
    },
    {
     "name": "stdout",
     "output_type": "stream",
     "text": [
      "MRK\n"
     ]
    },
    {
     "name": "stderr",
     "output_type": "stream",
     "text": [
      "/tmp/ipykernel_540/700453086.py:22: FutureWarning: The frame.append method is deprecated and will be removed from pandas in a future version. Use pandas.concat instead.\n",
      "  actual_df = actual_df.append(pd.Series([stk, start_price, new_price, act_return], index = act_columns), ignore_index = True)\n"
     ]
    },
    {
     "name": "stdout",
     "output_type": "stream",
     "text": [
      "AMP\n"
     ]
    },
    {
     "name": "stderr",
     "output_type": "stream",
     "text": [
      "/tmp/ipykernel_540/700453086.py:22: FutureWarning: The frame.append method is deprecated and will be removed from pandas in a future version. Use pandas.concat instead.\n",
      "  actual_df = actual_df.append(pd.Series([stk, start_price, new_price, act_return], index = act_columns), ignore_index = True)\n"
     ]
    },
    {
     "name": "stdout",
     "output_type": "stream",
     "text": [
      "AES\n"
     ]
    },
    {
     "name": "stderr",
     "output_type": "stream",
     "text": [
      "/tmp/ipykernel_540/700453086.py:22: FutureWarning: The frame.append method is deprecated and will be removed from pandas in a future version. Use pandas.concat instead.\n",
      "  actual_df = actual_df.append(pd.Series([stk, start_price, new_price, act_return], index = act_columns), ignore_index = True)\n"
     ]
    },
    {
     "name": "stdout",
     "output_type": "stream",
     "text": [
      "TJX\n"
     ]
    },
    {
     "name": "stderr",
     "output_type": "stream",
     "text": [
      "/tmp/ipykernel_540/700453086.py:22: FutureWarning: The frame.append method is deprecated and will be removed from pandas in a future version. Use pandas.concat instead.\n",
      "  actual_df = actual_df.append(pd.Series([stk, start_price, new_price, act_return], index = act_columns), ignore_index = True)\n"
     ]
    },
    {
     "name": "stdout",
     "output_type": "stream",
     "text": [
      "NOC\n"
     ]
    },
    {
     "name": "stderr",
     "output_type": "stream",
     "text": [
      "/tmp/ipykernel_540/700453086.py:22: FutureWarning: The frame.append method is deprecated and will be removed from pandas in a future version. Use pandas.concat instead.\n",
      "  actual_df = actual_df.append(pd.Series([stk, start_price, new_price, act_return], index = act_columns), ignore_index = True)\n"
     ]
    },
    {
     "name": "stdout",
     "output_type": "stream",
     "text": [
      "GD\n"
     ]
    },
    {
     "name": "stderr",
     "output_type": "stream",
     "text": [
      "/tmp/ipykernel_540/700453086.py:22: FutureWarning: The frame.append method is deprecated and will be removed from pandas in a future version. Use pandas.concat instead.\n",
      "  actual_df = actual_df.append(pd.Series([stk, start_price, new_price, act_return], index = act_columns), ignore_index = True)\n"
     ]
    },
    {
     "name": "stdout",
     "output_type": "stream",
     "text": [
      "GL\n"
     ]
    },
    {
     "name": "stderr",
     "output_type": "stream",
     "text": [
      "/tmp/ipykernel_540/700453086.py:22: FutureWarning: The frame.append method is deprecated and will be removed from pandas in a future version. Use pandas.concat instead.\n",
      "  actual_df = actual_df.append(pd.Series([stk, start_price, new_price, act_return], index = act_columns), ignore_index = True)\n"
     ]
    },
    {
     "name": "stdout",
     "output_type": "stream",
     "text": [
      "PXD\n"
     ]
    },
    {
     "name": "stderr",
     "output_type": "stream",
     "text": [
      "/tmp/ipykernel_540/700453086.py:22: FutureWarning: The frame.append method is deprecated and will be removed from pandas in a future version. Use pandas.concat instead.\n",
      "  actual_df = actual_df.append(pd.Series([stk, start_price, new_price, act_return], index = act_columns), ignore_index = True)\n"
     ]
    }
   ],
   "source": [
    "start_date = '2022-11-03'\n",
    "new_date = '2023-11-03'\n",
    "\n",
    "for stk in backtest_df['Ticker']:\n",
    "\n",
    "    print(stk)\n",
    "\n",
    "    start_api = f'https://api.polygon.io/v2/aggs/ticker/{stk}/range/1/day/{start_date}/{start_date}?apiKey={POLYGON_API_KEY}'\n",
    "    start_data = requests.get(start_api).json()\n",
    "    start_results0 = start_data['results']\n",
    "    start_results1 = start_results0[0]\n",
    "    start_price = start_results1['c']\n",
    "\n",
    "    new_api = f'https://api.polygon.io/v2/aggs/ticker/{stk}/range/1/day/{new_date}/{new_date}?apiKey={POLYGON_API_KEY}'\n",
    "    new_data = requests.get(new_api).json()\n",
    "    new_results0 = new_data['results']\n",
    "    new_results1 = new_results0[0]\n",
    "    new_price = new_results1['c']\n",
    "\n",
    "    act_return = (new_price - start_price) / start_price\n",
    "\n",
    "    actual_df = actual_df.append(pd.Series([stk, start_price, new_price, act_return], index = act_columns), ignore_index = True)"
   ]
  },
  {
   "cell_type": "code",
   "execution_count": 13,
   "metadata": {},
   "outputs": [
    {
     "data": {
      "text/html": [
       "<div>\n",
       "<style scoped>\n",
       "    .dataframe tbody tr th:only-of-type {\n",
       "        vertical-align: middle;\n",
       "    }\n",
       "\n",
       "    .dataframe tbody tr th {\n",
       "        vertical-align: top;\n",
       "    }\n",
       "\n",
       "    .dataframe thead th {\n",
       "        text-align: right;\n",
       "    }\n",
       "</style>\n",
       "<table border=\"1\" class=\"dataframe\">\n",
       "  <thead>\n",
       "    <tr style=\"text-align: right;\">\n",
       "      <th></th>\n",
       "      <th>Ticker</th>\n",
       "      <th>Price 11-03-2022</th>\n",
       "      <th>Price 11-03-2023</th>\n",
       "      <th>One-Year Return</th>\n",
       "    </tr>\n",
       "  </thead>\n",
       "  <tbody>\n",
       "    <tr>\n",
       "      <th>0</th>\n",
       "      <td>COP</td>\n",
       "      <td>133.82</td>\n",
       "      <td>119.75</td>\n",
       "      <td>-0.105141</td>\n",
       "    </tr>\n",
       "    <tr>\n",
       "      <th>1</th>\n",
       "      <td>SLB</td>\n",
       "      <td>51.80</td>\n",
       "      <td>56.87</td>\n",
       "      <td>0.097876</td>\n",
       "    </tr>\n",
       "    <tr>\n",
       "      <th>2</th>\n",
       "      <td>HES</td>\n",
       "      <td>142.10</td>\n",
       "      <td>146.26</td>\n",
       "      <td>0.029275</td>\n",
       "    </tr>\n",
       "    <tr>\n",
       "      <th>3</th>\n",
       "      <td>MRO</td>\n",
       "      <td>31.42</td>\n",
       "      <td>27.46</td>\n",
       "      <td>-0.126034</td>\n",
       "    </tr>\n",
       "    <tr>\n",
       "      <th>4</th>\n",
       "      <td>XOM</td>\n",
       "      <td>111.10</td>\n",
       "      <td>107.78</td>\n",
       "      <td>-0.029883</td>\n",
       "    </tr>\n",
       "    <tr>\n",
       "      <th>5</th>\n",
       "      <td>FSLR</td>\n",
       "      <td>157.73</td>\n",
       "      <td>151.94</td>\n",
       "      <td>-0.036708</td>\n",
       "    </tr>\n",
       "    <tr>\n",
       "      <th>6</th>\n",
       "      <td>GILD</td>\n",
       "      <td>79.46</td>\n",
       "      <td>81.59</td>\n",
       "      <td>0.026806</td>\n",
       "    </tr>\n",
       "    <tr>\n",
       "      <th>7</th>\n",
       "      <td>APA</td>\n",
       "      <td>47.29</td>\n",
       "      <td>39.96</td>\n",
       "      <td>-0.155001</td>\n",
       "    </tr>\n",
       "    <tr>\n",
       "      <th>8</th>\n",
       "      <td>FANG</td>\n",
       "      <td>158.53</td>\n",
       "      <td>162.10</td>\n",
       "      <td>0.022519</td>\n",
       "    </tr>\n",
       "    <tr>\n",
       "      <th>9</th>\n",
       "      <td>MPC</td>\n",
       "      <td>118.20</td>\n",
       "      <td>150.78</td>\n",
       "      <td>0.275635</td>\n",
       "    </tr>\n",
       "    <tr>\n",
       "      <th>10</th>\n",
       "      <td>ACGL</td>\n",
       "      <td>56.53</td>\n",
       "      <td>85.55</td>\n",
       "      <td>0.513356</td>\n",
       "    </tr>\n",
       "    <tr>\n",
       "      <th>11</th>\n",
       "      <td>MCK</td>\n",
       "      <td>397.58</td>\n",
       "      <td>452.76</td>\n",
       "      <td>0.138790</td>\n",
       "    </tr>\n",
       "    <tr>\n",
       "      <th>12</th>\n",
       "      <td>GPC</td>\n",
       "      <td>177.05</td>\n",
       "      <td>134.02</td>\n",
       "      <td>-0.243039</td>\n",
       "    </tr>\n",
       "    <tr>\n",
       "      <th>13</th>\n",
       "      <td>PCG</td>\n",
       "      <td>15.20</td>\n",
       "      <td>16.89</td>\n",
       "      <td>0.111184</td>\n",
       "    </tr>\n",
       "    <tr>\n",
       "      <th>14</th>\n",
       "      <td>EOG</td>\n",
       "      <td>138.38</td>\n",
       "      <td>128.16</td>\n",
       "      <td>-0.073855</td>\n",
       "    </tr>\n",
       "    <tr>\n",
       "      <th>15</th>\n",
       "      <td>CI</td>\n",
       "      <td>324.24</td>\n",
       "      <td>310.65</td>\n",
       "      <td>-0.041913</td>\n",
       "    </tr>\n",
       "    <tr>\n",
       "      <th>16</th>\n",
       "      <td>PSX</td>\n",
       "      <td>103.12</td>\n",
       "      <td>116.79</td>\n",
       "      <td>0.132564</td>\n",
       "    </tr>\n",
       "    <tr>\n",
       "      <th>17</th>\n",
       "      <td>OXY</td>\n",
       "      <td>72.16</td>\n",
       "      <td>63.01</td>\n",
       "      <td>-0.126802</td>\n",
       "    </tr>\n",
       "    <tr>\n",
       "      <th>18</th>\n",
       "      <td>ORLY</td>\n",
       "      <td>819.37</td>\n",
       "      <td>952.84</td>\n",
       "      <td>0.162893</td>\n",
       "    </tr>\n",
       "    <tr>\n",
       "      <th>19</th>\n",
       "      <td>PFG</td>\n",
       "      <td>86.51</td>\n",
       "      <td>71.69</td>\n",
       "      <td>-0.171310</td>\n",
       "    </tr>\n",
       "    <tr>\n",
       "      <th>20</th>\n",
       "      <td>CVX</td>\n",
       "      <td>181.13</td>\n",
       "      <td>147.61</td>\n",
       "      <td>-0.185060</td>\n",
       "    </tr>\n",
       "    <tr>\n",
       "      <th>21</th>\n",
       "      <td>CAH</td>\n",
       "      <td>75.67</td>\n",
       "      <td>100.21</td>\n",
       "      <td>0.324303</td>\n",
       "    </tr>\n",
       "    <tr>\n",
       "      <th>22</th>\n",
       "      <td>CTVA</td>\n",
       "      <td>66.98</td>\n",
       "      <td>50.23</td>\n",
       "      <td>-0.250075</td>\n",
       "    </tr>\n",
       "    <tr>\n",
       "      <th>23</th>\n",
       "      <td>ROL</td>\n",
       "      <td>42.29</td>\n",
       "      <td>38.12</td>\n",
       "      <td>-0.098605</td>\n",
       "    </tr>\n",
       "    <tr>\n",
       "      <th>24</th>\n",
       "      <td>LMT</td>\n",
       "      <td>484.82</td>\n",
       "      <td>453.34</td>\n",
       "      <td>-0.064931</td>\n",
       "    </tr>\n",
       "    <tr>\n",
       "      <th>25</th>\n",
       "      <td>STLD</td>\n",
       "      <td>91.55</td>\n",
       "      <td>111.87</td>\n",
       "      <td>0.221955</td>\n",
       "    </tr>\n",
       "    <tr>\n",
       "      <th>26</th>\n",
       "      <td>AZO</td>\n",
       "      <td>2478.46</td>\n",
       "      <td>2574.54</td>\n",
       "      <td>0.038766</td>\n",
       "    </tr>\n",
       "    <tr>\n",
       "      <th>27</th>\n",
       "      <td>VLO</td>\n",
       "      <td>129.71</td>\n",
       "      <td>126.43</td>\n",
       "      <td>-0.025287</td>\n",
       "    </tr>\n",
       "    <tr>\n",
       "      <th>28</th>\n",
       "      <td>GWW</td>\n",
       "      <td>594.40</td>\n",
       "      <td>767.73</td>\n",
       "      <td>0.291605</td>\n",
       "    </tr>\n",
       "    <tr>\n",
       "      <th>29</th>\n",
       "      <td>RJF</td>\n",
       "      <td>118.02</td>\n",
       "      <td>101.26</td>\n",
       "      <td>-0.142010</td>\n",
       "    </tr>\n",
       "    <tr>\n",
       "      <th>30</th>\n",
       "      <td>HAL</td>\n",
       "      <td>36.86</td>\n",
       "      <td>40.29</td>\n",
       "      <td>0.093055</td>\n",
       "    </tr>\n",
       "    <tr>\n",
       "      <th>31</th>\n",
       "      <td>HUM</td>\n",
       "      <td>563.00</td>\n",
       "      <td>477.01</td>\n",
       "      <td>-0.152735</td>\n",
       "    </tr>\n",
       "    <tr>\n",
       "      <th>32</th>\n",
       "      <td>LLY</td>\n",
       "      <td>361.68</td>\n",
       "      <td>567.81</td>\n",
       "      <td>0.569924</td>\n",
       "    </tr>\n",
       "    <tr>\n",
       "      <th>33</th>\n",
       "      <td>ADM</td>\n",
       "      <td>96.28</td>\n",
       "      <td>72.91</td>\n",
       "      <td>-0.242730</td>\n",
       "    </tr>\n",
       "    <tr>\n",
       "      <th>34</th>\n",
       "      <td>WRB</td>\n",
       "      <td>74.60</td>\n",
       "      <td>67.88</td>\n",
       "      <td>-0.090080</td>\n",
       "    </tr>\n",
       "    <tr>\n",
       "      <th>35</th>\n",
       "      <td>AMGN</td>\n",
       "      <td>265.88</td>\n",
       "      <td>269.86</td>\n",
       "      <td>0.014969</td>\n",
       "    </tr>\n",
       "    <tr>\n",
       "      <th>36</th>\n",
       "      <td>AFL</td>\n",
       "      <td>65.97</td>\n",
       "      <td>82.23</td>\n",
       "      <td>0.246476</td>\n",
       "    </tr>\n",
       "    <tr>\n",
       "      <th>37</th>\n",
       "      <td>CAT</td>\n",
       "      <td>219.26</td>\n",
       "      <td>240.75</td>\n",
       "      <td>0.098011</td>\n",
       "    </tr>\n",
       "    <tr>\n",
       "      <th>38</th>\n",
       "      <td>DVN</td>\n",
       "      <td>70.73</td>\n",
       "      <td>47.34</td>\n",
       "      <td>-0.330694</td>\n",
       "    </tr>\n",
       "    <tr>\n",
       "      <th>39</th>\n",
       "      <td>TRV</td>\n",
       "      <td>181.82</td>\n",
       "      <td>168.41</td>\n",
       "      <td>-0.073754</td>\n",
       "    </tr>\n",
       "    <tr>\n",
       "      <th>40</th>\n",
       "      <td>LW</td>\n",
       "      <td>84.86</td>\n",
       "      <td>94.09</td>\n",
       "      <td>0.108767</td>\n",
       "    </tr>\n",
       "    <tr>\n",
       "      <th>41</th>\n",
       "      <td>NRG</td>\n",
       "      <td>43.63</td>\n",
       "      <td>45.00</td>\n",
       "      <td>0.031400</td>\n",
       "    </tr>\n",
       "    <tr>\n",
       "      <th>42</th>\n",
       "      <td>MRK</td>\n",
       "      <td>98.75</td>\n",
       "      <td>103.38</td>\n",
       "      <td>0.046886</td>\n",
       "    </tr>\n",
       "    <tr>\n",
       "      <th>43</th>\n",
       "      <td>AMP</td>\n",
       "      <td>307.92</td>\n",
       "      <td>335.74</td>\n",
       "      <td>0.090348</td>\n",
       "    </tr>\n",
       "    <tr>\n",
       "      <th>44</th>\n",
       "      <td>AES</td>\n",
       "      <td>26.19</td>\n",
       "      <td>16.79</td>\n",
       "      <td>-0.358916</td>\n",
       "    </tr>\n",
       "    <tr>\n",
       "      <th>45</th>\n",
       "      <td>TJX</td>\n",
       "      <td>71.20</td>\n",
       "      <td>91.00</td>\n",
       "      <td>0.278090</td>\n",
       "    </tr>\n",
       "    <tr>\n",
       "      <th>46</th>\n",
       "      <td>NOC</td>\n",
       "      <td>525.51</td>\n",
       "      <td>470.58</td>\n",
       "      <td>-0.104527</td>\n",
       "    </tr>\n",
       "    <tr>\n",
       "      <th>47</th>\n",
       "      <td>GD</td>\n",
       "      <td>248.94</td>\n",
       "      <td>243.21</td>\n",
       "      <td>-0.023018</td>\n",
       "    </tr>\n",
       "    <tr>\n",
       "      <th>48</th>\n",
       "      <td>GL</td>\n",
       "      <td>112.32</td>\n",
       "      <td>117.16</td>\n",
       "      <td>0.043091</td>\n",
       "    </tr>\n",
       "    <tr>\n",
       "      <th>49</th>\n",
       "      <td>PXD</td>\n",
       "      <td>255.64</td>\n",
       "      <td>243.69</td>\n",
       "      <td>-0.046745</td>\n",
       "    </tr>\n",
       "  </tbody>\n",
       "</table>\n",
       "</div>"
      ],
      "text/plain": [
       "   Ticker  Price 11-03-2022  Price 11-03-2023  One-Year Return\n",
       "0     COP            133.82            119.75        -0.105141\n",
       "1     SLB             51.80             56.87         0.097876\n",
       "2     HES            142.10            146.26         0.029275\n",
       "3     MRO             31.42             27.46        -0.126034\n",
       "4     XOM            111.10            107.78        -0.029883\n",
       "5    FSLR            157.73            151.94        -0.036708\n",
       "6    GILD             79.46             81.59         0.026806\n",
       "7     APA             47.29             39.96        -0.155001\n",
       "8    FANG            158.53            162.10         0.022519\n",
       "9     MPC            118.20            150.78         0.275635\n",
       "10   ACGL             56.53             85.55         0.513356\n",
       "11    MCK            397.58            452.76         0.138790\n",
       "12    GPC            177.05            134.02        -0.243039\n",
       "13    PCG             15.20             16.89         0.111184\n",
       "14    EOG            138.38            128.16        -0.073855\n",
       "15     CI            324.24            310.65        -0.041913\n",
       "16    PSX            103.12            116.79         0.132564\n",
       "17    OXY             72.16             63.01        -0.126802\n",
       "18   ORLY            819.37            952.84         0.162893\n",
       "19    PFG             86.51             71.69        -0.171310\n",
       "20    CVX            181.13            147.61        -0.185060\n",
       "21    CAH             75.67            100.21         0.324303\n",
       "22   CTVA             66.98             50.23        -0.250075\n",
       "23    ROL             42.29             38.12        -0.098605\n",
       "24    LMT            484.82            453.34        -0.064931\n",
       "25   STLD             91.55            111.87         0.221955\n",
       "26    AZO           2478.46           2574.54         0.038766\n",
       "27    VLO            129.71            126.43        -0.025287\n",
       "28    GWW            594.40            767.73         0.291605\n",
       "29    RJF            118.02            101.26        -0.142010\n",
       "30    HAL             36.86             40.29         0.093055\n",
       "31    HUM            563.00            477.01        -0.152735\n",
       "32    LLY            361.68            567.81         0.569924\n",
       "33    ADM             96.28             72.91        -0.242730\n",
       "34    WRB             74.60             67.88        -0.090080\n",
       "35   AMGN            265.88            269.86         0.014969\n",
       "36    AFL             65.97             82.23         0.246476\n",
       "37    CAT            219.26            240.75         0.098011\n",
       "38    DVN             70.73             47.34        -0.330694\n",
       "39    TRV            181.82            168.41        -0.073754\n",
       "40     LW             84.86             94.09         0.108767\n",
       "41    NRG             43.63             45.00         0.031400\n",
       "42    MRK             98.75            103.38         0.046886\n",
       "43    AMP            307.92            335.74         0.090348\n",
       "44    AES             26.19             16.79        -0.358916\n",
       "45    TJX             71.20             91.00         0.278090\n",
       "46    NOC            525.51            470.58        -0.104527\n",
       "47     GD            248.94            243.21        -0.023018\n",
       "48     GL            112.32            117.16         0.043091\n",
       "49    PXD            255.64            243.69        -0.046745"
      ]
     },
     "execution_count": 13,
     "metadata": {},
     "output_type": "execute_result"
    }
   ],
   "source": [
    "actual_df"
   ]
  },
  {
   "cell_type": "code",
   "execution_count": 14,
   "metadata": {},
   "outputs": [],
   "source": [
    "average_return = actual_df['One-Year Return'].mean()"
   ]
  },
  {
   "cell_type": "code",
   "execution_count": 15,
   "metadata": {},
   "outputs": [],
   "source": [
    "tot_columns = ['Ticker', 'Price 11-03-2022', 'Price 11-03-2023', 'One-Year Return']\n",
    "\n",
    "total_df = pd.DataFrame(columns = tot_columns)"
   ]
  },
  {
   "cell_type": "code",
   "execution_count": 16,
   "metadata": {},
   "outputs": [
    {
     "name": "stdout",
     "output_type": "stream",
     "text": [
      "MMM\n"
     ]
    },
    {
     "name": "stderr",
     "output_type": "stream",
     "text": [
      "/tmp/ipykernel_540/17100239.py:22: FutureWarning: The frame.append method is deprecated and will be removed from pandas in a future version. Use pandas.concat instead.\n",
      "  total_df = total_df.append(pd.Series([stk, start_price, new_price, act_return], index = act_columns), ignore_index = True)\n"
     ]
    },
    {
     "name": "stdout",
     "output_type": "stream",
     "text": [
      "AOS\n"
     ]
    },
    {
     "name": "stderr",
     "output_type": "stream",
     "text": [
      "/tmp/ipykernel_540/17100239.py:22: FutureWarning: The frame.append method is deprecated and will be removed from pandas in a future version. Use pandas.concat instead.\n",
      "  total_df = total_df.append(pd.Series([stk, start_price, new_price, act_return], index = act_columns), ignore_index = True)\n"
     ]
    },
    {
     "name": "stdout",
     "output_type": "stream",
     "text": [
      "ABT\n"
     ]
    },
    {
     "name": "stderr",
     "output_type": "stream",
     "text": [
      "/tmp/ipykernel_540/17100239.py:22: FutureWarning: The frame.append method is deprecated and will be removed from pandas in a future version. Use pandas.concat instead.\n",
      "  total_df = total_df.append(pd.Series([stk, start_price, new_price, act_return], index = act_columns), ignore_index = True)\n"
     ]
    },
    {
     "name": "stdout",
     "output_type": "stream",
     "text": [
      "ABBV\n"
     ]
    },
    {
     "name": "stderr",
     "output_type": "stream",
     "text": [
      "/tmp/ipykernel_540/17100239.py:22: FutureWarning: The frame.append method is deprecated and will be removed from pandas in a future version. Use pandas.concat instead.\n",
      "  total_df = total_df.append(pd.Series([stk, start_price, new_price, act_return], index = act_columns), ignore_index = True)\n"
     ]
    },
    {
     "name": "stdout",
     "output_type": "stream",
     "text": [
      "ACN\n"
     ]
    },
    {
     "name": "stderr",
     "output_type": "stream",
     "text": [
      "/tmp/ipykernel_540/17100239.py:22: FutureWarning: The frame.append method is deprecated and will be removed from pandas in a future version. Use pandas.concat instead.\n",
      "  total_df = total_df.append(pd.Series([stk, start_price, new_price, act_return], index = act_columns), ignore_index = True)\n"
     ]
    },
    {
     "name": "stdout",
     "output_type": "stream",
     "text": [
      "ADM\n"
     ]
    },
    {
     "name": "stderr",
     "output_type": "stream",
     "text": [
      "/tmp/ipykernel_540/17100239.py:22: FutureWarning: The frame.append method is deprecated and will be removed from pandas in a future version. Use pandas.concat instead.\n",
      "  total_df = total_df.append(pd.Series([stk, start_price, new_price, act_return], index = act_columns), ignore_index = True)\n"
     ]
    },
    {
     "name": "stdout",
     "output_type": "stream",
     "text": [
      "ADBE\n"
     ]
    },
    {
     "name": "stderr",
     "output_type": "stream",
     "text": [
      "/tmp/ipykernel_540/17100239.py:22: FutureWarning: The frame.append method is deprecated and will be removed from pandas in a future version. Use pandas.concat instead.\n",
      "  total_df = total_df.append(pd.Series([stk, start_price, new_price, act_return], index = act_columns), ignore_index = True)\n"
     ]
    },
    {
     "name": "stdout",
     "output_type": "stream",
     "text": [
      "ADP\n"
     ]
    },
    {
     "name": "stderr",
     "output_type": "stream",
     "text": [
      "/tmp/ipykernel_540/17100239.py:22: FutureWarning: The frame.append method is deprecated and will be removed from pandas in a future version. Use pandas.concat instead.\n",
      "  total_df = total_df.append(pd.Series([stk, start_price, new_price, act_return], index = act_columns), ignore_index = True)\n"
     ]
    },
    {
     "name": "stdout",
     "output_type": "stream",
     "text": [
      "AES\n"
     ]
    },
    {
     "name": "stderr",
     "output_type": "stream",
     "text": [
      "/tmp/ipykernel_540/17100239.py:22: FutureWarning: The frame.append method is deprecated and will be removed from pandas in a future version. Use pandas.concat instead.\n",
      "  total_df = total_df.append(pd.Series([stk, start_price, new_price, act_return], index = act_columns), ignore_index = True)\n"
     ]
    },
    {
     "name": "stdout",
     "output_type": "stream",
     "text": [
      "AFL\n"
     ]
    },
    {
     "name": "stderr",
     "output_type": "stream",
     "text": [
      "/tmp/ipykernel_540/17100239.py:22: FutureWarning: The frame.append method is deprecated and will be removed from pandas in a future version. Use pandas.concat instead.\n",
      "  total_df = total_df.append(pd.Series([stk, start_price, new_price, act_return], index = act_columns), ignore_index = True)\n"
     ]
    },
    {
     "name": "stdout",
     "output_type": "stream",
     "text": [
      "A\n"
     ]
    },
    {
     "name": "stderr",
     "output_type": "stream",
     "text": [
      "/tmp/ipykernel_540/17100239.py:22: FutureWarning: The frame.append method is deprecated and will be removed from pandas in a future version. Use pandas.concat instead.\n",
      "  total_df = total_df.append(pd.Series([stk, start_price, new_price, act_return], index = act_columns), ignore_index = True)\n"
     ]
    },
    {
     "name": "stdout",
     "output_type": "stream",
     "text": [
      "ABNB\n"
     ]
    },
    {
     "name": "stderr",
     "output_type": "stream",
     "text": [
      "/tmp/ipykernel_540/17100239.py:22: FutureWarning: The frame.append method is deprecated and will be removed from pandas in a future version. Use pandas.concat instead.\n",
      "  total_df = total_df.append(pd.Series([stk, start_price, new_price, act_return], index = act_columns), ignore_index = True)\n"
     ]
    },
    {
     "name": "stdout",
     "output_type": "stream",
     "text": [
      "APD\n"
     ]
    },
    {
     "name": "stderr",
     "output_type": "stream",
     "text": [
      "/tmp/ipykernel_540/17100239.py:22: FutureWarning: The frame.append method is deprecated and will be removed from pandas in a future version. Use pandas.concat instead.\n",
      "  total_df = total_df.append(pd.Series([stk, start_price, new_price, act_return], index = act_columns), ignore_index = True)\n"
     ]
    },
    {
     "name": "stdout",
     "output_type": "stream",
     "text": [
      "AKAM\n"
     ]
    },
    {
     "name": "stderr",
     "output_type": "stream",
     "text": [
      "/tmp/ipykernel_540/17100239.py:22: FutureWarning: The frame.append method is deprecated and will be removed from pandas in a future version. Use pandas.concat instead.\n",
      "  total_df = total_df.append(pd.Series([stk, start_price, new_price, act_return], index = act_columns), ignore_index = True)\n"
     ]
    },
    {
     "name": "stdout",
     "output_type": "stream",
     "text": [
      "ALK\n"
     ]
    },
    {
     "name": "stderr",
     "output_type": "stream",
     "text": [
      "/tmp/ipykernel_540/17100239.py:22: FutureWarning: The frame.append method is deprecated and will be removed from pandas in a future version. Use pandas.concat instead.\n",
      "  total_df = total_df.append(pd.Series([stk, start_price, new_price, act_return], index = act_columns), ignore_index = True)\n"
     ]
    },
    {
     "name": "stdout",
     "output_type": "stream",
     "text": [
      "ALB\n"
     ]
    },
    {
     "name": "stderr",
     "output_type": "stream",
     "text": [
      "/tmp/ipykernel_540/17100239.py:22: FutureWarning: The frame.append method is deprecated and will be removed from pandas in a future version. Use pandas.concat instead.\n",
      "  total_df = total_df.append(pd.Series([stk, start_price, new_price, act_return], index = act_columns), ignore_index = True)\n"
     ]
    },
    {
     "name": "stdout",
     "output_type": "stream",
     "text": [
      "ARE\n"
     ]
    },
    {
     "name": "stderr",
     "output_type": "stream",
     "text": [
      "/tmp/ipykernel_540/17100239.py:22: FutureWarning: The frame.append method is deprecated and will be removed from pandas in a future version. Use pandas.concat instead.\n",
      "  total_df = total_df.append(pd.Series([stk, start_price, new_price, act_return], index = act_columns), ignore_index = True)\n"
     ]
    },
    {
     "name": "stdout",
     "output_type": "stream",
     "text": [
      "ALGN\n"
     ]
    },
    {
     "name": "stderr",
     "output_type": "stream",
     "text": [
      "/tmp/ipykernel_540/17100239.py:22: FutureWarning: The frame.append method is deprecated and will be removed from pandas in a future version. Use pandas.concat instead.\n",
      "  total_df = total_df.append(pd.Series([stk, start_price, new_price, act_return], index = act_columns), ignore_index = True)\n"
     ]
    },
    {
     "name": "stdout",
     "output_type": "stream",
     "text": [
      "ALLE\n"
     ]
    },
    {
     "name": "stderr",
     "output_type": "stream",
     "text": [
      "/tmp/ipykernel_540/17100239.py:22: FutureWarning: The frame.append method is deprecated and will be removed from pandas in a future version. Use pandas.concat instead.\n",
      "  total_df = total_df.append(pd.Series([stk, start_price, new_price, act_return], index = act_columns), ignore_index = True)\n"
     ]
    },
    {
     "name": "stdout",
     "output_type": "stream",
     "text": [
      "LNT\n"
     ]
    },
    {
     "name": "stderr",
     "output_type": "stream",
     "text": [
      "/tmp/ipykernel_540/17100239.py:22: FutureWarning: The frame.append method is deprecated and will be removed from pandas in a future version. Use pandas.concat instead.\n",
      "  total_df = total_df.append(pd.Series([stk, start_price, new_price, act_return], index = act_columns), ignore_index = True)\n"
     ]
    },
    {
     "name": "stdout",
     "output_type": "stream",
     "text": [
      "ALL\n"
     ]
    },
    {
     "name": "stderr",
     "output_type": "stream",
     "text": [
      "/tmp/ipykernel_540/17100239.py:22: FutureWarning: The frame.append method is deprecated and will be removed from pandas in a future version. Use pandas.concat instead.\n",
      "  total_df = total_df.append(pd.Series([stk, start_price, new_price, act_return], index = act_columns), ignore_index = True)\n"
     ]
    },
    {
     "name": "stdout",
     "output_type": "stream",
     "text": [
      "GOOGL\n"
     ]
    },
    {
     "name": "stderr",
     "output_type": "stream",
     "text": [
      "/tmp/ipykernel_540/17100239.py:22: FutureWarning: The frame.append method is deprecated and will be removed from pandas in a future version. Use pandas.concat instead.\n",
      "  total_df = total_df.append(pd.Series([stk, start_price, new_price, act_return], index = act_columns), ignore_index = True)\n"
     ]
    },
    {
     "name": "stdout",
     "output_type": "stream",
     "text": [
      "GOOG\n"
     ]
    },
    {
     "name": "stderr",
     "output_type": "stream",
     "text": [
      "/tmp/ipykernel_540/17100239.py:22: FutureWarning: The frame.append method is deprecated and will be removed from pandas in a future version. Use pandas.concat instead.\n",
      "  total_df = total_df.append(pd.Series([stk, start_price, new_price, act_return], index = act_columns), ignore_index = True)\n"
     ]
    },
    {
     "name": "stdout",
     "output_type": "stream",
     "text": [
      "MO\n"
     ]
    },
    {
     "name": "stderr",
     "output_type": "stream",
     "text": [
      "/tmp/ipykernel_540/17100239.py:22: FutureWarning: The frame.append method is deprecated and will be removed from pandas in a future version. Use pandas.concat instead.\n",
      "  total_df = total_df.append(pd.Series([stk, start_price, new_price, act_return], index = act_columns), ignore_index = True)\n"
     ]
    },
    {
     "name": "stdout",
     "output_type": "stream",
     "text": [
      "AMZN\n"
     ]
    },
    {
     "name": "stderr",
     "output_type": "stream",
     "text": [
      "/tmp/ipykernel_540/17100239.py:22: FutureWarning: The frame.append method is deprecated and will be removed from pandas in a future version. Use pandas.concat instead.\n",
      "  total_df = total_df.append(pd.Series([stk, start_price, new_price, act_return], index = act_columns), ignore_index = True)\n"
     ]
    },
    {
     "name": "stdout",
     "output_type": "stream",
     "text": [
      "AMCR\n"
     ]
    },
    {
     "name": "stderr",
     "output_type": "stream",
     "text": [
      "/tmp/ipykernel_540/17100239.py:22: FutureWarning: The frame.append method is deprecated and will be removed from pandas in a future version. Use pandas.concat instead.\n",
      "  total_df = total_df.append(pd.Series([stk, start_price, new_price, act_return], index = act_columns), ignore_index = True)\n"
     ]
    },
    {
     "name": "stdout",
     "output_type": "stream",
     "text": [
      "AMD\n"
     ]
    },
    {
     "name": "stderr",
     "output_type": "stream",
     "text": [
      "/tmp/ipykernel_540/17100239.py:22: FutureWarning: The frame.append method is deprecated and will be removed from pandas in a future version. Use pandas.concat instead.\n",
      "  total_df = total_df.append(pd.Series([stk, start_price, new_price, act_return], index = act_columns), ignore_index = True)\n"
     ]
    },
    {
     "name": "stdout",
     "output_type": "stream",
     "text": [
      "AEE\n"
     ]
    },
    {
     "name": "stderr",
     "output_type": "stream",
     "text": [
      "/tmp/ipykernel_540/17100239.py:22: FutureWarning: The frame.append method is deprecated and will be removed from pandas in a future version. Use pandas.concat instead.\n",
      "  total_df = total_df.append(pd.Series([stk, start_price, new_price, act_return], index = act_columns), ignore_index = True)\n"
     ]
    },
    {
     "name": "stdout",
     "output_type": "stream",
     "text": [
      "AAL\n"
     ]
    },
    {
     "name": "stderr",
     "output_type": "stream",
     "text": [
      "/tmp/ipykernel_540/17100239.py:22: FutureWarning: The frame.append method is deprecated and will be removed from pandas in a future version. Use pandas.concat instead.\n",
      "  total_df = total_df.append(pd.Series([stk, start_price, new_price, act_return], index = act_columns), ignore_index = True)\n"
     ]
    },
    {
     "name": "stdout",
     "output_type": "stream",
     "text": [
      "AEP\n"
     ]
    },
    {
     "name": "stderr",
     "output_type": "stream",
     "text": [
      "/tmp/ipykernel_540/17100239.py:22: FutureWarning: The frame.append method is deprecated and will be removed from pandas in a future version. Use pandas.concat instead.\n",
      "  total_df = total_df.append(pd.Series([stk, start_price, new_price, act_return], index = act_columns), ignore_index = True)\n"
     ]
    },
    {
     "name": "stdout",
     "output_type": "stream",
     "text": [
      "AXP\n"
     ]
    },
    {
     "name": "stderr",
     "output_type": "stream",
     "text": [
      "/tmp/ipykernel_540/17100239.py:22: FutureWarning: The frame.append method is deprecated and will be removed from pandas in a future version. Use pandas.concat instead.\n",
      "  total_df = total_df.append(pd.Series([stk, start_price, new_price, act_return], index = act_columns), ignore_index = True)\n"
     ]
    },
    {
     "name": "stdout",
     "output_type": "stream",
     "text": [
      "AIG\n"
     ]
    },
    {
     "name": "stderr",
     "output_type": "stream",
     "text": [
      "/tmp/ipykernel_540/17100239.py:22: FutureWarning: The frame.append method is deprecated and will be removed from pandas in a future version. Use pandas.concat instead.\n",
      "  total_df = total_df.append(pd.Series([stk, start_price, new_price, act_return], index = act_columns), ignore_index = True)\n"
     ]
    },
    {
     "name": "stdout",
     "output_type": "stream",
     "text": [
      "AMT\n"
     ]
    },
    {
     "name": "stderr",
     "output_type": "stream",
     "text": [
      "/tmp/ipykernel_540/17100239.py:22: FutureWarning: The frame.append method is deprecated and will be removed from pandas in a future version. Use pandas.concat instead.\n",
      "  total_df = total_df.append(pd.Series([stk, start_price, new_price, act_return], index = act_columns), ignore_index = True)\n"
     ]
    },
    {
     "name": "stdout",
     "output_type": "stream",
     "text": [
      "AWK\n"
     ]
    },
    {
     "name": "stderr",
     "output_type": "stream",
     "text": [
      "/tmp/ipykernel_540/17100239.py:22: FutureWarning: The frame.append method is deprecated and will be removed from pandas in a future version. Use pandas.concat instead.\n",
      "  total_df = total_df.append(pd.Series([stk, start_price, new_price, act_return], index = act_columns), ignore_index = True)\n"
     ]
    },
    {
     "name": "stdout",
     "output_type": "stream",
     "text": [
      "AMP\n"
     ]
    },
    {
     "name": "stderr",
     "output_type": "stream",
     "text": [
      "/tmp/ipykernel_540/17100239.py:22: FutureWarning: The frame.append method is deprecated and will be removed from pandas in a future version. Use pandas.concat instead.\n",
      "  total_df = total_df.append(pd.Series([stk, start_price, new_price, act_return], index = act_columns), ignore_index = True)\n"
     ]
    },
    {
     "name": "stdout",
     "output_type": "stream",
     "text": [
      "AME\n"
     ]
    },
    {
     "name": "stderr",
     "output_type": "stream",
     "text": [
      "/tmp/ipykernel_540/17100239.py:22: FutureWarning: The frame.append method is deprecated and will be removed from pandas in a future version. Use pandas.concat instead.\n",
      "  total_df = total_df.append(pd.Series([stk, start_price, new_price, act_return], index = act_columns), ignore_index = True)\n"
     ]
    },
    {
     "name": "stdout",
     "output_type": "stream",
     "text": [
      "AMGN\n"
     ]
    },
    {
     "name": "stderr",
     "output_type": "stream",
     "text": [
      "/tmp/ipykernel_540/17100239.py:22: FutureWarning: The frame.append method is deprecated and will be removed from pandas in a future version. Use pandas.concat instead.\n",
      "  total_df = total_df.append(pd.Series([stk, start_price, new_price, act_return], index = act_columns), ignore_index = True)\n"
     ]
    },
    {
     "name": "stdout",
     "output_type": "stream",
     "text": [
      "APH\n"
     ]
    },
    {
     "name": "stderr",
     "output_type": "stream",
     "text": [
      "/tmp/ipykernel_540/17100239.py:22: FutureWarning: The frame.append method is deprecated and will be removed from pandas in a future version. Use pandas.concat instead.\n",
      "  total_df = total_df.append(pd.Series([stk, start_price, new_price, act_return], index = act_columns), ignore_index = True)\n"
     ]
    },
    {
     "name": "stdout",
     "output_type": "stream",
     "text": [
      "ADI\n"
     ]
    },
    {
     "name": "stderr",
     "output_type": "stream",
     "text": [
      "/tmp/ipykernel_540/17100239.py:22: FutureWarning: The frame.append method is deprecated and will be removed from pandas in a future version. Use pandas.concat instead.\n",
      "  total_df = total_df.append(pd.Series([stk, start_price, new_price, act_return], index = act_columns), ignore_index = True)\n"
     ]
    },
    {
     "name": "stdout",
     "output_type": "stream",
     "text": [
      "ANSS\n"
     ]
    },
    {
     "name": "stderr",
     "output_type": "stream",
     "text": [
      "/tmp/ipykernel_540/17100239.py:22: FutureWarning: The frame.append method is deprecated and will be removed from pandas in a future version. Use pandas.concat instead.\n",
      "  total_df = total_df.append(pd.Series([stk, start_price, new_price, act_return], index = act_columns), ignore_index = True)\n"
     ]
    },
    {
     "name": "stdout",
     "output_type": "stream",
     "text": [
      "AON\n"
     ]
    },
    {
     "name": "stderr",
     "output_type": "stream",
     "text": [
      "/tmp/ipykernel_540/17100239.py:22: FutureWarning: The frame.append method is deprecated and will be removed from pandas in a future version. Use pandas.concat instead.\n",
      "  total_df = total_df.append(pd.Series([stk, start_price, new_price, act_return], index = act_columns), ignore_index = True)\n"
     ]
    },
    {
     "name": "stdout",
     "output_type": "stream",
     "text": [
      "APA\n"
     ]
    },
    {
     "name": "stderr",
     "output_type": "stream",
     "text": [
      "/tmp/ipykernel_540/17100239.py:22: FutureWarning: The frame.append method is deprecated and will be removed from pandas in a future version. Use pandas.concat instead.\n",
      "  total_df = total_df.append(pd.Series([stk, start_price, new_price, act_return], index = act_columns), ignore_index = True)\n"
     ]
    },
    {
     "name": "stdout",
     "output_type": "stream",
     "text": [
      "AAPL\n"
     ]
    },
    {
     "name": "stderr",
     "output_type": "stream",
     "text": [
      "/tmp/ipykernel_540/17100239.py:22: FutureWarning: The frame.append method is deprecated and will be removed from pandas in a future version. Use pandas.concat instead.\n",
      "  total_df = total_df.append(pd.Series([stk, start_price, new_price, act_return], index = act_columns), ignore_index = True)\n"
     ]
    },
    {
     "name": "stdout",
     "output_type": "stream",
     "text": [
      "AMAT\n"
     ]
    },
    {
     "name": "stderr",
     "output_type": "stream",
     "text": [
      "/tmp/ipykernel_540/17100239.py:22: FutureWarning: The frame.append method is deprecated and will be removed from pandas in a future version. Use pandas.concat instead.\n",
      "  total_df = total_df.append(pd.Series([stk, start_price, new_price, act_return], index = act_columns), ignore_index = True)\n"
     ]
    },
    {
     "name": "stdout",
     "output_type": "stream",
     "text": [
      "APTV\n"
     ]
    },
    {
     "name": "stderr",
     "output_type": "stream",
     "text": [
      "/tmp/ipykernel_540/17100239.py:22: FutureWarning: The frame.append method is deprecated and will be removed from pandas in a future version. Use pandas.concat instead.\n",
      "  total_df = total_df.append(pd.Series([stk, start_price, new_price, act_return], index = act_columns), ignore_index = True)\n"
     ]
    },
    {
     "name": "stdout",
     "output_type": "stream",
     "text": [
      "ACGL\n"
     ]
    },
    {
     "name": "stderr",
     "output_type": "stream",
     "text": [
      "/tmp/ipykernel_540/17100239.py:22: FutureWarning: The frame.append method is deprecated and will be removed from pandas in a future version. Use pandas.concat instead.\n",
      "  total_df = total_df.append(pd.Series([stk, start_price, new_price, act_return], index = act_columns), ignore_index = True)\n"
     ]
    },
    {
     "name": "stdout",
     "output_type": "stream",
     "text": [
      "ANET\n"
     ]
    },
    {
     "name": "stderr",
     "output_type": "stream",
     "text": [
      "/tmp/ipykernel_540/17100239.py:22: FutureWarning: The frame.append method is deprecated and will be removed from pandas in a future version. Use pandas.concat instead.\n",
      "  total_df = total_df.append(pd.Series([stk, start_price, new_price, act_return], index = act_columns), ignore_index = True)\n"
     ]
    },
    {
     "name": "stdout",
     "output_type": "stream",
     "text": [
      "AJG\n"
     ]
    },
    {
     "name": "stderr",
     "output_type": "stream",
     "text": [
      "/tmp/ipykernel_540/17100239.py:22: FutureWarning: The frame.append method is deprecated and will be removed from pandas in a future version. Use pandas.concat instead.\n",
      "  total_df = total_df.append(pd.Series([stk, start_price, new_price, act_return], index = act_columns), ignore_index = True)\n"
     ]
    },
    {
     "name": "stdout",
     "output_type": "stream",
     "text": [
      "AIZ\n"
     ]
    },
    {
     "name": "stderr",
     "output_type": "stream",
     "text": [
      "/tmp/ipykernel_540/17100239.py:22: FutureWarning: The frame.append method is deprecated and will be removed from pandas in a future version. Use pandas.concat instead.\n",
      "  total_df = total_df.append(pd.Series([stk, start_price, new_price, act_return], index = act_columns), ignore_index = True)\n"
     ]
    },
    {
     "name": "stdout",
     "output_type": "stream",
     "text": [
      "T\n"
     ]
    },
    {
     "name": "stderr",
     "output_type": "stream",
     "text": [
      "/tmp/ipykernel_540/17100239.py:22: FutureWarning: The frame.append method is deprecated and will be removed from pandas in a future version. Use pandas.concat instead.\n",
      "  total_df = total_df.append(pd.Series([stk, start_price, new_price, act_return], index = act_columns), ignore_index = True)\n"
     ]
    },
    {
     "name": "stdout",
     "output_type": "stream",
     "text": [
      "ATO\n"
     ]
    },
    {
     "name": "stderr",
     "output_type": "stream",
     "text": [
      "/tmp/ipykernel_540/17100239.py:22: FutureWarning: The frame.append method is deprecated and will be removed from pandas in a future version. Use pandas.concat instead.\n",
      "  total_df = total_df.append(pd.Series([stk, start_price, new_price, act_return], index = act_columns), ignore_index = True)\n"
     ]
    },
    {
     "name": "stdout",
     "output_type": "stream",
     "text": [
      "ADSK\n"
     ]
    },
    {
     "name": "stderr",
     "output_type": "stream",
     "text": [
      "/tmp/ipykernel_540/17100239.py:22: FutureWarning: The frame.append method is deprecated and will be removed from pandas in a future version. Use pandas.concat instead.\n",
      "  total_df = total_df.append(pd.Series([stk, start_price, new_price, act_return], index = act_columns), ignore_index = True)\n"
     ]
    },
    {
     "name": "stdout",
     "output_type": "stream",
     "text": [
      "AZO\n"
     ]
    },
    {
     "name": "stderr",
     "output_type": "stream",
     "text": [
      "/tmp/ipykernel_540/17100239.py:22: FutureWarning: The frame.append method is deprecated and will be removed from pandas in a future version. Use pandas.concat instead.\n",
      "  total_df = total_df.append(pd.Series([stk, start_price, new_price, act_return], index = act_columns), ignore_index = True)\n"
     ]
    },
    {
     "name": "stdout",
     "output_type": "stream",
     "text": [
      "AVB\n"
     ]
    },
    {
     "name": "stderr",
     "output_type": "stream",
     "text": [
      "/tmp/ipykernel_540/17100239.py:22: FutureWarning: The frame.append method is deprecated and will be removed from pandas in a future version. Use pandas.concat instead.\n",
      "  total_df = total_df.append(pd.Series([stk, start_price, new_price, act_return], index = act_columns), ignore_index = True)\n"
     ]
    },
    {
     "name": "stdout",
     "output_type": "stream",
     "text": [
      "AVY\n"
     ]
    },
    {
     "name": "stderr",
     "output_type": "stream",
     "text": [
      "/tmp/ipykernel_540/17100239.py:22: FutureWarning: The frame.append method is deprecated and will be removed from pandas in a future version. Use pandas.concat instead.\n",
      "  total_df = total_df.append(pd.Series([stk, start_price, new_price, act_return], index = act_columns), ignore_index = True)\n"
     ]
    },
    {
     "name": "stdout",
     "output_type": "stream",
     "text": [
      "AXON\n"
     ]
    },
    {
     "name": "stderr",
     "output_type": "stream",
     "text": [
      "/tmp/ipykernel_540/17100239.py:22: FutureWarning: The frame.append method is deprecated and will be removed from pandas in a future version. Use pandas.concat instead.\n",
      "  total_df = total_df.append(pd.Series([stk, start_price, new_price, act_return], index = act_columns), ignore_index = True)\n"
     ]
    },
    {
     "name": "stdout",
     "output_type": "stream",
     "text": [
      "BKR\n"
     ]
    },
    {
     "name": "stderr",
     "output_type": "stream",
     "text": [
      "/tmp/ipykernel_540/17100239.py:22: FutureWarning: The frame.append method is deprecated and will be removed from pandas in a future version. Use pandas.concat instead.\n",
      "  total_df = total_df.append(pd.Series([stk, start_price, new_price, act_return], index = act_columns), ignore_index = True)\n"
     ]
    },
    {
     "name": "stdout",
     "output_type": "stream",
     "text": [
      "BAC\n"
     ]
    },
    {
     "name": "stderr",
     "output_type": "stream",
     "text": [
      "/tmp/ipykernel_540/17100239.py:22: FutureWarning: The frame.append method is deprecated and will be removed from pandas in a future version. Use pandas.concat instead.\n",
      "  total_df = total_df.append(pd.Series([stk, start_price, new_price, act_return], index = act_columns), ignore_index = True)\n"
     ]
    },
    {
     "name": "stdout",
     "output_type": "stream",
     "text": [
      "BBWI\n"
     ]
    },
    {
     "name": "stderr",
     "output_type": "stream",
     "text": [
      "/tmp/ipykernel_540/17100239.py:22: FutureWarning: The frame.append method is deprecated and will be removed from pandas in a future version. Use pandas.concat instead.\n",
      "  total_df = total_df.append(pd.Series([stk, start_price, new_price, act_return], index = act_columns), ignore_index = True)\n"
     ]
    },
    {
     "name": "stdout",
     "output_type": "stream",
     "text": [
      "BAX\n"
     ]
    },
    {
     "name": "stderr",
     "output_type": "stream",
     "text": [
      "/tmp/ipykernel_540/17100239.py:22: FutureWarning: The frame.append method is deprecated and will be removed from pandas in a future version. Use pandas.concat instead.\n",
      "  total_df = total_df.append(pd.Series([stk, start_price, new_price, act_return], index = act_columns), ignore_index = True)\n"
     ]
    },
    {
     "name": "stdout",
     "output_type": "stream",
     "text": [
      "BDX\n"
     ]
    },
    {
     "name": "stderr",
     "output_type": "stream",
     "text": [
      "/tmp/ipykernel_540/17100239.py:22: FutureWarning: The frame.append method is deprecated and will be removed from pandas in a future version. Use pandas.concat instead.\n",
      "  total_df = total_df.append(pd.Series([stk, start_price, new_price, act_return], index = act_columns), ignore_index = True)\n"
     ]
    },
    {
     "name": "stdout",
     "output_type": "stream",
     "text": [
      "WRB\n"
     ]
    },
    {
     "name": "stderr",
     "output_type": "stream",
     "text": [
      "/tmp/ipykernel_540/17100239.py:22: FutureWarning: The frame.append method is deprecated and will be removed from pandas in a future version. Use pandas.concat instead.\n",
      "  total_df = total_df.append(pd.Series([stk, start_price, new_price, act_return], index = act_columns), ignore_index = True)\n"
     ]
    },
    {
     "name": "stdout",
     "output_type": "stream",
     "text": [
      "BRK.B\n"
     ]
    },
    {
     "name": "stderr",
     "output_type": "stream",
     "text": [
      "/tmp/ipykernel_540/17100239.py:22: FutureWarning: The frame.append method is deprecated and will be removed from pandas in a future version. Use pandas.concat instead.\n",
      "  total_df = total_df.append(pd.Series([stk, start_price, new_price, act_return], index = act_columns), ignore_index = True)\n"
     ]
    },
    {
     "name": "stdout",
     "output_type": "stream",
     "text": [
      "BBY\n"
     ]
    },
    {
     "name": "stderr",
     "output_type": "stream",
     "text": [
      "/tmp/ipykernel_540/17100239.py:22: FutureWarning: The frame.append method is deprecated and will be removed from pandas in a future version. Use pandas.concat instead.\n",
      "  total_df = total_df.append(pd.Series([stk, start_price, new_price, act_return], index = act_columns), ignore_index = True)\n"
     ]
    },
    {
     "name": "stdout",
     "output_type": "stream",
     "text": [
      "BIO\n"
     ]
    },
    {
     "name": "stderr",
     "output_type": "stream",
     "text": [
      "/tmp/ipykernel_540/17100239.py:22: FutureWarning: The frame.append method is deprecated and will be removed from pandas in a future version. Use pandas.concat instead.\n",
      "  total_df = total_df.append(pd.Series([stk, start_price, new_price, act_return], index = act_columns), ignore_index = True)\n"
     ]
    },
    {
     "name": "stdout",
     "output_type": "stream",
     "text": [
      "TECH\n"
     ]
    },
    {
     "name": "stderr",
     "output_type": "stream",
     "text": [
      "/tmp/ipykernel_540/17100239.py:22: FutureWarning: The frame.append method is deprecated and will be removed from pandas in a future version. Use pandas.concat instead.\n",
      "  total_df = total_df.append(pd.Series([stk, start_price, new_price, act_return], index = act_columns), ignore_index = True)\n"
     ]
    },
    {
     "name": "stdout",
     "output_type": "stream",
     "text": [
      "BIIB\n"
     ]
    },
    {
     "name": "stderr",
     "output_type": "stream",
     "text": [
      "/tmp/ipykernel_540/17100239.py:22: FutureWarning: The frame.append method is deprecated and will be removed from pandas in a future version. Use pandas.concat instead.\n",
      "  total_df = total_df.append(pd.Series([stk, start_price, new_price, act_return], index = act_columns), ignore_index = True)\n"
     ]
    },
    {
     "name": "stdout",
     "output_type": "stream",
     "text": [
      "BLK\n"
     ]
    },
    {
     "name": "stderr",
     "output_type": "stream",
     "text": [
      "/tmp/ipykernel_540/17100239.py:22: FutureWarning: The frame.append method is deprecated and will be removed from pandas in a future version. Use pandas.concat instead.\n",
      "  total_df = total_df.append(pd.Series([stk, start_price, new_price, act_return], index = act_columns), ignore_index = True)\n"
     ]
    },
    {
     "name": "stdout",
     "output_type": "stream",
     "text": [
      "BX\n"
     ]
    },
    {
     "name": "stderr",
     "output_type": "stream",
     "text": [
      "/tmp/ipykernel_540/17100239.py:22: FutureWarning: The frame.append method is deprecated and will be removed from pandas in a future version. Use pandas.concat instead.\n",
      "  total_df = total_df.append(pd.Series([stk, start_price, new_price, act_return], index = act_columns), ignore_index = True)\n"
     ]
    },
    {
     "name": "stdout",
     "output_type": "stream",
     "text": [
      "BK\n"
     ]
    },
    {
     "name": "stderr",
     "output_type": "stream",
     "text": [
      "/tmp/ipykernel_540/17100239.py:22: FutureWarning: The frame.append method is deprecated and will be removed from pandas in a future version. Use pandas.concat instead.\n",
      "  total_df = total_df.append(pd.Series([stk, start_price, new_price, act_return], index = act_columns), ignore_index = True)\n"
     ]
    },
    {
     "name": "stdout",
     "output_type": "stream",
     "text": [
      "BA\n"
     ]
    },
    {
     "name": "stderr",
     "output_type": "stream",
     "text": [
      "/tmp/ipykernel_540/17100239.py:22: FutureWarning: The frame.append method is deprecated and will be removed from pandas in a future version. Use pandas.concat instead.\n",
      "  total_df = total_df.append(pd.Series([stk, start_price, new_price, act_return], index = act_columns), ignore_index = True)\n"
     ]
    },
    {
     "name": "stdout",
     "output_type": "stream",
     "text": [
      "BKNG\n"
     ]
    },
    {
     "name": "stderr",
     "output_type": "stream",
     "text": [
      "/tmp/ipykernel_540/17100239.py:22: FutureWarning: The frame.append method is deprecated and will be removed from pandas in a future version. Use pandas.concat instead.\n",
      "  total_df = total_df.append(pd.Series([stk, start_price, new_price, act_return], index = act_columns), ignore_index = True)\n"
     ]
    },
    {
     "name": "stdout",
     "output_type": "stream",
     "text": [
      "BWA\n"
     ]
    },
    {
     "name": "stderr",
     "output_type": "stream",
     "text": [
      "/tmp/ipykernel_540/17100239.py:22: FutureWarning: The frame.append method is deprecated and will be removed from pandas in a future version. Use pandas.concat instead.\n",
      "  total_df = total_df.append(pd.Series([stk, start_price, new_price, act_return], index = act_columns), ignore_index = True)\n"
     ]
    },
    {
     "name": "stdout",
     "output_type": "stream",
     "text": [
      "BXP\n"
     ]
    },
    {
     "name": "stderr",
     "output_type": "stream",
     "text": [
      "/tmp/ipykernel_540/17100239.py:22: FutureWarning: The frame.append method is deprecated and will be removed from pandas in a future version. Use pandas.concat instead.\n",
      "  total_df = total_df.append(pd.Series([stk, start_price, new_price, act_return], index = act_columns), ignore_index = True)\n"
     ]
    },
    {
     "name": "stdout",
     "output_type": "stream",
     "text": [
      "BSX\n"
     ]
    },
    {
     "name": "stderr",
     "output_type": "stream",
     "text": [
      "/tmp/ipykernel_540/17100239.py:22: FutureWarning: The frame.append method is deprecated and will be removed from pandas in a future version. Use pandas.concat instead.\n",
      "  total_df = total_df.append(pd.Series([stk, start_price, new_price, act_return], index = act_columns), ignore_index = True)\n"
     ]
    },
    {
     "name": "stdout",
     "output_type": "stream",
     "text": [
      "BMY\n"
     ]
    },
    {
     "name": "stderr",
     "output_type": "stream",
     "text": [
      "/tmp/ipykernel_540/17100239.py:22: FutureWarning: The frame.append method is deprecated and will be removed from pandas in a future version. Use pandas.concat instead.\n",
      "  total_df = total_df.append(pd.Series([stk, start_price, new_price, act_return], index = act_columns), ignore_index = True)\n"
     ]
    },
    {
     "name": "stdout",
     "output_type": "stream",
     "text": [
      "AVGO\n"
     ]
    },
    {
     "name": "stderr",
     "output_type": "stream",
     "text": [
      "/tmp/ipykernel_540/17100239.py:22: FutureWarning: The frame.append method is deprecated and will be removed from pandas in a future version. Use pandas.concat instead.\n",
      "  total_df = total_df.append(pd.Series([stk, start_price, new_price, act_return], index = act_columns), ignore_index = True)\n"
     ]
    },
    {
     "name": "stdout",
     "output_type": "stream",
     "text": [
      "BR\n"
     ]
    },
    {
     "name": "stderr",
     "output_type": "stream",
     "text": [
      "/tmp/ipykernel_540/17100239.py:22: FutureWarning: The frame.append method is deprecated and will be removed from pandas in a future version. Use pandas.concat instead.\n",
      "  total_df = total_df.append(pd.Series([stk, start_price, new_price, act_return], index = act_columns), ignore_index = True)\n"
     ]
    },
    {
     "name": "stdout",
     "output_type": "stream",
     "text": [
      "BRO\n"
     ]
    },
    {
     "name": "stderr",
     "output_type": "stream",
     "text": [
      "/tmp/ipykernel_540/17100239.py:22: FutureWarning: The frame.append method is deprecated and will be removed from pandas in a future version. Use pandas.concat instead.\n",
      "  total_df = total_df.append(pd.Series([stk, start_price, new_price, act_return], index = act_columns), ignore_index = True)\n"
     ]
    },
    {
     "name": "stdout",
     "output_type": "stream",
     "text": [
      "BF.B\n"
     ]
    },
    {
     "name": "stderr",
     "output_type": "stream",
     "text": [
      "/tmp/ipykernel_540/17100239.py:22: FutureWarning: The frame.append method is deprecated and will be removed from pandas in a future version. Use pandas.concat instead.\n",
      "  total_df = total_df.append(pd.Series([stk, start_price, new_price, act_return], index = act_columns), ignore_index = True)\n"
     ]
    },
    {
     "name": "stdout",
     "output_type": "stream",
     "text": [
      "BG\n"
     ]
    },
    {
     "name": "stderr",
     "output_type": "stream",
     "text": [
      "/tmp/ipykernel_540/17100239.py:22: FutureWarning: The frame.append method is deprecated and will be removed from pandas in a future version. Use pandas.concat instead.\n",
      "  total_df = total_df.append(pd.Series([stk, start_price, new_price, act_return], index = act_columns), ignore_index = True)\n"
     ]
    },
    {
     "name": "stdout",
     "output_type": "stream",
     "text": [
      "CHRW\n"
     ]
    },
    {
     "name": "stderr",
     "output_type": "stream",
     "text": [
      "/tmp/ipykernel_540/17100239.py:22: FutureWarning: The frame.append method is deprecated and will be removed from pandas in a future version. Use pandas.concat instead.\n",
      "  total_df = total_df.append(pd.Series([stk, start_price, new_price, act_return], index = act_columns), ignore_index = True)\n"
     ]
    },
    {
     "name": "stdout",
     "output_type": "stream",
     "text": [
      "CDNS\n"
     ]
    },
    {
     "name": "stderr",
     "output_type": "stream",
     "text": [
      "/tmp/ipykernel_540/17100239.py:22: FutureWarning: The frame.append method is deprecated and will be removed from pandas in a future version. Use pandas.concat instead.\n",
      "  total_df = total_df.append(pd.Series([stk, start_price, new_price, act_return], index = act_columns), ignore_index = True)\n"
     ]
    },
    {
     "name": "stdout",
     "output_type": "stream",
     "text": [
      "CZR\n"
     ]
    },
    {
     "name": "stderr",
     "output_type": "stream",
     "text": [
      "/tmp/ipykernel_540/17100239.py:22: FutureWarning: The frame.append method is deprecated and will be removed from pandas in a future version. Use pandas.concat instead.\n",
      "  total_df = total_df.append(pd.Series([stk, start_price, new_price, act_return], index = act_columns), ignore_index = True)\n"
     ]
    },
    {
     "name": "stdout",
     "output_type": "stream",
     "text": [
      "CPT\n"
     ]
    },
    {
     "name": "stderr",
     "output_type": "stream",
     "text": [
      "/tmp/ipykernel_540/17100239.py:22: FutureWarning: The frame.append method is deprecated and will be removed from pandas in a future version. Use pandas.concat instead.\n",
      "  total_df = total_df.append(pd.Series([stk, start_price, new_price, act_return], index = act_columns), ignore_index = True)\n"
     ]
    },
    {
     "name": "stdout",
     "output_type": "stream",
     "text": [
      "CPB\n"
     ]
    },
    {
     "name": "stderr",
     "output_type": "stream",
     "text": [
      "/tmp/ipykernel_540/17100239.py:22: FutureWarning: The frame.append method is deprecated and will be removed from pandas in a future version. Use pandas.concat instead.\n",
      "  total_df = total_df.append(pd.Series([stk, start_price, new_price, act_return], index = act_columns), ignore_index = True)\n"
     ]
    },
    {
     "name": "stdout",
     "output_type": "stream",
     "text": [
      "COF\n"
     ]
    },
    {
     "name": "stderr",
     "output_type": "stream",
     "text": [
      "/tmp/ipykernel_540/17100239.py:22: FutureWarning: The frame.append method is deprecated and will be removed from pandas in a future version. Use pandas.concat instead.\n",
      "  total_df = total_df.append(pd.Series([stk, start_price, new_price, act_return], index = act_columns), ignore_index = True)\n"
     ]
    },
    {
     "name": "stdout",
     "output_type": "stream",
     "text": [
      "CAH\n"
     ]
    },
    {
     "name": "stderr",
     "output_type": "stream",
     "text": [
      "/tmp/ipykernel_540/17100239.py:22: FutureWarning: The frame.append method is deprecated and will be removed from pandas in a future version. Use pandas.concat instead.\n",
      "  total_df = total_df.append(pd.Series([stk, start_price, new_price, act_return], index = act_columns), ignore_index = True)\n"
     ]
    },
    {
     "name": "stdout",
     "output_type": "stream",
     "text": [
      "KMX\n"
     ]
    },
    {
     "name": "stderr",
     "output_type": "stream",
     "text": [
      "/tmp/ipykernel_540/17100239.py:22: FutureWarning: The frame.append method is deprecated and will be removed from pandas in a future version. Use pandas.concat instead.\n",
      "  total_df = total_df.append(pd.Series([stk, start_price, new_price, act_return], index = act_columns), ignore_index = True)\n"
     ]
    },
    {
     "name": "stdout",
     "output_type": "stream",
     "text": [
      "CCL\n"
     ]
    },
    {
     "name": "stderr",
     "output_type": "stream",
     "text": [
      "/tmp/ipykernel_540/17100239.py:22: FutureWarning: The frame.append method is deprecated and will be removed from pandas in a future version. Use pandas.concat instead.\n",
      "  total_df = total_df.append(pd.Series([stk, start_price, new_price, act_return], index = act_columns), ignore_index = True)\n"
     ]
    },
    {
     "name": "stdout",
     "output_type": "stream",
     "text": [
      "CARR\n"
     ]
    },
    {
     "name": "stderr",
     "output_type": "stream",
     "text": [
      "/tmp/ipykernel_540/17100239.py:22: FutureWarning: The frame.append method is deprecated and will be removed from pandas in a future version. Use pandas.concat instead.\n",
      "  total_df = total_df.append(pd.Series([stk, start_price, new_price, act_return], index = act_columns), ignore_index = True)\n"
     ]
    },
    {
     "name": "stdout",
     "output_type": "stream",
     "text": [
      "CTLT\n"
     ]
    },
    {
     "name": "stderr",
     "output_type": "stream",
     "text": [
      "/tmp/ipykernel_540/17100239.py:22: FutureWarning: The frame.append method is deprecated and will be removed from pandas in a future version. Use pandas.concat instead.\n",
      "  total_df = total_df.append(pd.Series([stk, start_price, new_price, act_return], index = act_columns), ignore_index = True)\n"
     ]
    },
    {
     "name": "stdout",
     "output_type": "stream",
     "text": [
      "CAT\n"
     ]
    },
    {
     "name": "stderr",
     "output_type": "stream",
     "text": [
      "/tmp/ipykernel_540/17100239.py:22: FutureWarning: The frame.append method is deprecated and will be removed from pandas in a future version. Use pandas.concat instead.\n",
      "  total_df = total_df.append(pd.Series([stk, start_price, new_price, act_return], index = act_columns), ignore_index = True)\n"
     ]
    },
    {
     "name": "stdout",
     "output_type": "stream",
     "text": [
      "CBOE\n"
     ]
    },
    {
     "name": "stderr",
     "output_type": "stream",
     "text": [
      "/tmp/ipykernel_540/17100239.py:22: FutureWarning: The frame.append method is deprecated and will be removed from pandas in a future version. Use pandas.concat instead.\n",
      "  total_df = total_df.append(pd.Series([stk, start_price, new_price, act_return], index = act_columns), ignore_index = True)\n"
     ]
    },
    {
     "name": "stdout",
     "output_type": "stream",
     "text": [
      "CBRE\n"
     ]
    },
    {
     "name": "stderr",
     "output_type": "stream",
     "text": [
      "/tmp/ipykernel_540/17100239.py:22: FutureWarning: The frame.append method is deprecated and will be removed from pandas in a future version. Use pandas.concat instead.\n",
      "  total_df = total_df.append(pd.Series([stk, start_price, new_price, act_return], index = act_columns), ignore_index = True)\n"
     ]
    },
    {
     "name": "stdout",
     "output_type": "stream",
     "text": [
      "CDW\n"
     ]
    },
    {
     "name": "stderr",
     "output_type": "stream",
     "text": [
      "/tmp/ipykernel_540/17100239.py:22: FutureWarning: The frame.append method is deprecated and will be removed from pandas in a future version. Use pandas.concat instead.\n",
      "  total_df = total_df.append(pd.Series([stk, start_price, new_price, act_return], index = act_columns), ignore_index = True)\n"
     ]
    },
    {
     "name": "stdout",
     "output_type": "stream",
     "text": [
      "CE\n"
     ]
    },
    {
     "name": "stderr",
     "output_type": "stream",
     "text": [
      "/tmp/ipykernel_540/17100239.py:22: FutureWarning: The frame.append method is deprecated and will be removed from pandas in a future version. Use pandas.concat instead.\n",
      "  total_df = total_df.append(pd.Series([stk, start_price, new_price, act_return], index = act_columns), ignore_index = True)\n"
     ]
    },
    {
     "name": "stdout",
     "output_type": "stream",
     "text": [
      "CNC\n"
     ]
    },
    {
     "name": "stderr",
     "output_type": "stream",
     "text": [
      "/tmp/ipykernel_540/17100239.py:22: FutureWarning: The frame.append method is deprecated and will be removed from pandas in a future version. Use pandas.concat instead.\n",
      "  total_df = total_df.append(pd.Series([stk, start_price, new_price, act_return], index = act_columns), ignore_index = True)\n"
     ]
    },
    {
     "name": "stdout",
     "output_type": "stream",
     "text": [
      "CNP\n"
     ]
    },
    {
     "name": "stderr",
     "output_type": "stream",
     "text": [
      "/tmp/ipykernel_540/17100239.py:22: FutureWarning: The frame.append method is deprecated and will be removed from pandas in a future version. Use pandas.concat instead.\n",
      "  total_df = total_df.append(pd.Series([stk, start_price, new_price, act_return], index = act_columns), ignore_index = True)\n"
     ]
    },
    {
     "name": "stdout",
     "output_type": "stream",
     "text": [
      "CDAY\n"
     ]
    },
    {
     "name": "stderr",
     "output_type": "stream",
     "text": [
      "/tmp/ipykernel_540/17100239.py:22: FutureWarning: The frame.append method is deprecated and will be removed from pandas in a future version. Use pandas.concat instead.\n",
      "  total_df = total_df.append(pd.Series([stk, start_price, new_price, act_return], index = act_columns), ignore_index = True)\n"
     ]
    },
    {
     "name": "stdout",
     "output_type": "stream",
     "text": [
      "CF\n"
     ]
    },
    {
     "name": "stderr",
     "output_type": "stream",
     "text": [
      "/tmp/ipykernel_540/17100239.py:22: FutureWarning: The frame.append method is deprecated and will be removed from pandas in a future version. Use pandas.concat instead.\n",
      "  total_df = total_df.append(pd.Series([stk, start_price, new_price, act_return], index = act_columns), ignore_index = True)\n"
     ]
    },
    {
     "name": "stdout",
     "output_type": "stream",
     "text": [
      "CRL\n"
     ]
    },
    {
     "name": "stderr",
     "output_type": "stream",
     "text": [
      "/tmp/ipykernel_540/17100239.py:22: FutureWarning: The frame.append method is deprecated and will be removed from pandas in a future version. Use pandas.concat instead.\n",
      "  total_df = total_df.append(pd.Series([stk, start_price, new_price, act_return], index = act_columns), ignore_index = True)\n"
     ]
    },
    {
     "name": "stdout",
     "output_type": "stream",
     "text": [
      "SCHW\n"
     ]
    },
    {
     "name": "stderr",
     "output_type": "stream",
     "text": [
      "/tmp/ipykernel_540/17100239.py:22: FutureWarning: The frame.append method is deprecated and will be removed from pandas in a future version. Use pandas.concat instead.\n",
      "  total_df = total_df.append(pd.Series([stk, start_price, new_price, act_return], index = act_columns), ignore_index = True)\n"
     ]
    },
    {
     "name": "stdout",
     "output_type": "stream",
     "text": [
      "CHTR\n"
     ]
    },
    {
     "name": "stderr",
     "output_type": "stream",
     "text": [
      "/tmp/ipykernel_540/17100239.py:22: FutureWarning: The frame.append method is deprecated and will be removed from pandas in a future version. Use pandas.concat instead.\n",
      "  total_df = total_df.append(pd.Series([stk, start_price, new_price, act_return], index = act_columns), ignore_index = True)\n"
     ]
    },
    {
     "name": "stdout",
     "output_type": "stream",
     "text": [
      "CVX\n"
     ]
    },
    {
     "name": "stderr",
     "output_type": "stream",
     "text": [
      "/tmp/ipykernel_540/17100239.py:22: FutureWarning: The frame.append method is deprecated and will be removed from pandas in a future version. Use pandas.concat instead.\n",
      "  total_df = total_df.append(pd.Series([stk, start_price, new_price, act_return], index = act_columns), ignore_index = True)\n"
     ]
    },
    {
     "name": "stdout",
     "output_type": "stream",
     "text": [
      "CMG\n"
     ]
    },
    {
     "name": "stderr",
     "output_type": "stream",
     "text": [
      "/tmp/ipykernel_540/17100239.py:22: FutureWarning: The frame.append method is deprecated and will be removed from pandas in a future version. Use pandas.concat instead.\n",
      "  total_df = total_df.append(pd.Series([stk, start_price, new_price, act_return], index = act_columns), ignore_index = True)\n"
     ]
    },
    {
     "name": "stdout",
     "output_type": "stream",
     "text": [
      "CB\n"
     ]
    },
    {
     "name": "stderr",
     "output_type": "stream",
     "text": [
      "/tmp/ipykernel_540/17100239.py:22: FutureWarning: The frame.append method is deprecated and will be removed from pandas in a future version. Use pandas.concat instead.\n",
      "  total_df = total_df.append(pd.Series([stk, start_price, new_price, act_return], index = act_columns), ignore_index = True)\n"
     ]
    },
    {
     "name": "stdout",
     "output_type": "stream",
     "text": [
      "CHD\n"
     ]
    },
    {
     "name": "stderr",
     "output_type": "stream",
     "text": [
      "/tmp/ipykernel_540/17100239.py:22: FutureWarning: The frame.append method is deprecated and will be removed from pandas in a future version. Use pandas.concat instead.\n",
      "  total_df = total_df.append(pd.Series([stk, start_price, new_price, act_return], index = act_columns), ignore_index = True)\n"
     ]
    },
    {
     "name": "stdout",
     "output_type": "stream",
     "text": [
      "CI\n"
     ]
    },
    {
     "name": "stderr",
     "output_type": "stream",
     "text": [
      "/tmp/ipykernel_540/17100239.py:22: FutureWarning: The frame.append method is deprecated and will be removed from pandas in a future version. Use pandas.concat instead.\n",
      "  total_df = total_df.append(pd.Series([stk, start_price, new_price, act_return], index = act_columns), ignore_index = True)\n"
     ]
    },
    {
     "name": "stdout",
     "output_type": "stream",
     "text": [
      "CINF\n"
     ]
    },
    {
     "name": "stderr",
     "output_type": "stream",
     "text": [
      "/tmp/ipykernel_540/17100239.py:22: FutureWarning: The frame.append method is deprecated and will be removed from pandas in a future version. Use pandas.concat instead.\n",
      "  total_df = total_df.append(pd.Series([stk, start_price, new_price, act_return], index = act_columns), ignore_index = True)\n"
     ]
    },
    {
     "name": "stdout",
     "output_type": "stream",
     "text": [
      "CTAS\n"
     ]
    },
    {
     "name": "stderr",
     "output_type": "stream",
     "text": [
      "/tmp/ipykernel_540/17100239.py:22: FutureWarning: The frame.append method is deprecated and will be removed from pandas in a future version. Use pandas.concat instead.\n",
      "  total_df = total_df.append(pd.Series([stk, start_price, new_price, act_return], index = act_columns), ignore_index = True)\n"
     ]
    },
    {
     "name": "stdout",
     "output_type": "stream",
     "text": [
      "CSCO\n"
     ]
    },
    {
     "name": "stderr",
     "output_type": "stream",
     "text": [
      "/tmp/ipykernel_540/17100239.py:22: FutureWarning: The frame.append method is deprecated and will be removed from pandas in a future version. Use pandas.concat instead.\n",
      "  total_df = total_df.append(pd.Series([stk, start_price, new_price, act_return], index = act_columns), ignore_index = True)\n"
     ]
    },
    {
     "name": "stdout",
     "output_type": "stream",
     "text": [
      "C\n"
     ]
    },
    {
     "name": "stderr",
     "output_type": "stream",
     "text": [
      "/tmp/ipykernel_540/17100239.py:22: FutureWarning: The frame.append method is deprecated and will be removed from pandas in a future version. Use pandas.concat instead.\n",
      "  total_df = total_df.append(pd.Series([stk, start_price, new_price, act_return], index = act_columns), ignore_index = True)\n"
     ]
    },
    {
     "name": "stdout",
     "output_type": "stream",
     "text": [
      "CFG\n"
     ]
    },
    {
     "name": "stderr",
     "output_type": "stream",
     "text": [
      "/tmp/ipykernel_540/17100239.py:22: FutureWarning: The frame.append method is deprecated and will be removed from pandas in a future version. Use pandas.concat instead.\n",
      "  total_df = total_df.append(pd.Series([stk, start_price, new_price, act_return], index = act_columns), ignore_index = True)\n"
     ]
    },
    {
     "name": "stdout",
     "output_type": "stream",
     "text": [
      "CLX\n"
     ]
    },
    {
     "name": "stderr",
     "output_type": "stream",
     "text": [
      "/tmp/ipykernel_540/17100239.py:22: FutureWarning: The frame.append method is deprecated and will be removed from pandas in a future version. Use pandas.concat instead.\n",
      "  total_df = total_df.append(pd.Series([stk, start_price, new_price, act_return], index = act_columns), ignore_index = True)\n"
     ]
    },
    {
     "name": "stdout",
     "output_type": "stream",
     "text": [
      "CME\n"
     ]
    },
    {
     "name": "stderr",
     "output_type": "stream",
     "text": [
      "/tmp/ipykernel_540/17100239.py:22: FutureWarning: The frame.append method is deprecated and will be removed from pandas in a future version. Use pandas.concat instead.\n",
      "  total_df = total_df.append(pd.Series([stk, start_price, new_price, act_return], index = act_columns), ignore_index = True)\n"
     ]
    },
    {
     "name": "stdout",
     "output_type": "stream",
     "text": [
      "CMS\n"
     ]
    },
    {
     "name": "stderr",
     "output_type": "stream",
     "text": [
      "/tmp/ipykernel_540/17100239.py:22: FutureWarning: The frame.append method is deprecated and will be removed from pandas in a future version. Use pandas.concat instead.\n",
      "  total_df = total_df.append(pd.Series([stk, start_price, new_price, act_return], index = act_columns), ignore_index = True)\n"
     ]
    },
    {
     "name": "stdout",
     "output_type": "stream",
     "text": [
      "KO\n"
     ]
    },
    {
     "name": "stderr",
     "output_type": "stream",
     "text": [
      "/tmp/ipykernel_540/17100239.py:22: FutureWarning: The frame.append method is deprecated and will be removed from pandas in a future version. Use pandas.concat instead.\n",
      "  total_df = total_df.append(pd.Series([stk, start_price, new_price, act_return], index = act_columns), ignore_index = True)\n"
     ]
    },
    {
     "name": "stdout",
     "output_type": "stream",
     "text": [
      "CTSH\n"
     ]
    },
    {
     "name": "stderr",
     "output_type": "stream",
     "text": [
      "/tmp/ipykernel_540/17100239.py:22: FutureWarning: The frame.append method is deprecated and will be removed from pandas in a future version. Use pandas.concat instead.\n",
      "  total_df = total_df.append(pd.Series([stk, start_price, new_price, act_return], index = act_columns), ignore_index = True)\n"
     ]
    },
    {
     "name": "stdout",
     "output_type": "stream",
     "text": [
      "CL\n"
     ]
    },
    {
     "name": "stderr",
     "output_type": "stream",
     "text": [
      "/tmp/ipykernel_540/17100239.py:22: FutureWarning: The frame.append method is deprecated and will be removed from pandas in a future version. Use pandas.concat instead.\n",
      "  total_df = total_df.append(pd.Series([stk, start_price, new_price, act_return], index = act_columns), ignore_index = True)\n"
     ]
    },
    {
     "name": "stdout",
     "output_type": "stream",
     "text": [
      "CMCSA\n"
     ]
    },
    {
     "name": "stderr",
     "output_type": "stream",
     "text": [
      "/tmp/ipykernel_540/17100239.py:22: FutureWarning: The frame.append method is deprecated and will be removed from pandas in a future version. Use pandas.concat instead.\n",
      "  total_df = total_df.append(pd.Series([stk, start_price, new_price, act_return], index = act_columns), ignore_index = True)\n"
     ]
    },
    {
     "name": "stdout",
     "output_type": "stream",
     "text": [
      "CMA\n"
     ]
    },
    {
     "name": "stderr",
     "output_type": "stream",
     "text": [
      "/tmp/ipykernel_540/17100239.py:22: FutureWarning: The frame.append method is deprecated and will be removed from pandas in a future version. Use pandas.concat instead.\n",
      "  total_df = total_df.append(pd.Series([stk, start_price, new_price, act_return], index = act_columns), ignore_index = True)\n"
     ]
    },
    {
     "name": "stdout",
     "output_type": "stream",
     "text": [
      "CAG\n"
     ]
    },
    {
     "name": "stderr",
     "output_type": "stream",
     "text": [
      "/tmp/ipykernel_540/17100239.py:22: FutureWarning: The frame.append method is deprecated and will be removed from pandas in a future version. Use pandas.concat instead.\n",
      "  total_df = total_df.append(pd.Series([stk, start_price, new_price, act_return], index = act_columns), ignore_index = True)\n"
     ]
    },
    {
     "name": "stdout",
     "output_type": "stream",
     "text": [
      "COP\n"
     ]
    },
    {
     "name": "stderr",
     "output_type": "stream",
     "text": [
      "/tmp/ipykernel_540/17100239.py:22: FutureWarning: The frame.append method is deprecated and will be removed from pandas in a future version. Use pandas.concat instead.\n",
      "  total_df = total_df.append(pd.Series([stk, start_price, new_price, act_return], index = act_columns), ignore_index = True)\n"
     ]
    },
    {
     "name": "stdout",
     "output_type": "stream",
     "text": [
      "ED\n"
     ]
    },
    {
     "name": "stderr",
     "output_type": "stream",
     "text": [
      "/tmp/ipykernel_540/17100239.py:22: FutureWarning: The frame.append method is deprecated and will be removed from pandas in a future version. Use pandas.concat instead.\n",
      "  total_df = total_df.append(pd.Series([stk, start_price, new_price, act_return], index = act_columns), ignore_index = True)\n"
     ]
    },
    {
     "name": "stdout",
     "output_type": "stream",
     "text": [
      "STZ\n"
     ]
    },
    {
     "name": "stderr",
     "output_type": "stream",
     "text": [
      "/tmp/ipykernel_540/17100239.py:22: FutureWarning: The frame.append method is deprecated and will be removed from pandas in a future version. Use pandas.concat instead.\n",
      "  total_df = total_df.append(pd.Series([stk, start_price, new_price, act_return], index = act_columns), ignore_index = True)\n"
     ]
    },
    {
     "name": "stdout",
     "output_type": "stream",
     "text": [
      "COO\n"
     ]
    },
    {
     "name": "stderr",
     "output_type": "stream",
     "text": [
      "/tmp/ipykernel_540/17100239.py:22: FutureWarning: The frame.append method is deprecated and will be removed from pandas in a future version. Use pandas.concat instead.\n",
      "  total_df = total_df.append(pd.Series([stk, start_price, new_price, act_return], index = act_columns), ignore_index = True)\n"
     ]
    },
    {
     "name": "stdout",
     "output_type": "stream",
     "text": [
      "CPRT\n"
     ]
    },
    {
     "name": "stderr",
     "output_type": "stream",
     "text": [
      "/tmp/ipykernel_540/17100239.py:22: FutureWarning: The frame.append method is deprecated and will be removed from pandas in a future version. Use pandas.concat instead.\n",
      "  total_df = total_df.append(pd.Series([stk, start_price, new_price, act_return], index = act_columns), ignore_index = True)\n"
     ]
    },
    {
     "name": "stdout",
     "output_type": "stream",
     "text": [
      "GLW\n"
     ]
    },
    {
     "name": "stderr",
     "output_type": "stream",
     "text": [
      "/tmp/ipykernel_540/17100239.py:22: FutureWarning: The frame.append method is deprecated and will be removed from pandas in a future version. Use pandas.concat instead.\n",
      "  total_df = total_df.append(pd.Series([stk, start_price, new_price, act_return], index = act_columns), ignore_index = True)\n"
     ]
    },
    {
     "name": "stdout",
     "output_type": "stream",
     "text": [
      "CTVA\n"
     ]
    },
    {
     "name": "stderr",
     "output_type": "stream",
     "text": [
      "/tmp/ipykernel_540/17100239.py:22: FutureWarning: The frame.append method is deprecated and will be removed from pandas in a future version. Use pandas.concat instead.\n",
      "  total_df = total_df.append(pd.Series([stk, start_price, new_price, act_return], index = act_columns), ignore_index = True)\n"
     ]
    },
    {
     "name": "stdout",
     "output_type": "stream",
     "text": [
      "CSGP\n"
     ]
    },
    {
     "name": "stderr",
     "output_type": "stream",
     "text": [
      "/tmp/ipykernel_540/17100239.py:22: FutureWarning: The frame.append method is deprecated and will be removed from pandas in a future version. Use pandas.concat instead.\n",
      "  total_df = total_df.append(pd.Series([stk, start_price, new_price, act_return], index = act_columns), ignore_index = True)\n"
     ]
    },
    {
     "name": "stdout",
     "output_type": "stream",
     "text": [
      "COST\n"
     ]
    },
    {
     "name": "stderr",
     "output_type": "stream",
     "text": [
      "/tmp/ipykernel_540/17100239.py:22: FutureWarning: The frame.append method is deprecated and will be removed from pandas in a future version. Use pandas.concat instead.\n",
      "  total_df = total_df.append(pd.Series([stk, start_price, new_price, act_return], index = act_columns), ignore_index = True)\n"
     ]
    },
    {
     "name": "stdout",
     "output_type": "stream",
     "text": [
      "CTRA\n"
     ]
    },
    {
     "name": "stderr",
     "output_type": "stream",
     "text": [
      "/tmp/ipykernel_540/17100239.py:22: FutureWarning: The frame.append method is deprecated and will be removed from pandas in a future version. Use pandas.concat instead.\n",
      "  total_df = total_df.append(pd.Series([stk, start_price, new_price, act_return], index = act_columns), ignore_index = True)\n"
     ]
    },
    {
     "name": "stdout",
     "output_type": "stream",
     "text": [
      "CCI\n"
     ]
    },
    {
     "name": "stderr",
     "output_type": "stream",
     "text": [
      "/tmp/ipykernel_540/17100239.py:22: FutureWarning: The frame.append method is deprecated and will be removed from pandas in a future version. Use pandas.concat instead.\n",
      "  total_df = total_df.append(pd.Series([stk, start_price, new_price, act_return], index = act_columns), ignore_index = True)\n"
     ]
    },
    {
     "name": "stdout",
     "output_type": "stream",
     "text": [
      "CSX\n"
     ]
    },
    {
     "name": "stderr",
     "output_type": "stream",
     "text": [
      "/tmp/ipykernel_540/17100239.py:22: FutureWarning: The frame.append method is deprecated and will be removed from pandas in a future version. Use pandas.concat instead.\n",
      "  total_df = total_df.append(pd.Series([stk, start_price, new_price, act_return], index = act_columns), ignore_index = True)\n"
     ]
    },
    {
     "name": "stdout",
     "output_type": "stream",
     "text": [
      "CMI\n"
     ]
    },
    {
     "name": "stderr",
     "output_type": "stream",
     "text": [
      "/tmp/ipykernel_540/17100239.py:22: FutureWarning: The frame.append method is deprecated and will be removed from pandas in a future version. Use pandas.concat instead.\n",
      "  total_df = total_df.append(pd.Series([stk, start_price, new_price, act_return], index = act_columns), ignore_index = True)\n"
     ]
    },
    {
     "name": "stdout",
     "output_type": "stream",
     "text": [
      "CVS\n"
     ]
    },
    {
     "name": "stderr",
     "output_type": "stream",
     "text": [
      "/tmp/ipykernel_540/17100239.py:22: FutureWarning: The frame.append method is deprecated and will be removed from pandas in a future version. Use pandas.concat instead.\n",
      "  total_df = total_df.append(pd.Series([stk, start_price, new_price, act_return], index = act_columns), ignore_index = True)\n"
     ]
    },
    {
     "name": "stdout",
     "output_type": "stream",
     "text": [
      "DHI\n"
     ]
    },
    {
     "name": "stderr",
     "output_type": "stream",
     "text": [
      "/tmp/ipykernel_540/17100239.py:22: FutureWarning: The frame.append method is deprecated and will be removed from pandas in a future version. Use pandas.concat instead.\n",
      "  total_df = total_df.append(pd.Series([stk, start_price, new_price, act_return], index = act_columns), ignore_index = True)\n"
     ]
    },
    {
     "name": "stdout",
     "output_type": "stream",
     "text": [
      "DHR\n"
     ]
    },
    {
     "name": "stderr",
     "output_type": "stream",
     "text": [
      "/tmp/ipykernel_540/17100239.py:22: FutureWarning: The frame.append method is deprecated and will be removed from pandas in a future version. Use pandas.concat instead.\n",
      "  total_df = total_df.append(pd.Series([stk, start_price, new_price, act_return], index = act_columns), ignore_index = True)\n"
     ]
    },
    {
     "name": "stdout",
     "output_type": "stream",
     "text": [
      "DRI\n"
     ]
    },
    {
     "name": "stderr",
     "output_type": "stream",
     "text": [
      "/tmp/ipykernel_540/17100239.py:22: FutureWarning: The frame.append method is deprecated and will be removed from pandas in a future version. Use pandas.concat instead.\n",
      "  total_df = total_df.append(pd.Series([stk, start_price, new_price, act_return], index = act_columns), ignore_index = True)\n"
     ]
    },
    {
     "name": "stdout",
     "output_type": "stream",
     "text": [
      "DVA\n"
     ]
    },
    {
     "name": "stderr",
     "output_type": "stream",
     "text": [
      "/tmp/ipykernel_540/17100239.py:22: FutureWarning: The frame.append method is deprecated and will be removed from pandas in a future version. Use pandas.concat instead.\n",
      "  total_df = total_df.append(pd.Series([stk, start_price, new_price, act_return], index = act_columns), ignore_index = True)\n"
     ]
    },
    {
     "name": "stdout",
     "output_type": "stream",
     "text": [
      "DE\n"
     ]
    },
    {
     "name": "stderr",
     "output_type": "stream",
     "text": [
      "/tmp/ipykernel_540/17100239.py:22: FutureWarning: The frame.append method is deprecated and will be removed from pandas in a future version. Use pandas.concat instead.\n",
      "  total_df = total_df.append(pd.Series([stk, start_price, new_price, act_return], index = act_columns), ignore_index = True)\n"
     ]
    },
    {
     "name": "stdout",
     "output_type": "stream",
     "text": [
      "DAL\n"
     ]
    },
    {
     "name": "stderr",
     "output_type": "stream",
     "text": [
      "/tmp/ipykernel_540/17100239.py:22: FutureWarning: The frame.append method is deprecated and will be removed from pandas in a future version. Use pandas.concat instead.\n",
      "  total_df = total_df.append(pd.Series([stk, start_price, new_price, act_return], index = act_columns), ignore_index = True)\n"
     ]
    },
    {
     "name": "stdout",
     "output_type": "stream",
     "text": [
      "XRAY\n"
     ]
    },
    {
     "name": "stderr",
     "output_type": "stream",
     "text": [
      "/tmp/ipykernel_540/17100239.py:22: FutureWarning: The frame.append method is deprecated and will be removed from pandas in a future version. Use pandas.concat instead.\n",
      "  total_df = total_df.append(pd.Series([stk, start_price, new_price, act_return], index = act_columns), ignore_index = True)\n"
     ]
    },
    {
     "name": "stdout",
     "output_type": "stream",
     "text": [
      "DVN\n"
     ]
    },
    {
     "name": "stderr",
     "output_type": "stream",
     "text": [
      "/tmp/ipykernel_540/17100239.py:22: FutureWarning: The frame.append method is deprecated and will be removed from pandas in a future version. Use pandas.concat instead.\n",
      "  total_df = total_df.append(pd.Series([stk, start_price, new_price, act_return], index = act_columns), ignore_index = True)\n"
     ]
    },
    {
     "name": "stdout",
     "output_type": "stream",
     "text": [
      "DXCM\n"
     ]
    },
    {
     "name": "stderr",
     "output_type": "stream",
     "text": [
      "/tmp/ipykernel_540/17100239.py:22: FutureWarning: The frame.append method is deprecated and will be removed from pandas in a future version. Use pandas.concat instead.\n",
      "  total_df = total_df.append(pd.Series([stk, start_price, new_price, act_return], index = act_columns), ignore_index = True)\n"
     ]
    },
    {
     "name": "stdout",
     "output_type": "stream",
     "text": [
      "FANG\n"
     ]
    },
    {
     "name": "stderr",
     "output_type": "stream",
     "text": [
      "/tmp/ipykernel_540/17100239.py:22: FutureWarning: The frame.append method is deprecated and will be removed from pandas in a future version. Use pandas.concat instead.\n",
      "  total_df = total_df.append(pd.Series([stk, start_price, new_price, act_return], index = act_columns), ignore_index = True)\n"
     ]
    },
    {
     "name": "stdout",
     "output_type": "stream",
     "text": [
      "DLR\n"
     ]
    },
    {
     "name": "stderr",
     "output_type": "stream",
     "text": [
      "/tmp/ipykernel_540/17100239.py:22: FutureWarning: The frame.append method is deprecated and will be removed from pandas in a future version. Use pandas.concat instead.\n",
      "  total_df = total_df.append(pd.Series([stk, start_price, new_price, act_return], index = act_columns), ignore_index = True)\n"
     ]
    },
    {
     "name": "stdout",
     "output_type": "stream",
     "text": [
      "DFS\n"
     ]
    },
    {
     "name": "stderr",
     "output_type": "stream",
     "text": [
      "/tmp/ipykernel_540/17100239.py:22: FutureWarning: The frame.append method is deprecated and will be removed from pandas in a future version. Use pandas.concat instead.\n",
      "  total_df = total_df.append(pd.Series([stk, start_price, new_price, act_return], index = act_columns), ignore_index = True)\n"
     ]
    },
    {
     "name": "stdout",
     "output_type": "stream",
     "text": [
      "DIS\n"
     ]
    },
    {
     "name": "stderr",
     "output_type": "stream",
     "text": [
      "/tmp/ipykernel_540/17100239.py:22: FutureWarning: The frame.append method is deprecated and will be removed from pandas in a future version. Use pandas.concat instead.\n",
      "  total_df = total_df.append(pd.Series([stk, start_price, new_price, act_return], index = act_columns), ignore_index = True)\n"
     ]
    },
    {
     "name": "stdout",
     "output_type": "stream",
     "text": [
      "DG\n"
     ]
    },
    {
     "name": "stderr",
     "output_type": "stream",
     "text": [
      "/tmp/ipykernel_540/17100239.py:22: FutureWarning: The frame.append method is deprecated and will be removed from pandas in a future version. Use pandas.concat instead.\n",
      "  total_df = total_df.append(pd.Series([stk, start_price, new_price, act_return], index = act_columns), ignore_index = True)\n"
     ]
    },
    {
     "name": "stdout",
     "output_type": "stream",
     "text": [
      "DLTR\n"
     ]
    },
    {
     "name": "stderr",
     "output_type": "stream",
     "text": [
      "/tmp/ipykernel_540/17100239.py:22: FutureWarning: The frame.append method is deprecated and will be removed from pandas in a future version. Use pandas.concat instead.\n",
      "  total_df = total_df.append(pd.Series([stk, start_price, new_price, act_return], index = act_columns), ignore_index = True)\n"
     ]
    },
    {
     "name": "stdout",
     "output_type": "stream",
     "text": [
      "D\n"
     ]
    },
    {
     "name": "stderr",
     "output_type": "stream",
     "text": [
      "/tmp/ipykernel_540/17100239.py:22: FutureWarning: The frame.append method is deprecated and will be removed from pandas in a future version. Use pandas.concat instead.\n",
      "  total_df = total_df.append(pd.Series([stk, start_price, new_price, act_return], index = act_columns), ignore_index = True)\n"
     ]
    },
    {
     "name": "stdout",
     "output_type": "stream",
     "text": [
      "DPZ\n"
     ]
    },
    {
     "name": "stderr",
     "output_type": "stream",
     "text": [
      "/tmp/ipykernel_540/17100239.py:22: FutureWarning: The frame.append method is deprecated and will be removed from pandas in a future version. Use pandas.concat instead.\n",
      "  total_df = total_df.append(pd.Series([stk, start_price, new_price, act_return], index = act_columns), ignore_index = True)\n"
     ]
    },
    {
     "name": "stdout",
     "output_type": "stream",
     "text": [
      "DOV\n"
     ]
    },
    {
     "name": "stderr",
     "output_type": "stream",
     "text": [
      "/tmp/ipykernel_540/17100239.py:22: FutureWarning: The frame.append method is deprecated and will be removed from pandas in a future version. Use pandas.concat instead.\n",
      "  total_df = total_df.append(pd.Series([stk, start_price, new_price, act_return], index = act_columns), ignore_index = True)\n"
     ]
    },
    {
     "name": "stdout",
     "output_type": "stream",
     "text": [
      "DOW\n"
     ]
    },
    {
     "name": "stderr",
     "output_type": "stream",
     "text": [
      "/tmp/ipykernel_540/17100239.py:22: FutureWarning: The frame.append method is deprecated and will be removed from pandas in a future version. Use pandas.concat instead.\n",
      "  total_df = total_df.append(pd.Series([stk, start_price, new_price, act_return], index = act_columns), ignore_index = True)\n"
     ]
    },
    {
     "name": "stdout",
     "output_type": "stream",
     "text": [
      "DTE\n"
     ]
    },
    {
     "name": "stderr",
     "output_type": "stream",
     "text": [
      "/tmp/ipykernel_540/17100239.py:22: FutureWarning: The frame.append method is deprecated and will be removed from pandas in a future version. Use pandas.concat instead.\n",
      "  total_df = total_df.append(pd.Series([stk, start_price, new_price, act_return], index = act_columns), ignore_index = True)\n"
     ]
    },
    {
     "name": "stdout",
     "output_type": "stream",
     "text": [
      "DUK\n"
     ]
    },
    {
     "name": "stderr",
     "output_type": "stream",
     "text": [
      "/tmp/ipykernel_540/17100239.py:22: FutureWarning: The frame.append method is deprecated and will be removed from pandas in a future version. Use pandas.concat instead.\n",
      "  total_df = total_df.append(pd.Series([stk, start_price, new_price, act_return], index = act_columns), ignore_index = True)\n"
     ]
    },
    {
     "name": "stdout",
     "output_type": "stream",
     "text": [
      "DD\n"
     ]
    },
    {
     "name": "stderr",
     "output_type": "stream",
     "text": [
      "/tmp/ipykernel_540/17100239.py:22: FutureWarning: The frame.append method is deprecated and will be removed from pandas in a future version. Use pandas.concat instead.\n",
      "  total_df = total_df.append(pd.Series([stk, start_price, new_price, act_return], index = act_columns), ignore_index = True)\n"
     ]
    },
    {
     "name": "stdout",
     "output_type": "stream",
     "text": [
      "EMN\n"
     ]
    },
    {
     "name": "stderr",
     "output_type": "stream",
     "text": [
      "/tmp/ipykernel_540/17100239.py:22: FutureWarning: The frame.append method is deprecated and will be removed from pandas in a future version. Use pandas.concat instead.\n",
      "  total_df = total_df.append(pd.Series([stk, start_price, new_price, act_return], index = act_columns), ignore_index = True)\n"
     ]
    },
    {
     "name": "stdout",
     "output_type": "stream",
     "text": [
      "ETN\n"
     ]
    },
    {
     "name": "stderr",
     "output_type": "stream",
     "text": [
      "/tmp/ipykernel_540/17100239.py:22: FutureWarning: The frame.append method is deprecated and will be removed from pandas in a future version. Use pandas.concat instead.\n",
      "  total_df = total_df.append(pd.Series([stk, start_price, new_price, act_return], index = act_columns), ignore_index = True)\n"
     ]
    },
    {
     "name": "stdout",
     "output_type": "stream",
     "text": [
      "EBAY\n"
     ]
    },
    {
     "name": "stderr",
     "output_type": "stream",
     "text": [
      "/tmp/ipykernel_540/17100239.py:22: FutureWarning: The frame.append method is deprecated and will be removed from pandas in a future version. Use pandas.concat instead.\n",
      "  total_df = total_df.append(pd.Series([stk, start_price, new_price, act_return], index = act_columns), ignore_index = True)\n"
     ]
    },
    {
     "name": "stdout",
     "output_type": "stream",
     "text": [
      "ECL\n"
     ]
    },
    {
     "name": "stderr",
     "output_type": "stream",
     "text": [
      "/tmp/ipykernel_540/17100239.py:22: FutureWarning: The frame.append method is deprecated and will be removed from pandas in a future version. Use pandas.concat instead.\n",
      "  total_df = total_df.append(pd.Series([stk, start_price, new_price, act_return], index = act_columns), ignore_index = True)\n"
     ]
    },
    {
     "name": "stdout",
     "output_type": "stream",
     "text": [
      "EIX\n"
     ]
    },
    {
     "name": "stderr",
     "output_type": "stream",
     "text": [
      "/tmp/ipykernel_540/17100239.py:22: FutureWarning: The frame.append method is deprecated and will be removed from pandas in a future version. Use pandas.concat instead.\n",
      "  total_df = total_df.append(pd.Series([stk, start_price, new_price, act_return], index = act_columns), ignore_index = True)\n"
     ]
    },
    {
     "name": "stdout",
     "output_type": "stream",
     "text": [
      "EW\n"
     ]
    },
    {
     "name": "stderr",
     "output_type": "stream",
     "text": [
      "/tmp/ipykernel_540/17100239.py:22: FutureWarning: The frame.append method is deprecated and will be removed from pandas in a future version. Use pandas.concat instead.\n",
      "  total_df = total_df.append(pd.Series([stk, start_price, new_price, act_return], index = act_columns), ignore_index = True)\n"
     ]
    },
    {
     "name": "stdout",
     "output_type": "stream",
     "text": [
      "EA\n"
     ]
    },
    {
     "name": "stderr",
     "output_type": "stream",
     "text": [
      "/tmp/ipykernel_540/17100239.py:22: FutureWarning: The frame.append method is deprecated and will be removed from pandas in a future version. Use pandas.concat instead.\n",
      "  total_df = total_df.append(pd.Series([stk, start_price, new_price, act_return], index = act_columns), ignore_index = True)\n"
     ]
    },
    {
     "name": "stdout",
     "output_type": "stream",
     "text": [
      "LLY\n"
     ]
    },
    {
     "name": "stderr",
     "output_type": "stream",
     "text": [
      "/tmp/ipykernel_540/17100239.py:22: FutureWarning: The frame.append method is deprecated and will be removed from pandas in a future version. Use pandas.concat instead.\n",
      "  total_df = total_df.append(pd.Series([stk, start_price, new_price, act_return], index = act_columns), ignore_index = True)\n"
     ]
    },
    {
     "name": "stdout",
     "output_type": "stream",
     "text": [
      "EMR\n"
     ]
    },
    {
     "name": "stderr",
     "output_type": "stream",
     "text": [
      "/tmp/ipykernel_540/17100239.py:22: FutureWarning: The frame.append method is deprecated and will be removed from pandas in a future version. Use pandas.concat instead.\n",
      "  total_df = total_df.append(pd.Series([stk, start_price, new_price, act_return], index = act_columns), ignore_index = True)\n"
     ]
    },
    {
     "name": "stdout",
     "output_type": "stream",
     "text": [
      "ENPH\n"
     ]
    },
    {
     "name": "stderr",
     "output_type": "stream",
     "text": [
      "/tmp/ipykernel_540/17100239.py:22: FutureWarning: The frame.append method is deprecated and will be removed from pandas in a future version. Use pandas.concat instead.\n",
      "  total_df = total_df.append(pd.Series([stk, start_price, new_price, act_return], index = act_columns), ignore_index = True)\n"
     ]
    },
    {
     "name": "stdout",
     "output_type": "stream",
     "text": [
      "ETR\n"
     ]
    },
    {
     "name": "stderr",
     "output_type": "stream",
     "text": [
      "/tmp/ipykernel_540/17100239.py:22: FutureWarning: The frame.append method is deprecated and will be removed from pandas in a future version. Use pandas.concat instead.\n",
      "  total_df = total_df.append(pd.Series([stk, start_price, new_price, act_return], index = act_columns), ignore_index = True)\n"
     ]
    },
    {
     "name": "stdout",
     "output_type": "stream",
     "text": [
      "EOG\n"
     ]
    },
    {
     "name": "stderr",
     "output_type": "stream",
     "text": [
      "/tmp/ipykernel_540/17100239.py:22: FutureWarning: The frame.append method is deprecated and will be removed from pandas in a future version. Use pandas.concat instead.\n",
      "  total_df = total_df.append(pd.Series([stk, start_price, new_price, act_return], index = act_columns), ignore_index = True)\n"
     ]
    },
    {
     "name": "stdout",
     "output_type": "stream",
     "text": [
      "EPAM\n"
     ]
    },
    {
     "name": "stderr",
     "output_type": "stream",
     "text": [
      "/tmp/ipykernel_540/17100239.py:22: FutureWarning: The frame.append method is deprecated and will be removed from pandas in a future version. Use pandas.concat instead.\n",
      "  total_df = total_df.append(pd.Series([stk, start_price, new_price, act_return], index = act_columns), ignore_index = True)\n"
     ]
    },
    {
     "name": "stdout",
     "output_type": "stream",
     "text": [
      "EQT\n"
     ]
    },
    {
     "name": "stderr",
     "output_type": "stream",
     "text": [
      "/tmp/ipykernel_540/17100239.py:22: FutureWarning: The frame.append method is deprecated and will be removed from pandas in a future version. Use pandas.concat instead.\n",
      "  total_df = total_df.append(pd.Series([stk, start_price, new_price, act_return], index = act_columns), ignore_index = True)\n"
     ]
    },
    {
     "name": "stdout",
     "output_type": "stream",
     "text": [
      "EFX\n"
     ]
    },
    {
     "name": "stderr",
     "output_type": "stream",
     "text": [
      "/tmp/ipykernel_540/17100239.py:22: FutureWarning: The frame.append method is deprecated and will be removed from pandas in a future version. Use pandas.concat instead.\n",
      "  total_df = total_df.append(pd.Series([stk, start_price, new_price, act_return], index = act_columns), ignore_index = True)\n"
     ]
    },
    {
     "name": "stdout",
     "output_type": "stream",
     "text": [
      "EQIX\n"
     ]
    },
    {
     "name": "stderr",
     "output_type": "stream",
     "text": [
      "/tmp/ipykernel_540/17100239.py:22: FutureWarning: The frame.append method is deprecated and will be removed from pandas in a future version. Use pandas.concat instead.\n",
      "  total_df = total_df.append(pd.Series([stk, start_price, new_price, act_return], index = act_columns), ignore_index = True)\n"
     ]
    },
    {
     "name": "stdout",
     "output_type": "stream",
     "text": [
      "EQR\n"
     ]
    },
    {
     "name": "stderr",
     "output_type": "stream",
     "text": [
      "/tmp/ipykernel_540/17100239.py:22: FutureWarning: The frame.append method is deprecated and will be removed from pandas in a future version. Use pandas.concat instead.\n",
      "  total_df = total_df.append(pd.Series([stk, start_price, new_price, act_return], index = act_columns), ignore_index = True)\n"
     ]
    },
    {
     "name": "stdout",
     "output_type": "stream",
     "text": [
      "ESS\n"
     ]
    },
    {
     "name": "stderr",
     "output_type": "stream",
     "text": [
      "/tmp/ipykernel_540/17100239.py:22: FutureWarning: The frame.append method is deprecated and will be removed from pandas in a future version. Use pandas.concat instead.\n",
      "  total_df = total_df.append(pd.Series([stk, start_price, new_price, act_return], index = act_columns), ignore_index = True)\n"
     ]
    },
    {
     "name": "stdout",
     "output_type": "stream",
     "text": [
      "EL\n"
     ]
    },
    {
     "name": "stderr",
     "output_type": "stream",
     "text": [
      "/tmp/ipykernel_540/17100239.py:22: FutureWarning: The frame.append method is deprecated and will be removed from pandas in a future version. Use pandas.concat instead.\n",
      "  total_df = total_df.append(pd.Series([stk, start_price, new_price, act_return], index = act_columns), ignore_index = True)\n"
     ]
    },
    {
     "name": "stdout",
     "output_type": "stream",
     "text": [
      "ETSY\n"
     ]
    },
    {
     "name": "stderr",
     "output_type": "stream",
     "text": [
      "/tmp/ipykernel_540/17100239.py:22: FutureWarning: The frame.append method is deprecated and will be removed from pandas in a future version. Use pandas.concat instead.\n",
      "  total_df = total_df.append(pd.Series([stk, start_price, new_price, act_return], index = act_columns), ignore_index = True)\n"
     ]
    },
    {
     "name": "stdout",
     "output_type": "stream",
     "text": [
      "EVRG\n"
     ]
    },
    {
     "name": "stderr",
     "output_type": "stream",
     "text": [
      "/tmp/ipykernel_540/17100239.py:22: FutureWarning: The frame.append method is deprecated and will be removed from pandas in a future version. Use pandas.concat instead.\n",
      "  total_df = total_df.append(pd.Series([stk, start_price, new_price, act_return], index = act_columns), ignore_index = True)\n"
     ]
    },
    {
     "name": "stdout",
     "output_type": "stream",
     "text": [
      "ES\n"
     ]
    },
    {
     "name": "stderr",
     "output_type": "stream",
     "text": [
      "/tmp/ipykernel_540/17100239.py:22: FutureWarning: The frame.append method is deprecated and will be removed from pandas in a future version. Use pandas.concat instead.\n",
      "  total_df = total_df.append(pd.Series([stk, start_price, new_price, act_return], index = act_columns), ignore_index = True)\n"
     ]
    },
    {
     "name": "stdout",
     "output_type": "stream",
     "text": [
      "EXC\n"
     ]
    },
    {
     "name": "stderr",
     "output_type": "stream",
     "text": [
      "/tmp/ipykernel_540/17100239.py:22: FutureWarning: The frame.append method is deprecated and will be removed from pandas in a future version. Use pandas.concat instead.\n",
      "  total_df = total_df.append(pd.Series([stk, start_price, new_price, act_return], index = act_columns), ignore_index = True)\n"
     ]
    },
    {
     "name": "stdout",
     "output_type": "stream",
     "text": [
      "EXPE\n"
     ]
    },
    {
     "name": "stderr",
     "output_type": "stream",
     "text": [
      "/tmp/ipykernel_540/17100239.py:22: FutureWarning: The frame.append method is deprecated and will be removed from pandas in a future version. Use pandas.concat instead.\n",
      "  total_df = total_df.append(pd.Series([stk, start_price, new_price, act_return], index = act_columns), ignore_index = True)\n"
     ]
    },
    {
     "name": "stdout",
     "output_type": "stream",
     "text": [
      "EXPD\n"
     ]
    },
    {
     "name": "stderr",
     "output_type": "stream",
     "text": [
      "/tmp/ipykernel_540/17100239.py:22: FutureWarning: The frame.append method is deprecated and will be removed from pandas in a future version. Use pandas.concat instead.\n",
      "  total_df = total_df.append(pd.Series([stk, start_price, new_price, act_return], index = act_columns), ignore_index = True)\n"
     ]
    },
    {
     "name": "stdout",
     "output_type": "stream",
     "text": [
      "EXR\n"
     ]
    },
    {
     "name": "stderr",
     "output_type": "stream",
     "text": [
      "/tmp/ipykernel_540/17100239.py:22: FutureWarning: The frame.append method is deprecated and will be removed from pandas in a future version. Use pandas.concat instead.\n",
      "  total_df = total_df.append(pd.Series([stk, start_price, new_price, act_return], index = act_columns), ignore_index = True)\n"
     ]
    },
    {
     "name": "stdout",
     "output_type": "stream",
     "text": [
      "XOM\n"
     ]
    },
    {
     "name": "stderr",
     "output_type": "stream",
     "text": [
      "/tmp/ipykernel_540/17100239.py:22: FutureWarning: The frame.append method is deprecated and will be removed from pandas in a future version. Use pandas.concat instead.\n",
      "  total_df = total_df.append(pd.Series([stk, start_price, new_price, act_return], index = act_columns), ignore_index = True)\n"
     ]
    },
    {
     "name": "stdout",
     "output_type": "stream",
     "text": [
      "FFIV\n"
     ]
    },
    {
     "name": "stderr",
     "output_type": "stream",
     "text": [
      "/tmp/ipykernel_540/17100239.py:22: FutureWarning: The frame.append method is deprecated and will be removed from pandas in a future version. Use pandas.concat instead.\n",
      "  total_df = total_df.append(pd.Series([stk, start_price, new_price, act_return], index = act_columns), ignore_index = True)\n"
     ]
    },
    {
     "name": "stdout",
     "output_type": "stream",
     "text": [
      "FDS\n"
     ]
    },
    {
     "name": "stderr",
     "output_type": "stream",
     "text": [
      "/tmp/ipykernel_540/17100239.py:22: FutureWarning: The frame.append method is deprecated and will be removed from pandas in a future version. Use pandas.concat instead.\n",
      "  total_df = total_df.append(pd.Series([stk, start_price, new_price, act_return], index = act_columns), ignore_index = True)\n"
     ]
    },
    {
     "name": "stdout",
     "output_type": "stream",
     "text": [
      "FICO\n"
     ]
    },
    {
     "name": "stderr",
     "output_type": "stream",
     "text": [
      "/tmp/ipykernel_540/17100239.py:22: FutureWarning: The frame.append method is deprecated and will be removed from pandas in a future version. Use pandas.concat instead.\n",
      "  total_df = total_df.append(pd.Series([stk, start_price, new_price, act_return], index = act_columns), ignore_index = True)\n"
     ]
    },
    {
     "name": "stdout",
     "output_type": "stream",
     "text": [
      "FAST\n"
     ]
    },
    {
     "name": "stderr",
     "output_type": "stream",
     "text": [
      "/tmp/ipykernel_540/17100239.py:22: FutureWarning: The frame.append method is deprecated and will be removed from pandas in a future version. Use pandas.concat instead.\n",
      "  total_df = total_df.append(pd.Series([stk, start_price, new_price, act_return], index = act_columns), ignore_index = True)\n"
     ]
    },
    {
     "name": "stdout",
     "output_type": "stream",
     "text": [
      "FRT\n"
     ]
    },
    {
     "name": "stderr",
     "output_type": "stream",
     "text": [
      "/tmp/ipykernel_540/17100239.py:22: FutureWarning: The frame.append method is deprecated and will be removed from pandas in a future version. Use pandas.concat instead.\n",
      "  total_df = total_df.append(pd.Series([stk, start_price, new_price, act_return], index = act_columns), ignore_index = True)\n"
     ]
    },
    {
     "name": "stdout",
     "output_type": "stream",
     "text": [
      "FDX\n"
     ]
    },
    {
     "name": "stderr",
     "output_type": "stream",
     "text": [
      "/tmp/ipykernel_540/17100239.py:22: FutureWarning: The frame.append method is deprecated and will be removed from pandas in a future version. Use pandas.concat instead.\n",
      "  total_df = total_df.append(pd.Series([stk, start_price, new_price, act_return], index = act_columns), ignore_index = True)\n"
     ]
    },
    {
     "name": "stdout",
     "output_type": "stream",
     "text": [
      "FITB\n"
     ]
    },
    {
     "name": "stderr",
     "output_type": "stream",
     "text": [
      "/tmp/ipykernel_540/17100239.py:22: FutureWarning: The frame.append method is deprecated and will be removed from pandas in a future version. Use pandas.concat instead.\n",
      "  total_df = total_df.append(pd.Series([stk, start_price, new_price, act_return], index = act_columns), ignore_index = True)\n"
     ]
    },
    {
     "name": "stdout",
     "output_type": "stream",
     "text": [
      "FSLR\n"
     ]
    },
    {
     "name": "stderr",
     "output_type": "stream",
     "text": [
      "/tmp/ipykernel_540/17100239.py:22: FutureWarning: The frame.append method is deprecated and will be removed from pandas in a future version. Use pandas.concat instead.\n",
      "  total_df = total_df.append(pd.Series([stk, start_price, new_price, act_return], index = act_columns), ignore_index = True)\n"
     ]
    },
    {
     "name": "stdout",
     "output_type": "stream",
     "text": [
      "FE\n"
     ]
    },
    {
     "name": "stderr",
     "output_type": "stream",
     "text": [
      "/tmp/ipykernel_540/17100239.py:22: FutureWarning: The frame.append method is deprecated and will be removed from pandas in a future version. Use pandas.concat instead.\n",
      "  total_df = total_df.append(pd.Series([stk, start_price, new_price, act_return], index = act_columns), ignore_index = True)\n"
     ]
    },
    {
     "name": "stdout",
     "output_type": "stream",
     "text": [
      "FIS\n"
     ]
    },
    {
     "name": "stderr",
     "output_type": "stream",
     "text": [
      "/tmp/ipykernel_540/17100239.py:22: FutureWarning: The frame.append method is deprecated and will be removed from pandas in a future version. Use pandas.concat instead.\n",
      "  total_df = total_df.append(pd.Series([stk, start_price, new_price, act_return], index = act_columns), ignore_index = True)\n"
     ]
    },
    {
     "name": "stdout",
     "output_type": "stream",
     "text": [
      "FLT\n"
     ]
    },
    {
     "name": "stderr",
     "output_type": "stream",
     "text": [
      "/tmp/ipykernel_540/17100239.py:22: FutureWarning: The frame.append method is deprecated and will be removed from pandas in a future version. Use pandas.concat instead.\n",
      "  total_df = total_df.append(pd.Series([stk, start_price, new_price, act_return], index = act_columns), ignore_index = True)\n"
     ]
    },
    {
     "name": "stdout",
     "output_type": "stream",
     "text": [
      "FMC\n"
     ]
    },
    {
     "name": "stderr",
     "output_type": "stream",
     "text": [
      "/tmp/ipykernel_540/17100239.py:22: FutureWarning: The frame.append method is deprecated and will be removed from pandas in a future version. Use pandas.concat instead.\n",
      "  total_df = total_df.append(pd.Series([stk, start_price, new_price, act_return], index = act_columns), ignore_index = True)\n"
     ]
    },
    {
     "name": "stdout",
     "output_type": "stream",
     "text": [
      "F\n"
     ]
    },
    {
     "name": "stderr",
     "output_type": "stream",
     "text": [
      "/tmp/ipykernel_540/17100239.py:22: FutureWarning: The frame.append method is deprecated and will be removed from pandas in a future version. Use pandas.concat instead.\n",
      "  total_df = total_df.append(pd.Series([stk, start_price, new_price, act_return], index = act_columns), ignore_index = True)\n"
     ]
    },
    {
     "name": "stdout",
     "output_type": "stream",
     "text": [
      "FTNT\n"
     ]
    },
    {
     "name": "stderr",
     "output_type": "stream",
     "text": [
      "/tmp/ipykernel_540/17100239.py:22: FutureWarning: The frame.append method is deprecated and will be removed from pandas in a future version. Use pandas.concat instead.\n",
      "  total_df = total_df.append(pd.Series([stk, start_price, new_price, act_return], index = act_columns), ignore_index = True)\n"
     ]
    },
    {
     "name": "stdout",
     "output_type": "stream",
     "text": [
      "FTV\n"
     ]
    },
    {
     "name": "stderr",
     "output_type": "stream",
     "text": [
      "/tmp/ipykernel_540/17100239.py:22: FutureWarning: The frame.append method is deprecated and will be removed from pandas in a future version. Use pandas.concat instead.\n",
      "  total_df = total_df.append(pd.Series([stk, start_price, new_price, act_return], index = act_columns), ignore_index = True)\n"
     ]
    },
    {
     "name": "stdout",
     "output_type": "stream",
     "text": [
      "FOXA\n"
     ]
    },
    {
     "name": "stderr",
     "output_type": "stream",
     "text": [
      "/tmp/ipykernel_540/17100239.py:22: FutureWarning: The frame.append method is deprecated and will be removed from pandas in a future version. Use pandas.concat instead.\n",
      "  total_df = total_df.append(pd.Series([stk, start_price, new_price, act_return], index = act_columns), ignore_index = True)\n"
     ]
    },
    {
     "name": "stdout",
     "output_type": "stream",
     "text": [
      "FOX\n"
     ]
    },
    {
     "name": "stderr",
     "output_type": "stream",
     "text": [
      "/tmp/ipykernel_540/17100239.py:22: FutureWarning: The frame.append method is deprecated and will be removed from pandas in a future version. Use pandas.concat instead.\n",
      "  total_df = total_df.append(pd.Series([stk, start_price, new_price, act_return], index = act_columns), ignore_index = True)\n"
     ]
    },
    {
     "name": "stdout",
     "output_type": "stream",
     "text": [
      "BEN\n"
     ]
    },
    {
     "name": "stderr",
     "output_type": "stream",
     "text": [
      "/tmp/ipykernel_540/17100239.py:22: FutureWarning: The frame.append method is deprecated and will be removed from pandas in a future version. Use pandas.concat instead.\n",
      "  total_df = total_df.append(pd.Series([stk, start_price, new_price, act_return], index = act_columns), ignore_index = True)\n"
     ]
    },
    {
     "name": "stdout",
     "output_type": "stream",
     "text": [
      "FCX\n"
     ]
    },
    {
     "name": "stderr",
     "output_type": "stream",
     "text": [
      "/tmp/ipykernel_540/17100239.py:22: FutureWarning: The frame.append method is deprecated and will be removed from pandas in a future version. Use pandas.concat instead.\n",
      "  total_df = total_df.append(pd.Series([stk, start_price, new_price, act_return], index = act_columns), ignore_index = True)\n"
     ]
    },
    {
     "name": "stdout",
     "output_type": "stream",
     "text": [
      "GRMN\n"
     ]
    },
    {
     "name": "stderr",
     "output_type": "stream",
     "text": [
      "/tmp/ipykernel_540/17100239.py:22: FutureWarning: The frame.append method is deprecated and will be removed from pandas in a future version. Use pandas.concat instead.\n",
      "  total_df = total_df.append(pd.Series([stk, start_price, new_price, act_return], index = act_columns), ignore_index = True)\n"
     ]
    },
    {
     "name": "stdout",
     "output_type": "stream",
     "text": [
      "IT\n"
     ]
    },
    {
     "name": "stderr",
     "output_type": "stream",
     "text": [
      "/tmp/ipykernel_540/17100239.py:22: FutureWarning: The frame.append method is deprecated and will be removed from pandas in a future version. Use pandas.concat instead.\n",
      "  total_df = total_df.append(pd.Series([stk, start_price, new_price, act_return], index = act_columns), ignore_index = True)\n"
     ]
    },
    {
     "name": "stdout",
     "output_type": "stream",
     "text": [
      "GNRC\n"
     ]
    },
    {
     "name": "stderr",
     "output_type": "stream",
     "text": [
      "/tmp/ipykernel_540/17100239.py:22: FutureWarning: The frame.append method is deprecated and will be removed from pandas in a future version. Use pandas.concat instead.\n",
      "  total_df = total_df.append(pd.Series([stk, start_price, new_price, act_return], index = act_columns), ignore_index = True)\n"
     ]
    },
    {
     "name": "stdout",
     "output_type": "stream",
     "text": [
      "GD\n"
     ]
    },
    {
     "name": "stderr",
     "output_type": "stream",
     "text": [
      "/tmp/ipykernel_540/17100239.py:22: FutureWarning: The frame.append method is deprecated and will be removed from pandas in a future version. Use pandas.concat instead.\n",
      "  total_df = total_df.append(pd.Series([stk, start_price, new_price, act_return], index = act_columns), ignore_index = True)\n"
     ]
    },
    {
     "name": "stdout",
     "output_type": "stream",
     "text": [
      "GE\n"
     ]
    },
    {
     "name": "stderr",
     "output_type": "stream",
     "text": [
      "/tmp/ipykernel_540/17100239.py:22: FutureWarning: The frame.append method is deprecated and will be removed from pandas in a future version. Use pandas.concat instead.\n",
      "  total_df = total_df.append(pd.Series([stk, start_price, new_price, act_return], index = act_columns), ignore_index = True)\n"
     ]
    },
    {
     "name": "stdout",
     "output_type": "stream",
     "text": [
      "GIS\n"
     ]
    },
    {
     "name": "stderr",
     "output_type": "stream",
     "text": [
      "/tmp/ipykernel_540/17100239.py:22: FutureWarning: The frame.append method is deprecated and will be removed from pandas in a future version. Use pandas.concat instead.\n",
      "  total_df = total_df.append(pd.Series([stk, start_price, new_price, act_return], index = act_columns), ignore_index = True)\n"
     ]
    },
    {
     "name": "stdout",
     "output_type": "stream",
     "text": [
      "GM\n"
     ]
    },
    {
     "name": "stderr",
     "output_type": "stream",
     "text": [
      "/tmp/ipykernel_540/17100239.py:22: FutureWarning: The frame.append method is deprecated and will be removed from pandas in a future version. Use pandas.concat instead.\n",
      "  total_df = total_df.append(pd.Series([stk, start_price, new_price, act_return], index = act_columns), ignore_index = True)\n"
     ]
    },
    {
     "name": "stdout",
     "output_type": "stream",
     "text": [
      "GPC\n"
     ]
    },
    {
     "name": "stderr",
     "output_type": "stream",
     "text": [
      "/tmp/ipykernel_540/17100239.py:22: FutureWarning: The frame.append method is deprecated and will be removed from pandas in a future version. Use pandas.concat instead.\n",
      "  total_df = total_df.append(pd.Series([stk, start_price, new_price, act_return], index = act_columns), ignore_index = True)\n"
     ]
    },
    {
     "name": "stdout",
     "output_type": "stream",
     "text": [
      "GILD\n"
     ]
    },
    {
     "name": "stderr",
     "output_type": "stream",
     "text": [
      "/tmp/ipykernel_540/17100239.py:22: FutureWarning: The frame.append method is deprecated and will be removed from pandas in a future version. Use pandas.concat instead.\n",
      "  total_df = total_df.append(pd.Series([stk, start_price, new_price, act_return], index = act_columns), ignore_index = True)\n"
     ]
    },
    {
     "name": "stdout",
     "output_type": "stream",
     "text": [
      "GL\n"
     ]
    },
    {
     "name": "stderr",
     "output_type": "stream",
     "text": [
      "/tmp/ipykernel_540/17100239.py:22: FutureWarning: The frame.append method is deprecated and will be removed from pandas in a future version. Use pandas.concat instead.\n",
      "  total_df = total_df.append(pd.Series([stk, start_price, new_price, act_return], index = act_columns), ignore_index = True)\n"
     ]
    },
    {
     "name": "stdout",
     "output_type": "stream",
     "text": [
      "GPN\n"
     ]
    },
    {
     "name": "stderr",
     "output_type": "stream",
     "text": [
      "/tmp/ipykernel_540/17100239.py:22: FutureWarning: The frame.append method is deprecated and will be removed from pandas in a future version. Use pandas.concat instead.\n",
      "  total_df = total_df.append(pd.Series([stk, start_price, new_price, act_return], index = act_columns), ignore_index = True)\n"
     ]
    },
    {
     "name": "stdout",
     "output_type": "stream",
     "text": [
      "GS\n"
     ]
    },
    {
     "name": "stderr",
     "output_type": "stream",
     "text": [
      "/tmp/ipykernel_540/17100239.py:22: FutureWarning: The frame.append method is deprecated and will be removed from pandas in a future version. Use pandas.concat instead.\n",
      "  total_df = total_df.append(pd.Series([stk, start_price, new_price, act_return], index = act_columns), ignore_index = True)\n"
     ]
    },
    {
     "name": "stdout",
     "output_type": "stream",
     "text": [
      "HAL\n"
     ]
    },
    {
     "name": "stderr",
     "output_type": "stream",
     "text": [
      "/tmp/ipykernel_540/17100239.py:22: FutureWarning: The frame.append method is deprecated and will be removed from pandas in a future version. Use pandas.concat instead.\n",
      "  total_df = total_df.append(pd.Series([stk, start_price, new_price, act_return], index = act_columns), ignore_index = True)\n"
     ]
    },
    {
     "name": "stdout",
     "output_type": "stream",
     "text": [
      "HIG\n"
     ]
    },
    {
     "name": "stderr",
     "output_type": "stream",
     "text": [
      "/tmp/ipykernel_540/17100239.py:22: FutureWarning: The frame.append method is deprecated and will be removed from pandas in a future version. Use pandas.concat instead.\n",
      "  total_df = total_df.append(pd.Series([stk, start_price, new_price, act_return], index = act_columns), ignore_index = True)\n"
     ]
    },
    {
     "name": "stdout",
     "output_type": "stream",
     "text": [
      "HAS\n"
     ]
    },
    {
     "name": "stderr",
     "output_type": "stream",
     "text": [
      "/tmp/ipykernel_540/17100239.py:22: FutureWarning: The frame.append method is deprecated and will be removed from pandas in a future version. Use pandas.concat instead.\n",
      "  total_df = total_df.append(pd.Series([stk, start_price, new_price, act_return], index = act_columns), ignore_index = True)\n"
     ]
    },
    {
     "name": "stdout",
     "output_type": "stream",
     "text": [
      "HCA\n"
     ]
    },
    {
     "name": "stderr",
     "output_type": "stream",
     "text": [
      "/tmp/ipykernel_540/17100239.py:22: FutureWarning: The frame.append method is deprecated and will be removed from pandas in a future version. Use pandas.concat instead.\n",
      "  total_df = total_df.append(pd.Series([stk, start_price, new_price, act_return], index = act_columns), ignore_index = True)\n"
     ]
    },
    {
     "name": "stdout",
     "output_type": "stream",
     "text": [
      "PEAK\n"
     ]
    },
    {
     "name": "stderr",
     "output_type": "stream",
     "text": [
      "/tmp/ipykernel_540/17100239.py:22: FutureWarning: The frame.append method is deprecated and will be removed from pandas in a future version. Use pandas.concat instead.\n",
      "  total_df = total_df.append(pd.Series([stk, start_price, new_price, act_return], index = act_columns), ignore_index = True)\n"
     ]
    },
    {
     "name": "stdout",
     "output_type": "stream",
     "text": [
      "HSIC\n"
     ]
    },
    {
     "name": "stderr",
     "output_type": "stream",
     "text": [
      "/tmp/ipykernel_540/17100239.py:22: FutureWarning: The frame.append method is deprecated and will be removed from pandas in a future version. Use pandas.concat instead.\n",
      "  total_df = total_df.append(pd.Series([stk, start_price, new_price, act_return], index = act_columns), ignore_index = True)\n"
     ]
    },
    {
     "name": "stdout",
     "output_type": "stream",
     "text": [
      "HSY\n"
     ]
    },
    {
     "name": "stderr",
     "output_type": "stream",
     "text": [
      "/tmp/ipykernel_540/17100239.py:22: FutureWarning: The frame.append method is deprecated and will be removed from pandas in a future version. Use pandas.concat instead.\n",
      "  total_df = total_df.append(pd.Series([stk, start_price, new_price, act_return], index = act_columns), ignore_index = True)\n"
     ]
    },
    {
     "name": "stdout",
     "output_type": "stream",
     "text": [
      "HES\n"
     ]
    },
    {
     "name": "stderr",
     "output_type": "stream",
     "text": [
      "/tmp/ipykernel_540/17100239.py:22: FutureWarning: The frame.append method is deprecated and will be removed from pandas in a future version. Use pandas.concat instead.\n",
      "  total_df = total_df.append(pd.Series([stk, start_price, new_price, act_return], index = act_columns), ignore_index = True)\n"
     ]
    },
    {
     "name": "stdout",
     "output_type": "stream",
     "text": [
      "HPE\n"
     ]
    },
    {
     "name": "stderr",
     "output_type": "stream",
     "text": [
      "/tmp/ipykernel_540/17100239.py:22: FutureWarning: The frame.append method is deprecated and will be removed from pandas in a future version. Use pandas.concat instead.\n",
      "  total_df = total_df.append(pd.Series([stk, start_price, new_price, act_return], index = act_columns), ignore_index = True)\n"
     ]
    },
    {
     "name": "stdout",
     "output_type": "stream",
     "text": [
      "HLT\n"
     ]
    },
    {
     "name": "stderr",
     "output_type": "stream",
     "text": [
      "/tmp/ipykernel_540/17100239.py:22: FutureWarning: The frame.append method is deprecated and will be removed from pandas in a future version. Use pandas.concat instead.\n",
      "  total_df = total_df.append(pd.Series([stk, start_price, new_price, act_return], index = act_columns), ignore_index = True)\n"
     ]
    },
    {
     "name": "stdout",
     "output_type": "stream",
     "text": [
      "HOLX\n"
     ]
    },
    {
     "name": "stderr",
     "output_type": "stream",
     "text": [
      "/tmp/ipykernel_540/17100239.py:22: FutureWarning: The frame.append method is deprecated and will be removed from pandas in a future version. Use pandas.concat instead.\n",
      "  total_df = total_df.append(pd.Series([stk, start_price, new_price, act_return], index = act_columns), ignore_index = True)\n"
     ]
    },
    {
     "name": "stdout",
     "output_type": "stream",
     "text": [
      "HD\n"
     ]
    },
    {
     "name": "stderr",
     "output_type": "stream",
     "text": [
      "/tmp/ipykernel_540/17100239.py:22: FutureWarning: The frame.append method is deprecated and will be removed from pandas in a future version. Use pandas.concat instead.\n",
      "  total_df = total_df.append(pd.Series([stk, start_price, new_price, act_return], index = act_columns), ignore_index = True)\n"
     ]
    },
    {
     "name": "stdout",
     "output_type": "stream",
     "text": [
      "HON\n"
     ]
    },
    {
     "name": "stderr",
     "output_type": "stream",
     "text": [
      "/tmp/ipykernel_540/17100239.py:22: FutureWarning: The frame.append method is deprecated and will be removed from pandas in a future version. Use pandas.concat instead.\n",
      "  total_df = total_df.append(pd.Series([stk, start_price, new_price, act_return], index = act_columns), ignore_index = True)\n"
     ]
    },
    {
     "name": "stdout",
     "output_type": "stream",
     "text": [
      "HRL\n"
     ]
    },
    {
     "name": "stderr",
     "output_type": "stream",
     "text": [
      "/tmp/ipykernel_540/17100239.py:22: FutureWarning: The frame.append method is deprecated and will be removed from pandas in a future version. Use pandas.concat instead.\n",
      "  total_df = total_df.append(pd.Series([stk, start_price, new_price, act_return], index = act_columns), ignore_index = True)\n"
     ]
    },
    {
     "name": "stdout",
     "output_type": "stream",
     "text": [
      "HST\n"
     ]
    },
    {
     "name": "stderr",
     "output_type": "stream",
     "text": [
      "/tmp/ipykernel_540/17100239.py:22: FutureWarning: The frame.append method is deprecated and will be removed from pandas in a future version. Use pandas.concat instead.\n",
      "  total_df = total_df.append(pd.Series([stk, start_price, new_price, act_return], index = act_columns), ignore_index = True)\n"
     ]
    },
    {
     "name": "stdout",
     "output_type": "stream",
     "text": [
      "HWM\n"
     ]
    },
    {
     "name": "stderr",
     "output_type": "stream",
     "text": [
      "/tmp/ipykernel_540/17100239.py:22: FutureWarning: The frame.append method is deprecated and will be removed from pandas in a future version. Use pandas.concat instead.\n",
      "  total_df = total_df.append(pd.Series([stk, start_price, new_price, act_return], index = act_columns), ignore_index = True)\n"
     ]
    },
    {
     "name": "stdout",
     "output_type": "stream",
     "text": [
      "HPQ\n"
     ]
    },
    {
     "name": "stderr",
     "output_type": "stream",
     "text": [
      "/tmp/ipykernel_540/17100239.py:22: FutureWarning: The frame.append method is deprecated and will be removed from pandas in a future version. Use pandas.concat instead.\n",
      "  total_df = total_df.append(pd.Series([stk, start_price, new_price, act_return], index = act_columns), ignore_index = True)\n"
     ]
    },
    {
     "name": "stdout",
     "output_type": "stream",
     "text": [
      "HUBB\n"
     ]
    },
    {
     "name": "stderr",
     "output_type": "stream",
     "text": [
      "/tmp/ipykernel_540/17100239.py:22: FutureWarning: The frame.append method is deprecated and will be removed from pandas in a future version. Use pandas.concat instead.\n",
      "  total_df = total_df.append(pd.Series([stk, start_price, new_price, act_return], index = act_columns), ignore_index = True)\n"
     ]
    },
    {
     "name": "stdout",
     "output_type": "stream",
     "text": [
      "HUM\n"
     ]
    },
    {
     "name": "stderr",
     "output_type": "stream",
     "text": [
      "/tmp/ipykernel_540/17100239.py:22: FutureWarning: The frame.append method is deprecated and will be removed from pandas in a future version. Use pandas.concat instead.\n",
      "  total_df = total_df.append(pd.Series([stk, start_price, new_price, act_return], index = act_columns), ignore_index = True)\n"
     ]
    },
    {
     "name": "stdout",
     "output_type": "stream",
     "text": [
      "HBAN\n"
     ]
    },
    {
     "name": "stderr",
     "output_type": "stream",
     "text": [
      "/tmp/ipykernel_540/17100239.py:22: FutureWarning: The frame.append method is deprecated and will be removed from pandas in a future version. Use pandas.concat instead.\n",
      "  total_df = total_df.append(pd.Series([stk, start_price, new_price, act_return], index = act_columns), ignore_index = True)\n"
     ]
    },
    {
     "name": "stdout",
     "output_type": "stream",
     "text": [
      "HII\n"
     ]
    },
    {
     "name": "stderr",
     "output_type": "stream",
     "text": [
      "/tmp/ipykernel_540/17100239.py:22: FutureWarning: The frame.append method is deprecated and will be removed from pandas in a future version. Use pandas.concat instead.\n",
      "  total_df = total_df.append(pd.Series([stk, start_price, new_price, act_return], index = act_columns), ignore_index = True)\n"
     ]
    },
    {
     "name": "stdout",
     "output_type": "stream",
     "text": [
      "IBM\n"
     ]
    },
    {
     "name": "stderr",
     "output_type": "stream",
     "text": [
      "/tmp/ipykernel_540/17100239.py:22: FutureWarning: The frame.append method is deprecated and will be removed from pandas in a future version. Use pandas.concat instead.\n",
      "  total_df = total_df.append(pd.Series([stk, start_price, new_price, act_return], index = act_columns), ignore_index = True)\n"
     ]
    },
    {
     "name": "stdout",
     "output_type": "stream",
     "text": [
      "IEX\n"
     ]
    },
    {
     "name": "stderr",
     "output_type": "stream",
     "text": [
      "/tmp/ipykernel_540/17100239.py:22: FutureWarning: The frame.append method is deprecated and will be removed from pandas in a future version. Use pandas.concat instead.\n",
      "  total_df = total_df.append(pd.Series([stk, start_price, new_price, act_return], index = act_columns), ignore_index = True)\n"
     ]
    },
    {
     "name": "stdout",
     "output_type": "stream",
     "text": [
      "IDXX\n"
     ]
    },
    {
     "name": "stderr",
     "output_type": "stream",
     "text": [
      "/tmp/ipykernel_540/17100239.py:22: FutureWarning: The frame.append method is deprecated and will be removed from pandas in a future version. Use pandas.concat instead.\n",
      "  total_df = total_df.append(pd.Series([stk, start_price, new_price, act_return], index = act_columns), ignore_index = True)\n"
     ]
    },
    {
     "name": "stdout",
     "output_type": "stream",
     "text": [
      "ITW\n"
     ]
    },
    {
     "name": "stderr",
     "output_type": "stream",
     "text": [
      "/tmp/ipykernel_540/17100239.py:22: FutureWarning: The frame.append method is deprecated and will be removed from pandas in a future version. Use pandas.concat instead.\n",
      "  total_df = total_df.append(pd.Series([stk, start_price, new_price, act_return], index = act_columns), ignore_index = True)\n"
     ]
    },
    {
     "name": "stdout",
     "output_type": "stream",
     "text": [
      "ILMN\n"
     ]
    },
    {
     "name": "stderr",
     "output_type": "stream",
     "text": [
      "/tmp/ipykernel_540/17100239.py:22: FutureWarning: The frame.append method is deprecated and will be removed from pandas in a future version. Use pandas.concat instead.\n",
      "  total_df = total_df.append(pd.Series([stk, start_price, new_price, act_return], index = act_columns), ignore_index = True)\n"
     ]
    },
    {
     "name": "stdout",
     "output_type": "stream",
     "text": [
      "INCY\n"
     ]
    },
    {
     "name": "stderr",
     "output_type": "stream",
     "text": [
      "/tmp/ipykernel_540/17100239.py:22: FutureWarning: The frame.append method is deprecated and will be removed from pandas in a future version. Use pandas.concat instead.\n",
      "  total_df = total_df.append(pd.Series([stk, start_price, new_price, act_return], index = act_columns), ignore_index = True)\n"
     ]
    },
    {
     "name": "stdout",
     "output_type": "stream",
     "text": [
      "IR\n"
     ]
    },
    {
     "name": "stderr",
     "output_type": "stream",
     "text": [
      "/tmp/ipykernel_540/17100239.py:22: FutureWarning: The frame.append method is deprecated and will be removed from pandas in a future version. Use pandas.concat instead.\n",
      "  total_df = total_df.append(pd.Series([stk, start_price, new_price, act_return], index = act_columns), ignore_index = True)\n"
     ]
    },
    {
     "name": "stdout",
     "output_type": "stream",
     "text": [
      "PODD\n"
     ]
    },
    {
     "name": "stderr",
     "output_type": "stream",
     "text": [
      "/tmp/ipykernel_540/17100239.py:22: FutureWarning: The frame.append method is deprecated and will be removed from pandas in a future version. Use pandas.concat instead.\n",
      "  total_df = total_df.append(pd.Series([stk, start_price, new_price, act_return], index = act_columns), ignore_index = True)\n"
     ]
    },
    {
     "name": "stdout",
     "output_type": "stream",
     "text": [
      "INTC\n"
     ]
    },
    {
     "name": "stderr",
     "output_type": "stream",
     "text": [
      "/tmp/ipykernel_540/17100239.py:22: FutureWarning: The frame.append method is deprecated and will be removed from pandas in a future version. Use pandas.concat instead.\n",
      "  total_df = total_df.append(pd.Series([stk, start_price, new_price, act_return], index = act_columns), ignore_index = True)\n"
     ]
    },
    {
     "name": "stdout",
     "output_type": "stream",
     "text": [
      "ICE\n"
     ]
    },
    {
     "name": "stderr",
     "output_type": "stream",
     "text": [
      "/tmp/ipykernel_540/17100239.py:22: FutureWarning: The frame.append method is deprecated and will be removed from pandas in a future version. Use pandas.concat instead.\n",
      "  total_df = total_df.append(pd.Series([stk, start_price, new_price, act_return], index = act_columns), ignore_index = True)\n"
     ]
    },
    {
     "name": "stdout",
     "output_type": "stream",
     "text": [
      "IFF\n"
     ]
    },
    {
     "name": "stderr",
     "output_type": "stream",
     "text": [
      "/tmp/ipykernel_540/17100239.py:22: FutureWarning: The frame.append method is deprecated and will be removed from pandas in a future version. Use pandas.concat instead.\n",
      "  total_df = total_df.append(pd.Series([stk, start_price, new_price, act_return], index = act_columns), ignore_index = True)\n"
     ]
    },
    {
     "name": "stdout",
     "output_type": "stream",
     "text": [
      "IP\n"
     ]
    },
    {
     "name": "stderr",
     "output_type": "stream",
     "text": [
      "/tmp/ipykernel_540/17100239.py:22: FutureWarning: The frame.append method is deprecated and will be removed from pandas in a future version. Use pandas.concat instead.\n",
      "  total_df = total_df.append(pd.Series([stk, start_price, new_price, act_return], index = act_columns), ignore_index = True)\n"
     ]
    },
    {
     "name": "stdout",
     "output_type": "stream",
     "text": [
      "IPG\n"
     ]
    },
    {
     "name": "stderr",
     "output_type": "stream",
     "text": [
      "/tmp/ipykernel_540/17100239.py:22: FutureWarning: The frame.append method is deprecated and will be removed from pandas in a future version. Use pandas.concat instead.\n",
      "  total_df = total_df.append(pd.Series([stk, start_price, new_price, act_return], index = act_columns), ignore_index = True)\n"
     ]
    },
    {
     "name": "stdout",
     "output_type": "stream",
     "text": [
      "INTU\n"
     ]
    },
    {
     "name": "stderr",
     "output_type": "stream",
     "text": [
      "/tmp/ipykernel_540/17100239.py:22: FutureWarning: The frame.append method is deprecated and will be removed from pandas in a future version. Use pandas.concat instead.\n",
      "  total_df = total_df.append(pd.Series([stk, start_price, new_price, act_return], index = act_columns), ignore_index = True)\n"
     ]
    },
    {
     "name": "stdout",
     "output_type": "stream",
     "text": [
      "ISRG\n"
     ]
    },
    {
     "name": "stderr",
     "output_type": "stream",
     "text": [
      "/tmp/ipykernel_540/17100239.py:22: FutureWarning: The frame.append method is deprecated and will be removed from pandas in a future version. Use pandas.concat instead.\n",
      "  total_df = total_df.append(pd.Series([stk, start_price, new_price, act_return], index = act_columns), ignore_index = True)\n"
     ]
    },
    {
     "name": "stdout",
     "output_type": "stream",
     "text": [
      "IVZ\n"
     ]
    },
    {
     "name": "stderr",
     "output_type": "stream",
     "text": [
      "/tmp/ipykernel_540/17100239.py:22: FutureWarning: The frame.append method is deprecated and will be removed from pandas in a future version. Use pandas.concat instead.\n",
      "  total_df = total_df.append(pd.Series([stk, start_price, new_price, act_return], index = act_columns), ignore_index = True)\n"
     ]
    },
    {
     "name": "stdout",
     "output_type": "stream",
     "text": [
      "INVH\n"
     ]
    },
    {
     "name": "stderr",
     "output_type": "stream",
     "text": [
      "/tmp/ipykernel_540/17100239.py:22: FutureWarning: The frame.append method is deprecated and will be removed from pandas in a future version. Use pandas.concat instead.\n",
      "  total_df = total_df.append(pd.Series([stk, start_price, new_price, act_return], index = act_columns), ignore_index = True)\n"
     ]
    },
    {
     "name": "stdout",
     "output_type": "stream",
     "text": [
      "IQV\n"
     ]
    },
    {
     "name": "stderr",
     "output_type": "stream",
     "text": [
      "/tmp/ipykernel_540/17100239.py:22: FutureWarning: The frame.append method is deprecated and will be removed from pandas in a future version. Use pandas.concat instead.\n",
      "  total_df = total_df.append(pd.Series([stk, start_price, new_price, act_return], index = act_columns), ignore_index = True)\n"
     ]
    },
    {
     "name": "stdout",
     "output_type": "stream",
     "text": [
      "IRM\n"
     ]
    },
    {
     "name": "stderr",
     "output_type": "stream",
     "text": [
      "/tmp/ipykernel_540/17100239.py:22: FutureWarning: The frame.append method is deprecated and will be removed from pandas in a future version. Use pandas.concat instead.\n",
      "  total_df = total_df.append(pd.Series([stk, start_price, new_price, act_return], index = act_columns), ignore_index = True)\n"
     ]
    },
    {
     "name": "stdout",
     "output_type": "stream",
     "text": [
      "JBHT\n"
     ]
    },
    {
     "name": "stderr",
     "output_type": "stream",
     "text": [
      "/tmp/ipykernel_540/17100239.py:22: FutureWarning: The frame.append method is deprecated and will be removed from pandas in a future version. Use pandas.concat instead.\n",
      "  total_df = total_df.append(pd.Series([stk, start_price, new_price, act_return], index = act_columns), ignore_index = True)\n"
     ]
    },
    {
     "name": "stdout",
     "output_type": "stream",
     "text": [
      "JKHY\n"
     ]
    },
    {
     "name": "stderr",
     "output_type": "stream",
     "text": [
      "/tmp/ipykernel_540/17100239.py:22: FutureWarning: The frame.append method is deprecated and will be removed from pandas in a future version. Use pandas.concat instead.\n",
      "  total_df = total_df.append(pd.Series([stk, start_price, new_price, act_return], index = act_columns), ignore_index = True)\n"
     ]
    },
    {
     "name": "stdout",
     "output_type": "stream",
     "text": [
      "J\n"
     ]
    },
    {
     "name": "stderr",
     "output_type": "stream",
     "text": [
      "/tmp/ipykernel_540/17100239.py:22: FutureWarning: The frame.append method is deprecated and will be removed from pandas in a future version. Use pandas.concat instead.\n",
      "  total_df = total_df.append(pd.Series([stk, start_price, new_price, act_return], index = act_columns), ignore_index = True)\n"
     ]
    },
    {
     "name": "stdout",
     "output_type": "stream",
     "text": [
      "JNJ\n"
     ]
    },
    {
     "name": "stderr",
     "output_type": "stream",
     "text": [
      "/tmp/ipykernel_540/17100239.py:22: FutureWarning: The frame.append method is deprecated and will be removed from pandas in a future version. Use pandas.concat instead.\n",
      "  total_df = total_df.append(pd.Series([stk, start_price, new_price, act_return], index = act_columns), ignore_index = True)\n"
     ]
    },
    {
     "name": "stdout",
     "output_type": "stream",
     "text": [
      "JCI\n"
     ]
    },
    {
     "name": "stderr",
     "output_type": "stream",
     "text": [
      "/tmp/ipykernel_540/17100239.py:22: FutureWarning: The frame.append method is deprecated and will be removed from pandas in a future version. Use pandas.concat instead.\n",
      "  total_df = total_df.append(pd.Series([stk, start_price, new_price, act_return], index = act_columns), ignore_index = True)\n"
     ]
    },
    {
     "name": "stdout",
     "output_type": "stream",
     "text": [
      "JPM\n"
     ]
    },
    {
     "name": "stderr",
     "output_type": "stream",
     "text": [
      "/tmp/ipykernel_540/17100239.py:22: FutureWarning: The frame.append method is deprecated and will be removed from pandas in a future version. Use pandas.concat instead.\n",
      "  total_df = total_df.append(pd.Series([stk, start_price, new_price, act_return], index = act_columns), ignore_index = True)\n"
     ]
    },
    {
     "name": "stdout",
     "output_type": "stream",
     "text": [
      "JNPR\n"
     ]
    },
    {
     "name": "stderr",
     "output_type": "stream",
     "text": [
      "/tmp/ipykernel_540/17100239.py:22: FutureWarning: The frame.append method is deprecated and will be removed from pandas in a future version. Use pandas.concat instead.\n",
      "  total_df = total_df.append(pd.Series([stk, start_price, new_price, act_return], index = act_columns), ignore_index = True)\n"
     ]
    },
    {
     "name": "stdout",
     "output_type": "stream",
     "text": [
      "K\n"
     ]
    },
    {
     "name": "stderr",
     "output_type": "stream",
     "text": [
      "/tmp/ipykernel_540/17100239.py:22: FutureWarning: The frame.append method is deprecated and will be removed from pandas in a future version. Use pandas.concat instead.\n",
      "  total_df = total_df.append(pd.Series([stk, start_price, new_price, act_return], index = act_columns), ignore_index = True)\n"
     ]
    },
    {
     "name": "stdout",
     "output_type": "stream",
     "text": [
      "KDP\n"
     ]
    },
    {
     "name": "stderr",
     "output_type": "stream",
     "text": [
      "/tmp/ipykernel_540/17100239.py:22: FutureWarning: The frame.append method is deprecated and will be removed from pandas in a future version. Use pandas.concat instead.\n",
      "  total_df = total_df.append(pd.Series([stk, start_price, new_price, act_return], index = act_columns), ignore_index = True)\n"
     ]
    },
    {
     "name": "stdout",
     "output_type": "stream",
     "text": [
      "KEY\n"
     ]
    },
    {
     "name": "stderr",
     "output_type": "stream",
     "text": [
      "/tmp/ipykernel_540/17100239.py:22: FutureWarning: The frame.append method is deprecated and will be removed from pandas in a future version. Use pandas.concat instead.\n",
      "  total_df = total_df.append(pd.Series([stk, start_price, new_price, act_return], index = act_columns), ignore_index = True)\n"
     ]
    },
    {
     "name": "stdout",
     "output_type": "stream",
     "text": [
      "KEYS\n"
     ]
    },
    {
     "name": "stderr",
     "output_type": "stream",
     "text": [
      "/tmp/ipykernel_540/17100239.py:22: FutureWarning: The frame.append method is deprecated and will be removed from pandas in a future version. Use pandas.concat instead.\n",
      "  total_df = total_df.append(pd.Series([stk, start_price, new_price, act_return], index = act_columns), ignore_index = True)\n"
     ]
    },
    {
     "name": "stdout",
     "output_type": "stream",
     "text": [
      "KMB\n"
     ]
    },
    {
     "name": "stderr",
     "output_type": "stream",
     "text": [
      "/tmp/ipykernel_540/17100239.py:22: FutureWarning: The frame.append method is deprecated and will be removed from pandas in a future version. Use pandas.concat instead.\n",
      "  total_df = total_df.append(pd.Series([stk, start_price, new_price, act_return], index = act_columns), ignore_index = True)\n"
     ]
    },
    {
     "name": "stdout",
     "output_type": "stream",
     "text": [
      "KIM\n"
     ]
    },
    {
     "name": "stderr",
     "output_type": "stream",
     "text": [
      "/tmp/ipykernel_540/17100239.py:22: FutureWarning: The frame.append method is deprecated and will be removed from pandas in a future version. Use pandas.concat instead.\n",
      "  total_df = total_df.append(pd.Series([stk, start_price, new_price, act_return], index = act_columns), ignore_index = True)\n"
     ]
    },
    {
     "name": "stdout",
     "output_type": "stream",
     "text": [
      "KMI\n"
     ]
    },
    {
     "name": "stderr",
     "output_type": "stream",
     "text": [
      "/tmp/ipykernel_540/17100239.py:22: FutureWarning: The frame.append method is deprecated and will be removed from pandas in a future version. Use pandas.concat instead.\n",
      "  total_df = total_df.append(pd.Series([stk, start_price, new_price, act_return], index = act_columns), ignore_index = True)\n"
     ]
    },
    {
     "name": "stdout",
     "output_type": "stream",
     "text": [
      "KLAC\n"
     ]
    },
    {
     "name": "stderr",
     "output_type": "stream",
     "text": [
      "/tmp/ipykernel_540/17100239.py:22: FutureWarning: The frame.append method is deprecated and will be removed from pandas in a future version. Use pandas.concat instead.\n",
      "  total_df = total_df.append(pd.Series([stk, start_price, new_price, act_return], index = act_columns), ignore_index = True)\n"
     ]
    },
    {
     "name": "stdout",
     "output_type": "stream",
     "text": [
      "KHC\n"
     ]
    },
    {
     "name": "stderr",
     "output_type": "stream",
     "text": [
      "/tmp/ipykernel_540/17100239.py:22: FutureWarning: The frame.append method is deprecated and will be removed from pandas in a future version. Use pandas.concat instead.\n",
      "  total_df = total_df.append(pd.Series([stk, start_price, new_price, act_return], index = act_columns), ignore_index = True)\n"
     ]
    },
    {
     "name": "stdout",
     "output_type": "stream",
     "text": [
      "KR\n"
     ]
    },
    {
     "name": "stderr",
     "output_type": "stream",
     "text": [
      "/tmp/ipykernel_540/17100239.py:22: FutureWarning: The frame.append method is deprecated and will be removed from pandas in a future version. Use pandas.concat instead.\n",
      "  total_df = total_df.append(pd.Series([stk, start_price, new_price, act_return], index = act_columns), ignore_index = True)\n"
     ]
    },
    {
     "name": "stdout",
     "output_type": "stream",
     "text": [
      "LHX\n"
     ]
    },
    {
     "name": "stderr",
     "output_type": "stream",
     "text": [
      "/tmp/ipykernel_540/17100239.py:22: FutureWarning: The frame.append method is deprecated and will be removed from pandas in a future version. Use pandas.concat instead.\n",
      "  total_df = total_df.append(pd.Series([stk, start_price, new_price, act_return], index = act_columns), ignore_index = True)\n"
     ]
    },
    {
     "name": "stdout",
     "output_type": "stream",
     "text": [
      "LH\n"
     ]
    },
    {
     "name": "stderr",
     "output_type": "stream",
     "text": [
      "/tmp/ipykernel_540/17100239.py:22: FutureWarning: The frame.append method is deprecated and will be removed from pandas in a future version. Use pandas.concat instead.\n",
      "  total_df = total_df.append(pd.Series([stk, start_price, new_price, act_return], index = act_columns), ignore_index = True)\n"
     ]
    },
    {
     "name": "stdout",
     "output_type": "stream",
     "text": [
      "LRCX\n"
     ]
    },
    {
     "name": "stderr",
     "output_type": "stream",
     "text": [
      "/tmp/ipykernel_540/17100239.py:22: FutureWarning: The frame.append method is deprecated and will be removed from pandas in a future version. Use pandas.concat instead.\n",
      "  total_df = total_df.append(pd.Series([stk, start_price, new_price, act_return], index = act_columns), ignore_index = True)\n"
     ]
    },
    {
     "name": "stdout",
     "output_type": "stream",
     "text": [
      "LW\n"
     ]
    },
    {
     "name": "stderr",
     "output_type": "stream",
     "text": [
      "/tmp/ipykernel_540/17100239.py:22: FutureWarning: The frame.append method is deprecated and will be removed from pandas in a future version. Use pandas.concat instead.\n",
      "  total_df = total_df.append(pd.Series([stk, start_price, new_price, act_return], index = act_columns), ignore_index = True)\n"
     ]
    },
    {
     "name": "stdout",
     "output_type": "stream",
     "text": [
      "LVS\n"
     ]
    },
    {
     "name": "stderr",
     "output_type": "stream",
     "text": [
      "/tmp/ipykernel_540/17100239.py:22: FutureWarning: The frame.append method is deprecated and will be removed from pandas in a future version. Use pandas.concat instead.\n",
      "  total_df = total_df.append(pd.Series([stk, start_price, new_price, act_return], index = act_columns), ignore_index = True)\n"
     ]
    },
    {
     "name": "stdout",
     "output_type": "stream",
     "text": [
      "LDOS\n"
     ]
    },
    {
     "name": "stderr",
     "output_type": "stream",
     "text": [
      "/tmp/ipykernel_540/17100239.py:22: FutureWarning: The frame.append method is deprecated and will be removed from pandas in a future version. Use pandas.concat instead.\n",
      "  total_df = total_df.append(pd.Series([stk, start_price, new_price, act_return], index = act_columns), ignore_index = True)\n"
     ]
    },
    {
     "name": "stdout",
     "output_type": "stream",
     "text": [
      "LEN\n"
     ]
    },
    {
     "name": "stderr",
     "output_type": "stream",
     "text": [
      "/tmp/ipykernel_540/17100239.py:22: FutureWarning: The frame.append method is deprecated and will be removed from pandas in a future version. Use pandas.concat instead.\n",
      "  total_df = total_df.append(pd.Series([stk, start_price, new_price, act_return], index = act_columns), ignore_index = True)\n"
     ]
    },
    {
     "name": "stdout",
     "output_type": "stream",
     "text": [
      "LIN\n"
     ]
    },
    {
     "name": "stderr",
     "output_type": "stream",
     "text": [
      "/tmp/ipykernel_540/17100239.py:22: FutureWarning: The frame.append method is deprecated and will be removed from pandas in a future version. Use pandas.concat instead.\n",
      "  total_df = total_df.append(pd.Series([stk, start_price, new_price, act_return], index = act_columns), ignore_index = True)\n"
     ]
    },
    {
     "name": "stdout",
     "output_type": "stream",
     "text": [
      "LYV\n"
     ]
    },
    {
     "name": "stderr",
     "output_type": "stream",
     "text": [
      "/tmp/ipykernel_540/17100239.py:22: FutureWarning: The frame.append method is deprecated and will be removed from pandas in a future version. Use pandas.concat instead.\n",
      "  total_df = total_df.append(pd.Series([stk, start_price, new_price, act_return], index = act_columns), ignore_index = True)\n"
     ]
    },
    {
     "name": "stdout",
     "output_type": "stream",
     "text": [
      "LKQ\n"
     ]
    },
    {
     "name": "stderr",
     "output_type": "stream",
     "text": [
      "/tmp/ipykernel_540/17100239.py:22: FutureWarning: The frame.append method is deprecated and will be removed from pandas in a future version. Use pandas.concat instead.\n",
      "  total_df = total_df.append(pd.Series([stk, start_price, new_price, act_return], index = act_columns), ignore_index = True)\n"
     ]
    },
    {
     "name": "stdout",
     "output_type": "stream",
     "text": [
      "LMT\n"
     ]
    },
    {
     "name": "stderr",
     "output_type": "stream",
     "text": [
      "/tmp/ipykernel_540/17100239.py:22: FutureWarning: The frame.append method is deprecated and will be removed from pandas in a future version. Use pandas.concat instead.\n",
      "  total_df = total_df.append(pd.Series([stk, start_price, new_price, act_return], index = act_columns), ignore_index = True)\n"
     ]
    },
    {
     "name": "stdout",
     "output_type": "stream",
     "text": [
      "L\n"
     ]
    },
    {
     "name": "stderr",
     "output_type": "stream",
     "text": [
      "/tmp/ipykernel_540/17100239.py:22: FutureWarning: The frame.append method is deprecated and will be removed from pandas in a future version. Use pandas.concat instead.\n",
      "  total_df = total_df.append(pd.Series([stk, start_price, new_price, act_return], index = act_columns), ignore_index = True)\n"
     ]
    },
    {
     "name": "stdout",
     "output_type": "stream",
     "text": [
      "LOW\n"
     ]
    },
    {
     "name": "stderr",
     "output_type": "stream",
     "text": [
      "/tmp/ipykernel_540/17100239.py:22: FutureWarning: The frame.append method is deprecated and will be removed from pandas in a future version. Use pandas.concat instead.\n",
      "  total_df = total_df.append(pd.Series([stk, start_price, new_price, act_return], index = act_columns), ignore_index = True)\n"
     ]
    },
    {
     "name": "stdout",
     "output_type": "stream",
     "text": [
      "LULU\n"
     ]
    },
    {
     "name": "stderr",
     "output_type": "stream",
     "text": [
      "/tmp/ipykernel_540/17100239.py:22: FutureWarning: The frame.append method is deprecated and will be removed from pandas in a future version. Use pandas.concat instead.\n",
      "  total_df = total_df.append(pd.Series([stk, start_price, new_price, act_return], index = act_columns), ignore_index = True)\n"
     ]
    },
    {
     "name": "stdout",
     "output_type": "stream",
     "text": [
      "LYB\n"
     ]
    },
    {
     "name": "stderr",
     "output_type": "stream",
     "text": [
      "/tmp/ipykernel_540/17100239.py:22: FutureWarning: The frame.append method is deprecated and will be removed from pandas in a future version. Use pandas.concat instead.\n",
      "  total_df = total_df.append(pd.Series([stk, start_price, new_price, act_return], index = act_columns), ignore_index = True)\n"
     ]
    },
    {
     "name": "stdout",
     "output_type": "stream",
     "text": [
      "MTB\n"
     ]
    },
    {
     "name": "stderr",
     "output_type": "stream",
     "text": [
      "/tmp/ipykernel_540/17100239.py:22: FutureWarning: The frame.append method is deprecated and will be removed from pandas in a future version. Use pandas.concat instead.\n",
      "  total_df = total_df.append(pd.Series([stk, start_price, new_price, act_return], index = act_columns), ignore_index = True)\n"
     ]
    },
    {
     "name": "stdout",
     "output_type": "stream",
     "text": [
      "MRO\n"
     ]
    },
    {
     "name": "stderr",
     "output_type": "stream",
     "text": [
      "/tmp/ipykernel_540/17100239.py:22: FutureWarning: The frame.append method is deprecated and will be removed from pandas in a future version. Use pandas.concat instead.\n",
      "  total_df = total_df.append(pd.Series([stk, start_price, new_price, act_return], index = act_columns), ignore_index = True)\n"
     ]
    },
    {
     "name": "stdout",
     "output_type": "stream",
     "text": [
      "MPC\n"
     ]
    },
    {
     "name": "stderr",
     "output_type": "stream",
     "text": [
      "/tmp/ipykernel_540/17100239.py:22: FutureWarning: The frame.append method is deprecated and will be removed from pandas in a future version. Use pandas.concat instead.\n",
      "  total_df = total_df.append(pd.Series([stk, start_price, new_price, act_return], index = act_columns), ignore_index = True)\n"
     ]
    },
    {
     "name": "stdout",
     "output_type": "stream",
     "text": [
      "MKTX\n"
     ]
    },
    {
     "name": "stderr",
     "output_type": "stream",
     "text": [
      "/tmp/ipykernel_540/17100239.py:22: FutureWarning: The frame.append method is deprecated and will be removed from pandas in a future version. Use pandas.concat instead.\n",
      "  total_df = total_df.append(pd.Series([stk, start_price, new_price, act_return], index = act_columns), ignore_index = True)\n"
     ]
    },
    {
     "name": "stdout",
     "output_type": "stream",
     "text": [
      "MAR\n"
     ]
    },
    {
     "name": "stderr",
     "output_type": "stream",
     "text": [
      "/tmp/ipykernel_540/17100239.py:22: FutureWarning: The frame.append method is deprecated and will be removed from pandas in a future version. Use pandas.concat instead.\n",
      "  total_df = total_df.append(pd.Series([stk, start_price, new_price, act_return], index = act_columns), ignore_index = True)\n"
     ]
    },
    {
     "name": "stdout",
     "output_type": "stream",
     "text": [
      "MMC\n"
     ]
    },
    {
     "name": "stderr",
     "output_type": "stream",
     "text": [
      "/tmp/ipykernel_540/17100239.py:22: FutureWarning: The frame.append method is deprecated and will be removed from pandas in a future version. Use pandas.concat instead.\n",
      "  total_df = total_df.append(pd.Series([stk, start_price, new_price, act_return], index = act_columns), ignore_index = True)\n"
     ]
    },
    {
     "name": "stdout",
     "output_type": "stream",
     "text": [
      "MLM\n"
     ]
    },
    {
     "name": "stderr",
     "output_type": "stream",
     "text": [
      "/tmp/ipykernel_540/17100239.py:22: FutureWarning: The frame.append method is deprecated and will be removed from pandas in a future version. Use pandas.concat instead.\n",
      "  total_df = total_df.append(pd.Series([stk, start_price, new_price, act_return], index = act_columns), ignore_index = True)\n"
     ]
    },
    {
     "name": "stdout",
     "output_type": "stream",
     "text": [
      "MAS\n"
     ]
    },
    {
     "name": "stderr",
     "output_type": "stream",
     "text": [
      "/tmp/ipykernel_540/17100239.py:22: FutureWarning: The frame.append method is deprecated and will be removed from pandas in a future version. Use pandas.concat instead.\n",
      "  total_df = total_df.append(pd.Series([stk, start_price, new_price, act_return], index = act_columns), ignore_index = True)\n"
     ]
    },
    {
     "name": "stdout",
     "output_type": "stream",
     "text": [
      "MA\n"
     ]
    },
    {
     "name": "stderr",
     "output_type": "stream",
     "text": [
      "/tmp/ipykernel_540/17100239.py:22: FutureWarning: The frame.append method is deprecated and will be removed from pandas in a future version. Use pandas.concat instead.\n",
      "  total_df = total_df.append(pd.Series([stk, start_price, new_price, act_return], index = act_columns), ignore_index = True)\n"
     ]
    },
    {
     "name": "stdout",
     "output_type": "stream",
     "text": [
      "MTCH\n"
     ]
    },
    {
     "name": "stderr",
     "output_type": "stream",
     "text": [
      "/tmp/ipykernel_540/17100239.py:22: FutureWarning: The frame.append method is deprecated and will be removed from pandas in a future version. Use pandas.concat instead.\n",
      "  total_df = total_df.append(pd.Series([stk, start_price, new_price, act_return], index = act_columns), ignore_index = True)\n"
     ]
    },
    {
     "name": "stdout",
     "output_type": "stream",
     "text": [
      "MKC\n"
     ]
    },
    {
     "name": "stderr",
     "output_type": "stream",
     "text": [
      "/tmp/ipykernel_540/17100239.py:22: FutureWarning: The frame.append method is deprecated and will be removed from pandas in a future version. Use pandas.concat instead.\n",
      "  total_df = total_df.append(pd.Series([stk, start_price, new_price, act_return], index = act_columns), ignore_index = True)\n"
     ]
    },
    {
     "name": "stdout",
     "output_type": "stream",
     "text": [
      "MCD\n"
     ]
    },
    {
     "name": "stderr",
     "output_type": "stream",
     "text": [
      "/tmp/ipykernel_540/17100239.py:22: FutureWarning: The frame.append method is deprecated and will be removed from pandas in a future version. Use pandas.concat instead.\n",
      "  total_df = total_df.append(pd.Series([stk, start_price, new_price, act_return], index = act_columns), ignore_index = True)\n"
     ]
    },
    {
     "name": "stdout",
     "output_type": "stream",
     "text": [
      "MCK\n"
     ]
    },
    {
     "name": "stderr",
     "output_type": "stream",
     "text": [
      "/tmp/ipykernel_540/17100239.py:22: FutureWarning: The frame.append method is deprecated and will be removed from pandas in a future version. Use pandas.concat instead.\n",
      "  total_df = total_df.append(pd.Series([stk, start_price, new_price, act_return], index = act_columns), ignore_index = True)\n"
     ]
    },
    {
     "name": "stdout",
     "output_type": "stream",
     "text": [
      "MDT\n"
     ]
    },
    {
     "name": "stderr",
     "output_type": "stream",
     "text": [
      "/tmp/ipykernel_540/17100239.py:22: FutureWarning: The frame.append method is deprecated and will be removed from pandas in a future version. Use pandas.concat instead.\n",
      "  total_df = total_df.append(pd.Series([stk, start_price, new_price, act_return], index = act_columns), ignore_index = True)\n"
     ]
    },
    {
     "name": "stdout",
     "output_type": "stream",
     "text": [
      "MRK\n"
     ]
    },
    {
     "name": "stderr",
     "output_type": "stream",
     "text": [
      "/tmp/ipykernel_540/17100239.py:22: FutureWarning: The frame.append method is deprecated and will be removed from pandas in a future version. Use pandas.concat instead.\n",
      "  total_df = total_df.append(pd.Series([stk, start_price, new_price, act_return], index = act_columns), ignore_index = True)\n"
     ]
    },
    {
     "name": "stdout",
     "output_type": "stream",
     "text": [
      "MTD\n"
     ]
    },
    {
     "name": "stderr",
     "output_type": "stream",
     "text": [
      "/tmp/ipykernel_540/17100239.py:22: FutureWarning: The frame.append method is deprecated and will be removed from pandas in a future version. Use pandas.concat instead.\n",
      "  total_df = total_df.append(pd.Series([stk, start_price, new_price, act_return], index = act_columns), ignore_index = True)\n"
     ]
    },
    {
     "name": "stdout",
     "output_type": "stream",
     "text": [
      "MGM\n"
     ]
    },
    {
     "name": "stderr",
     "output_type": "stream",
     "text": [
      "/tmp/ipykernel_540/17100239.py:22: FutureWarning: The frame.append method is deprecated and will be removed from pandas in a future version. Use pandas.concat instead.\n",
      "  total_df = total_df.append(pd.Series([stk, start_price, new_price, act_return], index = act_columns), ignore_index = True)\n"
     ]
    },
    {
     "name": "stdout",
     "output_type": "stream",
     "text": [
      "MCHP\n"
     ]
    },
    {
     "name": "stderr",
     "output_type": "stream",
     "text": [
      "/tmp/ipykernel_540/17100239.py:22: FutureWarning: The frame.append method is deprecated and will be removed from pandas in a future version. Use pandas.concat instead.\n",
      "  total_df = total_df.append(pd.Series([stk, start_price, new_price, act_return], index = act_columns), ignore_index = True)\n"
     ]
    },
    {
     "name": "stdout",
     "output_type": "stream",
     "text": [
      "MU\n"
     ]
    },
    {
     "name": "stderr",
     "output_type": "stream",
     "text": [
      "/tmp/ipykernel_540/17100239.py:22: FutureWarning: The frame.append method is deprecated and will be removed from pandas in a future version. Use pandas.concat instead.\n",
      "  total_df = total_df.append(pd.Series([stk, start_price, new_price, act_return], index = act_columns), ignore_index = True)\n"
     ]
    },
    {
     "name": "stdout",
     "output_type": "stream",
     "text": [
      "MSFT\n"
     ]
    },
    {
     "name": "stderr",
     "output_type": "stream",
     "text": [
      "/tmp/ipykernel_540/17100239.py:22: FutureWarning: The frame.append method is deprecated and will be removed from pandas in a future version. Use pandas.concat instead.\n",
      "  total_df = total_df.append(pd.Series([stk, start_price, new_price, act_return], index = act_columns), ignore_index = True)\n"
     ]
    },
    {
     "name": "stdout",
     "output_type": "stream",
     "text": [
      "MAA\n"
     ]
    },
    {
     "name": "stderr",
     "output_type": "stream",
     "text": [
      "/tmp/ipykernel_540/17100239.py:22: FutureWarning: The frame.append method is deprecated and will be removed from pandas in a future version. Use pandas.concat instead.\n",
      "  total_df = total_df.append(pd.Series([stk, start_price, new_price, act_return], index = act_columns), ignore_index = True)\n"
     ]
    },
    {
     "name": "stdout",
     "output_type": "stream",
     "text": [
      "MRNA\n"
     ]
    },
    {
     "name": "stderr",
     "output_type": "stream",
     "text": [
      "/tmp/ipykernel_540/17100239.py:22: FutureWarning: The frame.append method is deprecated and will be removed from pandas in a future version. Use pandas.concat instead.\n",
      "  total_df = total_df.append(pd.Series([stk, start_price, new_price, act_return], index = act_columns), ignore_index = True)\n"
     ]
    },
    {
     "name": "stdout",
     "output_type": "stream",
     "text": [
      "MHK\n"
     ]
    },
    {
     "name": "stderr",
     "output_type": "stream",
     "text": [
      "/tmp/ipykernel_540/17100239.py:22: FutureWarning: The frame.append method is deprecated and will be removed from pandas in a future version. Use pandas.concat instead.\n",
      "  total_df = total_df.append(pd.Series([stk, start_price, new_price, act_return], index = act_columns), ignore_index = True)\n"
     ]
    },
    {
     "name": "stdout",
     "output_type": "stream",
     "text": [
      "MOH\n"
     ]
    },
    {
     "name": "stderr",
     "output_type": "stream",
     "text": [
      "/tmp/ipykernel_540/17100239.py:22: FutureWarning: The frame.append method is deprecated and will be removed from pandas in a future version. Use pandas.concat instead.\n",
      "  total_df = total_df.append(pd.Series([stk, start_price, new_price, act_return], index = act_columns), ignore_index = True)\n"
     ]
    },
    {
     "name": "stdout",
     "output_type": "stream",
     "text": [
      "TAP\n"
     ]
    },
    {
     "name": "stderr",
     "output_type": "stream",
     "text": [
      "/tmp/ipykernel_540/17100239.py:22: FutureWarning: The frame.append method is deprecated and will be removed from pandas in a future version. Use pandas.concat instead.\n",
      "  total_df = total_df.append(pd.Series([stk, start_price, new_price, act_return], index = act_columns), ignore_index = True)\n"
     ]
    },
    {
     "name": "stdout",
     "output_type": "stream",
     "text": [
      "MDLZ\n"
     ]
    },
    {
     "name": "stderr",
     "output_type": "stream",
     "text": [
      "/tmp/ipykernel_540/17100239.py:22: FutureWarning: The frame.append method is deprecated and will be removed from pandas in a future version. Use pandas.concat instead.\n",
      "  total_df = total_df.append(pd.Series([stk, start_price, new_price, act_return], index = act_columns), ignore_index = True)\n"
     ]
    },
    {
     "name": "stdout",
     "output_type": "stream",
     "text": [
      "MPWR\n"
     ]
    },
    {
     "name": "stderr",
     "output_type": "stream",
     "text": [
      "/tmp/ipykernel_540/17100239.py:22: FutureWarning: The frame.append method is deprecated and will be removed from pandas in a future version. Use pandas.concat instead.\n",
      "  total_df = total_df.append(pd.Series([stk, start_price, new_price, act_return], index = act_columns), ignore_index = True)\n"
     ]
    },
    {
     "name": "stdout",
     "output_type": "stream",
     "text": [
      "MNST\n"
     ]
    },
    {
     "name": "stderr",
     "output_type": "stream",
     "text": [
      "/tmp/ipykernel_540/17100239.py:22: FutureWarning: The frame.append method is deprecated and will be removed from pandas in a future version. Use pandas.concat instead.\n",
      "  total_df = total_df.append(pd.Series([stk, start_price, new_price, act_return], index = act_columns), ignore_index = True)\n"
     ]
    },
    {
     "name": "stdout",
     "output_type": "stream",
     "text": [
      "MCO\n"
     ]
    },
    {
     "name": "stderr",
     "output_type": "stream",
     "text": [
      "/tmp/ipykernel_540/17100239.py:22: FutureWarning: The frame.append method is deprecated and will be removed from pandas in a future version. Use pandas.concat instead.\n",
      "  total_df = total_df.append(pd.Series([stk, start_price, new_price, act_return], index = act_columns), ignore_index = True)\n"
     ]
    },
    {
     "name": "stdout",
     "output_type": "stream",
     "text": [
      "MS\n"
     ]
    },
    {
     "name": "stderr",
     "output_type": "stream",
     "text": [
      "/tmp/ipykernel_540/17100239.py:22: FutureWarning: The frame.append method is deprecated and will be removed from pandas in a future version. Use pandas.concat instead.\n",
      "  total_df = total_df.append(pd.Series([stk, start_price, new_price, act_return], index = act_columns), ignore_index = True)\n"
     ]
    },
    {
     "name": "stdout",
     "output_type": "stream",
     "text": [
      "MOS\n"
     ]
    },
    {
     "name": "stderr",
     "output_type": "stream",
     "text": [
      "/tmp/ipykernel_540/17100239.py:22: FutureWarning: The frame.append method is deprecated and will be removed from pandas in a future version. Use pandas.concat instead.\n",
      "  total_df = total_df.append(pd.Series([stk, start_price, new_price, act_return], index = act_columns), ignore_index = True)\n"
     ]
    },
    {
     "name": "stdout",
     "output_type": "stream",
     "text": [
      "MSI\n"
     ]
    },
    {
     "name": "stderr",
     "output_type": "stream",
     "text": [
      "/tmp/ipykernel_540/17100239.py:22: FutureWarning: The frame.append method is deprecated and will be removed from pandas in a future version. Use pandas.concat instead.\n",
      "  total_df = total_df.append(pd.Series([stk, start_price, new_price, act_return], index = act_columns), ignore_index = True)\n"
     ]
    },
    {
     "name": "stdout",
     "output_type": "stream",
     "text": [
      "MSCI\n"
     ]
    },
    {
     "name": "stderr",
     "output_type": "stream",
     "text": [
      "/tmp/ipykernel_540/17100239.py:22: FutureWarning: The frame.append method is deprecated and will be removed from pandas in a future version. Use pandas.concat instead.\n",
      "  total_df = total_df.append(pd.Series([stk, start_price, new_price, act_return], index = act_columns), ignore_index = True)\n"
     ]
    },
    {
     "name": "stdout",
     "output_type": "stream",
     "text": [
      "NDAQ\n"
     ]
    },
    {
     "name": "stderr",
     "output_type": "stream",
     "text": [
      "/tmp/ipykernel_540/17100239.py:22: FutureWarning: The frame.append method is deprecated and will be removed from pandas in a future version. Use pandas.concat instead.\n",
      "  total_df = total_df.append(pd.Series([stk, start_price, new_price, act_return], index = act_columns), ignore_index = True)\n"
     ]
    },
    {
     "name": "stdout",
     "output_type": "stream",
     "text": [
      "NTAP\n"
     ]
    },
    {
     "name": "stderr",
     "output_type": "stream",
     "text": [
      "/tmp/ipykernel_540/17100239.py:22: FutureWarning: The frame.append method is deprecated and will be removed from pandas in a future version. Use pandas.concat instead.\n",
      "  total_df = total_df.append(pd.Series([stk, start_price, new_price, act_return], index = act_columns), ignore_index = True)\n"
     ]
    },
    {
     "name": "stdout",
     "output_type": "stream",
     "text": [
      "NFLX\n"
     ]
    },
    {
     "name": "stderr",
     "output_type": "stream",
     "text": [
      "/tmp/ipykernel_540/17100239.py:22: FutureWarning: The frame.append method is deprecated and will be removed from pandas in a future version. Use pandas.concat instead.\n",
      "  total_df = total_df.append(pd.Series([stk, start_price, new_price, act_return], index = act_columns), ignore_index = True)\n"
     ]
    },
    {
     "name": "stdout",
     "output_type": "stream",
     "text": [
      "NEM\n"
     ]
    },
    {
     "name": "stderr",
     "output_type": "stream",
     "text": [
      "/tmp/ipykernel_540/17100239.py:22: FutureWarning: The frame.append method is deprecated and will be removed from pandas in a future version. Use pandas.concat instead.\n",
      "  total_df = total_df.append(pd.Series([stk, start_price, new_price, act_return], index = act_columns), ignore_index = True)\n"
     ]
    },
    {
     "name": "stdout",
     "output_type": "stream",
     "text": [
      "NWSA\n"
     ]
    },
    {
     "name": "stderr",
     "output_type": "stream",
     "text": [
      "/tmp/ipykernel_540/17100239.py:22: FutureWarning: The frame.append method is deprecated and will be removed from pandas in a future version. Use pandas.concat instead.\n",
      "  total_df = total_df.append(pd.Series([stk, start_price, new_price, act_return], index = act_columns), ignore_index = True)\n"
     ]
    },
    {
     "name": "stdout",
     "output_type": "stream",
     "text": [
      "NWS\n"
     ]
    },
    {
     "name": "stderr",
     "output_type": "stream",
     "text": [
      "/tmp/ipykernel_540/17100239.py:22: FutureWarning: The frame.append method is deprecated and will be removed from pandas in a future version. Use pandas.concat instead.\n",
      "  total_df = total_df.append(pd.Series([stk, start_price, new_price, act_return], index = act_columns), ignore_index = True)\n"
     ]
    },
    {
     "name": "stdout",
     "output_type": "stream",
     "text": [
      "NEE\n"
     ]
    },
    {
     "name": "stderr",
     "output_type": "stream",
     "text": [
      "/tmp/ipykernel_540/17100239.py:22: FutureWarning: The frame.append method is deprecated and will be removed from pandas in a future version. Use pandas.concat instead.\n",
      "  total_df = total_df.append(pd.Series([stk, start_price, new_price, act_return], index = act_columns), ignore_index = True)\n"
     ]
    },
    {
     "name": "stdout",
     "output_type": "stream",
     "text": [
      "NKE\n"
     ]
    },
    {
     "name": "stderr",
     "output_type": "stream",
     "text": [
      "/tmp/ipykernel_540/17100239.py:22: FutureWarning: The frame.append method is deprecated and will be removed from pandas in a future version. Use pandas.concat instead.\n",
      "  total_df = total_df.append(pd.Series([stk, start_price, new_price, act_return], index = act_columns), ignore_index = True)\n"
     ]
    },
    {
     "name": "stdout",
     "output_type": "stream",
     "text": [
      "NI\n"
     ]
    },
    {
     "name": "stderr",
     "output_type": "stream",
     "text": [
      "/tmp/ipykernel_540/17100239.py:22: FutureWarning: The frame.append method is deprecated and will be removed from pandas in a future version. Use pandas.concat instead.\n",
      "  total_df = total_df.append(pd.Series([stk, start_price, new_price, act_return], index = act_columns), ignore_index = True)\n"
     ]
    },
    {
     "name": "stdout",
     "output_type": "stream",
     "text": [
      "NDSN\n"
     ]
    },
    {
     "name": "stderr",
     "output_type": "stream",
     "text": [
      "/tmp/ipykernel_540/17100239.py:22: FutureWarning: The frame.append method is deprecated and will be removed from pandas in a future version. Use pandas.concat instead.\n",
      "  total_df = total_df.append(pd.Series([stk, start_price, new_price, act_return], index = act_columns), ignore_index = True)\n"
     ]
    },
    {
     "name": "stdout",
     "output_type": "stream",
     "text": [
      "NSC\n"
     ]
    },
    {
     "name": "stderr",
     "output_type": "stream",
     "text": [
      "/tmp/ipykernel_540/17100239.py:22: FutureWarning: The frame.append method is deprecated and will be removed from pandas in a future version. Use pandas.concat instead.\n",
      "  total_df = total_df.append(pd.Series([stk, start_price, new_price, act_return], index = act_columns), ignore_index = True)\n"
     ]
    },
    {
     "name": "stdout",
     "output_type": "stream",
     "text": [
      "NTRS\n"
     ]
    },
    {
     "name": "stderr",
     "output_type": "stream",
     "text": [
      "/tmp/ipykernel_540/17100239.py:22: FutureWarning: The frame.append method is deprecated and will be removed from pandas in a future version. Use pandas.concat instead.\n",
      "  total_df = total_df.append(pd.Series([stk, start_price, new_price, act_return], index = act_columns), ignore_index = True)\n"
     ]
    },
    {
     "name": "stdout",
     "output_type": "stream",
     "text": [
      "NOC\n"
     ]
    },
    {
     "name": "stderr",
     "output_type": "stream",
     "text": [
      "/tmp/ipykernel_540/17100239.py:22: FutureWarning: The frame.append method is deprecated and will be removed from pandas in a future version. Use pandas.concat instead.\n",
      "  total_df = total_df.append(pd.Series([stk, start_price, new_price, act_return], index = act_columns), ignore_index = True)\n"
     ]
    },
    {
     "name": "stdout",
     "output_type": "stream",
     "text": [
      "NCLH\n"
     ]
    },
    {
     "name": "stderr",
     "output_type": "stream",
     "text": [
      "/tmp/ipykernel_540/17100239.py:22: FutureWarning: The frame.append method is deprecated and will be removed from pandas in a future version. Use pandas.concat instead.\n",
      "  total_df = total_df.append(pd.Series([stk, start_price, new_price, act_return], index = act_columns), ignore_index = True)\n"
     ]
    },
    {
     "name": "stdout",
     "output_type": "stream",
     "text": [
      "NRG\n"
     ]
    },
    {
     "name": "stderr",
     "output_type": "stream",
     "text": [
      "/tmp/ipykernel_540/17100239.py:22: FutureWarning: The frame.append method is deprecated and will be removed from pandas in a future version. Use pandas.concat instead.\n",
      "  total_df = total_df.append(pd.Series([stk, start_price, new_price, act_return], index = act_columns), ignore_index = True)\n"
     ]
    },
    {
     "name": "stdout",
     "output_type": "stream",
     "text": [
      "NUE\n"
     ]
    },
    {
     "name": "stderr",
     "output_type": "stream",
     "text": [
      "/tmp/ipykernel_540/17100239.py:22: FutureWarning: The frame.append method is deprecated and will be removed from pandas in a future version. Use pandas.concat instead.\n",
      "  total_df = total_df.append(pd.Series([stk, start_price, new_price, act_return], index = act_columns), ignore_index = True)\n"
     ]
    },
    {
     "name": "stdout",
     "output_type": "stream",
     "text": [
      "NVDA\n"
     ]
    },
    {
     "name": "stderr",
     "output_type": "stream",
     "text": [
      "/tmp/ipykernel_540/17100239.py:22: FutureWarning: The frame.append method is deprecated and will be removed from pandas in a future version. Use pandas.concat instead.\n",
      "  total_df = total_df.append(pd.Series([stk, start_price, new_price, act_return], index = act_columns), ignore_index = True)\n"
     ]
    },
    {
     "name": "stdout",
     "output_type": "stream",
     "text": [
      "NVR\n"
     ]
    },
    {
     "name": "stderr",
     "output_type": "stream",
     "text": [
      "/tmp/ipykernel_540/17100239.py:22: FutureWarning: The frame.append method is deprecated and will be removed from pandas in a future version. Use pandas.concat instead.\n",
      "  total_df = total_df.append(pd.Series([stk, start_price, new_price, act_return], index = act_columns), ignore_index = True)\n"
     ]
    },
    {
     "name": "stdout",
     "output_type": "stream",
     "text": [
      "NXPI\n"
     ]
    },
    {
     "name": "stderr",
     "output_type": "stream",
     "text": [
      "/tmp/ipykernel_540/17100239.py:22: FutureWarning: The frame.append method is deprecated and will be removed from pandas in a future version. Use pandas.concat instead.\n",
      "  total_df = total_df.append(pd.Series([stk, start_price, new_price, act_return], index = act_columns), ignore_index = True)\n"
     ]
    },
    {
     "name": "stdout",
     "output_type": "stream",
     "text": [
      "ORLY\n"
     ]
    },
    {
     "name": "stderr",
     "output_type": "stream",
     "text": [
      "/tmp/ipykernel_540/17100239.py:22: FutureWarning: The frame.append method is deprecated and will be removed from pandas in a future version. Use pandas.concat instead.\n",
      "  total_df = total_df.append(pd.Series([stk, start_price, new_price, act_return], index = act_columns), ignore_index = True)\n"
     ]
    },
    {
     "name": "stdout",
     "output_type": "stream",
     "text": [
      "OXY\n"
     ]
    },
    {
     "name": "stderr",
     "output_type": "stream",
     "text": [
      "/tmp/ipykernel_540/17100239.py:22: FutureWarning: The frame.append method is deprecated and will be removed from pandas in a future version. Use pandas.concat instead.\n",
      "  total_df = total_df.append(pd.Series([stk, start_price, new_price, act_return], index = act_columns), ignore_index = True)\n"
     ]
    },
    {
     "name": "stdout",
     "output_type": "stream",
     "text": [
      "ODFL\n"
     ]
    },
    {
     "name": "stderr",
     "output_type": "stream",
     "text": [
      "/tmp/ipykernel_540/17100239.py:22: FutureWarning: The frame.append method is deprecated and will be removed from pandas in a future version. Use pandas.concat instead.\n",
      "  total_df = total_df.append(pd.Series([stk, start_price, new_price, act_return], index = act_columns), ignore_index = True)\n"
     ]
    },
    {
     "name": "stdout",
     "output_type": "stream",
     "text": [
      "OMC\n"
     ]
    },
    {
     "name": "stderr",
     "output_type": "stream",
     "text": [
      "/tmp/ipykernel_540/17100239.py:22: FutureWarning: The frame.append method is deprecated and will be removed from pandas in a future version. Use pandas.concat instead.\n",
      "  total_df = total_df.append(pd.Series([stk, start_price, new_price, act_return], index = act_columns), ignore_index = True)\n"
     ]
    },
    {
     "name": "stdout",
     "output_type": "stream",
     "text": [
      "ON\n"
     ]
    },
    {
     "name": "stderr",
     "output_type": "stream",
     "text": [
      "/tmp/ipykernel_540/17100239.py:22: FutureWarning: The frame.append method is deprecated and will be removed from pandas in a future version. Use pandas.concat instead.\n",
      "  total_df = total_df.append(pd.Series([stk, start_price, new_price, act_return], index = act_columns), ignore_index = True)\n"
     ]
    },
    {
     "name": "stdout",
     "output_type": "stream",
     "text": [
      "OKE\n"
     ]
    },
    {
     "name": "stderr",
     "output_type": "stream",
     "text": [
      "/tmp/ipykernel_540/17100239.py:22: FutureWarning: The frame.append method is deprecated and will be removed from pandas in a future version. Use pandas.concat instead.\n",
      "  total_df = total_df.append(pd.Series([stk, start_price, new_price, act_return], index = act_columns), ignore_index = True)\n"
     ]
    },
    {
     "name": "stdout",
     "output_type": "stream",
     "text": [
      "ORCL\n"
     ]
    },
    {
     "name": "stderr",
     "output_type": "stream",
     "text": [
      "/tmp/ipykernel_540/17100239.py:22: FutureWarning: The frame.append method is deprecated and will be removed from pandas in a future version. Use pandas.concat instead.\n",
      "  total_df = total_df.append(pd.Series([stk, start_price, new_price, act_return], index = act_columns), ignore_index = True)\n"
     ]
    },
    {
     "name": "stdout",
     "output_type": "stream",
     "text": [
      "OTIS\n"
     ]
    },
    {
     "name": "stderr",
     "output_type": "stream",
     "text": [
      "/tmp/ipykernel_540/17100239.py:22: FutureWarning: The frame.append method is deprecated and will be removed from pandas in a future version. Use pandas.concat instead.\n",
      "  total_df = total_df.append(pd.Series([stk, start_price, new_price, act_return], index = act_columns), ignore_index = True)\n"
     ]
    },
    {
     "name": "stdout",
     "output_type": "stream",
     "text": [
      "PCAR\n"
     ]
    },
    {
     "name": "stderr",
     "output_type": "stream",
     "text": [
      "/tmp/ipykernel_540/17100239.py:22: FutureWarning: The frame.append method is deprecated and will be removed from pandas in a future version. Use pandas.concat instead.\n",
      "  total_df = total_df.append(pd.Series([stk, start_price, new_price, act_return], index = act_columns), ignore_index = True)\n"
     ]
    },
    {
     "name": "stdout",
     "output_type": "stream",
     "text": [
      "PKG\n"
     ]
    },
    {
     "name": "stderr",
     "output_type": "stream",
     "text": [
      "/tmp/ipykernel_540/17100239.py:22: FutureWarning: The frame.append method is deprecated and will be removed from pandas in a future version. Use pandas.concat instead.\n",
      "  total_df = total_df.append(pd.Series([stk, start_price, new_price, act_return], index = act_columns), ignore_index = True)\n"
     ]
    },
    {
     "name": "stdout",
     "output_type": "stream",
     "text": [
      "PANW\n"
     ]
    },
    {
     "name": "stderr",
     "output_type": "stream",
     "text": [
      "/tmp/ipykernel_540/17100239.py:22: FutureWarning: The frame.append method is deprecated and will be removed from pandas in a future version. Use pandas.concat instead.\n",
      "  total_df = total_df.append(pd.Series([stk, start_price, new_price, act_return], index = act_columns), ignore_index = True)\n"
     ]
    },
    {
     "name": "stdout",
     "output_type": "stream",
     "text": [
      "PAYX\n"
     ]
    },
    {
     "name": "stderr",
     "output_type": "stream",
     "text": [
      "/tmp/ipykernel_540/17100239.py:22: FutureWarning: The frame.append method is deprecated and will be removed from pandas in a future version. Use pandas.concat instead.\n",
      "  total_df = total_df.append(pd.Series([stk, start_price, new_price, act_return], index = act_columns), ignore_index = True)\n"
     ]
    },
    {
     "name": "stdout",
     "output_type": "stream",
     "text": [
      "PAYC\n"
     ]
    },
    {
     "name": "stderr",
     "output_type": "stream",
     "text": [
      "/tmp/ipykernel_540/17100239.py:22: FutureWarning: The frame.append method is deprecated and will be removed from pandas in a future version. Use pandas.concat instead.\n",
      "  total_df = total_df.append(pd.Series([stk, start_price, new_price, act_return], index = act_columns), ignore_index = True)\n"
     ]
    },
    {
     "name": "stdout",
     "output_type": "stream",
     "text": [
      "PYPL\n"
     ]
    },
    {
     "name": "stderr",
     "output_type": "stream",
     "text": [
      "/tmp/ipykernel_540/17100239.py:22: FutureWarning: The frame.append method is deprecated and will be removed from pandas in a future version. Use pandas.concat instead.\n",
      "  total_df = total_df.append(pd.Series([stk, start_price, new_price, act_return], index = act_columns), ignore_index = True)\n"
     ]
    },
    {
     "name": "stdout",
     "output_type": "stream",
     "text": [
      "PNR\n"
     ]
    },
    {
     "name": "stderr",
     "output_type": "stream",
     "text": [
      "/tmp/ipykernel_540/17100239.py:22: FutureWarning: The frame.append method is deprecated and will be removed from pandas in a future version. Use pandas.concat instead.\n",
      "  total_df = total_df.append(pd.Series([stk, start_price, new_price, act_return], index = act_columns), ignore_index = True)\n"
     ]
    },
    {
     "name": "stdout",
     "output_type": "stream",
     "text": [
      "PEP\n"
     ]
    },
    {
     "name": "stderr",
     "output_type": "stream",
     "text": [
      "/tmp/ipykernel_540/17100239.py:22: FutureWarning: The frame.append method is deprecated and will be removed from pandas in a future version. Use pandas.concat instead.\n",
      "  total_df = total_df.append(pd.Series([stk, start_price, new_price, act_return], index = act_columns), ignore_index = True)\n"
     ]
    },
    {
     "name": "stdout",
     "output_type": "stream",
     "text": [
      "PFE\n"
     ]
    },
    {
     "name": "stderr",
     "output_type": "stream",
     "text": [
      "/tmp/ipykernel_540/17100239.py:22: FutureWarning: The frame.append method is deprecated and will be removed from pandas in a future version. Use pandas.concat instead.\n",
      "  total_df = total_df.append(pd.Series([stk, start_price, new_price, act_return], index = act_columns), ignore_index = True)\n"
     ]
    },
    {
     "name": "stdout",
     "output_type": "stream",
     "text": [
      "PCG\n"
     ]
    },
    {
     "name": "stderr",
     "output_type": "stream",
     "text": [
      "/tmp/ipykernel_540/17100239.py:22: FutureWarning: The frame.append method is deprecated and will be removed from pandas in a future version. Use pandas.concat instead.\n",
      "  total_df = total_df.append(pd.Series([stk, start_price, new_price, act_return], index = act_columns), ignore_index = True)\n"
     ]
    },
    {
     "name": "stdout",
     "output_type": "stream",
     "text": [
      "PM\n"
     ]
    },
    {
     "name": "stderr",
     "output_type": "stream",
     "text": [
      "/tmp/ipykernel_540/17100239.py:22: FutureWarning: The frame.append method is deprecated and will be removed from pandas in a future version. Use pandas.concat instead.\n",
      "  total_df = total_df.append(pd.Series([stk, start_price, new_price, act_return], index = act_columns), ignore_index = True)\n"
     ]
    },
    {
     "name": "stdout",
     "output_type": "stream",
     "text": [
      "PSX\n"
     ]
    },
    {
     "name": "stderr",
     "output_type": "stream",
     "text": [
      "/tmp/ipykernel_540/17100239.py:22: FutureWarning: The frame.append method is deprecated and will be removed from pandas in a future version. Use pandas.concat instead.\n",
      "  total_df = total_df.append(pd.Series([stk, start_price, new_price, act_return], index = act_columns), ignore_index = True)\n"
     ]
    },
    {
     "name": "stdout",
     "output_type": "stream",
     "text": [
      "PNW\n"
     ]
    },
    {
     "name": "stderr",
     "output_type": "stream",
     "text": [
      "/tmp/ipykernel_540/17100239.py:22: FutureWarning: The frame.append method is deprecated and will be removed from pandas in a future version. Use pandas.concat instead.\n",
      "  total_df = total_df.append(pd.Series([stk, start_price, new_price, act_return], index = act_columns), ignore_index = True)\n"
     ]
    },
    {
     "name": "stdout",
     "output_type": "stream",
     "text": [
      "PXD\n"
     ]
    },
    {
     "name": "stderr",
     "output_type": "stream",
     "text": [
      "/tmp/ipykernel_540/17100239.py:22: FutureWarning: The frame.append method is deprecated and will be removed from pandas in a future version. Use pandas.concat instead.\n",
      "  total_df = total_df.append(pd.Series([stk, start_price, new_price, act_return], index = act_columns), ignore_index = True)\n"
     ]
    },
    {
     "name": "stdout",
     "output_type": "stream",
     "text": [
      "PNC\n"
     ]
    },
    {
     "name": "stderr",
     "output_type": "stream",
     "text": [
      "/tmp/ipykernel_540/17100239.py:22: FutureWarning: The frame.append method is deprecated and will be removed from pandas in a future version. Use pandas.concat instead.\n",
      "  total_df = total_df.append(pd.Series([stk, start_price, new_price, act_return], index = act_columns), ignore_index = True)\n"
     ]
    },
    {
     "name": "stdout",
     "output_type": "stream",
     "text": [
      "POOL\n"
     ]
    },
    {
     "name": "stderr",
     "output_type": "stream",
     "text": [
      "/tmp/ipykernel_540/17100239.py:22: FutureWarning: The frame.append method is deprecated and will be removed from pandas in a future version. Use pandas.concat instead.\n",
      "  total_df = total_df.append(pd.Series([stk, start_price, new_price, act_return], index = act_columns), ignore_index = True)\n"
     ]
    },
    {
     "name": "stdout",
     "output_type": "stream",
     "text": [
      "PPG\n"
     ]
    },
    {
     "name": "stderr",
     "output_type": "stream",
     "text": [
      "/tmp/ipykernel_540/17100239.py:22: FutureWarning: The frame.append method is deprecated and will be removed from pandas in a future version. Use pandas.concat instead.\n",
      "  total_df = total_df.append(pd.Series([stk, start_price, new_price, act_return], index = act_columns), ignore_index = True)\n"
     ]
    },
    {
     "name": "stdout",
     "output_type": "stream",
     "text": [
      "PPL\n"
     ]
    },
    {
     "name": "stderr",
     "output_type": "stream",
     "text": [
      "/tmp/ipykernel_540/17100239.py:22: FutureWarning: The frame.append method is deprecated and will be removed from pandas in a future version. Use pandas.concat instead.\n",
      "  total_df = total_df.append(pd.Series([stk, start_price, new_price, act_return], index = act_columns), ignore_index = True)\n"
     ]
    },
    {
     "name": "stdout",
     "output_type": "stream",
     "text": [
      "PFG\n"
     ]
    },
    {
     "name": "stderr",
     "output_type": "stream",
     "text": [
      "/tmp/ipykernel_540/17100239.py:22: FutureWarning: The frame.append method is deprecated and will be removed from pandas in a future version. Use pandas.concat instead.\n",
      "  total_df = total_df.append(pd.Series([stk, start_price, new_price, act_return], index = act_columns), ignore_index = True)\n"
     ]
    },
    {
     "name": "stdout",
     "output_type": "stream",
     "text": [
      "PG\n"
     ]
    },
    {
     "name": "stderr",
     "output_type": "stream",
     "text": [
      "/tmp/ipykernel_540/17100239.py:22: FutureWarning: The frame.append method is deprecated and will be removed from pandas in a future version. Use pandas.concat instead.\n",
      "  total_df = total_df.append(pd.Series([stk, start_price, new_price, act_return], index = act_columns), ignore_index = True)\n"
     ]
    },
    {
     "name": "stdout",
     "output_type": "stream",
     "text": [
      "PGR\n"
     ]
    },
    {
     "name": "stderr",
     "output_type": "stream",
     "text": [
      "/tmp/ipykernel_540/17100239.py:22: FutureWarning: The frame.append method is deprecated and will be removed from pandas in a future version. Use pandas.concat instead.\n",
      "  total_df = total_df.append(pd.Series([stk, start_price, new_price, act_return], index = act_columns), ignore_index = True)\n"
     ]
    },
    {
     "name": "stdout",
     "output_type": "stream",
     "text": [
      "PLD\n"
     ]
    },
    {
     "name": "stderr",
     "output_type": "stream",
     "text": [
      "/tmp/ipykernel_540/17100239.py:22: FutureWarning: The frame.append method is deprecated and will be removed from pandas in a future version. Use pandas.concat instead.\n",
      "  total_df = total_df.append(pd.Series([stk, start_price, new_price, act_return], index = act_columns), ignore_index = True)\n"
     ]
    },
    {
     "name": "stdout",
     "output_type": "stream",
     "text": [
      "PRU\n"
     ]
    },
    {
     "name": "stderr",
     "output_type": "stream",
     "text": [
      "/tmp/ipykernel_540/17100239.py:22: FutureWarning: The frame.append method is deprecated and will be removed from pandas in a future version. Use pandas.concat instead.\n",
      "  total_df = total_df.append(pd.Series([stk, start_price, new_price, act_return], index = act_columns), ignore_index = True)\n"
     ]
    },
    {
     "name": "stdout",
     "output_type": "stream",
     "text": [
      "PEG\n"
     ]
    },
    {
     "name": "stderr",
     "output_type": "stream",
     "text": [
      "/tmp/ipykernel_540/17100239.py:22: FutureWarning: The frame.append method is deprecated and will be removed from pandas in a future version. Use pandas.concat instead.\n",
      "  total_df = total_df.append(pd.Series([stk, start_price, new_price, act_return], index = act_columns), ignore_index = True)\n"
     ]
    },
    {
     "name": "stdout",
     "output_type": "stream",
     "text": [
      "PTC\n"
     ]
    },
    {
     "name": "stderr",
     "output_type": "stream",
     "text": [
      "/tmp/ipykernel_540/17100239.py:22: FutureWarning: The frame.append method is deprecated and will be removed from pandas in a future version. Use pandas.concat instead.\n",
      "  total_df = total_df.append(pd.Series([stk, start_price, new_price, act_return], index = act_columns), ignore_index = True)\n"
     ]
    },
    {
     "name": "stdout",
     "output_type": "stream",
     "text": [
      "PSA\n"
     ]
    },
    {
     "name": "stderr",
     "output_type": "stream",
     "text": [
      "/tmp/ipykernel_540/17100239.py:22: FutureWarning: The frame.append method is deprecated and will be removed from pandas in a future version. Use pandas.concat instead.\n",
      "  total_df = total_df.append(pd.Series([stk, start_price, new_price, act_return], index = act_columns), ignore_index = True)\n"
     ]
    },
    {
     "name": "stdout",
     "output_type": "stream",
     "text": [
      "PHM\n"
     ]
    },
    {
     "name": "stderr",
     "output_type": "stream",
     "text": [
      "/tmp/ipykernel_540/17100239.py:22: FutureWarning: The frame.append method is deprecated and will be removed from pandas in a future version. Use pandas.concat instead.\n",
      "  total_df = total_df.append(pd.Series([stk, start_price, new_price, act_return], index = act_columns), ignore_index = True)\n"
     ]
    },
    {
     "name": "stdout",
     "output_type": "stream",
     "text": [
      "QRVO\n"
     ]
    },
    {
     "name": "stderr",
     "output_type": "stream",
     "text": [
      "/tmp/ipykernel_540/17100239.py:22: FutureWarning: The frame.append method is deprecated and will be removed from pandas in a future version. Use pandas.concat instead.\n",
      "  total_df = total_df.append(pd.Series([stk, start_price, new_price, act_return], index = act_columns), ignore_index = True)\n"
     ]
    },
    {
     "name": "stdout",
     "output_type": "stream",
     "text": [
      "PWR\n"
     ]
    },
    {
     "name": "stderr",
     "output_type": "stream",
     "text": [
      "/tmp/ipykernel_540/17100239.py:22: FutureWarning: The frame.append method is deprecated and will be removed from pandas in a future version. Use pandas.concat instead.\n",
      "  total_df = total_df.append(pd.Series([stk, start_price, new_price, act_return], index = act_columns), ignore_index = True)\n"
     ]
    },
    {
     "name": "stdout",
     "output_type": "stream",
     "text": [
      "QCOM\n"
     ]
    },
    {
     "name": "stderr",
     "output_type": "stream",
     "text": [
      "/tmp/ipykernel_540/17100239.py:22: FutureWarning: The frame.append method is deprecated and will be removed from pandas in a future version. Use pandas.concat instead.\n",
      "  total_df = total_df.append(pd.Series([stk, start_price, new_price, act_return], index = act_columns), ignore_index = True)\n"
     ]
    },
    {
     "name": "stdout",
     "output_type": "stream",
     "text": [
      "DGX\n"
     ]
    },
    {
     "name": "stderr",
     "output_type": "stream",
     "text": [
      "/tmp/ipykernel_540/17100239.py:22: FutureWarning: The frame.append method is deprecated and will be removed from pandas in a future version. Use pandas.concat instead.\n",
      "  total_df = total_df.append(pd.Series([stk, start_price, new_price, act_return], index = act_columns), ignore_index = True)\n"
     ]
    },
    {
     "name": "stdout",
     "output_type": "stream",
     "text": [
      "RL\n"
     ]
    },
    {
     "name": "stderr",
     "output_type": "stream",
     "text": [
      "/tmp/ipykernel_540/17100239.py:22: FutureWarning: The frame.append method is deprecated and will be removed from pandas in a future version. Use pandas.concat instead.\n",
      "  total_df = total_df.append(pd.Series([stk, start_price, new_price, act_return], index = act_columns), ignore_index = True)\n"
     ]
    },
    {
     "name": "stdout",
     "output_type": "stream",
     "text": [
      "RJF\n"
     ]
    },
    {
     "name": "stderr",
     "output_type": "stream",
     "text": [
      "/tmp/ipykernel_540/17100239.py:22: FutureWarning: The frame.append method is deprecated and will be removed from pandas in a future version. Use pandas.concat instead.\n",
      "  total_df = total_df.append(pd.Series([stk, start_price, new_price, act_return], index = act_columns), ignore_index = True)\n"
     ]
    },
    {
     "name": "stdout",
     "output_type": "stream",
     "text": [
      "RTX\n"
     ]
    },
    {
     "name": "stderr",
     "output_type": "stream",
     "text": [
      "/tmp/ipykernel_540/17100239.py:22: FutureWarning: The frame.append method is deprecated and will be removed from pandas in a future version. Use pandas.concat instead.\n",
      "  total_df = total_df.append(pd.Series([stk, start_price, new_price, act_return], index = act_columns), ignore_index = True)\n"
     ]
    },
    {
     "name": "stdout",
     "output_type": "stream",
     "text": [
      "O\n"
     ]
    },
    {
     "name": "stderr",
     "output_type": "stream",
     "text": [
      "/tmp/ipykernel_540/17100239.py:22: FutureWarning: The frame.append method is deprecated and will be removed from pandas in a future version. Use pandas.concat instead.\n",
      "  total_df = total_df.append(pd.Series([stk, start_price, new_price, act_return], index = act_columns), ignore_index = True)\n"
     ]
    },
    {
     "name": "stdout",
     "output_type": "stream",
     "text": [
      "REG\n"
     ]
    },
    {
     "name": "stderr",
     "output_type": "stream",
     "text": [
      "/tmp/ipykernel_540/17100239.py:22: FutureWarning: The frame.append method is deprecated and will be removed from pandas in a future version. Use pandas.concat instead.\n",
      "  total_df = total_df.append(pd.Series([stk, start_price, new_price, act_return], index = act_columns), ignore_index = True)\n"
     ]
    },
    {
     "name": "stdout",
     "output_type": "stream",
     "text": [
      "REGN\n"
     ]
    },
    {
     "name": "stderr",
     "output_type": "stream",
     "text": [
      "/tmp/ipykernel_540/17100239.py:22: FutureWarning: The frame.append method is deprecated and will be removed from pandas in a future version. Use pandas.concat instead.\n",
      "  total_df = total_df.append(pd.Series([stk, start_price, new_price, act_return], index = act_columns), ignore_index = True)\n"
     ]
    },
    {
     "name": "stdout",
     "output_type": "stream",
     "text": [
      "RF\n"
     ]
    },
    {
     "name": "stderr",
     "output_type": "stream",
     "text": [
      "/tmp/ipykernel_540/17100239.py:22: FutureWarning: The frame.append method is deprecated and will be removed from pandas in a future version. Use pandas.concat instead.\n",
      "  total_df = total_df.append(pd.Series([stk, start_price, new_price, act_return], index = act_columns), ignore_index = True)\n"
     ]
    },
    {
     "name": "stdout",
     "output_type": "stream",
     "text": [
      "RSG\n"
     ]
    },
    {
     "name": "stderr",
     "output_type": "stream",
     "text": [
      "/tmp/ipykernel_540/17100239.py:22: FutureWarning: The frame.append method is deprecated and will be removed from pandas in a future version. Use pandas.concat instead.\n",
      "  total_df = total_df.append(pd.Series([stk, start_price, new_price, act_return], index = act_columns), ignore_index = True)\n"
     ]
    },
    {
     "name": "stdout",
     "output_type": "stream",
     "text": [
      "RMD\n"
     ]
    },
    {
     "name": "stderr",
     "output_type": "stream",
     "text": [
      "/tmp/ipykernel_540/17100239.py:22: FutureWarning: The frame.append method is deprecated and will be removed from pandas in a future version. Use pandas.concat instead.\n",
      "  total_df = total_df.append(pd.Series([stk, start_price, new_price, act_return], index = act_columns), ignore_index = True)\n"
     ]
    },
    {
     "name": "stdout",
     "output_type": "stream",
     "text": [
      "RHI\n"
     ]
    },
    {
     "name": "stderr",
     "output_type": "stream",
     "text": [
      "/tmp/ipykernel_540/17100239.py:22: FutureWarning: The frame.append method is deprecated and will be removed from pandas in a future version. Use pandas.concat instead.\n",
      "  total_df = total_df.append(pd.Series([stk, start_price, new_price, act_return], index = act_columns), ignore_index = True)\n"
     ]
    },
    {
     "name": "stdout",
     "output_type": "stream",
     "text": [
      "ROK\n"
     ]
    },
    {
     "name": "stderr",
     "output_type": "stream",
     "text": [
      "/tmp/ipykernel_540/17100239.py:22: FutureWarning: The frame.append method is deprecated and will be removed from pandas in a future version. Use pandas.concat instead.\n",
      "  total_df = total_df.append(pd.Series([stk, start_price, new_price, act_return], index = act_columns), ignore_index = True)\n"
     ]
    },
    {
     "name": "stdout",
     "output_type": "stream",
     "text": [
      "ROL\n"
     ]
    },
    {
     "name": "stderr",
     "output_type": "stream",
     "text": [
      "/tmp/ipykernel_540/17100239.py:22: FutureWarning: The frame.append method is deprecated and will be removed from pandas in a future version. Use pandas.concat instead.\n",
      "  total_df = total_df.append(pd.Series([stk, start_price, new_price, act_return], index = act_columns), ignore_index = True)\n"
     ]
    },
    {
     "name": "stdout",
     "output_type": "stream",
     "text": [
      "ROP\n"
     ]
    },
    {
     "name": "stderr",
     "output_type": "stream",
     "text": [
      "/tmp/ipykernel_540/17100239.py:22: FutureWarning: The frame.append method is deprecated and will be removed from pandas in a future version. Use pandas.concat instead.\n",
      "  total_df = total_df.append(pd.Series([stk, start_price, new_price, act_return], index = act_columns), ignore_index = True)\n"
     ]
    },
    {
     "name": "stdout",
     "output_type": "stream",
     "text": [
      "ROST\n"
     ]
    },
    {
     "name": "stderr",
     "output_type": "stream",
     "text": [
      "/tmp/ipykernel_540/17100239.py:22: FutureWarning: The frame.append method is deprecated and will be removed from pandas in a future version. Use pandas.concat instead.\n",
      "  total_df = total_df.append(pd.Series([stk, start_price, new_price, act_return], index = act_columns), ignore_index = True)\n"
     ]
    },
    {
     "name": "stdout",
     "output_type": "stream",
     "text": [
      "RCL\n"
     ]
    },
    {
     "name": "stderr",
     "output_type": "stream",
     "text": [
      "/tmp/ipykernel_540/17100239.py:22: FutureWarning: The frame.append method is deprecated and will be removed from pandas in a future version. Use pandas.concat instead.\n",
      "  total_df = total_df.append(pd.Series([stk, start_price, new_price, act_return], index = act_columns), ignore_index = True)\n"
     ]
    },
    {
     "name": "stdout",
     "output_type": "stream",
     "text": [
      "SPGI\n"
     ]
    },
    {
     "name": "stderr",
     "output_type": "stream",
     "text": [
      "/tmp/ipykernel_540/17100239.py:22: FutureWarning: The frame.append method is deprecated and will be removed from pandas in a future version. Use pandas.concat instead.\n",
      "  total_df = total_df.append(pd.Series([stk, start_price, new_price, act_return], index = act_columns), ignore_index = True)\n"
     ]
    },
    {
     "name": "stdout",
     "output_type": "stream",
     "text": [
      "CRM\n"
     ]
    },
    {
     "name": "stderr",
     "output_type": "stream",
     "text": [
      "/tmp/ipykernel_540/17100239.py:22: FutureWarning: The frame.append method is deprecated and will be removed from pandas in a future version. Use pandas.concat instead.\n",
      "  total_df = total_df.append(pd.Series([stk, start_price, new_price, act_return], index = act_columns), ignore_index = True)\n"
     ]
    },
    {
     "name": "stdout",
     "output_type": "stream",
     "text": [
      "SBAC\n"
     ]
    },
    {
     "name": "stderr",
     "output_type": "stream",
     "text": [
      "/tmp/ipykernel_540/17100239.py:22: FutureWarning: The frame.append method is deprecated and will be removed from pandas in a future version. Use pandas.concat instead.\n",
      "  total_df = total_df.append(pd.Series([stk, start_price, new_price, act_return], index = act_columns), ignore_index = True)\n"
     ]
    },
    {
     "name": "stdout",
     "output_type": "stream",
     "text": [
      "SLB\n"
     ]
    },
    {
     "name": "stderr",
     "output_type": "stream",
     "text": [
      "/tmp/ipykernel_540/17100239.py:22: FutureWarning: The frame.append method is deprecated and will be removed from pandas in a future version. Use pandas.concat instead.\n",
      "  total_df = total_df.append(pd.Series([stk, start_price, new_price, act_return], index = act_columns), ignore_index = True)\n"
     ]
    },
    {
     "name": "stdout",
     "output_type": "stream",
     "text": [
      "STX\n"
     ]
    },
    {
     "name": "stderr",
     "output_type": "stream",
     "text": [
      "/tmp/ipykernel_540/17100239.py:22: FutureWarning: The frame.append method is deprecated and will be removed from pandas in a future version. Use pandas.concat instead.\n",
      "  total_df = total_df.append(pd.Series([stk, start_price, new_price, act_return], index = act_columns), ignore_index = True)\n"
     ]
    },
    {
     "name": "stdout",
     "output_type": "stream",
     "text": [
      "SEE\n"
     ]
    },
    {
     "name": "stderr",
     "output_type": "stream",
     "text": [
      "/tmp/ipykernel_540/17100239.py:22: FutureWarning: The frame.append method is deprecated and will be removed from pandas in a future version. Use pandas.concat instead.\n",
      "  total_df = total_df.append(pd.Series([stk, start_price, new_price, act_return], index = act_columns), ignore_index = True)\n"
     ]
    },
    {
     "name": "stdout",
     "output_type": "stream",
     "text": [
      "SRE\n"
     ]
    },
    {
     "name": "stderr",
     "output_type": "stream",
     "text": [
      "/tmp/ipykernel_540/17100239.py:22: FutureWarning: The frame.append method is deprecated and will be removed from pandas in a future version. Use pandas.concat instead.\n",
      "  total_df = total_df.append(pd.Series([stk, start_price, new_price, act_return], index = act_columns), ignore_index = True)\n"
     ]
    },
    {
     "name": "stdout",
     "output_type": "stream",
     "text": [
      "NOW\n"
     ]
    },
    {
     "name": "stderr",
     "output_type": "stream",
     "text": [
      "/tmp/ipykernel_540/17100239.py:22: FutureWarning: The frame.append method is deprecated and will be removed from pandas in a future version. Use pandas.concat instead.\n",
      "  total_df = total_df.append(pd.Series([stk, start_price, new_price, act_return], index = act_columns), ignore_index = True)\n"
     ]
    },
    {
     "name": "stdout",
     "output_type": "stream",
     "text": [
      "SHW\n"
     ]
    },
    {
     "name": "stderr",
     "output_type": "stream",
     "text": [
      "/tmp/ipykernel_540/17100239.py:22: FutureWarning: The frame.append method is deprecated and will be removed from pandas in a future version. Use pandas.concat instead.\n",
      "  total_df = total_df.append(pd.Series([stk, start_price, new_price, act_return], index = act_columns), ignore_index = True)\n"
     ]
    },
    {
     "name": "stdout",
     "output_type": "stream",
     "text": [
      "SPG\n"
     ]
    },
    {
     "name": "stderr",
     "output_type": "stream",
     "text": [
      "/tmp/ipykernel_540/17100239.py:22: FutureWarning: The frame.append method is deprecated and will be removed from pandas in a future version. Use pandas.concat instead.\n",
      "  total_df = total_df.append(pd.Series([stk, start_price, new_price, act_return], index = act_columns), ignore_index = True)\n"
     ]
    },
    {
     "name": "stdout",
     "output_type": "stream",
     "text": [
      "SWKS\n"
     ]
    },
    {
     "name": "stderr",
     "output_type": "stream",
     "text": [
      "/tmp/ipykernel_540/17100239.py:22: FutureWarning: The frame.append method is deprecated and will be removed from pandas in a future version. Use pandas.concat instead.\n",
      "  total_df = total_df.append(pd.Series([stk, start_price, new_price, act_return], index = act_columns), ignore_index = True)\n"
     ]
    },
    {
     "name": "stdout",
     "output_type": "stream",
     "text": [
      "SJM\n"
     ]
    },
    {
     "name": "stderr",
     "output_type": "stream",
     "text": [
      "/tmp/ipykernel_540/17100239.py:22: FutureWarning: The frame.append method is deprecated and will be removed from pandas in a future version. Use pandas.concat instead.\n",
      "  total_df = total_df.append(pd.Series([stk, start_price, new_price, act_return], index = act_columns), ignore_index = True)\n"
     ]
    },
    {
     "name": "stdout",
     "output_type": "stream",
     "text": [
      "SNA\n"
     ]
    },
    {
     "name": "stderr",
     "output_type": "stream",
     "text": [
      "/tmp/ipykernel_540/17100239.py:22: FutureWarning: The frame.append method is deprecated and will be removed from pandas in a future version. Use pandas.concat instead.\n",
      "  total_df = total_df.append(pd.Series([stk, start_price, new_price, act_return], index = act_columns), ignore_index = True)\n"
     ]
    },
    {
     "name": "stdout",
     "output_type": "stream",
     "text": [
      "SEDG\n"
     ]
    },
    {
     "name": "stderr",
     "output_type": "stream",
     "text": [
      "/tmp/ipykernel_540/17100239.py:22: FutureWarning: The frame.append method is deprecated and will be removed from pandas in a future version. Use pandas.concat instead.\n",
      "  total_df = total_df.append(pd.Series([stk, start_price, new_price, act_return], index = act_columns), ignore_index = True)\n"
     ]
    },
    {
     "name": "stdout",
     "output_type": "stream",
     "text": [
      "SO\n"
     ]
    },
    {
     "name": "stderr",
     "output_type": "stream",
     "text": [
      "/tmp/ipykernel_540/17100239.py:22: FutureWarning: The frame.append method is deprecated and will be removed from pandas in a future version. Use pandas.concat instead.\n",
      "  total_df = total_df.append(pd.Series([stk, start_price, new_price, act_return], index = act_columns), ignore_index = True)\n"
     ]
    },
    {
     "name": "stdout",
     "output_type": "stream",
     "text": [
      "LUV\n"
     ]
    },
    {
     "name": "stderr",
     "output_type": "stream",
     "text": [
      "/tmp/ipykernel_540/17100239.py:22: FutureWarning: The frame.append method is deprecated and will be removed from pandas in a future version. Use pandas.concat instead.\n",
      "  total_df = total_df.append(pd.Series([stk, start_price, new_price, act_return], index = act_columns), ignore_index = True)\n"
     ]
    },
    {
     "name": "stdout",
     "output_type": "stream",
     "text": [
      "SWK\n"
     ]
    },
    {
     "name": "stderr",
     "output_type": "stream",
     "text": [
      "/tmp/ipykernel_540/17100239.py:22: FutureWarning: The frame.append method is deprecated and will be removed from pandas in a future version. Use pandas.concat instead.\n",
      "  total_df = total_df.append(pd.Series([stk, start_price, new_price, act_return], index = act_columns), ignore_index = True)\n"
     ]
    },
    {
     "name": "stdout",
     "output_type": "stream",
     "text": [
      "SBUX\n"
     ]
    },
    {
     "name": "stderr",
     "output_type": "stream",
     "text": [
      "/tmp/ipykernel_540/17100239.py:22: FutureWarning: The frame.append method is deprecated and will be removed from pandas in a future version. Use pandas.concat instead.\n",
      "  total_df = total_df.append(pd.Series([stk, start_price, new_price, act_return], index = act_columns), ignore_index = True)\n"
     ]
    },
    {
     "name": "stdout",
     "output_type": "stream",
     "text": [
      "STT\n"
     ]
    },
    {
     "name": "stderr",
     "output_type": "stream",
     "text": [
      "/tmp/ipykernel_540/17100239.py:22: FutureWarning: The frame.append method is deprecated and will be removed from pandas in a future version. Use pandas.concat instead.\n",
      "  total_df = total_df.append(pd.Series([stk, start_price, new_price, act_return], index = act_columns), ignore_index = True)\n"
     ]
    },
    {
     "name": "stdout",
     "output_type": "stream",
     "text": [
      "STLD\n"
     ]
    },
    {
     "name": "stderr",
     "output_type": "stream",
     "text": [
      "/tmp/ipykernel_540/17100239.py:22: FutureWarning: The frame.append method is deprecated and will be removed from pandas in a future version. Use pandas.concat instead.\n",
      "  total_df = total_df.append(pd.Series([stk, start_price, new_price, act_return], index = act_columns), ignore_index = True)\n"
     ]
    },
    {
     "name": "stdout",
     "output_type": "stream",
     "text": [
      "STE\n"
     ]
    },
    {
     "name": "stderr",
     "output_type": "stream",
     "text": [
      "/tmp/ipykernel_540/17100239.py:22: FutureWarning: The frame.append method is deprecated and will be removed from pandas in a future version. Use pandas.concat instead.\n",
      "  total_df = total_df.append(pd.Series([stk, start_price, new_price, act_return], index = act_columns), ignore_index = True)\n"
     ]
    },
    {
     "name": "stdout",
     "output_type": "stream",
     "text": [
      "SYK\n"
     ]
    },
    {
     "name": "stderr",
     "output_type": "stream",
     "text": [
      "/tmp/ipykernel_540/17100239.py:22: FutureWarning: The frame.append method is deprecated and will be removed from pandas in a future version. Use pandas.concat instead.\n",
      "  total_df = total_df.append(pd.Series([stk, start_price, new_price, act_return], index = act_columns), ignore_index = True)\n"
     ]
    },
    {
     "name": "stdout",
     "output_type": "stream",
     "text": [
      "SYF\n"
     ]
    },
    {
     "name": "stderr",
     "output_type": "stream",
     "text": [
      "/tmp/ipykernel_540/17100239.py:22: FutureWarning: The frame.append method is deprecated and will be removed from pandas in a future version. Use pandas.concat instead.\n",
      "  total_df = total_df.append(pd.Series([stk, start_price, new_price, act_return], index = act_columns), ignore_index = True)\n"
     ]
    },
    {
     "name": "stdout",
     "output_type": "stream",
     "text": [
      "SNPS\n"
     ]
    },
    {
     "name": "stderr",
     "output_type": "stream",
     "text": [
      "/tmp/ipykernel_540/17100239.py:22: FutureWarning: The frame.append method is deprecated and will be removed from pandas in a future version. Use pandas.concat instead.\n",
      "  total_df = total_df.append(pd.Series([stk, start_price, new_price, act_return], index = act_columns), ignore_index = True)\n"
     ]
    },
    {
     "name": "stdout",
     "output_type": "stream",
     "text": [
      "SYY\n"
     ]
    },
    {
     "name": "stderr",
     "output_type": "stream",
     "text": [
      "/tmp/ipykernel_540/17100239.py:22: FutureWarning: The frame.append method is deprecated and will be removed from pandas in a future version. Use pandas.concat instead.\n",
      "  total_df = total_df.append(pd.Series([stk, start_price, new_price, act_return], index = act_columns), ignore_index = True)\n"
     ]
    },
    {
     "name": "stdout",
     "output_type": "stream",
     "text": [
      "TMUS\n"
     ]
    },
    {
     "name": "stderr",
     "output_type": "stream",
     "text": [
      "/tmp/ipykernel_540/17100239.py:22: FutureWarning: The frame.append method is deprecated and will be removed from pandas in a future version. Use pandas.concat instead.\n",
      "  total_df = total_df.append(pd.Series([stk, start_price, new_price, act_return], index = act_columns), ignore_index = True)\n"
     ]
    },
    {
     "name": "stdout",
     "output_type": "stream",
     "text": [
      "TROW\n"
     ]
    },
    {
     "name": "stderr",
     "output_type": "stream",
     "text": [
      "/tmp/ipykernel_540/17100239.py:22: FutureWarning: The frame.append method is deprecated and will be removed from pandas in a future version. Use pandas.concat instead.\n",
      "  total_df = total_df.append(pd.Series([stk, start_price, new_price, act_return], index = act_columns), ignore_index = True)\n"
     ]
    },
    {
     "name": "stdout",
     "output_type": "stream",
     "text": [
      "TTWO\n"
     ]
    },
    {
     "name": "stderr",
     "output_type": "stream",
     "text": [
      "/tmp/ipykernel_540/17100239.py:22: FutureWarning: The frame.append method is deprecated and will be removed from pandas in a future version. Use pandas.concat instead.\n",
      "  total_df = total_df.append(pd.Series([stk, start_price, new_price, act_return], index = act_columns), ignore_index = True)\n"
     ]
    },
    {
     "name": "stdout",
     "output_type": "stream",
     "text": [
      "TPR\n"
     ]
    },
    {
     "name": "stderr",
     "output_type": "stream",
     "text": [
      "/tmp/ipykernel_540/17100239.py:22: FutureWarning: The frame.append method is deprecated and will be removed from pandas in a future version. Use pandas.concat instead.\n",
      "  total_df = total_df.append(pd.Series([stk, start_price, new_price, act_return], index = act_columns), ignore_index = True)\n"
     ]
    },
    {
     "name": "stdout",
     "output_type": "stream",
     "text": [
      "TRGP\n"
     ]
    },
    {
     "name": "stderr",
     "output_type": "stream",
     "text": [
      "/tmp/ipykernel_540/17100239.py:22: FutureWarning: The frame.append method is deprecated and will be removed from pandas in a future version. Use pandas.concat instead.\n",
      "  total_df = total_df.append(pd.Series([stk, start_price, new_price, act_return], index = act_columns), ignore_index = True)\n"
     ]
    },
    {
     "name": "stdout",
     "output_type": "stream",
     "text": [
      "TGT\n"
     ]
    },
    {
     "name": "stderr",
     "output_type": "stream",
     "text": [
      "/tmp/ipykernel_540/17100239.py:22: FutureWarning: The frame.append method is deprecated and will be removed from pandas in a future version. Use pandas.concat instead.\n",
      "  total_df = total_df.append(pd.Series([stk, start_price, new_price, act_return], index = act_columns), ignore_index = True)\n"
     ]
    },
    {
     "name": "stdout",
     "output_type": "stream",
     "text": [
      "TEL\n"
     ]
    },
    {
     "name": "stderr",
     "output_type": "stream",
     "text": [
      "/tmp/ipykernel_540/17100239.py:22: FutureWarning: The frame.append method is deprecated and will be removed from pandas in a future version. Use pandas.concat instead.\n",
      "  total_df = total_df.append(pd.Series([stk, start_price, new_price, act_return], index = act_columns), ignore_index = True)\n"
     ]
    },
    {
     "name": "stdout",
     "output_type": "stream",
     "text": [
      "TDY\n"
     ]
    },
    {
     "name": "stderr",
     "output_type": "stream",
     "text": [
      "/tmp/ipykernel_540/17100239.py:22: FutureWarning: The frame.append method is deprecated and will be removed from pandas in a future version. Use pandas.concat instead.\n",
      "  total_df = total_df.append(pd.Series([stk, start_price, new_price, act_return], index = act_columns), ignore_index = True)\n"
     ]
    },
    {
     "name": "stdout",
     "output_type": "stream",
     "text": [
      "TFX\n"
     ]
    },
    {
     "name": "stderr",
     "output_type": "stream",
     "text": [
      "/tmp/ipykernel_540/17100239.py:22: FutureWarning: The frame.append method is deprecated and will be removed from pandas in a future version. Use pandas.concat instead.\n",
      "  total_df = total_df.append(pd.Series([stk, start_price, new_price, act_return], index = act_columns), ignore_index = True)\n"
     ]
    },
    {
     "name": "stdout",
     "output_type": "stream",
     "text": [
      "TER\n"
     ]
    },
    {
     "name": "stderr",
     "output_type": "stream",
     "text": [
      "/tmp/ipykernel_540/17100239.py:22: FutureWarning: The frame.append method is deprecated and will be removed from pandas in a future version. Use pandas.concat instead.\n",
      "  total_df = total_df.append(pd.Series([stk, start_price, new_price, act_return], index = act_columns), ignore_index = True)\n"
     ]
    },
    {
     "name": "stdout",
     "output_type": "stream",
     "text": [
      "TSLA\n"
     ]
    },
    {
     "name": "stderr",
     "output_type": "stream",
     "text": [
      "/tmp/ipykernel_540/17100239.py:22: FutureWarning: The frame.append method is deprecated and will be removed from pandas in a future version. Use pandas.concat instead.\n",
      "  total_df = total_df.append(pd.Series([stk, start_price, new_price, act_return], index = act_columns), ignore_index = True)\n"
     ]
    },
    {
     "name": "stdout",
     "output_type": "stream",
     "text": [
      "TXN\n"
     ]
    },
    {
     "name": "stderr",
     "output_type": "stream",
     "text": [
      "/tmp/ipykernel_540/17100239.py:22: FutureWarning: The frame.append method is deprecated and will be removed from pandas in a future version. Use pandas.concat instead.\n",
      "  total_df = total_df.append(pd.Series([stk, start_price, new_price, act_return], index = act_columns), ignore_index = True)\n"
     ]
    },
    {
     "name": "stdout",
     "output_type": "stream",
     "text": [
      "TXT\n"
     ]
    },
    {
     "name": "stderr",
     "output_type": "stream",
     "text": [
      "/tmp/ipykernel_540/17100239.py:22: FutureWarning: The frame.append method is deprecated and will be removed from pandas in a future version. Use pandas.concat instead.\n",
      "  total_df = total_df.append(pd.Series([stk, start_price, new_price, act_return], index = act_columns), ignore_index = True)\n"
     ]
    },
    {
     "name": "stdout",
     "output_type": "stream",
     "text": [
      "TMO\n"
     ]
    },
    {
     "name": "stderr",
     "output_type": "stream",
     "text": [
      "/tmp/ipykernel_540/17100239.py:22: FutureWarning: The frame.append method is deprecated and will be removed from pandas in a future version. Use pandas.concat instead.\n",
      "  total_df = total_df.append(pd.Series([stk, start_price, new_price, act_return], index = act_columns), ignore_index = True)\n"
     ]
    },
    {
     "name": "stdout",
     "output_type": "stream",
     "text": [
      "TJX\n"
     ]
    },
    {
     "name": "stderr",
     "output_type": "stream",
     "text": [
      "/tmp/ipykernel_540/17100239.py:22: FutureWarning: The frame.append method is deprecated and will be removed from pandas in a future version. Use pandas.concat instead.\n",
      "  total_df = total_df.append(pd.Series([stk, start_price, new_price, act_return], index = act_columns), ignore_index = True)\n"
     ]
    },
    {
     "name": "stdout",
     "output_type": "stream",
     "text": [
      "TSCO\n"
     ]
    },
    {
     "name": "stderr",
     "output_type": "stream",
     "text": [
      "/tmp/ipykernel_540/17100239.py:22: FutureWarning: The frame.append method is deprecated and will be removed from pandas in a future version. Use pandas.concat instead.\n",
      "  total_df = total_df.append(pd.Series([stk, start_price, new_price, act_return], index = act_columns), ignore_index = True)\n"
     ]
    },
    {
     "name": "stdout",
     "output_type": "stream",
     "text": [
      "TT\n"
     ]
    },
    {
     "name": "stderr",
     "output_type": "stream",
     "text": [
      "/tmp/ipykernel_540/17100239.py:22: FutureWarning: The frame.append method is deprecated and will be removed from pandas in a future version. Use pandas.concat instead.\n",
      "  total_df = total_df.append(pd.Series([stk, start_price, new_price, act_return], index = act_columns), ignore_index = True)\n"
     ]
    },
    {
     "name": "stdout",
     "output_type": "stream",
     "text": [
      "TDG\n"
     ]
    },
    {
     "name": "stderr",
     "output_type": "stream",
     "text": [
      "/tmp/ipykernel_540/17100239.py:22: FutureWarning: The frame.append method is deprecated and will be removed from pandas in a future version. Use pandas.concat instead.\n",
      "  total_df = total_df.append(pd.Series([stk, start_price, new_price, act_return], index = act_columns), ignore_index = True)\n"
     ]
    },
    {
     "name": "stdout",
     "output_type": "stream",
     "text": [
      "TRV\n"
     ]
    },
    {
     "name": "stderr",
     "output_type": "stream",
     "text": [
      "/tmp/ipykernel_540/17100239.py:22: FutureWarning: The frame.append method is deprecated and will be removed from pandas in a future version. Use pandas.concat instead.\n",
      "  total_df = total_df.append(pd.Series([stk, start_price, new_price, act_return], index = act_columns), ignore_index = True)\n"
     ]
    },
    {
     "name": "stdout",
     "output_type": "stream",
     "text": [
      "TRMB\n"
     ]
    },
    {
     "name": "stderr",
     "output_type": "stream",
     "text": [
      "/tmp/ipykernel_540/17100239.py:22: FutureWarning: The frame.append method is deprecated and will be removed from pandas in a future version. Use pandas.concat instead.\n",
      "  total_df = total_df.append(pd.Series([stk, start_price, new_price, act_return], index = act_columns), ignore_index = True)\n"
     ]
    },
    {
     "name": "stdout",
     "output_type": "stream",
     "text": [
      "TFC\n"
     ]
    },
    {
     "name": "stderr",
     "output_type": "stream",
     "text": [
      "/tmp/ipykernel_540/17100239.py:22: FutureWarning: The frame.append method is deprecated and will be removed from pandas in a future version. Use pandas.concat instead.\n",
      "  total_df = total_df.append(pd.Series([stk, start_price, new_price, act_return], index = act_columns), ignore_index = True)\n"
     ]
    },
    {
     "name": "stdout",
     "output_type": "stream",
     "text": [
      "TYL\n"
     ]
    },
    {
     "name": "stderr",
     "output_type": "stream",
     "text": [
      "/tmp/ipykernel_540/17100239.py:22: FutureWarning: The frame.append method is deprecated and will be removed from pandas in a future version. Use pandas.concat instead.\n",
      "  total_df = total_df.append(pd.Series([stk, start_price, new_price, act_return], index = act_columns), ignore_index = True)\n"
     ]
    },
    {
     "name": "stdout",
     "output_type": "stream",
     "text": [
      "TSN\n"
     ]
    },
    {
     "name": "stderr",
     "output_type": "stream",
     "text": [
      "/tmp/ipykernel_540/17100239.py:22: FutureWarning: The frame.append method is deprecated and will be removed from pandas in a future version. Use pandas.concat instead.\n",
      "  total_df = total_df.append(pd.Series([stk, start_price, new_price, act_return], index = act_columns), ignore_index = True)\n"
     ]
    },
    {
     "name": "stdout",
     "output_type": "stream",
     "text": [
      "USB\n"
     ]
    },
    {
     "name": "stderr",
     "output_type": "stream",
     "text": [
      "/tmp/ipykernel_540/17100239.py:22: FutureWarning: The frame.append method is deprecated and will be removed from pandas in a future version. Use pandas.concat instead.\n",
      "  total_df = total_df.append(pd.Series([stk, start_price, new_price, act_return], index = act_columns), ignore_index = True)\n"
     ]
    },
    {
     "name": "stdout",
     "output_type": "stream",
     "text": [
      "UDR\n"
     ]
    },
    {
     "name": "stderr",
     "output_type": "stream",
     "text": [
      "/tmp/ipykernel_540/17100239.py:22: FutureWarning: The frame.append method is deprecated and will be removed from pandas in a future version. Use pandas.concat instead.\n",
      "  total_df = total_df.append(pd.Series([stk, start_price, new_price, act_return], index = act_columns), ignore_index = True)\n"
     ]
    },
    {
     "name": "stdout",
     "output_type": "stream",
     "text": [
      "ULTA\n"
     ]
    },
    {
     "name": "stderr",
     "output_type": "stream",
     "text": [
      "/tmp/ipykernel_540/17100239.py:22: FutureWarning: The frame.append method is deprecated and will be removed from pandas in a future version. Use pandas.concat instead.\n",
      "  total_df = total_df.append(pd.Series([stk, start_price, new_price, act_return], index = act_columns), ignore_index = True)\n"
     ]
    },
    {
     "name": "stdout",
     "output_type": "stream",
     "text": [
      "UNP\n"
     ]
    },
    {
     "name": "stderr",
     "output_type": "stream",
     "text": [
      "/tmp/ipykernel_540/17100239.py:22: FutureWarning: The frame.append method is deprecated and will be removed from pandas in a future version. Use pandas.concat instead.\n",
      "  total_df = total_df.append(pd.Series([stk, start_price, new_price, act_return], index = act_columns), ignore_index = True)\n"
     ]
    },
    {
     "name": "stdout",
     "output_type": "stream",
     "text": [
      "UAL\n"
     ]
    },
    {
     "name": "stderr",
     "output_type": "stream",
     "text": [
      "/tmp/ipykernel_540/17100239.py:22: FutureWarning: The frame.append method is deprecated and will be removed from pandas in a future version. Use pandas.concat instead.\n",
      "  total_df = total_df.append(pd.Series([stk, start_price, new_price, act_return], index = act_columns), ignore_index = True)\n"
     ]
    },
    {
     "name": "stdout",
     "output_type": "stream",
     "text": [
      "UPS\n"
     ]
    },
    {
     "name": "stderr",
     "output_type": "stream",
     "text": [
      "/tmp/ipykernel_540/17100239.py:22: FutureWarning: The frame.append method is deprecated and will be removed from pandas in a future version. Use pandas.concat instead.\n",
      "  total_df = total_df.append(pd.Series([stk, start_price, new_price, act_return], index = act_columns), ignore_index = True)\n"
     ]
    },
    {
     "name": "stdout",
     "output_type": "stream",
     "text": [
      "URI\n"
     ]
    },
    {
     "name": "stderr",
     "output_type": "stream",
     "text": [
      "/tmp/ipykernel_540/17100239.py:22: FutureWarning: The frame.append method is deprecated and will be removed from pandas in a future version. Use pandas.concat instead.\n",
      "  total_df = total_df.append(pd.Series([stk, start_price, new_price, act_return], index = act_columns), ignore_index = True)\n"
     ]
    },
    {
     "name": "stdout",
     "output_type": "stream",
     "text": [
      "UNH\n"
     ]
    },
    {
     "name": "stderr",
     "output_type": "stream",
     "text": [
      "/tmp/ipykernel_540/17100239.py:22: FutureWarning: The frame.append method is deprecated and will be removed from pandas in a future version. Use pandas.concat instead.\n",
      "  total_df = total_df.append(pd.Series([stk, start_price, new_price, act_return], index = act_columns), ignore_index = True)\n"
     ]
    },
    {
     "name": "stdout",
     "output_type": "stream",
     "text": [
      "UHS\n"
     ]
    },
    {
     "name": "stderr",
     "output_type": "stream",
     "text": [
      "/tmp/ipykernel_540/17100239.py:22: FutureWarning: The frame.append method is deprecated and will be removed from pandas in a future version. Use pandas.concat instead.\n",
      "  total_df = total_df.append(pd.Series([stk, start_price, new_price, act_return], index = act_columns), ignore_index = True)\n"
     ]
    },
    {
     "name": "stdout",
     "output_type": "stream",
     "text": [
      "VLO\n"
     ]
    },
    {
     "name": "stderr",
     "output_type": "stream",
     "text": [
      "/tmp/ipykernel_540/17100239.py:22: FutureWarning: The frame.append method is deprecated and will be removed from pandas in a future version. Use pandas.concat instead.\n",
      "  total_df = total_df.append(pd.Series([stk, start_price, new_price, act_return], index = act_columns), ignore_index = True)\n"
     ]
    },
    {
     "name": "stdout",
     "output_type": "stream",
     "text": [
      "VTR\n"
     ]
    },
    {
     "name": "stderr",
     "output_type": "stream",
     "text": [
      "/tmp/ipykernel_540/17100239.py:22: FutureWarning: The frame.append method is deprecated and will be removed from pandas in a future version. Use pandas.concat instead.\n",
      "  total_df = total_df.append(pd.Series([stk, start_price, new_price, act_return], index = act_columns), ignore_index = True)\n"
     ]
    },
    {
     "name": "stdout",
     "output_type": "stream",
     "text": [
      "VRSN\n"
     ]
    },
    {
     "name": "stderr",
     "output_type": "stream",
     "text": [
      "/tmp/ipykernel_540/17100239.py:22: FutureWarning: The frame.append method is deprecated and will be removed from pandas in a future version. Use pandas.concat instead.\n",
      "  total_df = total_df.append(pd.Series([stk, start_price, new_price, act_return], index = act_columns), ignore_index = True)\n"
     ]
    },
    {
     "name": "stdout",
     "output_type": "stream",
     "text": [
      "VRSK\n"
     ]
    },
    {
     "name": "stderr",
     "output_type": "stream",
     "text": [
      "/tmp/ipykernel_540/17100239.py:22: FutureWarning: The frame.append method is deprecated and will be removed from pandas in a future version. Use pandas.concat instead.\n",
      "  total_df = total_df.append(pd.Series([stk, start_price, new_price, act_return], index = act_columns), ignore_index = True)\n"
     ]
    },
    {
     "name": "stdout",
     "output_type": "stream",
     "text": [
      "VZ\n"
     ]
    },
    {
     "name": "stderr",
     "output_type": "stream",
     "text": [
      "/tmp/ipykernel_540/17100239.py:22: FutureWarning: The frame.append method is deprecated and will be removed from pandas in a future version. Use pandas.concat instead.\n",
      "  total_df = total_df.append(pd.Series([stk, start_price, new_price, act_return], index = act_columns), ignore_index = True)\n"
     ]
    },
    {
     "name": "stdout",
     "output_type": "stream",
     "text": [
      "VRTX\n"
     ]
    },
    {
     "name": "stderr",
     "output_type": "stream",
     "text": [
      "/tmp/ipykernel_540/17100239.py:22: FutureWarning: The frame.append method is deprecated and will be removed from pandas in a future version. Use pandas.concat instead.\n",
      "  total_df = total_df.append(pd.Series([stk, start_price, new_price, act_return], index = act_columns), ignore_index = True)\n"
     ]
    },
    {
     "name": "stdout",
     "output_type": "stream",
     "text": [
      "VFC\n"
     ]
    },
    {
     "name": "stderr",
     "output_type": "stream",
     "text": [
      "/tmp/ipykernel_540/17100239.py:22: FutureWarning: The frame.append method is deprecated and will be removed from pandas in a future version. Use pandas.concat instead.\n",
      "  total_df = total_df.append(pd.Series([stk, start_price, new_price, act_return], index = act_columns), ignore_index = True)\n"
     ]
    },
    {
     "name": "stdout",
     "output_type": "stream",
     "text": [
      "VTRS\n"
     ]
    },
    {
     "name": "stderr",
     "output_type": "stream",
     "text": [
      "/tmp/ipykernel_540/17100239.py:22: FutureWarning: The frame.append method is deprecated and will be removed from pandas in a future version. Use pandas.concat instead.\n",
      "  total_df = total_df.append(pd.Series([stk, start_price, new_price, act_return], index = act_columns), ignore_index = True)\n"
     ]
    },
    {
     "name": "stdout",
     "output_type": "stream",
     "text": [
      "VICI\n"
     ]
    },
    {
     "name": "stderr",
     "output_type": "stream",
     "text": [
      "/tmp/ipykernel_540/17100239.py:22: FutureWarning: The frame.append method is deprecated and will be removed from pandas in a future version. Use pandas.concat instead.\n",
      "  total_df = total_df.append(pd.Series([stk, start_price, new_price, act_return], index = act_columns), ignore_index = True)\n"
     ]
    },
    {
     "name": "stdout",
     "output_type": "stream",
     "text": [
      "V\n"
     ]
    },
    {
     "name": "stderr",
     "output_type": "stream",
     "text": [
      "/tmp/ipykernel_540/17100239.py:22: FutureWarning: The frame.append method is deprecated and will be removed from pandas in a future version. Use pandas.concat instead.\n",
      "  total_df = total_df.append(pd.Series([stk, start_price, new_price, act_return], index = act_columns), ignore_index = True)\n"
     ]
    },
    {
     "name": "stdout",
     "output_type": "stream",
     "text": [
      "VMC\n"
     ]
    },
    {
     "name": "stderr",
     "output_type": "stream",
     "text": [
      "/tmp/ipykernel_540/17100239.py:22: FutureWarning: The frame.append method is deprecated and will be removed from pandas in a future version. Use pandas.concat instead.\n",
      "  total_df = total_df.append(pd.Series([stk, start_price, new_price, act_return], index = act_columns), ignore_index = True)\n"
     ]
    },
    {
     "name": "stdout",
     "output_type": "stream",
     "text": [
      "WAB\n"
     ]
    },
    {
     "name": "stderr",
     "output_type": "stream",
     "text": [
      "/tmp/ipykernel_540/17100239.py:22: FutureWarning: The frame.append method is deprecated and will be removed from pandas in a future version. Use pandas.concat instead.\n",
      "  total_df = total_df.append(pd.Series([stk, start_price, new_price, act_return], index = act_columns), ignore_index = True)\n"
     ]
    },
    {
     "name": "stdout",
     "output_type": "stream",
     "text": [
      "WBA\n"
     ]
    },
    {
     "name": "stderr",
     "output_type": "stream",
     "text": [
      "/tmp/ipykernel_540/17100239.py:22: FutureWarning: The frame.append method is deprecated and will be removed from pandas in a future version. Use pandas.concat instead.\n",
      "  total_df = total_df.append(pd.Series([stk, start_price, new_price, act_return], index = act_columns), ignore_index = True)\n"
     ]
    },
    {
     "name": "stdout",
     "output_type": "stream",
     "text": [
      "WMT\n"
     ]
    },
    {
     "name": "stderr",
     "output_type": "stream",
     "text": [
      "/tmp/ipykernel_540/17100239.py:22: FutureWarning: The frame.append method is deprecated and will be removed from pandas in a future version. Use pandas.concat instead.\n",
      "  total_df = total_df.append(pd.Series([stk, start_price, new_price, act_return], index = act_columns), ignore_index = True)\n"
     ]
    },
    {
     "name": "stdout",
     "output_type": "stream",
     "text": [
      "WM\n"
     ]
    },
    {
     "name": "stderr",
     "output_type": "stream",
     "text": [
      "/tmp/ipykernel_540/17100239.py:22: FutureWarning: The frame.append method is deprecated and will be removed from pandas in a future version. Use pandas.concat instead.\n",
      "  total_df = total_df.append(pd.Series([stk, start_price, new_price, act_return], index = act_columns), ignore_index = True)\n"
     ]
    },
    {
     "name": "stdout",
     "output_type": "stream",
     "text": [
      "WAT\n"
     ]
    },
    {
     "name": "stderr",
     "output_type": "stream",
     "text": [
      "/tmp/ipykernel_540/17100239.py:22: FutureWarning: The frame.append method is deprecated and will be removed from pandas in a future version. Use pandas.concat instead.\n",
      "  total_df = total_df.append(pd.Series([stk, start_price, new_price, act_return], index = act_columns), ignore_index = True)\n"
     ]
    },
    {
     "name": "stdout",
     "output_type": "stream",
     "text": [
      "WEC\n"
     ]
    },
    {
     "name": "stderr",
     "output_type": "stream",
     "text": [
      "/tmp/ipykernel_540/17100239.py:22: FutureWarning: The frame.append method is deprecated and will be removed from pandas in a future version. Use pandas.concat instead.\n",
      "  total_df = total_df.append(pd.Series([stk, start_price, new_price, act_return], index = act_columns), ignore_index = True)\n"
     ]
    },
    {
     "name": "stdout",
     "output_type": "stream",
     "text": [
      "WFC\n"
     ]
    },
    {
     "name": "stderr",
     "output_type": "stream",
     "text": [
      "/tmp/ipykernel_540/17100239.py:22: FutureWarning: The frame.append method is deprecated and will be removed from pandas in a future version. Use pandas.concat instead.\n",
      "  total_df = total_df.append(pd.Series([stk, start_price, new_price, act_return], index = act_columns), ignore_index = True)\n"
     ]
    },
    {
     "name": "stdout",
     "output_type": "stream",
     "text": [
      "WELL\n"
     ]
    },
    {
     "name": "stderr",
     "output_type": "stream",
     "text": [
      "/tmp/ipykernel_540/17100239.py:22: FutureWarning: The frame.append method is deprecated and will be removed from pandas in a future version. Use pandas.concat instead.\n",
      "  total_df = total_df.append(pd.Series([stk, start_price, new_price, act_return], index = act_columns), ignore_index = True)\n"
     ]
    },
    {
     "name": "stdout",
     "output_type": "stream",
     "text": [
      "WST\n"
     ]
    },
    {
     "name": "stderr",
     "output_type": "stream",
     "text": [
      "/tmp/ipykernel_540/17100239.py:22: FutureWarning: The frame.append method is deprecated and will be removed from pandas in a future version. Use pandas.concat instead.\n",
      "  total_df = total_df.append(pd.Series([stk, start_price, new_price, act_return], index = act_columns), ignore_index = True)\n"
     ]
    },
    {
     "name": "stdout",
     "output_type": "stream",
     "text": [
      "WDC\n"
     ]
    },
    {
     "name": "stderr",
     "output_type": "stream",
     "text": [
      "/tmp/ipykernel_540/17100239.py:22: FutureWarning: The frame.append method is deprecated and will be removed from pandas in a future version. Use pandas.concat instead.\n",
      "  total_df = total_df.append(pd.Series([stk, start_price, new_price, act_return], index = act_columns), ignore_index = True)\n"
     ]
    },
    {
     "name": "stdout",
     "output_type": "stream",
     "text": [
      "WRK\n"
     ]
    },
    {
     "name": "stderr",
     "output_type": "stream",
     "text": [
      "/tmp/ipykernel_540/17100239.py:22: FutureWarning: The frame.append method is deprecated and will be removed from pandas in a future version. Use pandas.concat instead.\n",
      "  total_df = total_df.append(pd.Series([stk, start_price, new_price, act_return], index = act_columns), ignore_index = True)\n"
     ]
    },
    {
     "name": "stdout",
     "output_type": "stream",
     "text": [
      "WY\n"
     ]
    },
    {
     "name": "stderr",
     "output_type": "stream",
     "text": [
      "/tmp/ipykernel_540/17100239.py:22: FutureWarning: The frame.append method is deprecated and will be removed from pandas in a future version. Use pandas.concat instead.\n",
      "  total_df = total_df.append(pd.Series([stk, start_price, new_price, act_return], index = act_columns), ignore_index = True)\n"
     ]
    },
    {
     "name": "stdout",
     "output_type": "stream",
     "text": [
      "WHR\n"
     ]
    },
    {
     "name": "stderr",
     "output_type": "stream",
     "text": [
      "/tmp/ipykernel_540/17100239.py:22: FutureWarning: The frame.append method is deprecated and will be removed from pandas in a future version. Use pandas.concat instead.\n",
      "  total_df = total_df.append(pd.Series([stk, start_price, new_price, act_return], index = act_columns), ignore_index = True)\n"
     ]
    },
    {
     "name": "stdout",
     "output_type": "stream",
     "text": [
      "WMB\n"
     ]
    },
    {
     "name": "stderr",
     "output_type": "stream",
     "text": [
      "/tmp/ipykernel_540/17100239.py:22: FutureWarning: The frame.append method is deprecated and will be removed from pandas in a future version. Use pandas.concat instead.\n",
      "  total_df = total_df.append(pd.Series([stk, start_price, new_price, act_return], index = act_columns), ignore_index = True)\n"
     ]
    },
    {
     "name": "stdout",
     "output_type": "stream",
     "text": [
      "GWW\n"
     ]
    },
    {
     "name": "stderr",
     "output_type": "stream",
     "text": [
      "/tmp/ipykernel_540/17100239.py:22: FutureWarning: The frame.append method is deprecated and will be removed from pandas in a future version. Use pandas.concat instead.\n",
      "  total_df = total_df.append(pd.Series([stk, start_price, new_price, act_return], index = act_columns), ignore_index = True)\n"
     ]
    },
    {
     "name": "stdout",
     "output_type": "stream",
     "text": [
      "WYNN\n"
     ]
    },
    {
     "name": "stderr",
     "output_type": "stream",
     "text": [
      "/tmp/ipykernel_540/17100239.py:22: FutureWarning: The frame.append method is deprecated and will be removed from pandas in a future version. Use pandas.concat instead.\n",
      "  total_df = total_df.append(pd.Series([stk, start_price, new_price, act_return], index = act_columns), ignore_index = True)\n"
     ]
    },
    {
     "name": "stdout",
     "output_type": "stream",
     "text": [
      "XEL\n"
     ]
    },
    {
     "name": "stderr",
     "output_type": "stream",
     "text": [
      "/tmp/ipykernel_540/17100239.py:22: FutureWarning: The frame.append method is deprecated and will be removed from pandas in a future version. Use pandas.concat instead.\n",
      "  total_df = total_df.append(pd.Series([stk, start_price, new_price, act_return], index = act_columns), ignore_index = True)\n"
     ]
    },
    {
     "name": "stdout",
     "output_type": "stream",
     "text": [
      "XYL\n"
     ]
    },
    {
     "name": "stderr",
     "output_type": "stream",
     "text": [
      "/tmp/ipykernel_540/17100239.py:22: FutureWarning: The frame.append method is deprecated and will be removed from pandas in a future version. Use pandas.concat instead.\n",
      "  total_df = total_df.append(pd.Series([stk, start_price, new_price, act_return], index = act_columns), ignore_index = True)\n"
     ]
    },
    {
     "name": "stdout",
     "output_type": "stream",
     "text": [
      "YUM\n"
     ]
    },
    {
     "name": "stderr",
     "output_type": "stream",
     "text": [
      "/tmp/ipykernel_540/17100239.py:22: FutureWarning: The frame.append method is deprecated and will be removed from pandas in a future version. Use pandas.concat instead.\n",
      "  total_df = total_df.append(pd.Series([stk, start_price, new_price, act_return], index = act_columns), ignore_index = True)\n"
     ]
    },
    {
     "name": "stdout",
     "output_type": "stream",
     "text": [
      "ZBRA\n"
     ]
    },
    {
     "name": "stderr",
     "output_type": "stream",
     "text": [
      "/tmp/ipykernel_540/17100239.py:22: FutureWarning: The frame.append method is deprecated and will be removed from pandas in a future version. Use pandas.concat instead.\n",
      "  total_df = total_df.append(pd.Series([stk, start_price, new_price, act_return], index = act_columns), ignore_index = True)\n"
     ]
    },
    {
     "name": "stdout",
     "output_type": "stream",
     "text": [
      "ZBH\n"
     ]
    },
    {
     "name": "stderr",
     "output_type": "stream",
     "text": [
      "/tmp/ipykernel_540/17100239.py:22: FutureWarning: The frame.append method is deprecated and will be removed from pandas in a future version. Use pandas.concat instead.\n",
      "  total_df = total_df.append(pd.Series([stk, start_price, new_price, act_return], index = act_columns), ignore_index = True)\n"
     ]
    },
    {
     "name": "stdout",
     "output_type": "stream",
     "text": [
      "ZION\n"
     ]
    },
    {
     "name": "stderr",
     "output_type": "stream",
     "text": [
      "/tmp/ipykernel_540/17100239.py:22: FutureWarning: The frame.append method is deprecated and will be removed from pandas in a future version. Use pandas.concat instead.\n",
      "  total_df = total_df.append(pd.Series([stk, start_price, new_price, act_return], index = act_columns), ignore_index = True)\n"
     ]
    },
    {
     "name": "stdout",
     "output_type": "stream",
     "text": [
      "ZTS\n"
     ]
    },
    {
     "name": "stderr",
     "output_type": "stream",
     "text": [
      "/tmp/ipykernel_540/17100239.py:22: FutureWarning: The frame.append method is deprecated and will be removed from pandas in a future version. Use pandas.concat instead.\n",
      "  total_df = total_df.append(pd.Series([stk, start_price, new_price, act_return], index = act_columns), ignore_index = True)\n"
     ]
    }
   ],
   "source": [
    "start_date = '2022-11-03'\n",
    "new_date = '2023-11-03'\n",
    "\n",
    "for stk in sp500_stocks['Ticker']:\n",
    "\n",
    "    print(stk)\n",
    "\n",
    "    start_api = f'https://api.polygon.io/v2/aggs/ticker/{stk}/range/1/day/{start_date}/{start_date}?apiKey={POLYGON_API_KEY}'\n",
    "    start_data = requests.get(start_api).json()\n",
    "    start_results0 = start_data['results']\n",
    "    start_results1 = start_results0[0]\n",
    "    start_price = start_results1['c']\n",
    "\n",
    "    new_api = f'https://api.polygon.io/v2/aggs/ticker/{stk}/range/1/day/{new_date}/{new_date}?apiKey={POLYGON_API_KEY}'\n",
    "    new_data = requests.get(new_api).json()\n",
    "    new_results0 = new_data['results']\n",
    "    new_results1 = new_results0[0]\n",
    "    new_price = new_results1['c']\n",
    "\n",
    "    act_return = (new_price - start_price) / start_price\n",
    "\n",
    "    total_df = total_df.append(pd.Series([stk, start_price, new_price, act_return], index = act_columns), ignore_index = True)"
   ]
  },
  {
   "cell_type": "markdown",
   "metadata": {},
   "source": [
    "We can see why it is so hard to consistently beat the market. The mean return for our portfolio is 1.42%, while the mean return for the S&P 500 as a whole was 6.67% during the year ended 11/03/2023."
   ]
  },
  {
   "cell_type": "code",
   "execution_count": 17,
   "metadata": {},
   "outputs": [
    {
     "name": "stdout",
     "output_type": "stream",
     "text": [
      "0.014193838350918298\n",
      "0.06670367677669232\n"
     ]
    }
   ],
   "source": [
    "print(average_return)\n",
    "print(total_df['One-Year Return'].mean())"
   ]
  },
  {
   "cell_type": "code",
   "execution_count": null,
   "metadata": {},
   "outputs": [],
   "source": []
  }
 ],
 "metadata": {
  "kernelspec": {
   "display_name": "Python 3 (ipykernel)",
   "language": "python",
   "name": "python3"
  },
  "language_info": {
   "codemirror_mode": {
    "name": "ipython",
    "version": 3
   },
   "file_extension": ".py",
   "mimetype": "text/x-python",
   "name": "python",
   "nbconvert_exporter": "python",
   "pygments_lexer": "ipython3",
   "version": "3.10.8"
  }
 },
 "nbformat": 4,
 "nbformat_minor": 4
}
