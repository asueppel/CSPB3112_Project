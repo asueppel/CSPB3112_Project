{
 "cells": [
  {
   "cell_type": "code",
   "execution_count": null,
   "metadata": {},
   "outputs": [],
   "source": [
    "import numpy as np\n",
    "import pandas as pd\n",
    "import requests\n",
    "import xlsxwriter\n",
    "import math\n",
    "from scipy.stats import percentileofscore as score\n",
    "from statistics import mean"
   ]
  },
  {
   "cell_type": "code",
   "execution_count": null,
   "metadata": {},
   "outputs": [],
   "source": [
    "sp500_stocks = pd.read_csv('constituents_modified.csv')\n",
    "# print(sp500_stocks)"
   ]
  },
  {
   "cell_type": "code",
   "execution_count": null,
   "metadata": {},
   "outputs": [],
   "source": [
    "from mysecrets2 import POLYGON_API_KEY"
   ]
  },
  {
   "cell_type": "code",
   "execution_count": null,
   "metadata": {},
   "outputs": [],
   "source": [
    "# symbol = 'AAPL'\n",
    "# date = '2023-11-03'\n",
    "# prv_date = '2022-11-03'\n",
    "# api = f'https://api.polygon.io/v2/aggs/ticker/{symbol}/range/1/day/{date}/{date}?apiKey={POLYGON_API_KEY}'\n",
    "# print(api)\n",
    "# data = requests.get(api).json()\n",
    "# print(data)\n",
    "# results0 = data['results']\n",
    "# results1 = results0[0]\n",
    "# results2 = results1['c']\n",
    "# results2"
   ]
  },
  {
   "cell_type": "code",
   "execution_count": null,
   "metadata": {},
   "outputs": [],
   "source": [
    "my_columns = ['Ticker', 'Price Today', 'Previous Price', 'One-Year Return', 'Number of Shares to Buy']\n",
    "test_df = pd.DataFrame(columns = my_columns)"
   ]
  },
  {
   "cell_type": "code",
   "execution_count": null,
   "metadata": {},
   "outputs": [],
   "source": [
    "# cur_date = '2023-11-03'\n",
    "# prv_date = '2022-11-03'\n",
    "\n",
    "# for stk in sp500_stocks['Ticker'][:100]:\n",
    "\n",
    "#     cur_api = f'https://api.polygon.io/v2/aggs/ticker/{stk}/range/1/day/{cur_date}/{cur_date}?apiKey={POLYGON_API_KEY}'\n",
    "#     cur_data = requests.get(cur_api).json()\n",
    "#     cur_results0 = cur_data['results']\n",
    "#     cur_results1 = cur_results0[0]\n",
    "#     cur_price = cur_results1['c']\n",
    "\n",
    "#     prv_api = f'https://api.polygon.io/v2/aggs/ticker/{stk}/range/1/day/{prv_date}/{prv_date}?apiKey={POLYGON_API_KEY}'\n",
    "#     prv_data = requests.get(prv_api).json()\n",
    "#     prv_results0 = prv_data['results']\n",
    "#     prv_results1 = prv_results0[0]\n",
    "#     prv_price = prv_results1['c']\n",
    "\n",
    "#     per_change = (cur_price - prv_price) / prv_price\n",
    "\n",
    "#     test_df = test_df.append(pd.Series([stk, cur_price, prv_price, per_change, 'N/A'], index = my_columns), ignore_index = True)"
   ]
  },
  {
   "cell_type": "code",
   "execution_count": null,
   "metadata": {},
   "outputs": [],
   "source": [
    "# test_df"
   ]
  },
  {
   "cell_type": "code",
   "execution_count": null,
   "metadata": {},
   "outputs": [],
   "source": [
    "# test_df.sort_values('One-Year Return', ascending = False, inplace = True)\n",
    "# test_df = test_df = test_df[:50]\n",
    "# test_df.reset_index(inplace = True)\n",
    "\n",
    "# test_df"
   ]
  },
  {
   "cell_type": "code",
   "execution_count": null,
   "metadata": {},
   "outputs": [],
   "source": [
    "def portfolio_input():\n",
    "\n",
    "    global portfolio_size\n",
    "    portfolio_size = input('Enter the size of your portfolio: ')\n",
    "\n",
    "    try:\n",
    "        float(portfolio_size)\n",
    "    except ValueError:\n",
    "        print('That is not a number!')\n",
    "        print('Please try again: ')\n",
    "        portfolio_size = input('Enter the size of your portfolio: ')"
   ]
  },
  {
   "cell_type": "code",
   "execution_count": null,
   "metadata": {},
   "outputs": [],
   "source": [
    "# portfolio_input()\n",
    "# print(portfolio_size)"
   ]
  },
  {
   "cell_type": "code",
   "execution_count": null,
   "metadata": {},
   "outputs": [],
   "source": [
    "# position_size = float(portfolio_size) / len(test_df.index)\n",
    "# print(position_size)"
   ]
  },
  {
   "cell_type": "code",
   "execution_count": null,
   "metadata": {},
   "outputs": [],
   "source": [
    "# for i in range(0, len(test_df)):\n",
    "\n",
    "#     test_df.loc[i, 'Number of Shares to Buy'] = math.floor(position_size / test_df.loc[i, 'Price Today'])\n",
    "\n",
    "# test_df"
   ]
  },
  {
   "cell_type": "code",
   "execution_count": null,
   "metadata": {},
   "outputs": [],
   "source": [
    "hqm_columns = [\n",
    "    'Ticker',\n",
    "    'Price Today',\n",
    "    'One-Year Price',\n",
    "    'One-Year Return',\n",
    "    'One-Year Percentile',\n",
    "    'Six-Month Price',\n",
    "    'Six-Month Return',\n",
    "    'Six-Month Percentile',\n",
    "    'Three-Month Price',\n",
    "    'Three-Month Return',\n",
    "    'Three-Month Percentile',\n",
    "    'One-Month Price',\n",
    "    'One-Month Return',\n",
    "    'One-Month Percentile',\n",
    "    'HQM Score',\n",
    "    'Number of Shares to Buy'\n",
    "]\n",
    "\n",
    "hqm_df = pd.DataFrame(columns = hqm_columns)\n",
    "hqm_df"
   ]
  },
  {
   "cell_type": "code",
   "execution_count": null,
   "metadata": {},
   "outputs": [],
   "source": [
    "cur_date = '2023-11-03'\n",
    "oneyr_date = '2022-11-03'\n",
    "sixmn_date = '2023-05-03'\n",
    "threemn_date = '2023-08-03'\n",
    "onemn_date = '2023-10-03'\n",
    "\n",
    "for stk in sp500_stocks['Ticker'][:500]:\n",
    "\n",
    "    cur_api = f'https://api.polygon.io/v2/aggs/ticker/{stk}/range/1/day/{cur_date}/{cur_date}?apiKey={POLYGON_API_KEY}'\n",
    "    cur_data = requests.get(cur_api).json()\n",
    "    cur_results0 = cur_data['results']\n",
    "    cur_results1 = cur_results0[0]\n",
    "    cur_price = cur_results1['c']\n",
    "\n",
    "    oneyr_api = f'https://api.polygon.io/v2/aggs/ticker/{stk}/range/1/day/{oneyr_date}/{oneyr_date}?apiKey={POLYGON_API_KEY}'\n",
    "    oneyr_data = requests.get(oneyr_api).json()\n",
    "    oneyr_results0 = oneyr_data['results']\n",
    "    oneyr_results1 = oneyr_results0[0]\n",
    "    oneyr_price = oneyr_results1['c']\n",
    "\n",
    "    sixmn_api = f'https://api.polygon.io/v2/aggs/ticker/{stk}/range/1/day/{sixmn_date}/{sixmn_date}?apiKey={POLYGON_API_KEY}'\n",
    "    sixmn_data = requests.get(sixmn_api).json()\n",
    "    sixmn_results0 = sixmn_data['results']\n",
    "    sixmn_results1 = sixmn_results0[0]\n",
    "    sixmn_price = sixmn_results1['c']\n",
    "\n",
    "    threemn_api = f'https://api.polygon.io/v2/aggs/ticker/{stk}/range/1/day/{threemn_date}/{threemn_date}?apiKey={POLYGON_API_KEY}'\n",
    "    threemn_data = requests.get(threemn_api).json()\n",
    "    threemn_results0 = threemn_data['results']\n",
    "    threemn_results1 = threemn_results0[0]\n",
    "    threemn_price = threemn_results1['c']\n",
    "\n",
    "    onemn_api = f'https://api.polygon.io/v2/aggs/ticker/{stk}/range/1/day/{onemn_date}/{onemn_date}?apiKey={POLYGON_API_KEY}'\n",
    "    onemn_data = requests.get(onemn_api).json()\n",
    "    onemn_results0 = onemn_data['results']\n",
    "    onemn_results1 = onemn_results0[0]\n",
    "    onemn_price = onemn_results1['c']\n",
    "\n",
    "    oneyr_return = (cur_price - oneyr_price) / oneyr_price\n",
    "    sixmn_return = (cur_price - sixmn_price) / sixmn_price\n",
    "    threemn_return = (cur_price - threemn_price) / threemn_price\n",
    "    onemn_return = (cur_price - onemn_price) / onemn_price\n",
    "\n",
    "    hqm_df = hqm_df.append(pd.Series([stk, \n",
    "                                      cur_price, \n",
    "                                      oneyr_price, \n",
    "                                      oneyr_return, \n",
    "                                      'N/A', \n",
    "                                      sixmn_price, \n",
    "                                      sixmn_return, \n",
    "                                      'N/A', \n",
    "                                      threemn_price, \n",
    "                                      threemn_return, \n",
    "                                      'N/A', \n",
    "                                      onemn_price, \n",
    "                                      onemn_return, \n",
    "                                      'N/A',\n",
    "                                      'N/A',\n",
    "                                      'N/A'], \n",
    "                                      index = hqm_columns), \n",
    "                                      ignore_index = True)"
   ]
  },
  {
   "cell_type": "code",
   "execution_count": null,
   "metadata": {},
   "outputs": [],
   "source": [
    "time_periods = ['One-Year', 'Six-Month', 'Three-Month', 'One-Month']\n",
    "\n",
    "for row in hqm_df.index:\n",
    "    for period in time_periods:\n",
    "        hqm_df.loc[row, f'{period} Percentile'] = score(hqm_df[f'{period} Return'], hqm_df.loc[row, f'{period} Return'])"
   ]
  },
  {
   "cell_type": "code",
   "execution_count": null,
   "metadata": {},
   "outputs": [],
   "source": [
    "for row in hqm_df.index:\n",
    "    momentum_perc = []\n",
    "    \n",
    "    for period in time_periods:\n",
    "        momentum_perc.append(hqm_df.loc[row, f'{period} Percentile'])\n",
    "    \n",
    "    hqm_df.loc[row, 'HQM Score'] = mean(momentum_perc)"
   ]
  },
  {
   "cell_type": "code",
   "execution_count": null,
   "metadata": {},
   "outputs": [],
   "source": [
    "hqm_df.sort_values('HQM Score', ascending = False, inplace = True)\n",
    "hqm_df = hqm_df[:50]\n",
    "hqm_df.reset_index(inplace = True, drop = True)"
   ]
  },
  {
   "cell_type": "code",
   "execution_count": null,
   "metadata": {},
   "outputs": [],
   "source": [
    "portfolio_input()"
   ]
  },
  {
   "cell_type": "code",
   "execution_count": null,
   "metadata": {},
   "outputs": [],
   "source": [
    "position_size = float(portfolio_size) / len(hqm_df.index)\n",
    "\n",
    "for i in hqm_df.index:\n",
    "    hqm_df.loc[i, 'Number of Shares to Buy'] = math.floor(position_size / hqm_df.loc[i, 'Price Today'])"
   ]
  },
  {
   "cell_type": "code",
   "execution_count": null,
   "metadata": {},
   "outputs": [],
   "source": [
    "hqm_df"
   ]
  },
  {
   "cell_type": "code",
   "execution_count": null,
   "metadata": {},
   "outputs": [],
   "source": []
  }
 ],
 "metadata": {
  "kernelspec": {
   "display_name": "base",
   "language": "python",
   "name": "python3"
  },
  "language_info": {
   "codemirror_mode": {
    "name": "ipython",
    "version": 3
   },
   "file_extension": ".py",
   "mimetype": "text/x-python",
   "name": "python",
   "nbconvert_exporter": "python",
   "pygments_lexer": "ipython3",
   "version": "3.9.13"
  }
 },
 "nbformat": 4,
 "nbformat_minor": 2
}
